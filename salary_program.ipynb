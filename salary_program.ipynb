{
 "cells": [
  {
   "cell_type": "code",
   "execution_count": 1,
   "id": "ac4ee7f6",
   "metadata": {},
   "outputs": [],
   "source": [
    "import pandas as pd\n",
    "import numpy as np"
   ]
  },
  {
   "cell_type": "code",
   "execution_count": 2,
   "id": "61178348",
   "metadata": {},
   "outputs": [
    {
     "data": {
      "text/html": [
       "<div>\n",
       "<style scoped>\n",
       "    .dataframe tbody tr th:only-of-type {\n",
       "        vertical-align: middle;\n",
       "    }\n",
       "\n",
       "    .dataframe tbody tr th {\n",
       "        vertical-align: top;\n",
       "    }\n",
       "\n",
       "    .dataframe thead th {\n",
       "        text-align: right;\n",
       "    }\n",
       "</style>\n",
       "<table border=\"1\" class=\"dataframe\">\n",
       "  <thead>\n",
       "    <tr style=\"text-align: right;\">\n",
       "      <th></th>\n",
       "      <th>rank</th>\n",
       "      <th>discipline</th>\n",
       "      <th>yrs.since.phd</th>\n",
       "      <th>yrs.service</th>\n",
       "      <th>sex</th>\n",
       "      <th>salary</th>\n",
       "    </tr>\n",
       "  </thead>\n",
       "  <tbody>\n",
       "    <tr>\n",
       "      <th>0</th>\n",
       "      <td>Prof</td>\n",
       "      <td>B</td>\n",
       "      <td>19</td>\n",
       "      <td>18</td>\n",
       "      <td>Male</td>\n",
       "      <td>139750</td>\n",
       "    </tr>\n",
       "    <tr>\n",
       "      <th>1</th>\n",
       "      <td>Prof</td>\n",
       "      <td>B</td>\n",
       "      <td>20</td>\n",
       "      <td>16</td>\n",
       "      <td>Male</td>\n",
       "      <td>173200</td>\n",
       "    </tr>\n",
       "    <tr>\n",
       "      <th>2</th>\n",
       "      <td>AsstProf</td>\n",
       "      <td>B</td>\n",
       "      <td>4</td>\n",
       "      <td>3</td>\n",
       "      <td>Male</td>\n",
       "      <td>79750</td>\n",
       "    </tr>\n",
       "    <tr>\n",
       "      <th>3</th>\n",
       "      <td>Prof</td>\n",
       "      <td>B</td>\n",
       "      <td>45</td>\n",
       "      <td>39</td>\n",
       "      <td>Male</td>\n",
       "      <td>115000</td>\n",
       "    </tr>\n",
       "    <tr>\n",
       "      <th>4</th>\n",
       "      <td>Prof</td>\n",
       "      <td>B</td>\n",
       "      <td>40</td>\n",
       "      <td>41</td>\n",
       "      <td>Male</td>\n",
       "      <td>141500</td>\n",
       "    </tr>\n",
       "    <tr>\n",
       "      <th>...</th>\n",
       "      <td>...</td>\n",
       "      <td>...</td>\n",
       "      <td>...</td>\n",
       "      <td>...</td>\n",
       "      <td>...</td>\n",
       "      <td>...</td>\n",
       "    </tr>\n",
       "    <tr>\n",
       "      <th>392</th>\n",
       "      <td>Prof</td>\n",
       "      <td>A</td>\n",
       "      <td>33</td>\n",
       "      <td>30</td>\n",
       "      <td>Male</td>\n",
       "      <td>103106</td>\n",
       "    </tr>\n",
       "    <tr>\n",
       "      <th>393</th>\n",
       "      <td>Prof</td>\n",
       "      <td>A</td>\n",
       "      <td>31</td>\n",
       "      <td>19</td>\n",
       "      <td>Male</td>\n",
       "      <td>150564</td>\n",
       "    </tr>\n",
       "    <tr>\n",
       "      <th>394</th>\n",
       "      <td>Prof</td>\n",
       "      <td>A</td>\n",
       "      <td>42</td>\n",
       "      <td>25</td>\n",
       "      <td>Male</td>\n",
       "      <td>101738</td>\n",
       "    </tr>\n",
       "    <tr>\n",
       "      <th>395</th>\n",
       "      <td>Prof</td>\n",
       "      <td>A</td>\n",
       "      <td>25</td>\n",
       "      <td>15</td>\n",
       "      <td>Male</td>\n",
       "      <td>95329</td>\n",
       "    </tr>\n",
       "    <tr>\n",
       "      <th>396</th>\n",
       "      <td>AsstProf</td>\n",
       "      <td>A</td>\n",
       "      <td>8</td>\n",
       "      <td>4</td>\n",
       "      <td>Male</td>\n",
       "      <td>81035</td>\n",
       "    </tr>\n",
       "  </tbody>\n",
       "</table>\n",
       "<p>397 rows × 6 columns</p>\n",
       "</div>"
      ],
      "text/plain": [
       "         rank discipline  yrs.since.phd  yrs.service   sex  salary\n",
       "0        Prof          B             19           18  Male  139750\n",
       "1        Prof          B             20           16  Male  173200\n",
       "2    AsstProf          B              4            3  Male   79750\n",
       "3        Prof          B             45           39  Male  115000\n",
       "4        Prof          B             40           41  Male  141500\n",
       "..        ...        ...            ...          ...   ...     ...\n",
       "392      Prof          A             33           30  Male  103106\n",
       "393      Prof          A             31           19  Male  150564\n",
       "394      Prof          A             42           25  Male  101738\n",
       "395      Prof          A             25           15  Male   95329\n",
       "396  AsstProf          A              8            4  Male   81035\n",
       "\n",
       "[397 rows x 6 columns]"
      ]
     },
     "execution_count": 2,
     "metadata": {},
     "output_type": "execute_result"
    }
   ],
   "source": [
    "data=pd.read_csv('https://raw.githubusercontent.com/dsrscientist/dataset3/main/Salaries.csv')\n",
    "data"
   ]
  },
  {
   "cell_type": "code",
   "execution_count": 3,
   "id": "b061006d",
   "metadata": {},
   "outputs": [
    {
     "data": {
      "text/html": [
       "<div>\n",
       "<style scoped>\n",
       "    .dataframe tbody tr th:only-of-type {\n",
       "        vertical-align: middle;\n",
       "    }\n",
       "\n",
       "    .dataframe tbody tr th {\n",
       "        vertical-align: top;\n",
       "    }\n",
       "\n",
       "    .dataframe thead th {\n",
       "        text-align: right;\n",
       "    }\n",
       "</style>\n",
       "<table border=\"1\" class=\"dataframe\">\n",
       "  <thead>\n",
       "    <tr style=\"text-align: right;\">\n",
       "      <th></th>\n",
       "      <th>rank</th>\n",
       "      <th>discipline</th>\n",
       "      <th>yrs.since.phd</th>\n",
       "      <th>yrs.service</th>\n",
       "      <th>sex</th>\n",
       "      <th>salary</th>\n",
       "    </tr>\n",
       "  </thead>\n",
       "  <tbody>\n",
       "    <tr>\n",
       "      <th>0</th>\n",
       "      <td>Prof</td>\n",
       "      <td>B</td>\n",
       "      <td>19</td>\n",
       "      <td>18</td>\n",
       "      <td>Male</td>\n",
       "      <td>139750</td>\n",
       "    </tr>\n",
       "    <tr>\n",
       "      <th>1</th>\n",
       "      <td>Prof</td>\n",
       "      <td>B</td>\n",
       "      <td>20</td>\n",
       "      <td>16</td>\n",
       "      <td>Male</td>\n",
       "      <td>173200</td>\n",
       "    </tr>\n",
       "    <tr>\n",
       "      <th>2</th>\n",
       "      <td>AsstProf</td>\n",
       "      <td>B</td>\n",
       "      <td>4</td>\n",
       "      <td>3</td>\n",
       "      <td>Male</td>\n",
       "      <td>79750</td>\n",
       "    </tr>\n",
       "    <tr>\n",
       "      <th>3</th>\n",
       "      <td>Prof</td>\n",
       "      <td>B</td>\n",
       "      <td>45</td>\n",
       "      <td>39</td>\n",
       "      <td>Male</td>\n",
       "      <td>115000</td>\n",
       "    </tr>\n",
       "    <tr>\n",
       "      <th>4</th>\n",
       "      <td>Prof</td>\n",
       "      <td>B</td>\n",
       "      <td>40</td>\n",
       "      <td>41</td>\n",
       "      <td>Male</td>\n",
       "      <td>141500</td>\n",
       "    </tr>\n",
       "  </tbody>\n",
       "</table>\n",
       "</div>"
      ],
      "text/plain": [
       "       rank discipline  yrs.since.phd  yrs.service   sex  salary\n",
       "0      Prof          B             19           18  Male  139750\n",
       "1      Prof          B             20           16  Male  173200\n",
       "2  AsstProf          B              4            3  Male   79750\n",
       "3      Prof          B             45           39  Male  115000\n",
       "4      Prof          B             40           41  Male  141500"
      ]
     },
     "execution_count": 3,
     "metadata": {},
     "output_type": "execute_result"
    }
   ],
   "source": [
    "data.head()"
   ]
  },
  {
   "cell_type": "code",
   "execution_count": 4,
   "id": "ece6c71e",
   "metadata": {},
   "outputs": [
    {
     "data": {
      "text/html": [
       "<div>\n",
       "<style scoped>\n",
       "    .dataframe tbody tr th:only-of-type {\n",
       "        vertical-align: middle;\n",
       "    }\n",
       "\n",
       "    .dataframe tbody tr th {\n",
       "        vertical-align: top;\n",
       "    }\n",
       "\n",
       "    .dataframe thead th {\n",
       "        text-align: right;\n",
       "    }\n",
       "</style>\n",
       "<table border=\"1\" class=\"dataframe\">\n",
       "  <thead>\n",
       "    <tr style=\"text-align: right;\">\n",
       "      <th></th>\n",
       "      <th>rank</th>\n",
       "      <th>discipline</th>\n",
       "      <th>yrs.since.phd</th>\n",
       "      <th>yrs.service</th>\n",
       "      <th>sex</th>\n",
       "      <th>salary</th>\n",
       "    </tr>\n",
       "  </thead>\n",
       "  <tbody>\n",
       "    <tr>\n",
       "      <th>392</th>\n",
       "      <td>Prof</td>\n",
       "      <td>A</td>\n",
       "      <td>33</td>\n",
       "      <td>30</td>\n",
       "      <td>Male</td>\n",
       "      <td>103106</td>\n",
       "    </tr>\n",
       "    <tr>\n",
       "      <th>393</th>\n",
       "      <td>Prof</td>\n",
       "      <td>A</td>\n",
       "      <td>31</td>\n",
       "      <td>19</td>\n",
       "      <td>Male</td>\n",
       "      <td>150564</td>\n",
       "    </tr>\n",
       "    <tr>\n",
       "      <th>394</th>\n",
       "      <td>Prof</td>\n",
       "      <td>A</td>\n",
       "      <td>42</td>\n",
       "      <td>25</td>\n",
       "      <td>Male</td>\n",
       "      <td>101738</td>\n",
       "    </tr>\n",
       "    <tr>\n",
       "      <th>395</th>\n",
       "      <td>Prof</td>\n",
       "      <td>A</td>\n",
       "      <td>25</td>\n",
       "      <td>15</td>\n",
       "      <td>Male</td>\n",
       "      <td>95329</td>\n",
       "    </tr>\n",
       "    <tr>\n",
       "      <th>396</th>\n",
       "      <td>AsstProf</td>\n",
       "      <td>A</td>\n",
       "      <td>8</td>\n",
       "      <td>4</td>\n",
       "      <td>Male</td>\n",
       "      <td>81035</td>\n",
       "    </tr>\n",
       "  </tbody>\n",
       "</table>\n",
       "</div>"
      ],
      "text/plain": [
       "         rank discipline  yrs.since.phd  yrs.service   sex  salary\n",
       "392      Prof          A             33           30  Male  103106\n",
       "393      Prof          A             31           19  Male  150564\n",
       "394      Prof          A             42           25  Male  101738\n",
       "395      Prof          A             25           15  Male   95329\n",
       "396  AsstProf          A              8            4  Male   81035"
      ]
     },
     "execution_count": 4,
     "metadata": {},
     "output_type": "execute_result"
    }
   ],
   "source": [
    "data.tail()"
   ]
  },
  {
   "cell_type": "code",
   "execution_count": 5,
   "id": "5a36dd5d",
   "metadata": {},
   "outputs": [
    {
     "name": "stdout",
     "output_type": "stream",
     "text": [
      "<class 'pandas.core.frame.DataFrame'>\n",
      "RangeIndex: 397 entries, 0 to 396\n",
      "Data columns (total 6 columns):\n",
      " #   Column         Non-Null Count  Dtype \n",
      "---  ------         --------------  ----- \n",
      " 0   rank           397 non-null    object\n",
      " 1   discipline     397 non-null    object\n",
      " 2   yrs.since.phd  397 non-null    int64 \n",
      " 3   yrs.service    397 non-null    int64 \n",
      " 4   sex            397 non-null    object\n",
      " 5   salary         397 non-null    int64 \n",
      "dtypes: int64(3), object(3)\n",
      "memory usage: 18.7+ KB\n"
     ]
    }
   ],
   "source": [
    "data.info()"
   ]
  },
  {
   "cell_type": "code",
   "execution_count": 6,
   "id": "d7e3b83f",
   "metadata": {},
   "outputs": [
    {
     "data": {
      "text/html": [
       "<div>\n",
       "<style scoped>\n",
       "    .dataframe tbody tr th:only-of-type {\n",
       "        vertical-align: middle;\n",
       "    }\n",
       "\n",
       "    .dataframe tbody tr th {\n",
       "        vertical-align: top;\n",
       "    }\n",
       "\n",
       "    .dataframe thead th {\n",
       "        text-align: right;\n",
       "    }\n",
       "</style>\n",
       "<table border=\"1\" class=\"dataframe\">\n",
       "  <thead>\n",
       "    <tr style=\"text-align: right;\">\n",
       "      <th></th>\n",
       "      <th>yrs.since.phd</th>\n",
       "      <th>yrs.service</th>\n",
       "      <th>salary</th>\n",
       "    </tr>\n",
       "  </thead>\n",
       "  <tbody>\n",
       "    <tr>\n",
       "      <th>count</th>\n",
       "      <td>397.000000</td>\n",
       "      <td>397.000000</td>\n",
       "      <td>397.000000</td>\n",
       "    </tr>\n",
       "    <tr>\n",
       "      <th>mean</th>\n",
       "      <td>22.314861</td>\n",
       "      <td>17.614610</td>\n",
       "      <td>113706.458438</td>\n",
       "    </tr>\n",
       "    <tr>\n",
       "      <th>std</th>\n",
       "      <td>12.887003</td>\n",
       "      <td>13.006024</td>\n",
       "      <td>30289.038695</td>\n",
       "    </tr>\n",
       "    <tr>\n",
       "      <th>min</th>\n",
       "      <td>1.000000</td>\n",
       "      <td>0.000000</td>\n",
       "      <td>57800.000000</td>\n",
       "    </tr>\n",
       "    <tr>\n",
       "      <th>25%</th>\n",
       "      <td>12.000000</td>\n",
       "      <td>7.000000</td>\n",
       "      <td>91000.000000</td>\n",
       "    </tr>\n",
       "    <tr>\n",
       "      <th>50%</th>\n",
       "      <td>21.000000</td>\n",
       "      <td>16.000000</td>\n",
       "      <td>107300.000000</td>\n",
       "    </tr>\n",
       "    <tr>\n",
       "      <th>75%</th>\n",
       "      <td>32.000000</td>\n",
       "      <td>27.000000</td>\n",
       "      <td>134185.000000</td>\n",
       "    </tr>\n",
       "    <tr>\n",
       "      <th>max</th>\n",
       "      <td>56.000000</td>\n",
       "      <td>60.000000</td>\n",
       "      <td>231545.000000</td>\n",
       "    </tr>\n",
       "  </tbody>\n",
       "</table>\n",
       "</div>"
      ],
      "text/plain": [
       "       yrs.since.phd  yrs.service         salary\n",
       "count     397.000000   397.000000     397.000000\n",
       "mean       22.314861    17.614610  113706.458438\n",
       "std        12.887003    13.006024   30289.038695\n",
       "min         1.000000     0.000000   57800.000000\n",
       "25%        12.000000     7.000000   91000.000000\n",
       "50%        21.000000    16.000000  107300.000000\n",
       "75%        32.000000    27.000000  134185.000000\n",
       "max        56.000000    60.000000  231545.000000"
      ]
     },
     "execution_count": 6,
     "metadata": {},
     "output_type": "execute_result"
    }
   ],
   "source": [
    "data.describe()"
   ]
  },
  {
   "cell_type": "code",
   "execution_count": 7,
   "id": "5b359d6b",
   "metadata": {},
   "outputs": [
    {
     "data": {
      "text/plain": [
       "rank             0\n",
       "discipline       0\n",
       "yrs.since.phd    0\n",
       "yrs.service      0\n",
       "sex              0\n",
       "salary           0\n",
       "dtype: int64"
      ]
     },
     "execution_count": 7,
     "metadata": {},
     "output_type": "execute_result"
    }
   ],
   "source": [
    "data.isnull().sum()"
   ]
  },
  {
   "cell_type": "markdown",
   "id": "e6d4416b",
   "metadata": {},
   "source": [
    "gender doesnt matter to predict the salary, so dropping the gender column"
   ]
  },
  {
   "cell_type": "code",
   "execution_count": 8,
   "id": "69bbc979",
   "metadata": {},
   "outputs": [
    {
     "data": {
      "text/html": [
       "<div>\n",
       "<style scoped>\n",
       "    .dataframe tbody tr th:only-of-type {\n",
       "        vertical-align: middle;\n",
       "    }\n",
       "\n",
       "    .dataframe tbody tr th {\n",
       "        vertical-align: top;\n",
       "    }\n",
       "\n",
       "    .dataframe thead th {\n",
       "        text-align: right;\n",
       "    }\n",
       "</style>\n",
       "<table border=\"1\" class=\"dataframe\">\n",
       "  <thead>\n",
       "    <tr style=\"text-align: right;\">\n",
       "      <th></th>\n",
       "      <th>rank</th>\n",
       "      <th>discipline</th>\n",
       "      <th>yrs.since.phd</th>\n",
       "      <th>yrs.service</th>\n",
       "      <th>salary</th>\n",
       "    </tr>\n",
       "  </thead>\n",
       "  <tbody>\n",
       "    <tr>\n",
       "      <th>0</th>\n",
       "      <td>Prof</td>\n",
       "      <td>B</td>\n",
       "      <td>19</td>\n",
       "      <td>18</td>\n",
       "      <td>139750</td>\n",
       "    </tr>\n",
       "    <tr>\n",
       "      <th>1</th>\n",
       "      <td>Prof</td>\n",
       "      <td>B</td>\n",
       "      <td>20</td>\n",
       "      <td>16</td>\n",
       "      <td>173200</td>\n",
       "    </tr>\n",
       "    <tr>\n",
       "      <th>2</th>\n",
       "      <td>AsstProf</td>\n",
       "      <td>B</td>\n",
       "      <td>4</td>\n",
       "      <td>3</td>\n",
       "      <td>79750</td>\n",
       "    </tr>\n",
       "    <tr>\n",
       "      <th>3</th>\n",
       "      <td>Prof</td>\n",
       "      <td>B</td>\n",
       "      <td>45</td>\n",
       "      <td>39</td>\n",
       "      <td>115000</td>\n",
       "    </tr>\n",
       "    <tr>\n",
       "      <th>4</th>\n",
       "      <td>Prof</td>\n",
       "      <td>B</td>\n",
       "      <td>40</td>\n",
       "      <td>41</td>\n",
       "      <td>141500</td>\n",
       "    </tr>\n",
       "    <tr>\n",
       "      <th>...</th>\n",
       "      <td>...</td>\n",
       "      <td>...</td>\n",
       "      <td>...</td>\n",
       "      <td>...</td>\n",
       "      <td>...</td>\n",
       "    </tr>\n",
       "    <tr>\n",
       "      <th>392</th>\n",
       "      <td>Prof</td>\n",
       "      <td>A</td>\n",
       "      <td>33</td>\n",
       "      <td>30</td>\n",
       "      <td>103106</td>\n",
       "    </tr>\n",
       "    <tr>\n",
       "      <th>393</th>\n",
       "      <td>Prof</td>\n",
       "      <td>A</td>\n",
       "      <td>31</td>\n",
       "      <td>19</td>\n",
       "      <td>150564</td>\n",
       "    </tr>\n",
       "    <tr>\n",
       "      <th>394</th>\n",
       "      <td>Prof</td>\n",
       "      <td>A</td>\n",
       "      <td>42</td>\n",
       "      <td>25</td>\n",
       "      <td>101738</td>\n",
       "    </tr>\n",
       "    <tr>\n",
       "      <th>395</th>\n",
       "      <td>Prof</td>\n",
       "      <td>A</td>\n",
       "      <td>25</td>\n",
       "      <td>15</td>\n",
       "      <td>95329</td>\n",
       "    </tr>\n",
       "    <tr>\n",
       "      <th>396</th>\n",
       "      <td>AsstProf</td>\n",
       "      <td>A</td>\n",
       "      <td>8</td>\n",
       "      <td>4</td>\n",
       "      <td>81035</td>\n",
       "    </tr>\n",
       "  </tbody>\n",
       "</table>\n",
       "<p>397 rows × 5 columns</p>\n",
       "</div>"
      ],
      "text/plain": [
       "         rank discipline  yrs.since.phd  yrs.service  salary\n",
       "0        Prof          B             19           18  139750\n",
       "1        Prof          B             20           16  173200\n",
       "2    AsstProf          B              4            3   79750\n",
       "3        Prof          B             45           39  115000\n",
       "4        Prof          B             40           41  141500\n",
       "..        ...        ...            ...          ...     ...\n",
       "392      Prof          A             33           30  103106\n",
       "393      Prof          A             31           19  150564\n",
       "394      Prof          A             42           25  101738\n",
       "395      Prof          A             25           15   95329\n",
       "396  AsstProf          A              8            4   81035\n",
       "\n",
       "[397 rows x 5 columns]"
      ]
     },
     "execution_count": 8,
     "metadata": {},
     "output_type": "execute_result"
    }
   ],
   "source": [
    "data_modify=data.drop(['sex'],axis=1)\n",
    "\n",
    "data_modify"
   ]
  },
  {
   "cell_type": "code",
   "execution_count": 9,
   "id": "e30dec06",
   "metadata": {},
   "outputs": [
    {
     "data": {
      "text/html": [
       "<div>\n",
       "<style scoped>\n",
       "    .dataframe tbody tr th:only-of-type {\n",
       "        vertical-align: middle;\n",
       "    }\n",
       "\n",
       "    .dataframe tbody tr th {\n",
       "        vertical-align: top;\n",
       "    }\n",
       "\n",
       "    .dataframe thead th {\n",
       "        text-align: right;\n",
       "    }\n",
       "</style>\n",
       "<table border=\"1\" class=\"dataframe\">\n",
       "  <thead>\n",
       "    <tr style=\"text-align: right;\">\n",
       "      <th></th>\n",
       "      <th>yrs.since.phd</th>\n",
       "      <th>yrs.service</th>\n",
       "      <th>salary</th>\n",
       "    </tr>\n",
       "  </thead>\n",
       "  <tbody>\n",
       "    <tr>\n",
       "      <th>count</th>\n",
       "      <td>397.000000</td>\n",
       "      <td>397.000000</td>\n",
       "      <td>397.000000</td>\n",
       "    </tr>\n",
       "    <tr>\n",
       "      <th>mean</th>\n",
       "      <td>22.314861</td>\n",
       "      <td>17.614610</td>\n",
       "      <td>113706.458438</td>\n",
       "    </tr>\n",
       "    <tr>\n",
       "      <th>std</th>\n",
       "      <td>12.887003</td>\n",
       "      <td>13.006024</td>\n",
       "      <td>30289.038695</td>\n",
       "    </tr>\n",
       "    <tr>\n",
       "      <th>min</th>\n",
       "      <td>1.000000</td>\n",
       "      <td>0.000000</td>\n",
       "      <td>57800.000000</td>\n",
       "    </tr>\n",
       "    <tr>\n",
       "      <th>25%</th>\n",
       "      <td>12.000000</td>\n",
       "      <td>7.000000</td>\n",
       "      <td>91000.000000</td>\n",
       "    </tr>\n",
       "    <tr>\n",
       "      <th>50%</th>\n",
       "      <td>21.000000</td>\n",
       "      <td>16.000000</td>\n",
       "      <td>107300.000000</td>\n",
       "    </tr>\n",
       "    <tr>\n",
       "      <th>75%</th>\n",
       "      <td>32.000000</td>\n",
       "      <td>27.000000</td>\n",
       "      <td>134185.000000</td>\n",
       "    </tr>\n",
       "    <tr>\n",
       "      <th>max</th>\n",
       "      <td>56.000000</td>\n",
       "      <td>60.000000</td>\n",
       "      <td>231545.000000</td>\n",
       "    </tr>\n",
       "  </tbody>\n",
       "</table>\n",
       "</div>"
      ],
      "text/plain": [
       "       yrs.since.phd  yrs.service         salary\n",
       "count     397.000000   397.000000     397.000000\n",
       "mean       22.314861    17.614610  113706.458438\n",
       "std        12.887003    13.006024   30289.038695\n",
       "min         1.000000     0.000000   57800.000000\n",
       "25%        12.000000     7.000000   91000.000000\n",
       "50%        21.000000    16.000000  107300.000000\n",
       "75%        32.000000    27.000000  134185.000000\n",
       "max        56.000000    60.000000  231545.000000"
      ]
     },
     "execution_count": 9,
     "metadata": {},
     "output_type": "execute_result"
    }
   ],
   "source": [
    "data_modify.describe()"
   ]
  },
  {
   "cell_type": "code",
   "execution_count": 10,
   "id": "d6e8f74e",
   "metadata": {},
   "outputs": [
    {
     "data": {
      "text/plain": [
       "Index(['rank', 'discipline', 'yrs.since.phd', 'yrs.service', 'salary'], dtype='object')"
      ]
     },
     "execution_count": 10,
     "metadata": {},
     "output_type": "execute_result"
    }
   ],
   "source": [
    "data_modify.columns"
   ]
  },
  {
   "cell_type": "code",
   "execution_count": 11,
   "id": "2af4f85d",
   "metadata": {},
   "outputs": [
    {
     "data": {
      "text/plain": [
       "rank             0\n",
       "discipline       0\n",
       "yrs.since.phd    0\n",
       "yrs.service      0\n",
       "salary           0\n",
       "dtype: int64"
      ]
     },
     "execution_count": 11,
     "metadata": {},
     "output_type": "execute_result"
    }
   ],
   "source": [
    "data_modify.isnull().sum()"
   ]
  },
  {
   "cell_type": "code",
   "execution_count": 12,
   "id": "def3b465",
   "metadata": {},
   "outputs": [
    {
     "data": {
      "text/plain": [
       "(397, 5)"
      ]
     },
     "execution_count": 12,
     "metadata": {},
     "output_type": "execute_result"
    }
   ],
   "source": [
    "data_modify.shape"
   ]
  },
  {
   "cell_type": "code",
   "execution_count": 13,
   "id": "44b07a70",
   "metadata": {},
   "outputs": [],
   "source": [
    "from sklearn.model_selection import train_test_split\n"
   ]
  },
  {
   "cell_type": "code",
   "execution_count": 14,
   "id": "9a32c615",
   "metadata": {},
   "outputs": [],
   "source": [
    "x=data_modify.drop(['salary'],axis=1)\n",
    "y=data_modify\n",
    "x_train,x_test,y_train,y_test=train_test_split(x,y, test_size=0.30, random_state=40)"
   ]
  },
  {
   "cell_type": "code",
   "execution_count": 15,
   "id": "44e24753",
   "metadata": {},
   "outputs": [
    {
     "data": {
      "text/html": [
       "<div>\n",
       "<style scoped>\n",
       "    .dataframe tbody tr th:only-of-type {\n",
       "        vertical-align: middle;\n",
       "    }\n",
       "\n",
       "    .dataframe tbody tr th {\n",
       "        vertical-align: top;\n",
       "    }\n",
       "\n",
       "    .dataframe thead th {\n",
       "        text-align: right;\n",
       "    }\n",
       "</style>\n",
       "<table border=\"1\" class=\"dataframe\">\n",
       "  <thead>\n",
       "    <tr style=\"text-align: right;\">\n",
       "      <th></th>\n",
       "      <th>rank</th>\n",
       "      <th>discipline</th>\n",
       "      <th>yrs.since.phd</th>\n",
       "      <th>yrs.service</th>\n",
       "    </tr>\n",
       "  </thead>\n",
       "  <tbody>\n",
       "    <tr>\n",
       "      <th>221</th>\n",
       "      <td>Prof</td>\n",
       "      <td>B</td>\n",
       "      <td>23</td>\n",
       "      <td>10</td>\n",
       "    </tr>\n",
       "    <tr>\n",
       "      <th>258</th>\n",
       "      <td>AsstProf</td>\n",
       "      <td>A</td>\n",
       "      <td>9</td>\n",
       "      <td>3</td>\n",
       "    </tr>\n",
       "    <tr>\n",
       "      <th>49</th>\n",
       "      <td>AsstProf</td>\n",
       "      <td>B</td>\n",
       "      <td>1</td>\n",
       "      <td>1</td>\n",
       "    </tr>\n",
       "    <tr>\n",
       "      <th>54</th>\n",
       "      <td>AssocProf</td>\n",
       "      <td>B</td>\n",
       "      <td>12</td>\n",
       "      <td>11</td>\n",
       "    </tr>\n",
       "    <tr>\n",
       "      <th>151</th>\n",
       "      <td>AsstProf</td>\n",
       "      <td>B</td>\n",
       "      <td>4</td>\n",
       "      <td>4</td>\n",
       "    </tr>\n",
       "  </tbody>\n",
       "</table>\n",
       "</div>"
      ],
      "text/plain": [
       "          rank discipline  yrs.since.phd  yrs.service\n",
       "221       Prof          B             23           10\n",
       "258   AsstProf          A              9            3\n",
       "49    AsstProf          B              1            1\n",
       "54   AssocProf          B             12           11\n",
       "151   AsstProf          B              4            4"
      ]
     },
     "execution_count": 15,
     "metadata": {},
     "output_type": "execute_result"
    }
   ],
   "source": [
    "x_train.head()"
   ]
  },
  {
   "cell_type": "code",
   "execution_count": 16,
   "id": "977934ff",
   "metadata": {},
   "outputs": [
    {
     "data": {
      "text/html": [
       "<div>\n",
       "<style scoped>\n",
       "    .dataframe tbody tr th:only-of-type {\n",
       "        vertical-align: middle;\n",
       "    }\n",
       "\n",
       "    .dataframe tbody tr th {\n",
       "        vertical-align: top;\n",
       "    }\n",
       "\n",
       "    .dataframe thead th {\n",
       "        text-align: right;\n",
       "    }\n",
       "</style>\n",
       "<table border=\"1\" class=\"dataframe\">\n",
       "  <thead>\n",
       "    <tr style=\"text-align: right;\">\n",
       "      <th></th>\n",
       "      <th>rank</th>\n",
       "      <th>discipline</th>\n",
       "      <th>yrs.since.phd</th>\n",
       "      <th>yrs.service</th>\n",
       "      <th>salary</th>\n",
       "    </tr>\n",
       "  </thead>\n",
       "  <tbody>\n",
       "    <tr>\n",
       "      <th>221</th>\n",
       "      <td>Prof</td>\n",
       "      <td>B</td>\n",
       "      <td>23</td>\n",
       "      <td>10</td>\n",
       "      <td>145200</td>\n",
       "    </tr>\n",
       "    <tr>\n",
       "      <th>258</th>\n",
       "      <td>AsstProf</td>\n",
       "      <td>A</td>\n",
       "      <td>9</td>\n",
       "      <td>3</td>\n",
       "      <td>73800</td>\n",
       "    </tr>\n",
       "    <tr>\n",
       "      <th>49</th>\n",
       "      <td>AsstProf</td>\n",
       "      <td>B</td>\n",
       "      <td>1</td>\n",
       "      <td>1</td>\n",
       "      <td>70768</td>\n",
       "    </tr>\n",
       "    <tr>\n",
       "      <th>54</th>\n",
       "      <td>AssocProf</td>\n",
       "      <td>B</td>\n",
       "      <td>12</td>\n",
       "      <td>11</td>\n",
       "      <td>103760</td>\n",
       "    </tr>\n",
       "    <tr>\n",
       "      <th>151</th>\n",
       "      <td>AsstProf</td>\n",
       "      <td>B</td>\n",
       "      <td>4</td>\n",
       "      <td>4</td>\n",
       "      <td>92000</td>\n",
       "    </tr>\n",
       "  </tbody>\n",
       "</table>\n",
       "</div>"
      ],
      "text/plain": [
       "          rank discipline  yrs.since.phd  yrs.service  salary\n",
       "221       Prof          B             23           10  145200\n",
       "258   AsstProf          A              9            3   73800\n",
       "49    AsstProf          B              1            1   70768\n",
       "54   AssocProf          B             12           11  103760\n",
       "151   AsstProf          B              4            4   92000"
      ]
     },
     "execution_count": 16,
     "metadata": {},
     "output_type": "execute_result"
    }
   ],
   "source": [
    "y_train.head()"
   ]
  },
  {
   "cell_type": "code",
   "execution_count": 17,
   "id": "4d889972",
   "metadata": {},
   "outputs": [
    {
     "data": {
      "text/plain": [
       "rank             object\n",
       "discipline       object\n",
       "yrs.since.phd     int64\n",
       "yrs.service       int64\n",
       "salary            int64\n",
       "dtype: object"
      ]
     },
     "execution_count": 17,
     "metadata": {},
     "output_type": "execute_result"
    }
   ],
   "source": [
    "data_modify.dtypes"
   ]
  },
  {
   "cell_type": "code",
   "execution_count": 18,
   "id": "fe0559b2",
   "metadata": {},
   "outputs": [
    {
     "data": {
      "text/plain": [
       "array(['Prof', 'AsstProf', 'AssocProf'], dtype=object)"
      ]
     },
     "execution_count": 18,
     "metadata": {},
     "output_type": "execute_result"
    }
   ],
   "source": [
    "data_modify['rank'].unique()"
   ]
  },
  {
   "cell_type": "code",
   "execution_count": 19,
   "id": "0f742b7b",
   "metadata": {},
   "outputs": [
    {
     "data": {
      "text/plain": [
       "3"
      ]
     },
     "execution_count": 19,
     "metadata": {},
     "output_type": "execute_result"
    }
   ],
   "source": [
    "data_modify['rank'].nunique()"
   ]
  },
  {
   "cell_type": "code",
   "execution_count": 20,
   "id": "7f67da80",
   "metadata": {},
   "outputs": [
    {
     "data": {
      "text/plain": [
       "array(['B', 'A'], dtype=object)"
      ]
     },
     "execution_count": 20,
     "metadata": {},
     "output_type": "execute_result"
    }
   ],
   "source": [
    "data_modify['discipline'].unique()"
   ]
  },
  {
   "cell_type": "code",
   "execution_count": 21,
   "id": "bb0bac86",
   "metadata": {},
   "outputs": [
    {
     "data": {
      "text/plain": [
       "2"
      ]
     },
     "execution_count": 21,
     "metadata": {},
     "output_type": "execute_result"
    }
   ],
   "source": [
    "data_modify['discipline'].nunique()"
   ]
  },
  {
   "cell_type": "markdown",
   "id": "71a02dad",
   "metadata": {},
   "source": [
    "# data is catagorical"
   ]
  },
  {
   "cell_type": "markdown",
   "id": "505531f4",
   "metadata": {},
   "source": [
    "making data as nominal"
   ]
  },
  {
   "cell_type": "code",
   "execution_count": 22,
   "id": "4cf5ba72",
   "metadata": {},
   "outputs": [],
   "source": [
    "data_modify_visualization=data_modify[['rank','discipline']].copy()"
   ]
  },
  {
   "cell_type": "code",
   "execution_count": 23,
   "id": "f2c236dc",
   "metadata": {},
   "outputs": [
    {
     "data": {
      "text/plain": [
       "Index(['rank', 'discipline'], dtype='object')"
      ]
     },
     "execution_count": 23,
     "metadata": {},
     "output_type": "execute_result"
    }
   ],
   "source": [
    "data_modify_visualization.columns"
   ]
  },
  {
   "cell_type": "code",
   "execution_count": 24,
   "id": "7690656b",
   "metadata": {},
   "outputs": [],
   "source": [
    "import seaborn as sns"
   ]
  },
  {
   "cell_type": "code",
   "execution_count": 25,
   "id": "f92e5766",
   "metadata": {},
   "outputs": [
    {
     "name": "stdout",
     "output_type": "stream",
     "text": [
      "Prof         266\n",
      "AsstProf      67\n",
      "AssocProf     64\n",
      "Name: rank, dtype: int64\n"
     ]
    },
    {
     "data": {
      "image/png": "[encoded data removed]",
      "text/plain": [
       "<Figure size 432x288 with 1 Axes>"
      ]
     },
     "metadata": {
      "needs_background": "light"
     },
     "output_type": "display_data"
    }
   ],
   "source": [
    "ax=sns.countplot(x='rank', data=data_modify_visualization)\n",
    "print(data_modify_visualization['rank'].value_counts())"
   ]
  },
  {
   "cell_type": "code",
   "execution_count": 26,
   "id": "618c51ab",
   "metadata": {},
   "outputs": [
    {
     "name": "stdout",
     "output_type": "stream",
     "text": [
      "B    216\n",
      "A    181\n",
      "Name: discipline, dtype: int64\n"
     ]
    },
    {
     "data": {
      "image/png": "[encoded data removed]",
      "text/plain": [
       "<Figure size 432x288 with 1 Axes>"
      ]
     },
     "metadata": {
      "needs_background": "light"
     },
     "output_type": "display_data"
    }
   ],
   "source": [
    "ax=sns.countplot(x='discipline', data=data_modify_visualization)\n",
    "print(data_modify_visualization['discipline'].value_counts())"
   ]
  },
  {
   "cell_type": "code",
   "execution_count": 27,
   "id": "c89f813f",
   "metadata": {},
   "outputs": [],
   "source": [
    "data_modify_visualcontinuos=data_modify[['yrs.since.phd','yrs.service','salary']].copy()"
   ]
  },
  {
   "cell_type": "code",
   "execution_count": 28,
   "id": "b28f61e2",
   "metadata": {},
   "outputs": [
    {
     "data": {
      "text/plain": [
       "<seaborn.axisgrid.FacetGrid at 0xacb25176a0>"
      ]
     },
     "execution_count": 28,
     "metadata": {},
     "output_type": "execute_result"
    },
    {
     "data": {
      "image/png": "[encoded data removed]",
      "text/plain": [
       "<Figure size 360x360 with 1 Axes>"
      ]
     },
     "metadata": {
      "needs_background": "light"
     },
     "output_type": "display_data"
    }
   ],
   "source": [
    "sns.displot(data_modify_visualcontinuos['yrs.since.phd'], kde=True)"
   ]
  },
  {
   "cell_type": "code",
   "execution_count": 29,
   "id": "a76b6af5",
   "metadata": {},
   "outputs": [
    {
     "data": {
      "text/plain": [
       "<seaborn.axisgrid.FacetGrid at 0xacb2557d90>"
      ]
     },
     "execution_count": 29,
     "metadata": {},
     "output_type": "execute_result"
    },
    {
     "data": {
      "image/png": "[encoded data removed]",
      "text/plain": [
       "<Figure size 360x360 with 1 Axes>"
      ]
     },
     "metadata": {
      "needs_background": "light"
     },
     "output_type": "display_data"
    }
   ],
   "source": [
    "sns.displot(data_modify_visualcontinuos['yrs.service'], kde=True)"
   ]
  },
  {
   "cell_type": "code",
   "execution_count": 30,
   "id": "5987c90f",
   "metadata": {},
   "outputs": [
    {
     "data": {
      "text/plain": [
       "<seaborn.axisgrid.FacetGrid at 0xacb257c160>"
      ]
     },
     "execution_count": 30,
     "metadata": {},
     "output_type": "execute_result"
    },
    {
     "data": {
      "image/png": "[encoded data removed]",
      "text/plain": [
       "<Figure size 360x360 with 1 Axes>"
      ]
     },
     "metadata": {
      "needs_background": "light"
     },
     "output_type": "display_data"
    }
   ],
   "source": [
    "sns.displot(data_modify_visualcontinuos['salary'], kde=True)"
   ]
  },
  {
   "cell_type": "markdown",
   "id": "d453d5a3",
   "metadata": {},
   "source": [
    "encoding dataframe to convert string into numerical format"
   ]
  },
  {
   "cell_type": "code",
   "execution_count": 31,
   "id": "5be6a09a",
   "metadata": {},
   "outputs": [],
   "source": [
    "from sklearn.preprocessing import OrdinalEncoder\n",
    "enc=OrdinalEncoder()"
   ]
  },
  {
   "cell_type": "code",
   "execution_count": 32,
   "id": "6b346b9c",
   "metadata": {},
   "outputs": [],
   "source": [
    "for i in data_modify.columns:\n",
    "    if(data_modify[i].dtypes=='object'):\n",
    "        data_modify[i]=enc.fit_transform(data_modify[i].values.reshape(-1,1))"
   ]
  },
  {
   "cell_type": "code",
   "execution_count": 33,
   "id": "9346e7af",
   "metadata": {},
   "outputs": [
    {
     "data": {
      "text/html": [
       "<div>\n",
       "<style scoped>\n",
       "    .dataframe tbody tr th:only-of-type {\n",
       "        vertical-align: middle;\n",
       "    }\n",
       "\n",
       "    .dataframe tbody tr th {\n",
       "        vertical-align: top;\n",
       "    }\n",
       "\n",
       "    .dataframe thead th {\n",
       "        text-align: right;\n",
       "    }\n",
       "</style>\n",
       "<table border=\"1\" class=\"dataframe\">\n",
       "  <thead>\n",
       "    <tr style=\"text-align: right;\">\n",
       "      <th></th>\n",
       "      <th>rank</th>\n",
       "      <th>discipline</th>\n",
       "      <th>yrs.since.phd</th>\n",
       "      <th>yrs.service</th>\n",
       "      <th>salary</th>\n",
       "    </tr>\n",
       "  </thead>\n",
       "  <tbody>\n",
       "    <tr>\n",
       "      <th>0</th>\n",
       "      <td>2.0</td>\n",
       "      <td>1.0</td>\n",
       "      <td>19</td>\n",
       "      <td>18</td>\n",
       "      <td>139750</td>\n",
       "    </tr>\n",
       "    <tr>\n",
       "      <th>1</th>\n",
       "      <td>2.0</td>\n",
       "      <td>1.0</td>\n",
       "      <td>20</td>\n",
       "      <td>16</td>\n",
       "      <td>173200</td>\n",
       "    </tr>\n",
       "    <tr>\n",
       "      <th>2</th>\n",
       "      <td>1.0</td>\n",
       "      <td>1.0</td>\n",
       "      <td>4</td>\n",
       "      <td>3</td>\n",
       "      <td>79750</td>\n",
       "    </tr>\n",
       "    <tr>\n",
       "      <th>3</th>\n",
       "      <td>2.0</td>\n",
       "      <td>1.0</td>\n",
       "      <td>45</td>\n",
       "      <td>39</td>\n",
       "      <td>115000</td>\n",
       "    </tr>\n",
       "    <tr>\n",
       "      <th>4</th>\n",
       "      <td>2.0</td>\n",
       "      <td>1.0</td>\n",
       "      <td>40</td>\n",
       "      <td>41</td>\n",
       "      <td>141500</td>\n",
       "    </tr>\n",
       "    <tr>\n",
       "      <th>...</th>\n",
       "      <td>...</td>\n",
       "      <td>...</td>\n",
       "      <td>...</td>\n",
       "      <td>...</td>\n",
       "      <td>...</td>\n",
       "    </tr>\n",
       "    <tr>\n",
       "      <th>392</th>\n",
       "      <td>2.0</td>\n",
       "      <td>0.0</td>\n",
       "      <td>33</td>\n",
       "      <td>30</td>\n",
       "      <td>103106</td>\n",
       "    </tr>\n",
       "    <tr>\n",
       "      <th>393</th>\n",
       "      <td>2.0</td>\n",
       "      <td>0.0</td>\n",
       "      <td>31</td>\n",
       "      <td>19</td>\n",
       "      <td>150564</td>\n",
       "    </tr>\n",
       "    <tr>\n",
       "      <th>394</th>\n",
       "      <td>2.0</td>\n",
       "      <td>0.0</td>\n",
       "      <td>42</td>\n",
       "      <td>25</td>\n",
       "      <td>101738</td>\n",
       "    </tr>\n",
       "    <tr>\n",
       "      <th>395</th>\n",
       "      <td>2.0</td>\n",
       "      <td>0.0</td>\n",
       "      <td>25</td>\n",
       "      <td>15</td>\n",
       "      <td>95329</td>\n",
       "    </tr>\n",
       "    <tr>\n",
       "      <th>396</th>\n",
       "      <td>1.0</td>\n",
       "      <td>0.0</td>\n",
       "      <td>8</td>\n",
       "      <td>4</td>\n",
       "      <td>81035</td>\n",
       "    </tr>\n",
       "  </tbody>\n",
       "</table>\n",
       "<p>397 rows × 5 columns</p>\n",
       "</div>"
      ],
      "text/plain": [
       "     rank  discipline  yrs.since.phd  yrs.service  salary\n",
       "0     2.0         1.0             19           18  139750\n",
       "1     2.0         1.0             20           16  173200\n",
       "2     1.0         1.0              4            3   79750\n",
       "3     2.0         1.0             45           39  115000\n",
       "4     2.0         1.0             40           41  141500\n",
       "..    ...         ...            ...          ...     ...\n",
       "392   2.0         0.0             33           30  103106\n",
       "393   2.0         0.0             31           19  150564\n",
       "394   2.0         0.0             42           25  101738\n",
       "395   2.0         0.0             25           15   95329\n",
       "396   1.0         0.0              8            4   81035\n",
       "\n",
       "[397 rows x 5 columns]"
      ]
     },
     "execution_count": 33,
     "metadata": {},
     "output_type": "execute_result"
    }
   ],
   "source": [
    "data_modify"
   ]
  },
  {
   "cell_type": "code",
   "execution_count": 34,
   "id": "1be0a29d",
   "metadata": {},
   "outputs": [
    {
     "data": {
      "text/html": [
       "<div>\n",
       "<style scoped>\n",
       "    .dataframe tbody tr th:only-of-type {\n",
       "        vertical-align: middle;\n",
       "    }\n",
       "\n",
       "    .dataframe tbody tr th {\n",
       "        vertical-align: top;\n",
       "    }\n",
       "\n",
       "    .dataframe thead th {\n",
       "        text-align: right;\n",
       "    }\n",
       "</style>\n",
       "<table border=\"1\" class=\"dataframe\">\n",
       "  <thead>\n",
       "    <tr style=\"text-align: right;\">\n",
       "      <th></th>\n",
       "      <th>rank</th>\n",
       "      <th>discipline</th>\n",
       "      <th>yrs.since.phd</th>\n",
       "      <th>yrs.service</th>\n",
       "      <th>salary</th>\n",
       "    </tr>\n",
       "  </thead>\n",
       "  <tbody>\n",
       "    <tr>\n",
       "      <th>count</th>\n",
       "      <td>397.000000</td>\n",
       "      <td>397.000000</td>\n",
       "      <td>397.000000</td>\n",
       "      <td>397.000000</td>\n",
       "      <td>397.000000</td>\n",
       "    </tr>\n",
       "    <tr>\n",
       "      <th>mean</th>\n",
       "      <td>1.508816</td>\n",
       "      <td>0.544081</td>\n",
       "      <td>22.314861</td>\n",
       "      <td>17.614610</td>\n",
       "      <td>113706.458438</td>\n",
       "    </tr>\n",
       "    <tr>\n",
       "      <th>std</th>\n",
       "      <td>0.757486</td>\n",
       "      <td>0.498682</td>\n",
       "      <td>12.887003</td>\n",
       "      <td>13.006024</td>\n",
       "      <td>30289.038695</td>\n",
       "    </tr>\n",
       "    <tr>\n",
       "      <th>min</th>\n",
       "      <td>0.000000</td>\n",
       "      <td>0.000000</td>\n",
       "      <td>1.000000</td>\n",
       "      <td>0.000000</td>\n",
       "      <td>57800.000000</td>\n",
       "    </tr>\n",
       "    <tr>\n",
       "      <th>25%</th>\n",
       "      <td>1.000000</td>\n",
       "      <td>0.000000</td>\n",
       "      <td>12.000000</td>\n",
       "      <td>7.000000</td>\n",
       "      <td>91000.000000</td>\n",
       "    </tr>\n",
       "    <tr>\n",
       "      <th>50%</th>\n",
       "      <td>2.000000</td>\n",
       "      <td>1.000000</td>\n",
       "      <td>21.000000</td>\n",
       "      <td>16.000000</td>\n",
       "      <td>107300.000000</td>\n",
       "    </tr>\n",
       "    <tr>\n",
       "      <th>75%</th>\n",
       "      <td>2.000000</td>\n",
       "      <td>1.000000</td>\n",
       "      <td>32.000000</td>\n",
       "      <td>27.000000</td>\n",
       "      <td>134185.000000</td>\n",
       "    </tr>\n",
       "    <tr>\n",
       "      <th>max</th>\n",
       "      <td>2.000000</td>\n",
       "      <td>1.000000</td>\n",
       "      <td>56.000000</td>\n",
       "      <td>60.000000</td>\n",
       "      <td>231545.000000</td>\n",
       "    </tr>\n",
       "  </tbody>\n",
       "</table>\n",
       "</div>"
      ],
      "text/plain": [
       "             rank  discipline  yrs.since.phd  yrs.service         salary\n",
       "count  397.000000  397.000000     397.000000   397.000000     397.000000\n",
       "mean     1.508816    0.544081      22.314861    17.614610  113706.458438\n",
       "std      0.757486    0.498682      12.887003    13.006024   30289.038695\n",
       "min      0.000000    0.000000       1.000000     0.000000   57800.000000\n",
       "25%      1.000000    0.000000      12.000000     7.000000   91000.000000\n",
       "50%      2.000000    1.000000      21.000000    16.000000  107300.000000\n",
       "75%      2.000000    1.000000      32.000000    27.000000  134185.000000\n",
       "max      2.000000    1.000000      56.000000    60.000000  231545.000000"
      ]
     },
     "execution_count": 34,
     "metadata": {},
     "output_type": "execute_result"
    }
   ],
   "source": [
    "data_modify.describe()\n"
   ]
  },
  {
   "cell_type": "code",
   "execution_count": 35,
   "id": "3f3ecd12",
   "metadata": {},
   "outputs": [
    {
     "data": {
      "text/plain": [
       "<AxesSubplot:>"
      ]
     },
     "execution_count": 35,
     "metadata": {},
     "output_type": "execute_result"
    },
    {
     "data": {
      "image/png": "[encoded data removed]",
      "text/plain": [
       "<Figure size 1440x576 with 2 Axes>"
      ]
     },
     "metadata": {
      "needs_background": "light"
     },
     "output_type": "display_data"
    }
   ],
   "source": [
    "import matplotlib.pyplot as plt\n",
    "plt.figure(figsize=(20,8))\n",
    "sns.heatmap(data_modify.describe(), annot=True)"
   ]
  },
  {
   "cell_type": "code",
   "execution_count": 36,
   "id": "36d9ca5c",
   "metadata": {},
   "outputs": [
    {
     "data": {
      "text/plain": [
       "rank             0.522207\n",
       "discipline       0.156084\n",
       "yrs.since.phd    0.419231\n",
       "yrs.service      0.334745\n",
       "salary           1.000000\n",
       "Name: salary, dtype: float64"
      ]
     },
     "execution_count": 36,
     "metadata": {},
     "output_type": "execute_result"
    }
   ],
   "source": [
    "data_modify.corr()['salary']"
   ]
  },
  {
   "cell_type": "code",
   "execution_count": 37,
   "id": "03361182",
   "metadata": {},
   "outputs": [
    {
     "data": {
      "text/plain": [
       "<AxesSubplot:>"
      ]
     },
     "execution_count": 37,
     "metadata": {},
     "output_type": "execute_result"
    },
    {
     "data": {
      "image/png": "[encoded data removed]",
      "text/plain": [
       "<Figure size 432x288 with 2 Axes>"
      ]
     },
     "metadata": {
      "needs_background": "light"
     },
     "output_type": "display_data"
    }
   ],
   "source": [
    "sns.heatmap(data_modify.corr(), annot=True)"
   ]
  },
  {
   "cell_type": "code",
   "execution_count": 38,
   "id": "06a97104",
   "metadata": {},
   "outputs": [
    {
     "data": {
      "text/plain": [
       "rank            -1.151164\n",
       "discipline      -0.177684\n",
       "yrs.since.phd    0.300880\n",
       "yrs.service      0.650569\n",
       "salary           0.714568\n",
       "dtype: float64"
      ]
     },
     "execution_count": 38,
     "metadata": {},
     "output_type": "execute_result"
    }
   ],
   "source": [
    "data_modify.skew()"
   ]
  },
  {
   "cell_type": "code",
   "execution_count": 39,
   "id": "3f3c0864",
   "metadata": {},
   "outputs": [
    {
     "data": {
      "text/plain": [
       "rank             float64\n",
       "discipline       float64\n",
       "yrs.since.phd      int64\n",
       "yrs.service        int64\n",
       "salary             int64\n",
       "dtype: object"
      ]
     },
     "execution_count": 39,
     "metadata": {},
     "output_type": "execute_result"
    }
   ],
   "source": [
    "data_modify.dtypes"
   ]
  },
  {
   "cell_type": "markdown",
   "id": "ef82ea8a",
   "metadata": {},
   "source": [
    "checking outliers on float and int types through boxplot"
   ]
  },
  {
   "cell_type": "code",
   "execution_count": 40,
   "id": "b74facfd",
   "metadata": {},
   "outputs": [
    {
     "data": {
      "text/plain": [
       "<AxesSubplot:>"
      ]
     },
     "execution_count": 40,
     "metadata": {},
     "output_type": "execute_result"
    },
    {
     "data": {
      "image/png": "[encoded data removed]",
      "text/plain": [
       "<Figure size 432x288 with 1 Axes>"
      ]
     },
     "metadata": {
      "needs_background": "light"
     },
     "output_type": "display_data"
    }
   ],
   "source": [
    "data_modify['rank'].plot.box()"
   ]
  },
  {
   "cell_type": "code",
   "execution_count": 41,
   "id": "10b93e12",
   "metadata": {},
   "outputs": [
    {
     "data": {
      "text/plain": [
       "<AxesSubplot:>"
      ]
     },
     "execution_count": 41,
     "metadata": {},
     "output_type": "execute_result"
    },
    {
     "data": {
      "image/png": "[encoded data removed]",
      "text/plain": [
       "<Figure size 432x288 with 1 Axes>"
      ]
     },
     "metadata": {
      "needs_background": "light"
     },
     "output_type": "display_data"
    }
   ],
   "source": [
    "data_modify['discipline'].plot.box()"
   ]
  },
  {
   "cell_type": "code",
   "execution_count": 42,
   "id": "7a6eedf5",
   "metadata": {},
   "outputs": [
    {
     "data": {
      "text/plain": [
       "<AxesSubplot:>"
      ]
     },
     "execution_count": 42,
     "metadata": {},
     "output_type": "execute_result"
    },
    {
     "data": {
      "image/png": "[encoded data removed]",
      "text/plain": [
       "<Figure size 432x288 with 1 Axes>"
      ]
     },
     "metadata": {
      "needs_background": "light"
     },
     "output_type": "display_data"
    }
   ],
   "source": [
    "data_modify['yrs.since.phd'].plot.box()"
   ]
  },
  {
   "cell_type": "code",
   "execution_count": 43,
   "id": "da355a07",
   "metadata": {},
   "outputs": [
    {
     "data": {
      "text/plain": [
       "<AxesSubplot:>"
      ]
     },
     "execution_count": 43,
     "metadata": {},
     "output_type": "execute_result"
    },
    {
     "data": {
      "image/png": "[encoded data removed]",
      "text/plain": [
       "<Figure size 432x288 with 1 Axes>"
      ]
     },
     "metadata": {
      "needs_background": "light"
     },
     "output_type": "display_data"
    }
   ],
   "source": [
    "data_modify['yrs.service'].plot.box()"
   ]
  },
  {
   "cell_type": "code",
   "execution_count": 44,
   "id": "0cedab41",
   "metadata": {},
   "outputs": [
    {
     "data": {
      "text/plain": [
       "<AxesSubplot:>"
      ]
     },
     "execution_count": 44,
     "metadata": {},
     "output_type": "execute_result"
    },
    {
     "data": {
      "image/png": "[encoded data removed]",
      "text/plain": [
       "<Figure size 432x288 with 1 Axes>"
      ]
     },
     "metadata": {
      "needs_background": "light"
     },
     "output_type": "display_data"
    }
   ],
   "source": [
    "data_modify['salary'].plot.box()"
   ]
  },
  {
   "cell_type": "markdown",
   "id": "c7d004ca",
   "metadata": {},
   "source": [
    "cateorical columns and target columns we not remove the outliers "
   ]
  },
  {
   "cell_type": "code",
   "execution_count": 45,
   "id": "7784cb77",
   "metadata": {},
   "outputs": [],
   "source": [
    "from sklearn.linear_model import LinearRegression\n",
    "from sklearn.metrics import r2_score\n"
   ]
  },
  {
   "cell_type": "raw",
   "id": "e95b9498",
   "metadata": {},
   "source": []
  },
  {
   "cell_type": "code",
   "execution_count": 46,
   "id": "bd650928",
   "metadata": {},
   "outputs": [],
   "source": [
    "x=data_modify.drop(['salary'],axis=1)\n",
    "y=data_modify\n",
    "x_train,x_test,y_train,y_test=train_test_split(x,y, test_size=0.30, random_state=40)"
   ]
  },
  {
   "cell_type": "code",
   "execution_count": 47,
   "id": "b19f8ab6",
   "metadata": {},
   "outputs": [
    {
     "data": {
      "text/plain": [
       "LinearRegression()"
      ]
     },
     "execution_count": 47,
     "metadata": {},
     "output_type": "execute_result"
    }
   ],
   "source": [
    "lr=LinearRegression()\n",
    "lr.fit(x,y)"
   ]
  },
  {
   "cell_type": "code",
   "execution_count": 48,
   "id": "2cfd25d2",
   "metadata": {},
   "outputs": [
    {
     "data": {
      "text/plain": [
       "array([[2.00000000e+00, 1.00000000e+00, 2.30000000e+01, 1.00000000e+01,\n",
       "        1.33844155e+05],\n",
       "       [1.00000000e+00, 2.91368135e-15, 9.00000000e+00, 3.00000000e+00,\n",
       "        9.01890025e+04],\n",
       "       [1.00000000e+00, 1.00000000e+00, 1.00000000e+00, 1.00000000e+00,\n",
       "        9.76615340e+04],\n",
       "       ...,\n",
       "       [2.00000000e+00, 1.00000000e+00, 4.50000000e+01, 4.50000000e+01,\n",
       "        1.39017221e+05],\n",
       "       [2.00000000e+00, 1.00000000e+00, 1.30000000e+01, 1.10000000e+01,\n",
       "        1.21635724e+05],\n",
       "       [2.00000000e+00, 1.00000000e+00, 2.30000000e+01, 1.50000000e+01,\n",
       "        1.30929440e+05]])"
      ]
     },
     "execution_count": 48,
     "metadata": {},
     "output_type": "execute_result"
    }
   ],
   "source": [
    "y_train_predict=lr.predict(x_train)\n",
    "y_train_predict"
   ]
  },
  {
   "cell_type": "code",
   "execution_count": 49,
   "id": "6ed5958d",
   "metadata": {},
   "outputs": [
    {
     "data": {
      "text/plain": [
       "0.8752481939925136"
      ]
     },
     "execution_count": 49,
     "metadata": {},
     "output_type": "execute_result"
    }
   ],
   "source": [
    "accuracy_train=r2_score(y_train, y_train_predict)\n",
    "accuracy_train"
   ]
  },
  {
   "cell_type": "code",
   "execution_count": 50,
   "id": "93459e82",
   "metadata": {},
   "outputs": [
    {
     "data": {
      "text/plain": [
       "array([[ 2.00000000e+00,  9.34577670e-16,  1.90000000e+01,\n",
       "         1.10000000e+01,  1.13003982e+05],\n",
       "       [ 2.00000000e+00, -3.04831975e-16,  2.00000000e+01,\n",
       "         1.80000000e+01,  1.10085929e+05],\n",
       "       [ 2.00000000e+00,  1.00000000e+00,  2.60000000e+01,\n",
       "         1.90000000e+01,  1.32085314e+05],\n",
       "       [ 2.00000000e+00, -1.53753442e-15,  3.00000000e+01,\n",
       "         2.30000000e+01,  1.18796701e+05],\n",
       "       [ 1.00000000e+00,  3.44417570e-15,  4.00000000e+00,\n",
       "         1.00000000e+00,  8.55421450e+04],\n",
       "       [ 2.00000000e+00,  1.00000000e+00,  2.50000000e+01,\n",
       "         1.80000000e+01,  1.31505708e+05],\n",
       "       [ 2.00000000e+00,  1.00000000e+00,  2.60000000e+01,\n",
       "         2.20000000e+01,  1.30336485e+05],\n",
       "       [ 2.00000000e+00,  1.00000000e+00,  2.30000000e+01,\n",
       "         2.10000000e+01,  1.27431781e+05],\n",
       "       [ 2.00000000e+00,  1.00000000e+00,  4.00000000e+01,\n",
       "         2.70000000e+01,  1.43697452e+05],\n",
       "       [ 2.00000000e+00,  1.00000000e+00,  3.40000000e+01,\n",
       "         3.30000000e+01,  1.33224501e+05],\n",
       "       [ 2.00000000e+00,  1.00000000e+00,  4.50000000e+01,\n",
       "         3.90000000e+01,  1.42514879e+05],\n",
       "       [ 2.00000000e+00, -1.26411026e-16,  2.90000000e+01,\n",
       "         1.50000000e+01,  1.22297697e+05],\n",
       "       [ 2.00000000e+00,  1.00000000e+00,  1.60000000e+01,\n",
       "         5.00000000e+00,  1.28621029e+05],\n",
       "       [-8.03925022e-16,  2.21154581e-15,  1.10000000e+01,\n",
       "         8.00000000e+00,  7.37463488e+04],\n",
       "       [ 2.00000000e+00,  1.00000000e+00,  3.80000000e+01,\n",
       "         3.80000000e+01,  1.34959981e+05],\n",
       "       [-6.78476955e-16,  1.00000000e+00,  8.00000000e+00,\n",
       "         6.00000000e+00,  8.70316239e+04],\n",
       "       [ 2.00000000e+00,  1.00000000e+00,  2.20000000e+01,\n",
       "         1.20000000e+01,  1.31515720e+05],\n",
       "       [ 2.00000000e+00,  1.00000000e+00,  4.00000000e+01,\n",
       "         4.10000000e+01,  1.35536249e+05],\n",
       "       [ 2.00000000e+00, -1.72460127e-15,  3.50000000e+01,\n",
       "         2.30000000e+01,  1.24609445e+05],\n",
       "       [ 2.00000000e+00, -1.79942800e-15,  3.70000000e+01,\n",
       "         2.30000000e+01,  1.26934542e+05],\n",
       "       [ 2.00000000e+00, -3.42245343e-16,  2.10000000e+01,\n",
       "         1.80000000e+01,  1.11248478e+05],\n",
       "       [-1.75874656e-15, -4.38363508e-15,  4.50000000e+01,\n",
       "         3.90000000e+01,  9.52017716e+04],\n",
       "       [ 1.00000000e+00,  2.95109472e-15,  8.00000000e+00,\n",
       "         3.00000000e+00,  8.90264538e+04],\n",
       "       [-6.79253427e-16,  1.00000000e+00,  9.00000000e+00,\n",
       "         8.00000000e+00,  8.70282866e+04],\n",
       "       [ 2.00000000e+00,  1.00000000e+00,  1.80000000e+01,\n",
       "         1.90000000e+01,  1.22784924e+05],\n",
       "       [ 2.00000000e+00, -2.05267569e-15,  3.00000000e+01,\n",
       "         2.60000000e+01,  1.17047872e+05],\n",
       "       [-1.36684433e-15,  1.00000000e+00,  2.20000000e+01,\n",
       "         7.00000000e+00,  1.02724363e+05],\n",
       "       [ 2.00000000e+00,  1.00000000e+00,  1.80000000e+01,\n",
       "         1.80000000e+01,  1.23367867e+05],\n",
       "       [-8.03925022e-16,  2.21154581e-15,  1.10000000e+01,\n",
       "         8.00000000e+00,  7.37463488e+04],\n",
       "       [ 2.00000000e+00,  1.00000000e+00,  2.40000000e+01,\n",
       "         2.30000000e+01,  1.27428444e+05],\n",
       "       [ 2.00000000e+00,  1.35482551e-16,  2.20000000e+01,\n",
       "         1.50000000e+01,  1.14159856e+05],\n",
       "       [ 2.00000000e+00, -2.81435744e-15,  3.20000000e+01,\n",
       "         3.00000000e+01,  1.17041198e+05],\n",
       "       [ 2.00000000e+00,  1.00000000e+00,  3.30000000e+01,\n",
       "         3.00000000e+01,  1.33810781e+05],\n",
       "       [ 1.00000000e+00,  2.77938096e-15,  8.00000000e+00,\n",
       "         4.00000000e+00,  8.84435108e+04],\n",
       "       [ 1.00000000e+00,  1.00000000e+00,  1.00000000e+00,\n",
       "         8.84982429e-15,  9.82444770e+04],\n",
       "       [-1.13712971e-15,  1.00000000e+00,  1.70000000e+01,\n",
       "         6.00000000e+00,  9.74945624e+04],\n",
       "       [ 2.00000000e+00,  1.00000000e+00,  3.20000000e+01,\n",
       "         2.50000000e+01,  1.35562948e+05],\n",
       "       [ 1.00000000e+00,  3.27246194e-15,  4.00000000e+00,\n",
       "         2.00000000e+00,  8.49592019e+04],\n",
       "       [ 2.00000000e+00,  1.00000000e+00,  3.00000000e+01,\n",
       "         2.30000000e+01,  1.34403736e+05],\n",
       "       [ 1.00000000e+00,  3.48158906e-15,  3.00000000e+00,\n",
       "         1.00000000e+00,  8.43795962e+04],\n",
       "       [ 2.00000000e+00,  1.00000000e+00,  1.50000000e+01,\n",
       "         1.00000000e+01,  1.24543765e+05],\n",
       "       [ 1.00000000e+00,  3.44417570e-15,  4.00000000e+00,\n",
       "         1.00000000e+00,  8.55421450e+04],\n",
       "       [ 2.00000000e+00,  1.00000000e+00,  2.80000000e+01,\n",
       "         2.50000000e+01,  1.30912753e+05],\n",
       "       [ 2.00000000e+00,  1.00000000e+00,  1.80000000e+01,\n",
       "         1.00000000e+01,  1.28031411e+05],\n",
       "       [ 2.00000000e+00, -1.14998635e-15,  3.80000000e+01,\n",
       "         1.90000000e+01,  1.30428863e+05],\n",
       "       [ 2.00000000e+00,  1.00000000e+00,  3.80000000e+01,\n",
       "         3.80000000e+01,  1.34959981e+05],\n",
       "       [ 2.00000000e+00,  1.00000000e+00,  1.60000000e+01,\n",
       "         1.50000000e+01,  1.22791599e+05],\n",
       "       [ 2.00000000e+00,  1.00000000e+00,  1.50000000e+01,\n",
       "         1.40000000e+01,  1.22211993e+05],\n",
       "       [-1.39580486e-15, -1.07501449e-15,  3.00000000e+01,\n",
       "         2.30000000e+01,  8.70906292e+04],\n",
       "       [ 2.00000000e+00, -8.88092778e-16,  3.10000000e+01,\n",
       "         1.90000000e+01,  1.22291022e+05],\n",
       "       [ 1.00000000e+00,  1.00000000e+00,  1.00000000e+00,\n",
       "         1.00000000e+00,  9.76615340e+04],\n",
       "       [-1.34718716e-15,  1.00000000e+00,  2.90000000e+01,\n",
       "         2.20000000e+01,  1.02118059e+05],\n",
       "       [ 2.00000000e+00,  1.00000000e+00,  3.80000000e+01,\n",
       "         3.80000000e+01,  1.34959981e+05],\n",
       "       [ 2.00000000e+00,  1.00000000e+00,  1.90000000e+01,\n",
       "         5.00000000e+00,  1.32108675e+05],\n",
       "       [ 2.00000000e+00,  1.00000000e+00,  1.20000000e+01,\n",
       "         1.10000000e+01,  1.20473176e+05],\n",
       "       [ 2.00000000e+00,  1.04681777e-15,  1.60000000e+01,\n",
       "         1.10000000e+01,  1.09516335e+05],\n",
       "       [ 1.00000000e+00,  1.00000000e+00,  3.00000000e+00,\n",
       "         3.00000000e+00,  9.88207454e+04],\n",
       "       [ 2.00000000e+00, -5.16752223e-15,  4.90000000e+01,\n",
       "         4.00000000e+01,  1.30975096e+05],\n",
       "       [ 2.00000000e+00,  1.00000000e+00,  2.20000000e+01,\n",
       "         2.00000000e+01,  1.26852176e+05],\n",
       "       [ 2.00000000e+00, -2.48628302e-15,  3.70000000e+01,\n",
       "         2.70000000e+01,  1.24602770e+05],\n",
       "       [ 1.00000000e+00,  1.00000000e+00,  2.00000000e+00,\n",
       "         8.57239515e-15,  9.94070258e+04],\n",
       "       [ 2.00000000e+00,  1.00000000e+00,  2.50000000e+01,\n",
       "         2.50000000e+01,  1.27425107e+05],\n",
       "       [ 2.00000000e+00,  1.00000000e+00,  3.30000000e+01,\n",
       "         3.10000000e+01,  1.33227838e+05],\n",
       "       [ 1.00000000e+00,  3.02592145e-15,  6.00000000e+00,\n",
       "         3.00000000e+00,  8.67013564e+04],\n",
       "       [ 2.00000000e+00, -2.43351656e-15,  3.10000000e+01,\n",
       "         2.80000000e+01,  1.17044535e+05],\n",
       "       [ 2.00000000e+00,  1.00000000e+00,  1.70000000e+01,\n",
       "         1.70000000e+01,  1.22788261e+05],\n",
       "       [-9.56809274e-16,  2.09930570e-15,  1.40000000e+01,\n",
       "         8.00000000e+00,  7.72339950e+04],\n",
       "       [-7.52963604e-16,  2.24895918e-15,  1.00000000e+01,\n",
       "         8.00000000e+00,  7.25838001e+04],\n",
       "       [ 2.00000000e+00, -1.46270769e-15,  2.80000000e+01,\n",
       "         2.30000000e+01,  1.16471604e+05],\n",
       "       [ 1.00000000e+00,  1.00000000e+00,  8.00000000e+00,\n",
       "         1.00000000e+00,  1.05799375e+05],\n",
       "       [ 2.00000000e+00, -6.26199201e-16,  2.40000000e+01,\n",
       "         1.90000000e+01,  1.14153181e+05],\n",
       "       [-9.57585747e-16,  1.71846483e-15,  1.50000000e+01,\n",
       "         1.00000000e+01,  7.72306576e+04],\n",
       "       [-8.54886439e-16,  2.17413244e-15,  1.20000000e+01,\n",
       "         8.00000000e+00,  7.49088975e+04],\n",
       "       [ 2.00000000e+00,  1.00000000e+00,  2.60000000e+01,\n",
       "         1.90000000e+01,  1.32085314e+05],\n",
       "       [ 2.00000000e+00,  1.00000000e+00,  2.80000000e+01,\n",
       "         3.60000000e+01,  1.24500380e+05],\n",
       "       [ 1.00000000e+00,  1.00000000e+00,  4.00000000e+00,\n",
       "         4.00000000e+00,  9.94003511e+04],\n",
       "       [ 2.00000000e+00,  1.00000000e+00,  2.40000000e+01,\n",
       "         1.50000000e+01,  1.32091988e+05],\n",
       "       [ 2.00000000e+00,  1.88332626e-15,  1.20000000e+01,\n",
       "         7.00000000e+00,  1.07197913e+05],\n",
       "       [ 2.00000000e+00, -2.14956270e-15,  2.80000000e+01,\n",
       "         2.70000000e+01,  1.14139832e+05],\n",
       "       [ 2.00000000e+00,  1.00000000e+00,  3.90000000e+01,\n",
       "         3.30000000e+01,  1.39037245e+05],\n",
       "       [ 2.00000000e+00, -4.54485447e-16,  2.40000000e+01,\n",
       "         1.80000000e+01,  1.14736124e+05],\n",
       "       [ 2.00000000e+00,  1.00000000e+00,  1.90000000e+01,\n",
       "         1.80000000e+01,  1.24530416e+05],\n",
       "       [ 1.00000000e+00,  1.00000000e+00,  4.00000000e+00,\n",
       "         4.00000000e+00,  9.94003511e+04],\n",
       "       [ 2.00000000e+00, -3.85999305e-15,  3.70000000e+01,\n",
       "         3.50000000e+01,  1.19939226e+05],\n",
       "       [ 2.00000000e+00,  1.09764553e-15,  3.30000000e+01,\n",
       "         7.00000000e+00,  1.31611436e+05],\n",
       "       [-6.80029900e-16,  1.00000000e+00,  1.00000000e+01,\n",
       "         1.00000000e+01,  8.70249493e+04],\n",
       "       [ 2.00000000e+00, -2.09008905e-15,  3.10000000e+01,\n",
       "         2.60000000e+01,  1.18210421e+05],\n",
       "       [ 1.00000000e+00,  1.00000000e+00,  5.00000000e+00,\n",
       "         3.00000000e+00,  1.01145843e+05],\n",
       "       [ 2.00000000e+00,  4.94263145e-16,  1.70000000e+01,\n",
       "         1.40000000e+01,  1.08930055e+05],\n",
       "       [ 2.00000000e+00,  1.62143269e-15,  1.90000000e+01,\n",
       "         7.00000000e+00,  1.15335754e+05],\n",
       "       [ 2.00000000e+00, -1.97784895e-15,  2.80000000e+01,\n",
       "         2.60000000e+01,  1.14722775e+05],\n",
       "       [ 2.00000000e+00, -5.05528213e-15,  4.60000000e+01,\n",
       "         4.00000000e+01,  1.27487449e+05],\n",
       "       [ 1.00000000e+00,  1.00000000e+00,  2.00000000e+00,\n",
       "         2.00000000e+00,  9.82411397e+04],\n",
       "       [-9.79572331e-16,  3.41354209e-15,  1.10000000e+01,\n",
       "         1.00000000e+00,  7.78269500e+04],\n",
       "       [ 2.00000000e+00, -5.68266350e-15,  4.90000000e+01,\n",
       "         4.30000000e+01,  1.29226266e+05],\n",
       "       [ 2.00000000e+00, -1.07515962e-15,  3.60000000e+01,\n",
       "         1.90000000e+01,  1.28103766e+05],\n",
       "       [ 2.00000000e+00, -4.44996105e-15,  3.90000000e+01,\n",
       "         3.80000000e+01,  1.20515494e+05],\n",
       "       [ 2.00000000e+00, -4.06912017e-15,  3.80000000e+01,\n",
       "         3.60000000e+01,  1.20518832e+05],\n",
       "       [ 2.00000000e+00,  1.00000000e+00,  2.00000000e+01,\n",
       "         2.00000000e+01,  1.24527078e+05],\n",
       "       [ 2.00000000e+00,  1.00000000e+00,  2.10000000e+01,\n",
       "         9.00000000e+00,  1.32102000e+05],\n",
       "       [ 2.00000000e+00, -1.06651373e-15,  2.20000000e+01,\n",
       "         2.20000000e+01,  1.10079254e+05],\n",
       "       [ 2.00000000e+00, -4.14394691e-15,  4.00000000e+01,\n",
       "         3.60000000e+01,  1.22843929e+05],\n",
       "       [ 2.00000000e+00,  1.00000000e+00,  4.20000000e+01,\n",
       "         2.50000000e+01,  1.47188435e+05],\n",
       "       [ 1.00000000e+00,  3.27246194e-15,  4.00000000e+00,\n",
       "         2.00000000e+00,  8.49592019e+04],\n",
       "       [ 2.00000000e+00, -2.92659754e-15,  3.50000000e+01,\n",
       "         3.00000000e+01,  1.20528844e+05],\n",
       "       [ 1.00000000e+00,  3.48158906e-15,  3.00000000e+00,\n",
       "         1.00000000e+00,  8.43795962e+04],\n",
       "       [ 2.00000000e+00,  1.00000000e+00,  1.30000000e+01,\n",
       "         1.20000000e+01,  1.21052781e+05],\n",
       "       [ 2.00000000e+00,  1.00000000e+00,  1.60000000e+01,\n",
       "         9.00000000e+00,  1.26289257e+05],\n",
       "       [ 2.00000000e+00,  1.00000000e+00,  3.40000000e+01,\n",
       "         2.00000000e+01,  1.40802760e+05],\n",
       "       [ 2.00000000e+00,  2.54429850e-16,  2.80000000e+01,\n",
       "         1.30000000e+01,  1.22301034e+05],\n",
       "       [ 1.00000000e+00,  1.00000000e+00,  7.00000000e+00,\n",
       "         4.00000000e+00,  1.02887997e+05],\n",
       "       [ 2.00000000e+00, -2.47092993e-15,  3.20000000e+01,\n",
       "         2.80000000e+01,  1.18207084e+05],\n",
       "       [ 2.00000000e+00, -3.13572466e-15,  3.60000000e+01,\n",
       "         3.10000000e+01,  1.21108449e+05],\n",
       "       [-1.14567091e-15,  1.00000000e+00,  2.80000000e+01,\n",
       "         2.80000000e+01,  9.74578518e+04],\n",
       "       [ 2.00000000e+00, -2.18697607e-15,  2.90000000e+01,\n",
       "         2.70000000e+01,  1.15302380e+05],\n",
       "       [-8.58006625e-16,  1.00000000e+00,  1.30000000e+01,\n",
       "         9.00000000e+00,  9.10955384e+04],\n",
       "       [ 2.00000000e+00,  1.28471237e-15,  2.80000000e+01,\n",
       "         7.00000000e+00,  1.25798692e+05],\n",
       "       [ 1.00000000e+00,  1.00000000e+00,  1.00000000e+01,\n",
       "         5.00000000e+00,  1.05792700e+05],\n",
       "       [-8.07045208e-16,  1.00000000e+00,  1.20000000e+01,\n",
       "         9.00000000e+00,  8.99329897e+04],\n",
       "       [ 2.00000000e+00,  1.00000000e+00,  1.60000000e+01,\n",
       "         1.60000000e+01,  1.22208656e+05]])"
      ]
     },
     "execution_count": 50,
     "metadata": {},
     "output_type": "execute_result"
    }
   ],
   "source": [
    "y_test_predict=lr.predict(x_test)\n",
    "y_test_predict"
   ]
  },
  {
   "cell_type": "code",
   "execution_count": 51,
   "id": "5d72dda2",
   "metadata": {},
   "outputs": [
    {
     "data": {
      "text/plain": [
       "0.8713542363244811"
      ]
     },
     "execution_count": 51,
     "metadata": {},
     "output_type": "execute_result"
    }
   ],
   "source": [
    "accuracy_test=r2_score(y_test, y_test_predict)\n",
    "accuracy_test"
   ]
  },
  {
   "cell_type": "markdown",
   "id": "f9efb0d2",
   "metadata": {},
   "source": [
    "checking underfitting and overfitting"
   ]
  },
  {
   "cell_type": "code",
   "execution_count": 52,
   "id": "e3cf8be3",
   "metadata": {},
   "outputs": [
    {
     "data": {
      "image/png": "[encoded data removed]",
      "text/plain": [
       "<Figure size 432x288 with 1 Axes>"
      ]
     },
     "metadata": {
      "needs_background": "light"
     },
     "output_type": "display_data"
    }
   ],
   "source": [
    "plt.scatter(x=y_test, y=y_test_predict)\n",
    "plt.xlabel('Actual salary')\n",
    "plt.ylabel('Predicted salary')\n",
    "plt.title('Linear Regression')\n",
    "plt.show()\n"
   ]
  },
  {
   "cell_type": "markdown",
   "id": "09b42fe9",
   "metadata": {},
   "source": [
    "regularization"
   ]
  },
  {
   "cell_type": "code",
   "execution_count": 53,
   "id": "8467efb5",
   "metadata": {},
   "outputs": [],
   "source": [
    "from sklearn.model_selection import GridSearchCV\n",
    "from sklearn.model_selection import cross_val_score\n",
    "\n",
    "import warnings\n",
    "warnings.filterwarnings('ignore')"
   ]
  },
  {
   "cell_type": "code",
   "execution_count": 54,
   "id": "8b53c756",
   "metadata": {},
   "outputs": [
    {
     "name": "stdout",
     "output_type": "stream",
     "text": [
      "{'alpha': 0.0001, 'random_state': 0}\n"
     ]
    }
   ],
   "source": [
    "from sklearn.linear_model import Lasso\n",
    "\n",
    "parameters= {'alpha':[0.0001,0.001,0.01,0.1,1,10],\n",
    "            'random_state':list(range(0,10))}\n",
    "\n",
    "ls=Lasso()\n",
    "clf=GridSearchCV(ls,parameters)\n",
    "clf.fit(x_train, y_train)\n",
    "print(clf.best_params_)"
   ]
  },
  {
   "cell_type": "markdown",
   "id": "a038f4cb",
   "metadata": {},
   "source": [
    "final model training after finding best alpha"
   ]
  },
  {
   "cell_type": "code",
   "execution_count": 55,
   "id": "bbaa466b",
   "metadata": {},
   "outputs": [
    {
     "data": {
      "text/plain": [
       "87.56573380191028"
      ]
     },
     "execution_count": 55,
     "metadata": {},
     "output_type": "execute_result"
    }
   ],
   "source": [
    "ls=Lasso(alpha=0.0001, random_state=0)\n",
    "ls.fit(x_train, y_train)\n",
    "ls_score_training=ls.score(x_train, y_train)\n",
    "pred_ls=ls.predict(x_test)\n",
    "ls_score_training *100"
   ]
  },
  {
   "cell_type": "code",
   "execution_count": 56,
   "id": "be7162de",
   "metadata": {},
   "outputs": [
    {
     "data": {
      "text/plain": [
       "86.93872611687262"
      ]
     },
     "execution_count": 56,
     "metadata": {},
     "output_type": "execute_result"
    }
   ],
   "source": [
    "lss=r2_score(y_test, pred_ls)\n",
    "lss*100"
   ]
  },
  {
   "cell_type": "code",
   "execution_count": 57,
   "id": "96f7a3ea",
   "metadata": {},
   "outputs": [],
   "source": [
    "import pickle\n",
    "filename='salary.pkl'\n",
    "pickle.dump(lr, open(filename,'wb'))"
   ]
  },
  {
   "cell_type": "code",
   "execution_count": 58,
   "id": "41b02ffd",
   "metadata": {},
   "outputs": [
    {
     "name": "stdout",
     "output_type": "stream",
     "text": [
      "87.13542363244811\n"
     ]
    }
   ],
   "source": [
    "loaded_model=pickle.load(open('salary.pkl', 'rb'))\n",
    "result=loaded_model.score(x_test, y_test)\n",
    "print(result*100)"
   ]
  },
  {
   "cell_type": "code",
   "execution_count": null,
   "id": "dcd57929",
   "metadata": {},
   "outputs": [],
   "source": [
    "           "
   ]
  },
  {
   "cell_type": "code",
   "execution_count": null,
   "id": "8bd3d3aa",
   "metadata": {},
   "outputs": [],
   "source": []
  }
 ],
 "metadata": {
  "kernelspec": {
   "display_name": "Python 3 (ipykernel)",
   "language": "python",
   "name": "python3"
  },
  "language_info": {
   "codemirror_mode": {
    "name": "ipython",
    "version": 3
   },
   "file_extension": ".py",
   "mimetype": "text/x-python",
   "name": "python",
   "nbconvert_exporter": "python",
   "pygments_lexer": "ipython3",
   "version": "3.9.12"
  }
 },
 "nbformat": 4,
 "nbformat_minor": 5
}
