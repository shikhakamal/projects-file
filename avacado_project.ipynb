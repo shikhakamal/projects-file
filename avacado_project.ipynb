{
 "cells": [
  {
   "cell_type": "code",
   "execution_count": 1,
   "id": "310d8711",
   "metadata": {},
   "outputs": [],
   "source": [
    "import pandas as pd\n",
    "import numpy as np\n",
    "\n",
    "import warnings\n",
    "warnings.filterwarnings('ignore')"
   ]
  },
  {
   "cell_type": "code",
   "execution_count": 2,
   "id": "4d685bf5",
   "metadata": {},
   "outputs": [
    {
     "data": {
      "text/html": [
       "<div>\n",
       "<style scoped>\n",
       "    .dataframe tbody tr th:only-of-type {\n",
       "        vertical-align: middle;\n",
       "    }\n",
       "\n",
       "    .dataframe tbody tr th {\n",
       "        vertical-align: top;\n",
       "    }\n",
       "\n",
       "    .dataframe thead th {\n",
       "        text-align: right;\n",
       "    }\n",
       "</style>\n",
       "<table border=\"1\" class=\"dataframe\">\n",
       "  <thead>\n",
       "    <tr style=\"text-align: right;\">\n",
       "      <th></th>\n",
       "      <th>Unnamed: 0</th>\n",
       "      <th>Date</th>\n",
       "      <th>AveragePrice</th>\n",
       "      <th>Total Volume</th>\n",
       "      <th>4046</th>\n",
       "      <th>4225</th>\n",
       "      <th>4770</th>\n",
       "      <th>Total Bags</th>\n",
       "      <th>Small Bags</th>\n",
       "      <th>Large Bags</th>\n",
       "      <th>XLarge Bags</th>\n",
       "      <th>type</th>\n",
       "      <th>year</th>\n",
       "      <th>region</th>\n",
       "    </tr>\n",
       "  </thead>\n",
       "  <tbody>\n",
       "    <tr>\n",
       "      <th>0</th>\n",
       "      <td>0</td>\n",
       "      <td>2015-12-27</td>\n",
       "      <td>1.33</td>\n",
       "      <td>64236.62</td>\n",
       "      <td>1036.74</td>\n",
       "      <td>54454.85</td>\n",
       "      <td>48.16</td>\n",
       "      <td>8696.87</td>\n",
       "      <td>8603.62</td>\n",
       "      <td>93.25</td>\n",
       "      <td>0.0</td>\n",
       "      <td>conventional</td>\n",
       "      <td>2015</td>\n",
       "      <td>Albany</td>\n",
       "    </tr>\n",
       "    <tr>\n",
       "      <th>1</th>\n",
       "      <td>1</td>\n",
       "      <td>2015-12-20</td>\n",
       "      <td>1.35</td>\n",
       "      <td>54876.98</td>\n",
       "      <td>674.28</td>\n",
       "      <td>44638.81</td>\n",
       "      <td>58.33</td>\n",
       "      <td>9505.56</td>\n",
       "      <td>9408.07</td>\n",
       "      <td>97.49</td>\n",
       "      <td>0.0</td>\n",
       "      <td>conventional</td>\n",
       "      <td>2015</td>\n",
       "      <td>Albany</td>\n",
       "    </tr>\n",
       "    <tr>\n",
       "      <th>2</th>\n",
       "      <td>2</td>\n",
       "      <td>2015-12-13</td>\n",
       "      <td>0.93</td>\n",
       "      <td>118220.22</td>\n",
       "      <td>794.70</td>\n",
       "      <td>109149.67</td>\n",
       "      <td>130.50</td>\n",
       "      <td>8145.35</td>\n",
       "      <td>8042.21</td>\n",
       "      <td>103.14</td>\n",
       "      <td>0.0</td>\n",
       "      <td>conventional</td>\n",
       "      <td>2015</td>\n",
       "      <td>Albany</td>\n",
       "    </tr>\n",
       "    <tr>\n",
       "      <th>3</th>\n",
       "      <td>3</td>\n",
       "      <td>2015-12-06</td>\n",
       "      <td>1.08</td>\n",
       "      <td>78992.15</td>\n",
       "      <td>1132.00</td>\n",
       "      <td>71976.41</td>\n",
       "      <td>72.58</td>\n",
       "      <td>5811.16</td>\n",
       "      <td>5677.40</td>\n",
       "      <td>133.76</td>\n",
       "      <td>0.0</td>\n",
       "      <td>conventional</td>\n",
       "      <td>2015</td>\n",
       "      <td>Albany</td>\n",
       "    </tr>\n",
       "    <tr>\n",
       "      <th>4</th>\n",
       "      <td>4</td>\n",
       "      <td>2015-11-29</td>\n",
       "      <td>1.28</td>\n",
       "      <td>51039.60</td>\n",
       "      <td>941.48</td>\n",
       "      <td>43838.39</td>\n",
       "      <td>75.78</td>\n",
       "      <td>6183.95</td>\n",
       "      <td>5986.26</td>\n",
       "      <td>197.69</td>\n",
       "      <td>0.0</td>\n",
       "      <td>conventional</td>\n",
       "      <td>2015</td>\n",
       "      <td>Albany</td>\n",
       "    </tr>\n",
       "    <tr>\n",
       "      <th>...</th>\n",
       "      <td>...</td>\n",
       "      <td>...</td>\n",
       "      <td>...</td>\n",
       "      <td>...</td>\n",
       "      <td>...</td>\n",
       "      <td>...</td>\n",
       "      <td>...</td>\n",
       "      <td>...</td>\n",
       "      <td>...</td>\n",
       "      <td>...</td>\n",
       "      <td>...</td>\n",
       "      <td>...</td>\n",
       "      <td>...</td>\n",
       "      <td>...</td>\n",
       "    </tr>\n",
       "    <tr>\n",
       "      <th>18244</th>\n",
       "      <td>7</td>\n",
       "      <td>2018-02-04</td>\n",
       "      <td>1.63</td>\n",
       "      <td>17074.83</td>\n",
       "      <td>2046.96</td>\n",
       "      <td>1529.20</td>\n",
       "      <td>0.00</td>\n",
       "      <td>13498.67</td>\n",
       "      <td>13066.82</td>\n",
       "      <td>431.85</td>\n",
       "      <td>0.0</td>\n",
       "      <td>organic</td>\n",
       "      <td>2018</td>\n",
       "      <td>WestTexNewMexico</td>\n",
       "    </tr>\n",
       "    <tr>\n",
       "      <th>18245</th>\n",
       "      <td>8</td>\n",
       "      <td>2018-01-28</td>\n",
       "      <td>1.71</td>\n",
       "      <td>13888.04</td>\n",
       "      <td>1191.70</td>\n",
       "      <td>3431.50</td>\n",
       "      <td>0.00</td>\n",
       "      <td>9264.84</td>\n",
       "      <td>8940.04</td>\n",
       "      <td>324.80</td>\n",
       "      <td>0.0</td>\n",
       "      <td>organic</td>\n",
       "      <td>2018</td>\n",
       "      <td>WestTexNewMexico</td>\n",
       "    </tr>\n",
       "    <tr>\n",
       "      <th>18246</th>\n",
       "      <td>9</td>\n",
       "      <td>2018-01-21</td>\n",
       "      <td>1.87</td>\n",
       "      <td>13766.76</td>\n",
       "      <td>1191.92</td>\n",
       "      <td>2452.79</td>\n",
       "      <td>727.94</td>\n",
       "      <td>9394.11</td>\n",
       "      <td>9351.80</td>\n",
       "      <td>42.31</td>\n",
       "      <td>0.0</td>\n",
       "      <td>organic</td>\n",
       "      <td>2018</td>\n",
       "      <td>WestTexNewMexico</td>\n",
       "    </tr>\n",
       "    <tr>\n",
       "      <th>18247</th>\n",
       "      <td>10</td>\n",
       "      <td>2018-01-14</td>\n",
       "      <td>1.93</td>\n",
       "      <td>16205.22</td>\n",
       "      <td>1527.63</td>\n",
       "      <td>2981.04</td>\n",
       "      <td>727.01</td>\n",
       "      <td>10969.54</td>\n",
       "      <td>10919.54</td>\n",
       "      <td>50.00</td>\n",
       "      <td>0.0</td>\n",
       "      <td>organic</td>\n",
       "      <td>2018</td>\n",
       "      <td>WestTexNewMexico</td>\n",
       "    </tr>\n",
       "    <tr>\n",
       "      <th>18248</th>\n",
       "      <td>11</td>\n",
       "      <td>2018-01-07</td>\n",
       "      <td>1.62</td>\n",
       "      <td>17489.58</td>\n",
       "      <td>2894.77</td>\n",
       "      <td>2356.13</td>\n",
       "      <td>224.53</td>\n",
       "      <td>12014.15</td>\n",
       "      <td>11988.14</td>\n",
       "      <td>26.01</td>\n",
       "      <td>0.0</td>\n",
       "      <td>organic</td>\n",
       "      <td>2018</td>\n",
       "      <td>WestTexNewMexico</td>\n",
       "    </tr>\n",
       "  </tbody>\n",
       "</table>\n",
       "<p>18249 rows × 14 columns</p>\n",
       "</div>"
      ],
      "text/plain": [
       "       Unnamed: 0        Date  AveragePrice  Total Volume     4046       4225  \\\n",
       "0               0  2015-12-27          1.33      64236.62  1036.74   54454.85   \n",
       "1               1  2015-12-20          1.35      54876.98   674.28   44638.81   \n",
       "2               2  2015-12-13          0.93     118220.22   794.70  109149.67   \n",
       "3               3  2015-12-06          1.08      78992.15  1132.00   71976.41   \n",
       "4               4  2015-11-29          1.28      51039.60   941.48   43838.39   \n",
       "...           ...         ...           ...           ...      ...        ...   \n",
       "18244           7  2018-02-04          1.63      17074.83  2046.96    1529.20   \n",
       "18245           8  2018-01-28          1.71      13888.04  1191.70    3431.50   \n",
       "18246           9  2018-01-21          1.87      13766.76  1191.92    2452.79   \n",
       "18247          10  2018-01-14          1.93      16205.22  1527.63    2981.04   \n",
       "18248          11  2018-01-07          1.62      17489.58  2894.77    2356.13   \n",
       "\n",
       "         4770  Total Bags  Small Bags  Large Bags  XLarge Bags          type  \\\n",
       "0       48.16     8696.87     8603.62       93.25          0.0  conventional   \n",
       "1       58.33     9505.56     9408.07       97.49          0.0  conventional   \n",
       "2      130.50     8145.35     8042.21      103.14          0.0  conventional   \n",
       "3       72.58     5811.16     5677.40      133.76          0.0  conventional   \n",
       "4       75.78     6183.95     5986.26      197.69          0.0  conventional   \n",
       "...       ...         ...         ...         ...          ...           ...   \n",
       "18244    0.00    13498.67    13066.82      431.85          0.0       organic   \n",
       "18245    0.00     9264.84     8940.04      324.80          0.0       organic   \n",
       "18246  727.94     9394.11     9351.80       42.31          0.0       organic   \n",
       "18247  727.01    10969.54    10919.54       50.00          0.0       organic   \n",
       "18248  224.53    12014.15    11988.14       26.01          0.0       organic   \n",
       "\n",
       "       year            region  \n",
       "0      2015            Albany  \n",
       "1      2015            Albany  \n",
       "2      2015            Albany  \n",
       "3      2015            Albany  \n",
       "4      2015            Albany  \n",
       "...     ...               ...  \n",
       "18244  2018  WestTexNewMexico  \n",
       "18245  2018  WestTexNewMexico  \n",
       "18246  2018  WestTexNewMexico  \n",
       "18247  2018  WestTexNewMexico  \n",
       "18248  2018  WestTexNewMexico  \n",
       "\n",
       "[18249 rows x 14 columns]"
      ]
     },
     "execution_count": 2,
     "metadata": {},
     "output_type": "execute_result"
    }
   ],
   "source": [
    "df=pd.read_csv(r'avocado.csv')\n",
    "df"
   ]
  },
  {
   "cell_type": "code",
   "execution_count": 3,
   "id": "616497a4",
   "metadata": {},
   "outputs": [],
   "source": [
    "df.drop('Unnamed: 0', axis=1, inplace=True)"
   ]
  },
  {
   "cell_type": "code",
   "execution_count": 4,
   "id": "b199c3df",
   "metadata": {},
   "outputs": [
    {
     "data": {
      "text/html": [
       "<div>\n",
       "<style scoped>\n",
       "    .dataframe tbody tr th:only-of-type {\n",
       "        vertical-align: middle;\n",
       "    }\n",
       "\n",
       "    .dataframe tbody tr th {\n",
       "        vertical-align: top;\n",
       "    }\n",
       "\n",
       "    .dataframe thead th {\n",
       "        text-align: right;\n",
       "    }\n",
       "</style>\n",
       "<table border=\"1\" class=\"dataframe\">\n",
       "  <thead>\n",
       "    <tr style=\"text-align: right;\">\n",
       "      <th></th>\n",
       "      <th>Date</th>\n",
       "      <th>AveragePrice</th>\n",
       "      <th>Total Volume</th>\n",
       "      <th>4046</th>\n",
       "      <th>4225</th>\n",
       "      <th>4770</th>\n",
       "      <th>Total Bags</th>\n",
       "      <th>Small Bags</th>\n",
       "      <th>Large Bags</th>\n",
       "      <th>XLarge Bags</th>\n",
       "      <th>type</th>\n",
       "      <th>year</th>\n",
       "      <th>region</th>\n",
       "    </tr>\n",
       "  </thead>\n",
       "  <tbody>\n",
       "    <tr>\n",
       "      <th>0</th>\n",
       "      <td>2015-12-27</td>\n",
       "      <td>1.33</td>\n",
       "      <td>64236.62</td>\n",
       "      <td>1036.74</td>\n",
       "      <td>54454.85</td>\n",
       "      <td>48.16</td>\n",
       "      <td>8696.87</td>\n",
       "      <td>8603.62</td>\n",
       "      <td>93.25</td>\n",
       "      <td>0.0</td>\n",
       "      <td>conventional</td>\n",
       "      <td>2015</td>\n",
       "      <td>Albany</td>\n",
       "    </tr>\n",
       "    <tr>\n",
       "      <th>1</th>\n",
       "      <td>2015-12-20</td>\n",
       "      <td>1.35</td>\n",
       "      <td>54876.98</td>\n",
       "      <td>674.28</td>\n",
       "      <td>44638.81</td>\n",
       "      <td>58.33</td>\n",
       "      <td>9505.56</td>\n",
       "      <td>9408.07</td>\n",
       "      <td>97.49</td>\n",
       "      <td>0.0</td>\n",
       "      <td>conventional</td>\n",
       "      <td>2015</td>\n",
       "      <td>Albany</td>\n",
       "    </tr>\n",
       "    <tr>\n",
       "      <th>2</th>\n",
       "      <td>2015-12-13</td>\n",
       "      <td>0.93</td>\n",
       "      <td>118220.22</td>\n",
       "      <td>794.70</td>\n",
       "      <td>109149.67</td>\n",
       "      <td>130.50</td>\n",
       "      <td>8145.35</td>\n",
       "      <td>8042.21</td>\n",
       "      <td>103.14</td>\n",
       "      <td>0.0</td>\n",
       "      <td>conventional</td>\n",
       "      <td>2015</td>\n",
       "      <td>Albany</td>\n",
       "    </tr>\n",
       "    <tr>\n",
       "      <th>3</th>\n",
       "      <td>2015-12-06</td>\n",
       "      <td>1.08</td>\n",
       "      <td>78992.15</td>\n",
       "      <td>1132.00</td>\n",
       "      <td>71976.41</td>\n",
       "      <td>72.58</td>\n",
       "      <td>5811.16</td>\n",
       "      <td>5677.40</td>\n",
       "      <td>133.76</td>\n",
       "      <td>0.0</td>\n",
       "      <td>conventional</td>\n",
       "      <td>2015</td>\n",
       "      <td>Albany</td>\n",
       "    </tr>\n",
       "    <tr>\n",
       "      <th>4</th>\n",
       "      <td>2015-11-29</td>\n",
       "      <td>1.28</td>\n",
       "      <td>51039.60</td>\n",
       "      <td>941.48</td>\n",
       "      <td>43838.39</td>\n",
       "      <td>75.78</td>\n",
       "      <td>6183.95</td>\n",
       "      <td>5986.26</td>\n",
       "      <td>197.69</td>\n",
       "      <td>0.0</td>\n",
       "      <td>conventional</td>\n",
       "      <td>2015</td>\n",
       "      <td>Albany</td>\n",
       "    </tr>\n",
       "    <tr>\n",
       "      <th>...</th>\n",
       "      <td>...</td>\n",
       "      <td>...</td>\n",
       "      <td>...</td>\n",
       "      <td>...</td>\n",
       "      <td>...</td>\n",
       "      <td>...</td>\n",
       "      <td>...</td>\n",
       "      <td>...</td>\n",
       "      <td>...</td>\n",
       "      <td>...</td>\n",
       "      <td>...</td>\n",
       "      <td>...</td>\n",
       "      <td>...</td>\n",
       "    </tr>\n",
       "    <tr>\n",
       "      <th>18244</th>\n",
       "      <td>2018-02-04</td>\n",
       "      <td>1.63</td>\n",
       "      <td>17074.83</td>\n",
       "      <td>2046.96</td>\n",
       "      <td>1529.20</td>\n",
       "      <td>0.00</td>\n",
       "      <td>13498.67</td>\n",
       "      <td>13066.82</td>\n",
       "      <td>431.85</td>\n",
       "      <td>0.0</td>\n",
       "      <td>organic</td>\n",
       "      <td>2018</td>\n",
       "      <td>WestTexNewMexico</td>\n",
       "    </tr>\n",
       "    <tr>\n",
       "      <th>18245</th>\n",
       "      <td>2018-01-28</td>\n",
       "      <td>1.71</td>\n",
       "      <td>13888.04</td>\n",
       "      <td>1191.70</td>\n",
       "      <td>3431.50</td>\n",
       "      <td>0.00</td>\n",
       "      <td>9264.84</td>\n",
       "      <td>8940.04</td>\n",
       "      <td>324.80</td>\n",
       "      <td>0.0</td>\n",
       "      <td>organic</td>\n",
       "      <td>2018</td>\n",
       "      <td>WestTexNewMexico</td>\n",
       "    </tr>\n",
       "    <tr>\n",
       "      <th>18246</th>\n",
       "      <td>2018-01-21</td>\n",
       "      <td>1.87</td>\n",
       "      <td>13766.76</td>\n",
       "      <td>1191.92</td>\n",
       "      <td>2452.79</td>\n",
       "      <td>727.94</td>\n",
       "      <td>9394.11</td>\n",
       "      <td>9351.80</td>\n",
       "      <td>42.31</td>\n",
       "      <td>0.0</td>\n",
       "      <td>organic</td>\n",
       "      <td>2018</td>\n",
       "      <td>WestTexNewMexico</td>\n",
       "    </tr>\n",
       "    <tr>\n",
       "      <th>18247</th>\n",
       "      <td>2018-01-14</td>\n",
       "      <td>1.93</td>\n",
       "      <td>16205.22</td>\n",
       "      <td>1527.63</td>\n",
       "      <td>2981.04</td>\n",
       "      <td>727.01</td>\n",
       "      <td>10969.54</td>\n",
       "      <td>10919.54</td>\n",
       "      <td>50.00</td>\n",
       "      <td>0.0</td>\n",
       "      <td>organic</td>\n",
       "      <td>2018</td>\n",
       "      <td>WestTexNewMexico</td>\n",
       "    </tr>\n",
       "    <tr>\n",
       "      <th>18248</th>\n",
       "      <td>2018-01-07</td>\n",
       "      <td>1.62</td>\n",
       "      <td>17489.58</td>\n",
       "      <td>2894.77</td>\n",
       "      <td>2356.13</td>\n",
       "      <td>224.53</td>\n",
       "      <td>12014.15</td>\n",
       "      <td>11988.14</td>\n",
       "      <td>26.01</td>\n",
       "      <td>0.0</td>\n",
       "      <td>organic</td>\n",
       "      <td>2018</td>\n",
       "      <td>WestTexNewMexico</td>\n",
       "    </tr>\n",
       "  </tbody>\n",
       "</table>\n",
       "<p>18249 rows × 13 columns</p>\n",
       "</div>"
      ],
      "text/plain": [
       "             Date  AveragePrice  Total Volume     4046       4225    4770  \\\n",
       "0      2015-12-27          1.33      64236.62  1036.74   54454.85   48.16   \n",
       "1      2015-12-20          1.35      54876.98   674.28   44638.81   58.33   \n",
       "2      2015-12-13          0.93     118220.22   794.70  109149.67  130.50   \n",
       "3      2015-12-06          1.08      78992.15  1132.00   71976.41   72.58   \n",
       "4      2015-11-29          1.28      51039.60   941.48   43838.39   75.78   \n",
       "...           ...           ...           ...      ...        ...     ...   \n",
       "18244  2018-02-04          1.63      17074.83  2046.96    1529.20    0.00   \n",
       "18245  2018-01-28          1.71      13888.04  1191.70    3431.50    0.00   \n",
       "18246  2018-01-21          1.87      13766.76  1191.92    2452.79  727.94   \n",
       "18247  2018-01-14          1.93      16205.22  1527.63    2981.04  727.01   \n",
       "18248  2018-01-07          1.62      17489.58  2894.77    2356.13  224.53   \n",
       "\n",
       "       Total Bags  Small Bags  Large Bags  XLarge Bags          type  year  \\\n",
       "0         8696.87     8603.62       93.25          0.0  conventional  2015   \n",
       "1         9505.56     9408.07       97.49          0.0  conventional  2015   \n",
       "2         8145.35     8042.21      103.14          0.0  conventional  2015   \n",
       "3         5811.16     5677.40      133.76          0.0  conventional  2015   \n",
       "4         6183.95     5986.26      197.69          0.0  conventional  2015   \n",
       "...           ...         ...         ...          ...           ...   ...   \n",
       "18244    13498.67    13066.82      431.85          0.0       organic  2018   \n",
       "18245     9264.84     8940.04      324.80          0.0       organic  2018   \n",
       "18246     9394.11     9351.80       42.31          0.0       organic  2018   \n",
       "18247    10969.54    10919.54       50.00          0.0       organic  2018   \n",
       "18248    12014.15    11988.14       26.01          0.0       organic  2018   \n",
       "\n",
       "                 region  \n",
       "0                Albany  \n",
       "1                Albany  \n",
       "2                Albany  \n",
       "3                Albany  \n",
       "4                Albany  \n",
       "...                 ...  \n",
       "18244  WestTexNewMexico  \n",
       "18245  WestTexNewMexico  \n",
       "18246  WestTexNewMexico  \n",
       "18247  WestTexNewMexico  \n",
       "18248  WestTexNewMexico  \n",
       "\n",
       "[18249 rows x 13 columns]"
      ]
     },
     "execution_count": 4,
     "metadata": {},
     "output_type": "execute_result"
    }
   ],
   "source": [
    "df"
   ]
  },
  {
   "cell_type": "markdown",
   "id": "b093effb",
   "metadata": {},
   "source": [
    "dropping the unnamed 0 column as it is only the index, it is not affecting any of the column data sets values. so dropped it permanently."
   ]
  },
  {
   "cell_type": "code",
   "execution_count": 5,
   "id": "ebc571df",
   "metadata": {},
   "outputs": [
    {
     "data": {
      "text/html": [
       "<div>\n",
       "<style scoped>\n",
       "    .dataframe tbody tr th:only-of-type {\n",
       "        vertical-align: middle;\n",
       "    }\n",
       "\n",
       "    .dataframe tbody tr th {\n",
       "        vertical-align: top;\n",
       "    }\n",
       "\n",
       "    .dataframe thead th {\n",
       "        text-align: right;\n",
       "    }\n",
       "</style>\n",
       "<table border=\"1\" class=\"dataframe\">\n",
       "  <thead>\n",
       "    <tr style=\"text-align: right;\">\n",
       "      <th></th>\n",
       "      <th>Date</th>\n",
       "      <th>AveragePrice</th>\n",
       "      <th>Total Volume</th>\n",
       "      <th>4046</th>\n",
       "      <th>4225</th>\n",
       "      <th>4770</th>\n",
       "      <th>Total Bags</th>\n",
       "      <th>Small Bags</th>\n",
       "      <th>Large Bags</th>\n",
       "      <th>XLarge Bags</th>\n",
       "      <th>type</th>\n",
       "      <th>year</th>\n",
       "      <th>region</th>\n",
       "    </tr>\n",
       "  </thead>\n",
       "  <tbody>\n",
       "    <tr>\n",
       "      <th>0</th>\n",
       "      <td>2015-12-27</td>\n",
       "      <td>1.33</td>\n",
       "      <td>64236.62</td>\n",
       "      <td>1036.74</td>\n",
       "      <td>54454.85</td>\n",
       "      <td>48.16</td>\n",
       "      <td>8696.87</td>\n",
       "      <td>8603.62</td>\n",
       "      <td>93.25</td>\n",
       "      <td>0.0</td>\n",
       "      <td>conventional</td>\n",
       "      <td>2015</td>\n",
       "      <td>Albany</td>\n",
       "    </tr>\n",
       "    <tr>\n",
       "      <th>1</th>\n",
       "      <td>2015-12-20</td>\n",
       "      <td>1.35</td>\n",
       "      <td>54876.98</td>\n",
       "      <td>674.28</td>\n",
       "      <td>44638.81</td>\n",
       "      <td>58.33</td>\n",
       "      <td>9505.56</td>\n",
       "      <td>9408.07</td>\n",
       "      <td>97.49</td>\n",
       "      <td>0.0</td>\n",
       "      <td>conventional</td>\n",
       "      <td>2015</td>\n",
       "      <td>Albany</td>\n",
       "    </tr>\n",
       "    <tr>\n",
       "      <th>2</th>\n",
       "      <td>2015-12-13</td>\n",
       "      <td>0.93</td>\n",
       "      <td>118220.22</td>\n",
       "      <td>794.70</td>\n",
       "      <td>109149.67</td>\n",
       "      <td>130.50</td>\n",
       "      <td>8145.35</td>\n",
       "      <td>8042.21</td>\n",
       "      <td>103.14</td>\n",
       "      <td>0.0</td>\n",
       "      <td>conventional</td>\n",
       "      <td>2015</td>\n",
       "      <td>Albany</td>\n",
       "    </tr>\n",
       "    <tr>\n",
       "      <th>3</th>\n",
       "      <td>2015-12-06</td>\n",
       "      <td>1.08</td>\n",
       "      <td>78992.15</td>\n",
       "      <td>1132.00</td>\n",
       "      <td>71976.41</td>\n",
       "      <td>72.58</td>\n",
       "      <td>5811.16</td>\n",
       "      <td>5677.40</td>\n",
       "      <td>133.76</td>\n",
       "      <td>0.0</td>\n",
       "      <td>conventional</td>\n",
       "      <td>2015</td>\n",
       "      <td>Albany</td>\n",
       "    </tr>\n",
       "    <tr>\n",
       "      <th>4</th>\n",
       "      <td>2015-11-29</td>\n",
       "      <td>1.28</td>\n",
       "      <td>51039.60</td>\n",
       "      <td>941.48</td>\n",
       "      <td>43838.39</td>\n",
       "      <td>75.78</td>\n",
       "      <td>6183.95</td>\n",
       "      <td>5986.26</td>\n",
       "      <td>197.69</td>\n",
       "      <td>0.0</td>\n",
       "      <td>conventional</td>\n",
       "      <td>2015</td>\n",
       "      <td>Albany</td>\n",
       "    </tr>\n",
       "  </tbody>\n",
       "</table>\n",
       "</div>"
      ],
      "text/plain": [
       "         Date  AveragePrice  Total Volume     4046       4225    4770  \\\n",
       "0  2015-12-27          1.33      64236.62  1036.74   54454.85   48.16   \n",
       "1  2015-12-20          1.35      54876.98   674.28   44638.81   58.33   \n",
       "2  2015-12-13          0.93     118220.22   794.70  109149.67  130.50   \n",
       "3  2015-12-06          1.08      78992.15  1132.00   71976.41   72.58   \n",
       "4  2015-11-29          1.28      51039.60   941.48   43838.39   75.78   \n",
       "\n",
       "   Total Bags  Small Bags  Large Bags  XLarge Bags          type  year  region  \n",
       "0     8696.87     8603.62       93.25          0.0  conventional  2015  Albany  \n",
       "1     9505.56     9408.07       97.49          0.0  conventional  2015  Albany  \n",
       "2     8145.35     8042.21      103.14          0.0  conventional  2015  Albany  \n",
       "3     5811.16     5677.40      133.76          0.0  conventional  2015  Albany  \n",
       "4     6183.95     5986.26      197.69          0.0  conventional  2015  Albany  "
      ]
     },
     "execution_count": 5,
     "metadata": {},
     "output_type": "execute_result"
    }
   ],
   "source": [
    "df.head()"
   ]
  },
  {
   "cell_type": "code",
   "execution_count": 6,
   "id": "83365d49",
   "metadata": {},
   "outputs": [
    {
     "data": {
      "text/html": [
       "<div>\n",
       "<style scoped>\n",
       "    .dataframe tbody tr th:only-of-type {\n",
       "        vertical-align: middle;\n",
       "    }\n",
       "\n",
       "    .dataframe tbody tr th {\n",
       "        vertical-align: top;\n",
       "    }\n",
       "\n",
       "    .dataframe thead th {\n",
       "        text-align: right;\n",
       "    }\n",
       "</style>\n",
       "<table border=\"1\" class=\"dataframe\">\n",
       "  <thead>\n",
       "    <tr style=\"text-align: right;\">\n",
       "      <th></th>\n",
       "      <th>Date</th>\n",
       "      <th>AveragePrice</th>\n",
       "      <th>Total Volume</th>\n",
       "      <th>4046</th>\n",
       "      <th>4225</th>\n",
       "      <th>4770</th>\n",
       "      <th>Total Bags</th>\n",
       "      <th>Small Bags</th>\n",
       "      <th>Large Bags</th>\n",
       "      <th>XLarge Bags</th>\n",
       "      <th>type</th>\n",
       "      <th>year</th>\n",
       "      <th>region</th>\n",
       "    </tr>\n",
       "  </thead>\n",
       "  <tbody>\n",
       "    <tr>\n",
       "      <th>0</th>\n",
       "      <td>2015-12-27</td>\n",
       "      <td>1.33</td>\n",
       "      <td>64236.62</td>\n",
       "      <td>1036.74</td>\n",
       "      <td>54454.85</td>\n",
       "      <td>48.16</td>\n",
       "      <td>8696.87</td>\n",
       "      <td>8603.62</td>\n",
       "      <td>93.25</td>\n",
       "      <td>0.0</td>\n",
       "      <td>conventional</td>\n",
       "      <td>2015</td>\n",
       "      <td>Albany</td>\n",
       "    </tr>\n",
       "    <tr>\n",
       "      <th>1</th>\n",
       "      <td>2015-12-20</td>\n",
       "      <td>1.35</td>\n",
       "      <td>54876.98</td>\n",
       "      <td>674.28</td>\n",
       "      <td>44638.81</td>\n",
       "      <td>58.33</td>\n",
       "      <td>9505.56</td>\n",
       "      <td>9408.07</td>\n",
       "      <td>97.49</td>\n",
       "      <td>0.0</td>\n",
       "      <td>conventional</td>\n",
       "      <td>2015</td>\n",
       "      <td>Albany</td>\n",
       "    </tr>\n",
       "    <tr>\n",
       "      <th>2</th>\n",
       "      <td>2015-12-13</td>\n",
       "      <td>0.93</td>\n",
       "      <td>118220.22</td>\n",
       "      <td>794.70</td>\n",
       "      <td>109149.67</td>\n",
       "      <td>130.50</td>\n",
       "      <td>8145.35</td>\n",
       "      <td>8042.21</td>\n",
       "      <td>103.14</td>\n",
       "      <td>0.0</td>\n",
       "      <td>conventional</td>\n",
       "      <td>2015</td>\n",
       "      <td>Albany</td>\n",
       "    </tr>\n",
       "    <tr>\n",
       "      <th>3</th>\n",
       "      <td>2015-12-06</td>\n",
       "      <td>1.08</td>\n",
       "      <td>78992.15</td>\n",
       "      <td>1132.00</td>\n",
       "      <td>71976.41</td>\n",
       "      <td>72.58</td>\n",
       "      <td>5811.16</td>\n",
       "      <td>5677.40</td>\n",
       "      <td>133.76</td>\n",
       "      <td>0.0</td>\n",
       "      <td>conventional</td>\n",
       "      <td>2015</td>\n",
       "      <td>Albany</td>\n",
       "    </tr>\n",
       "  </tbody>\n",
       "</table>\n",
       "</div>"
      ],
      "text/plain": [
       "         Date  AveragePrice  Total Volume     4046       4225    4770  \\\n",
       "0  2015-12-27          1.33      64236.62  1036.74   54454.85   48.16   \n",
       "1  2015-12-20          1.35      54876.98   674.28   44638.81   58.33   \n",
       "2  2015-12-13          0.93     118220.22   794.70  109149.67  130.50   \n",
       "3  2015-12-06          1.08      78992.15  1132.00   71976.41   72.58   \n",
       "\n",
       "   Total Bags  Small Bags  Large Bags  XLarge Bags          type  year  region  \n",
       "0     8696.87     8603.62       93.25          0.0  conventional  2015  Albany  \n",
       "1     9505.56     9408.07       97.49          0.0  conventional  2015  Albany  \n",
       "2     8145.35     8042.21      103.14          0.0  conventional  2015  Albany  \n",
       "3     5811.16     5677.40      133.76          0.0  conventional  2015  Albany  "
      ]
     },
     "execution_count": 6,
     "metadata": {},
     "output_type": "execute_result"
    }
   ],
   "source": [
    "df.head(4)"
   ]
  },
  {
   "cell_type": "code",
   "execution_count": 7,
   "id": "b0454b19",
   "metadata": {},
   "outputs": [
    {
     "data": {
      "text/html": [
       "<div>\n",
       "<style scoped>\n",
       "    .dataframe tbody tr th:only-of-type {\n",
       "        vertical-align: middle;\n",
       "    }\n",
       "\n",
       "    .dataframe tbody tr th {\n",
       "        vertical-align: top;\n",
       "    }\n",
       "\n",
       "    .dataframe thead th {\n",
       "        text-align: right;\n",
       "    }\n",
       "</style>\n",
       "<table border=\"1\" class=\"dataframe\">\n",
       "  <thead>\n",
       "    <tr style=\"text-align: right;\">\n",
       "      <th></th>\n",
       "      <th>Date</th>\n",
       "      <th>AveragePrice</th>\n",
       "      <th>Total Volume</th>\n",
       "      <th>4046</th>\n",
       "      <th>4225</th>\n",
       "      <th>4770</th>\n",
       "      <th>Total Bags</th>\n",
       "      <th>Small Bags</th>\n",
       "      <th>Large Bags</th>\n",
       "      <th>XLarge Bags</th>\n",
       "      <th>type</th>\n",
       "      <th>year</th>\n",
       "      <th>region</th>\n",
       "    </tr>\n",
       "  </thead>\n",
       "  <tbody>\n",
       "    <tr>\n",
       "      <th>18244</th>\n",
       "      <td>2018-02-04</td>\n",
       "      <td>1.63</td>\n",
       "      <td>17074.83</td>\n",
       "      <td>2046.96</td>\n",
       "      <td>1529.20</td>\n",
       "      <td>0.00</td>\n",
       "      <td>13498.67</td>\n",
       "      <td>13066.82</td>\n",
       "      <td>431.85</td>\n",
       "      <td>0.0</td>\n",
       "      <td>organic</td>\n",
       "      <td>2018</td>\n",
       "      <td>WestTexNewMexico</td>\n",
       "    </tr>\n",
       "    <tr>\n",
       "      <th>18245</th>\n",
       "      <td>2018-01-28</td>\n",
       "      <td>1.71</td>\n",
       "      <td>13888.04</td>\n",
       "      <td>1191.70</td>\n",
       "      <td>3431.50</td>\n",
       "      <td>0.00</td>\n",
       "      <td>9264.84</td>\n",
       "      <td>8940.04</td>\n",
       "      <td>324.80</td>\n",
       "      <td>0.0</td>\n",
       "      <td>organic</td>\n",
       "      <td>2018</td>\n",
       "      <td>WestTexNewMexico</td>\n",
       "    </tr>\n",
       "    <tr>\n",
       "      <th>18246</th>\n",
       "      <td>2018-01-21</td>\n",
       "      <td>1.87</td>\n",
       "      <td>13766.76</td>\n",
       "      <td>1191.92</td>\n",
       "      <td>2452.79</td>\n",
       "      <td>727.94</td>\n",
       "      <td>9394.11</td>\n",
       "      <td>9351.80</td>\n",
       "      <td>42.31</td>\n",
       "      <td>0.0</td>\n",
       "      <td>organic</td>\n",
       "      <td>2018</td>\n",
       "      <td>WestTexNewMexico</td>\n",
       "    </tr>\n",
       "    <tr>\n",
       "      <th>18247</th>\n",
       "      <td>2018-01-14</td>\n",
       "      <td>1.93</td>\n",
       "      <td>16205.22</td>\n",
       "      <td>1527.63</td>\n",
       "      <td>2981.04</td>\n",
       "      <td>727.01</td>\n",
       "      <td>10969.54</td>\n",
       "      <td>10919.54</td>\n",
       "      <td>50.00</td>\n",
       "      <td>0.0</td>\n",
       "      <td>organic</td>\n",
       "      <td>2018</td>\n",
       "      <td>WestTexNewMexico</td>\n",
       "    </tr>\n",
       "    <tr>\n",
       "      <th>18248</th>\n",
       "      <td>2018-01-07</td>\n",
       "      <td>1.62</td>\n",
       "      <td>17489.58</td>\n",
       "      <td>2894.77</td>\n",
       "      <td>2356.13</td>\n",
       "      <td>224.53</td>\n",
       "      <td>12014.15</td>\n",
       "      <td>11988.14</td>\n",
       "      <td>26.01</td>\n",
       "      <td>0.0</td>\n",
       "      <td>organic</td>\n",
       "      <td>2018</td>\n",
       "      <td>WestTexNewMexico</td>\n",
       "    </tr>\n",
       "  </tbody>\n",
       "</table>\n",
       "</div>"
      ],
      "text/plain": [
       "             Date  AveragePrice  Total Volume     4046     4225    4770  \\\n",
       "18244  2018-02-04          1.63      17074.83  2046.96  1529.20    0.00   \n",
       "18245  2018-01-28          1.71      13888.04  1191.70  3431.50    0.00   \n",
       "18246  2018-01-21          1.87      13766.76  1191.92  2452.79  727.94   \n",
       "18247  2018-01-14          1.93      16205.22  1527.63  2981.04  727.01   \n",
       "18248  2018-01-07          1.62      17489.58  2894.77  2356.13  224.53   \n",
       "\n",
       "       Total Bags  Small Bags  Large Bags  XLarge Bags     type  year  \\\n",
       "18244    13498.67    13066.82      431.85          0.0  organic  2018   \n",
       "18245     9264.84     8940.04      324.80          0.0  organic  2018   \n",
       "18246     9394.11     9351.80       42.31          0.0  organic  2018   \n",
       "18247    10969.54    10919.54       50.00          0.0  organic  2018   \n",
       "18248    12014.15    11988.14       26.01          0.0  organic  2018   \n",
       "\n",
       "                 region  \n",
       "18244  WestTexNewMexico  \n",
       "18245  WestTexNewMexico  \n",
       "18246  WestTexNewMexico  \n",
       "18247  WestTexNewMexico  \n",
       "18248  WestTexNewMexico  "
      ]
     },
     "execution_count": 7,
     "metadata": {},
     "output_type": "execute_result"
    }
   ],
   "source": [
    "df.tail()"
   ]
  },
  {
   "cell_type": "code",
   "execution_count": 8,
   "id": "a8240b33",
   "metadata": {},
   "outputs": [
    {
     "data": {
      "text/html": [
       "<div>\n",
       "<style scoped>\n",
       "    .dataframe tbody tr th:only-of-type {\n",
       "        vertical-align: middle;\n",
       "    }\n",
       "\n",
       "    .dataframe tbody tr th {\n",
       "        vertical-align: top;\n",
       "    }\n",
       "\n",
       "    .dataframe thead th {\n",
       "        text-align: right;\n",
       "    }\n",
       "</style>\n",
       "<table border=\"1\" class=\"dataframe\">\n",
       "  <thead>\n",
       "    <tr style=\"text-align: right;\">\n",
       "      <th></th>\n",
       "      <th>Date</th>\n",
       "      <th>AveragePrice</th>\n",
       "      <th>Total Volume</th>\n",
       "      <th>4046</th>\n",
       "      <th>4225</th>\n",
       "      <th>4770</th>\n",
       "      <th>Total Bags</th>\n",
       "      <th>Small Bags</th>\n",
       "      <th>Large Bags</th>\n",
       "      <th>XLarge Bags</th>\n",
       "      <th>type</th>\n",
       "      <th>year</th>\n",
       "      <th>region</th>\n",
       "    </tr>\n",
       "  </thead>\n",
       "  <tbody>\n",
       "    <tr>\n",
       "      <th>18246</th>\n",
       "      <td>2018-01-21</td>\n",
       "      <td>1.87</td>\n",
       "      <td>13766.76</td>\n",
       "      <td>1191.92</td>\n",
       "      <td>2452.79</td>\n",
       "      <td>727.94</td>\n",
       "      <td>9394.11</td>\n",
       "      <td>9351.80</td>\n",
       "      <td>42.31</td>\n",
       "      <td>0.0</td>\n",
       "      <td>organic</td>\n",
       "      <td>2018</td>\n",
       "      <td>WestTexNewMexico</td>\n",
       "    </tr>\n",
       "    <tr>\n",
       "      <th>18247</th>\n",
       "      <td>2018-01-14</td>\n",
       "      <td>1.93</td>\n",
       "      <td>16205.22</td>\n",
       "      <td>1527.63</td>\n",
       "      <td>2981.04</td>\n",
       "      <td>727.01</td>\n",
       "      <td>10969.54</td>\n",
       "      <td>10919.54</td>\n",
       "      <td>50.00</td>\n",
       "      <td>0.0</td>\n",
       "      <td>organic</td>\n",
       "      <td>2018</td>\n",
       "      <td>WestTexNewMexico</td>\n",
       "    </tr>\n",
       "    <tr>\n",
       "      <th>18248</th>\n",
       "      <td>2018-01-07</td>\n",
       "      <td>1.62</td>\n",
       "      <td>17489.58</td>\n",
       "      <td>2894.77</td>\n",
       "      <td>2356.13</td>\n",
       "      <td>224.53</td>\n",
       "      <td>12014.15</td>\n",
       "      <td>11988.14</td>\n",
       "      <td>26.01</td>\n",
       "      <td>0.0</td>\n",
       "      <td>organic</td>\n",
       "      <td>2018</td>\n",
       "      <td>WestTexNewMexico</td>\n",
       "    </tr>\n",
       "  </tbody>\n",
       "</table>\n",
       "</div>"
      ],
      "text/plain": [
       "             Date  AveragePrice  Total Volume     4046     4225    4770  \\\n",
       "18246  2018-01-21          1.87      13766.76  1191.92  2452.79  727.94   \n",
       "18247  2018-01-14          1.93      16205.22  1527.63  2981.04  727.01   \n",
       "18248  2018-01-07          1.62      17489.58  2894.77  2356.13  224.53   \n",
       "\n",
       "       Total Bags  Small Bags  Large Bags  XLarge Bags     type  year  \\\n",
       "18246     9394.11     9351.80       42.31          0.0  organic  2018   \n",
       "18247    10969.54    10919.54       50.00          0.0  organic  2018   \n",
       "18248    12014.15    11988.14       26.01          0.0  organic  2018   \n",
       "\n",
       "                 region  \n",
       "18246  WestTexNewMexico  \n",
       "18247  WestTexNewMexico  \n",
       "18248  WestTexNewMexico  "
      ]
     },
     "execution_count": 8,
     "metadata": {},
     "output_type": "execute_result"
    }
   ],
   "source": [
    "df.tail(3)"
   ]
  },
  {
   "cell_type": "code",
   "execution_count": 9,
   "id": "ac3b2b5b",
   "metadata": {},
   "outputs": [
    {
     "data": {
      "text/html": [
       "<div>\n",
       "<style scoped>\n",
       "    .dataframe tbody tr th:only-of-type {\n",
       "        vertical-align: middle;\n",
       "    }\n",
       "\n",
       "    .dataframe tbody tr th {\n",
       "        vertical-align: top;\n",
       "    }\n",
       "\n",
       "    .dataframe thead th {\n",
       "        text-align: right;\n",
       "    }\n",
       "</style>\n",
       "<table border=\"1\" class=\"dataframe\">\n",
       "  <thead>\n",
       "    <tr style=\"text-align: right;\">\n",
       "      <th></th>\n",
       "      <th>Date</th>\n",
       "      <th>AveragePrice</th>\n",
       "      <th>Total Volume</th>\n",
       "      <th>4046</th>\n",
       "      <th>4225</th>\n",
       "      <th>4770</th>\n",
       "      <th>Total Bags</th>\n",
       "      <th>Small Bags</th>\n",
       "      <th>Large Bags</th>\n",
       "      <th>XLarge Bags</th>\n",
       "      <th>type</th>\n",
       "      <th>year</th>\n",
       "      <th>region</th>\n",
       "    </tr>\n",
       "  </thead>\n",
       "  <tbody>\n",
       "    <tr>\n",
       "      <th>18220</th>\n",
       "      <td>2018-02-04</td>\n",
       "      <td>1.53</td>\n",
       "      <td>1384683.41</td>\n",
       "      <td>117922.52</td>\n",
       "      <td>287724.61</td>\n",
       "      <td>1703.52</td>\n",
       "      <td>977084.84</td>\n",
       "      <td>774695.74</td>\n",
       "      <td>201878.69</td>\n",
       "      <td>510.41</td>\n",
       "      <td>organic</td>\n",
       "      <td>2018</td>\n",
       "      <td>TotalUS</td>\n",
       "    </tr>\n",
       "  </tbody>\n",
       "</table>\n",
       "</div>"
      ],
      "text/plain": [
       "             Date  AveragePrice  Total Volume       4046       4225     4770  \\\n",
       "18220  2018-02-04          1.53    1384683.41  117922.52  287724.61  1703.52   \n",
       "\n",
       "       Total Bags  Small Bags  Large Bags  XLarge Bags     type  year   region  \n",
       "18220   977084.84   774695.74   201878.69       510.41  organic  2018  TotalUS  "
      ]
     },
     "execution_count": 9,
     "metadata": {},
     "output_type": "execute_result"
    }
   ],
   "source": [
    "df.sample()"
   ]
  },
  {
   "cell_type": "code",
   "execution_count": 10,
   "id": "9456529a",
   "metadata": {},
   "outputs": [
    {
     "data": {
      "text/html": [
       "<div>\n",
       "<style scoped>\n",
       "    .dataframe tbody tr th:only-of-type {\n",
       "        vertical-align: middle;\n",
       "    }\n",
       "\n",
       "    .dataframe tbody tr th {\n",
       "        vertical-align: top;\n",
       "    }\n",
       "\n",
       "    .dataframe thead th {\n",
       "        text-align: right;\n",
       "    }\n",
       "</style>\n",
       "<table border=\"1\" class=\"dataframe\">\n",
       "  <thead>\n",
       "    <tr style=\"text-align: right;\">\n",
       "      <th></th>\n",
       "      <th>Date</th>\n",
       "      <th>AveragePrice</th>\n",
       "      <th>Total Volume</th>\n",
       "      <th>4046</th>\n",
       "      <th>4225</th>\n",
       "      <th>4770</th>\n",
       "      <th>Total Bags</th>\n",
       "      <th>Small Bags</th>\n",
       "      <th>Large Bags</th>\n",
       "      <th>XLarge Bags</th>\n",
       "      <th>type</th>\n",
       "      <th>year</th>\n",
       "      <th>region</th>\n",
       "    </tr>\n",
       "  </thead>\n",
       "  <tbody>\n",
       "    <tr>\n",
       "      <th>10824</th>\n",
       "      <td>2015-05-03</td>\n",
       "      <td>1.85</td>\n",
       "      <td>5737.78</td>\n",
       "      <td>247.58</td>\n",
       "      <td>1531.18</td>\n",
       "      <td>18.86</td>\n",
       "      <td>3940.16</td>\n",
       "      <td>3940.16</td>\n",
       "      <td>0.00</td>\n",
       "      <td>0.00</td>\n",
       "      <td>organic</td>\n",
       "      <td>2015</td>\n",
       "      <td>Philadelphia</td>\n",
       "    </tr>\n",
       "    <tr>\n",
       "      <th>4948</th>\n",
       "      <td>2016-10-30</td>\n",
       "      <td>1.65</td>\n",
       "      <td>270941.97</td>\n",
       "      <td>88975.06</td>\n",
       "      <td>119080.04</td>\n",
       "      <td>14742.36</td>\n",
       "      <td>48144.51</td>\n",
       "      <td>41712.24</td>\n",
       "      <td>6337.00</td>\n",
       "      <td>95.27</td>\n",
       "      <td>conventional</td>\n",
       "      <td>2016</td>\n",
       "      <td>SanDiego</td>\n",
       "    </tr>\n",
       "    <tr>\n",
       "      <th>5010</th>\n",
       "      <td>2016-08-21</td>\n",
       "      <td>1.28</td>\n",
       "      <td>825338.15</td>\n",
       "      <td>311234.33</td>\n",
       "      <td>415962.15</td>\n",
       "      <td>24855.18</td>\n",
       "      <td>73286.49</td>\n",
       "      <td>70853.19</td>\n",
       "      <td>856.91</td>\n",
       "      <td>1576.39</td>\n",
       "      <td>conventional</td>\n",
       "      <td>2016</td>\n",
       "      <td>SanFrancisco</td>\n",
       "    </tr>\n",
       "    <tr>\n",
       "      <th>12186</th>\n",
       "      <td>2016-02-14</td>\n",
       "      <td>1.59</td>\n",
       "      <td>9526.60</td>\n",
       "      <td>9.60</td>\n",
       "      <td>711.45</td>\n",
       "      <td>0.00</td>\n",
       "      <td>8805.55</td>\n",
       "      <td>8456.29</td>\n",
       "      <td>349.26</td>\n",
       "      <td>0.00</td>\n",
       "      <td>organic</td>\n",
       "      <td>2016</td>\n",
       "      <td>Boston</td>\n",
       "    </tr>\n",
       "  </tbody>\n",
       "</table>\n",
       "</div>"
      ],
      "text/plain": [
       "             Date  AveragePrice  Total Volume       4046       4225      4770  \\\n",
       "10824  2015-05-03          1.85       5737.78     247.58    1531.18     18.86   \n",
       "4948   2016-10-30          1.65     270941.97   88975.06  119080.04  14742.36   \n",
       "5010   2016-08-21          1.28     825338.15  311234.33  415962.15  24855.18   \n",
       "12186  2016-02-14          1.59       9526.60       9.60     711.45      0.00   \n",
       "\n",
       "       Total Bags  Small Bags  Large Bags  XLarge Bags          type  year  \\\n",
       "10824     3940.16     3940.16        0.00         0.00       organic  2015   \n",
       "4948     48144.51    41712.24     6337.00        95.27  conventional  2016   \n",
       "5010     73286.49    70853.19      856.91      1576.39  conventional  2016   \n",
       "12186     8805.55     8456.29      349.26         0.00       organic  2016   \n",
       "\n",
       "             region  \n",
       "10824  Philadelphia  \n",
       "4948       SanDiego  \n",
       "5010   SanFrancisco  \n",
       "12186        Boston  "
      ]
     },
     "execution_count": 10,
     "metadata": {},
     "output_type": "execute_result"
    }
   ],
   "source": [
    "df.sample(4)"
   ]
  },
  {
   "cell_type": "code",
   "execution_count": 11,
   "id": "79078840",
   "metadata": {},
   "outputs": [
    {
     "name": "stdout",
     "output_type": "stream",
     "text": [
      "<class 'pandas.core.frame.DataFrame'>\n",
      "RangeIndex: 18249 entries, 0 to 18248\n",
      "Data columns (total 13 columns):\n",
      " #   Column        Non-Null Count  Dtype  \n",
      "---  ------        --------------  -----  \n",
      " 0   Date          18249 non-null  object \n",
      " 1   AveragePrice  18249 non-null  float64\n",
      " 2   Total Volume  18249 non-null  float64\n",
      " 3   4046          18249 non-null  float64\n",
      " 4   4225          18249 non-null  float64\n",
      " 5   4770          18249 non-null  float64\n",
      " 6   Total Bags    18249 non-null  float64\n",
      " 7   Small Bags    18249 non-null  float64\n",
      " 8   Large Bags    18249 non-null  float64\n",
      " 9   XLarge Bags   18249 non-null  float64\n",
      " 10  type          18249 non-null  object \n",
      " 11  year          18249 non-null  int64  \n",
      " 12  region        18249 non-null  object \n",
      "dtypes: float64(9), int64(1), object(3)\n",
      "memory usage: 1.8+ MB\n"
     ]
    }
   ],
   "source": [
    "df.info()"
   ]
  },
  {
   "cell_type": "markdown",
   "id": "4751a703",
   "metadata": {},
   "source": [
    "the info function indicate that most of the columns are numeric data type , only few of them are object type which indicate the string type.\n",
    "\n",
    "the every column of data sets showing non null value-- means no values are null"
   ]
  },
  {
   "cell_type": "code",
   "execution_count": 12,
   "id": "86d96977",
   "metadata": {},
   "outputs": [
    {
     "data": {
      "text/plain": [
       "Date             object\n",
       "AveragePrice    float64\n",
       "Total Volume    float64\n",
       "4046            float64\n",
       "4225            float64\n",
       "4770            float64\n",
       "Total Bags      float64\n",
       "Small Bags      float64\n",
       "Large Bags      float64\n",
       "XLarge Bags     float64\n",
       "type             object\n",
       "year              int64\n",
       "region           object\n",
       "dtype: object"
      ]
     },
     "execution_count": 12,
     "metadata": {},
     "output_type": "execute_result"
    }
   ],
   "source": [
    "df.dtypes"
   ]
  },
  {
   "cell_type": "code",
   "execution_count": 13,
   "id": "198a0c44",
   "metadata": {},
   "outputs": [
    {
     "data": {
      "text/plain": [
       "Date            0\n",
       "AveragePrice    0\n",
       "Total Volume    0\n",
       "4046            0\n",
       "4225            0\n",
       "4770            0\n",
       "Total Bags      0\n",
       "Small Bags      0\n",
       "Large Bags      0\n",
       "XLarge Bags     0\n",
       "type            0\n",
       "year            0\n",
       "region          0\n",
       "dtype: int64"
      ]
     },
     "execution_count": 13,
     "metadata": {},
     "output_type": "execute_result"
    }
   ],
   "source": [
    "df.isnull().sum()"
   ]
  },
  {
   "cell_type": "code",
   "execution_count": 14,
   "id": "796c20c2",
   "metadata": {},
   "outputs": [
    {
     "data": {
      "text/plain": [
       "0"
      ]
     },
     "execution_count": 14,
     "metadata": {},
     "output_type": "execute_result"
    }
   ],
   "source": [
    "df.isnull().sum().sum()"
   ]
  },
  {
   "cell_type": "code",
   "execution_count": 15,
   "id": "61ecf242",
   "metadata": {},
   "outputs": [
    {
     "data": {
      "text/plain": [
       "(18249, 13)"
      ]
     },
     "execution_count": 15,
     "metadata": {},
     "output_type": "execute_result"
    }
   ],
   "source": [
    "df.shape"
   ]
  },
  {
   "cell_type": "code",
   "execution_count": 16,
   "id": "c6bd8d01",
   "metadata": {},
   "outputs": [
    {
     "data": {
      "text/plain": [
       "Index(['Date', 'AveragePrice', 'Total Volume', '4046', '4225', '4770',\n",
       "       'Total Bags', 'Small Bags', 'Large Bags', 'XLarge Bags', 'type', 'year',\n",
       "       'region'],\n",
       "      dtype='object')"
      ]
     },
     "execution_count": 16,
     "metadata": {},
     "output_type": "execute_result"
    }
   ],
   "source": [
    "df.columns"
   ]
  },
  {
   "cell_type": "code",
   "execution_count": 17,
   "id": "f708cc94",
   "metadata": {},
   "outputs": [
    {
     "data": {
      "text/html": [
       "<div>\n",
       "<style scoped>\n",
       "    .dataframe tbody tr th:only-of-type {\n",
       "        vertical-align: middle;\n",
       "    }\n",
       "\n",
       "    .dataframe tbody tr th {\n",
       "        vertical-align: top;\n",
       "    }\n",
       "\n",
       "    .dataframe thead th {\n",
       "        text-align: right;\n",
       "    }\n",
       "</style>\n",
       "<table border=\"1\" class=\"dataframe\">\n",
       "  <thead>\n",
       "    <tr style=\"text-align: right;\">\n",
       "      <th></th>\n",
       "      <th>Date</th>\n",
       "      <th>AveragePrice</th>\n",
       "      <th>Total Volume</th>\n",
       "      <th>4046</th>\n",
       "      <th>4225</th>\n",
       "      <th>4770</th>\n",
       "      <th>Total Bags</th>\n",
       "      <th>Small Bags</th>\n",
       "      <th>Large Bags</th>\n",
       "      <th>XLarge Bags</th>\n",
       "      <th>type</th>\n",
       "      <th>year</th>\n",
       "      <th>region</th>\n",
       "    </tr>\n",
       "  </thead>\n",
       "  <tbody>\n",
       "    <tr>\n",
       "      <th>count</th>\n",
       "      <td>18249</td>\n",
       "      <td>18249.000000</td>\n",
       "      <td>1.824900e+04</td>\n",
       "      <td>1.824900e+04</td>\n",
       "      <td>1.824900e+04</td>\n",
       "      <td>1.824900e+04</td>\n",
       "      <td>1.824900e+04</td>\n",
       "      <td>1.824900e+04</td>\n",
       "      <td>1.824900e+04</td>\n",
       "      <td>18249.000000</td>\n",
       "      <td>18249</td>\n",
       "      <td>18249.000000</td>\n",
       "      <td>18249</td>\n",
       "    </tr>\n",
       "    <tr>\n",
       "      <th>unique</th>\n",
       "      <td>169</td>\n",
       "      <td>NaN</td>\n",
       "      <td>NaN</td>\n",
       "      <td>NaN</td>\n",
       "      <td>NaN</td>\n",
       "      <td>NaN</td>\n",
       "      <td>NaN</td>\n",
       "      <td>NaN</td>\n",
       "      <td>NaN</td>\n",
       "      <td>NaN</td>\n",
       "      <td>2</td>\n",
       "      <td>NaN</td>\n",
       "      <td>54</td>\n",
       "    </tr>\n",
       "    <tr>\n",
       "      <th>top</th>\n",
       "      <td>2015-12-27</td>\n",
       "      <td>NaN</td>\n",
       "      <td>NaN</td>\n",
       "      <td>NaN</td>\n",
       "      <td>NaN</td>\n",
       "      <td>NaN</td>\n",
       "      <td>NaN</td>\n",
       "      <td>NaN</td>\n",
       "      <td>NaN</td>\n",
       "      <td>NaN</td>\n",
       "      <td>conventional</td>\n",
       "      <td>NaN</td>\n",
       "      <td>Albany</td>\n",
       "    </tr>\n",
       "    <tr>\n",
       "      <th>freq</th>\n",
       "      <td>108</td>\n",
       "      <td>NaN</td>\n",
       "      <td>NaN</td>\n",
       "      <td>NaN</td>\n",
       "      <td>NaN</td>\n",
       "      <td>NaN</td>\n",
       "      <td>NaN</td>\n",
       "      <td>NaN</td>\n",
       "      <td>NaN</td>\n",
       "      <td>NaN</td>\n",
       "      <td>9126</td>\n",
       "      <td>NaN</td>\n",
       "      <td>338</td>\n",
       "    </tr>\n",
       "    <tr>\n",
       "      <th>mean</th>\n",
       "      <td>NaN</td>\n",
       "      <td>1.405978</td>\n",
       "      <td>8.506440e+05</td>\n",
       "      <td>2.930084e+05</td>\n",
       "      <td>2.951546e+05</td>\n",
       "      <td>2.283974e+04</td>\n",
       "      <td>2.396392e+05</td>\n",
       "      <td>1.821947e+05</td>\n",
       "      <td>5.433809e+04</td>\n",
       "      <td>3106.426507</td>\n",
       "      <td>NaN</td>\n",
       "      <td>2016.147899</td>\n",
       "      <td>NaN</td>\n",
       "    </tr>\n",
       "    <tr>\n",
       "      <th>std</th>\n",
       "      <td>NaN</td>\n",
       "      <td>0.402677</td>\n",
       "      <td>3.453545e+06</td>\n",
       "      <td>1.264989e+06</td>\n",
       "      <td>1.204120e+06</td>\n",
       "      <td>1.074641e+05</td>\n",
       "      <td>9.862424e+05</td>\n",
       "      <td>7.461785e+05</td>\n",
       "      <td>2.439660e+05</td>\n",
       "      <td>17692.894652</td>\n",
       "      <td>NaN</td>\n",
       "      <td>0.939938</td>\n",
       "      <td>NaN</td>\n",
       "    </tr>\n",
       "    <tr>\n",
       "      <th>min</th>\n",
       "      <td>NaN</td>\n",
       "      <td>0.440000</td>\n",
       "      <td>8.456000e+01</td>\n",
       "      <td>0.000000e+00</td>\n",
       "      <td>0.000000e+00</td>\n",
       "      <td>0.000000e+00</td>\n",
       "      <td>0.000000e+00</td>\n",
       "      <td>0.000000e+00</td>\n",
       "      <td>0.000000e+00</td>\n",
       "      <td>0.000000</td>\n",
       "      <td>NaN</td>\n",
       "      <td>2015.000000</td>\n",
       "      <td>NaN</td>\n",
       "    </tr>\n",
       "    <tr>\n",
       "      <th>25%</th>\n",
       "      <td>NaN</td>\n",
       "      <td>1.100000</td>\n",
       "      <td>1.083858e+04</td>\n",
       "      <td>8.540700e+02</td>\n",
       "      <td>3.008780e+03</td>\n",
       "      <td>0.000000e+00</td>\n",
       "      <td>5.088640e+03</td>\n",
       "      <td>2.849420e+03</td>\n",
       "      <td>1.274700e+02</td>\n",
       "      <td>0.000000</td>\n",
       "      <td>NaN</td>\n",
       "      <td>2015.000000</td>\n",
       "      <td>NaN</td>\n",
       "    </tr>\n",
       "    <tr>\n",
       "      <th>50%</th>\n",
       "      <td>NaN</td>\n",
       "      <td>1.370000</td>\n",
       "      <td>1.073768e+05</td>\n",
       "      <td>8.645300e+03</td>\n",
       "      <td>2.906102e+04</td>\n",
       "      <td>1.849900e+02</td>\n",
       "      <td>3.974383e+04</td>\n",
       "      <td>2.636282e+04</td>\n",
       "      <td>2.647710e+03</td>\n",
       "      <td>0.000000</td>\n",
       "      <td>NaN</td>\n",
       "      <td>2016.000000</td>\n",
       "      <td>NaN</td>\n",
       "    </tr>\n",
       "    <tr>\n",
       "      <th>75%</th>\n",
       "      <td>NaN</td>\n",
       "      <td>1.660000</td>\n",
       "      <td>4.329623e+05</td>\n",
       "      <td>1.110202e+05</td>\n",
       "      <td>1.502069e+05</td>\n",
       "      <td>6.243420e+03</td>\n",
       "      <td>1.107834e+05</td>\n",
       "      <td>8.333767e+04</td>\n",
       "      <td>2.202925e+04</td>\n",
       "      <td>132.500000</td>\n",
       "      <td>NaN</td>\n",
       "      <td>2017.000000</td>\n",
       "      <td>NaN</td>\n",
       "    </tr>\n",
       "    <tr>\n",
       "      <th>max</th>\n",
       "      <td>NaN</td>\n",
       "      <td>3.250000</td>\n",
       "      <td>6.250565e+07</td>\n",
       "      <td>2.274362e+07</td>\n",
       "      <td>2.047057e+07</td>\n",
       "      <td>2.546439e+06</td>\n",
       "      <td>1.937313e+07</td>\n",
       "      <td>1.338459e+07</td>\n",
       "      <td>5.719097e+06</td>\n",
       "      <td>551693.650000</td>\n",
       "      <td>NaN</td>\n",
       "      <td>2018.000000</td>\n",
       "      <td>NaN</td>\n",
       "    </tr>\n",
       "  </tbody>\n",
       "</table>\n",
       "</div>"
      ],
      "text/plain": [
       "              Date  AveragePrice  Total Volume          4046          4225  \\\n",
       "count        18249  18249.000000  1.824900e+04  1.824900e+04  1.824900e+04   \n",
       "unique         169           NaN           NaN           NaN           NaN   \n",
       "top     2015-12-27           NaN           NaN           NaN           NaN   \n",
       "freq           108           NaN           NaN           NaN           NaN   \n",
       "mean           NaN      1.405978  8.506440e+05  2.930084e+05  2.951546e+05   \n",
       "std            NaN      0.402677  3.453545e+06  1.264989e+06  1.204120e+06   \n",
       "min            NaN      0.440000  8.456000e+01  0.000000e+00  0.000000e+00   \n",
       "25%            NaN      1.100000  1.083858e+04  8.540700e+02  3.008780e+03   \n",
       "50%            NaN      1.370000  1.073768e+05  8.645300e+03  2.906102e+04   \n",
       "75%            NaN      1.660000  4.329623e+05  1.110202e+05  1.502069e+05   \n",
       "max            NaN      3.250000  6.250565e+07  2.274362e+07  2.047057e+07   \n",
       "\n",
       "                4770    Total Bags    Small Bags    Large Bags    XLarge Bags  \\\n",
       "count   1.824900e+04  1.824900e+04  1.824900e+04  1.824900e+04   18249.000000   \n",
       "unique           NaN           NaN           NaN           NaN            NaN   \n",
       "top              NaN           NaN           NaN           NaN            NaN   \n",
       "freq             NaN           NaN           NaN           NaN            NaN   \n",
       "mean    2.283974e+04  2.396392e+05  1.821947e+05  5.433809e+04    3106.426507   \n",
       "std     1.074641e+05  9.862424e+05  7.461785e+05  2.439660e+05   17692.894652   \n",
       "min     0.000000e+00  0.000000e+00  0.000000e+00  0.000000e+00       0.000000   \n",
       "25%     0.000000e+00  5.088640e+03  2.849420e+03  1.274700e+02       0.000000   \n",
       "50%     1.849900e+02  3.974383e+04  2.636282e+04  2.647710e+03       0.000000   \n",
       "75%     6.243420e+03  1.107834e+05  8.333767e+04  2.202925e+04     132.500000   \n",
       "max     2.546439e+06  1.937313e+07  1.338459e+07  5.719097e+06  551693.650000   \n",
       "\n",
       "                type          year  region  \n",
       "count          18249  18249.000000   18249  \n",
       "unique             2           NaN      54  \n",
       "top     conventional           NaN  Albany  \n",
       "freq            9126           NaN     338  \n",
       "mean             NaN   2016.147899     NaN  \n",
       "std              NaN      0.939938     NaN  \n",
       "min              NaN   2015.000000     NaN  \n",
       "25%              NaN   2015.000000     NaN  \n",
       "50%              NaN   2016.000000     NaN  \n",
       "75%              NaN   2017.000000     NaN  \n",
       "max              NaN   2018.000000     NaN  "
      ]
     },
     "execution_count": 17,
     "metadata": {},
     "output_type": "execute_result"
    }
   ],
   "source": [
    "df.describe(include='all')"
   ]
  },
  {
   "cell_type": "code",
   "execution_count": 18,
   "id": "93c87ec8",
   "metadata": {},
   "outputs": [
    {
     "data": {
      "text/html": [
       "<div>\n",
       "<style scoped>\n",
       "    .dataframe tbody tr th:only-of-type {\n",
       "        vertical-align: middle;\n",
       "    }\n",
       "\n",
       "    .dataframe tbody tr th {\n",
       "        vertical-align: top;\n",
       "    }\n",
       "\n",
       "    .dataframe thead th {\n",
       "        text-align: right;\n",
       "    }\n",
       "</style>\n",
       "<table border=\"1\" class=\"dataframe\">\n",
       "  <thead>\n",
       "    <tr style=\"text-align: right;\">\n",
       "      <th></th>\n",
       "      <th>AveragePrice</th>\n",
       "      <th>Total Volume</th>\n",
       "      <th>4046</th>\n",
       "      <th>4225</th>\n",
       "      <th>4770</th>\n",
       "      <th>Total Bags</th>\n",
       "      <th>Small Bags</th>\n",
       "      <th>Large Bags</th>\n",
       "      <th>XLarge Bags</th>\n",
       "      <th>year</th>\n",
       "    </tr>\n",
       "  </thead>\n",
       "  <tbody>\n",
       "    <tr>\n",
       "      <th>count</th>\n",
       "      <td>18249.000000</td>\n",
       "      <td>1.824900e+04</td>\n",
       "      <td>1.824900e+04</td>\n",
       "      <td>1.824900e+04</td>\n",
       "      <td>1.824900e+04</td>\n",
       "      <td>1.824900e+04</td>\n",
       "      <td>1.824900e+04</td>\n",
       "      <td>1.824900e+04</td>\n",
       "      <td>18249.000000</td>\n",
       "      <td>18249.000000</td>\n",
       "    </tr>\n",
       "    <tr>\n",
       "      <th>mean</th>\n",
       "      <td>1.405978</td>\n",
       "      <td>8.506440e+05</td>\n",
       "      <td>2.930084e+05</td>\n",
       "      <td>2.951546e+05</td>\n",
       "      <td>2.283974e+04</td>\n",
       "      <td>2.396392e+05</td>\n",
       "      <td>1.821947e+05</td>\n",
       "      <td>5.433809e+04</td>\n",
       "      <td>3106.426507</td>\n",
       "      <td>2016.147899</td>\n",
       "    </tr>\n",
       "    <tr>\n",
       "      <th>std</th>\n",
       "      <td>0.402677</td>\n",
       "      <td>3.453545e+06</td>\n",
       "      <td>1.264989e+06</td>\n",
       "      <td>1.204120e+06</td>\n",
       "      <td>1.074641e+05</td>\n",
       "      <td>9.862424e+05</td>\n",
       "      <td>7.461785e+05</td>\n",
       "      <td>2.439660e+05</td>\n",
       "      <td>17692.894652</td>\n",
       "      <td>0.939938</td>\n",
       "    </tr>\n",
       "    <tr>\n",
       "      <th>min</th>\n",
       "      <td>0.440000</td>\n",
       "      <td>8.456000e+01</td>\n",
       "      <td>0.000000e+00</td>\n",
       "      <td>0.000000e+00</td>\n",
       "      <td>0.000000e+00</td>\n",
       "      <td>0.000000e+00</td>\n",
       "      <td>0.000000e+00</td>\n",
       "      <td>0.000000e+00</td>\n",
       "      <td>0.000000</td>\n",
       "      <td>2015.000000</td>\n",
       "    </tr>\n",
       "    <tr>\n",
       "      <th>25%</th>\n",
       "      <td>1.100000</td>\n",
       "      <td>1.083858e+04</td>\n",
       "      <td>8.540700e+02</td>\n",
       "      <td>3.008780e+03</td>\n",
       "      <td>0.000000e+00</td>\n",
       "      <td>5.088640e+03</td>\n",
       "      <td>2.849420e+03</td>\n",
       "      <td>1.274700e+02</td>\n",
       "      <td>0.000000</td>\n",
       "      <td>2015.000000</td>\n",
       "    </tr>\n",
       "    <tr>\n",
       "      <th>50%</th>\n",
       "      <td>1.370000</td>\n",
       "      <td>1.073768e+05</td>\n",
       "      <td>8.645300e+03</td>\n",
       "      <td>2.906102e+04</td>\n",
       "      <td>1.849900e+02</td>\n",
       "      <td>3.974383e+04</td>\n",
       "      <td>2.636282e+04</td>\n",
       "      <td>2.647710e+03</td>\n",
       "      <td>0.000000</td>\n",
       "      <td>2016.000000</td>\n",
       "    </tr>\n",
       "    <tr>\n",
       "      <th>75%</th>\n",
       "      <td>1.660000</td>\n",
       "      <td>4.329623e+05</td>\n",
       "      <td>1.110202e+05</td>\n",
       "      <td>1.502069e+05</td>\n",
       "      <td>6.243420e+03</td>\n",
       "      <td>1.107834e+05</td>\n",
       "      <td>8.333767e+04</td>\n",
       "      <td>2.202925e+04</td>\n",
       "      <td>132.500000</td>\n",
       "      <td>2017.000000</td>\n",
       "    </tr>\n",
       "    <tr>\n",
       "      <th>max</th>\n",
       "      <td>3.250000</td>\n",
       "      <td>6.250565e+07</td>\n",
       "      <td>2.274362e+07</td>\n",
       "      <td>2.047057e+07</td>\n",
       "      <td>2.546439e+06</td>\n",
       "      <td>1.937313e+07</td>\n",
       "      <td>1.338459e+07</td>\n",
       "      <td>5.719097e+06</td>\n",
       "      <td>551693.650000</td>\n",
       "      <td>2018.000000</td>\n",
       "    </tr>\n",
       "  </tbody>\n",
       "</table>\n",
       "</div>"
      ],
      "text/plain": [
       "       AveragePrice  Total Volume          4046          4225          4770  \\\n",
       "count  18249.000000  1.824900e+04  1.824900e+04  1.824900e+04  1.824900e+04   \n",
       "mean       1.405978  8.506440e+05  2.930084e+05  2.951546e+05  2.283974e+04   \n",
       "std        0.402677  3.453545e+06  1.264989e+06  1.204120e+06  1.074641e+05   \n",
       "min        0.440000  8.456000e+01  0.000000e+00  0.000000e+00  0.000000e+00   \n",
       "25%        1.100000  1.083858e+04  8.540700e+02  3.008780e+03  0.000000e+00   \n",
       "50%        1.370000  1.073768e+05  8.645300e+03  2.906102e+04  1.849900e+02   \n",
       "75%        1.660000  4.329623e+05  1.110202e+05  1.502069e+05  6.243420e+03   \n",
       "max        3.250000  6.250565e+07  2.274362e+07  2.047057e+07  2.546439e+06   \n",
       "\n",
       "         Total Bags    Small Bags    Large Bags    XLarge Bags          year  \n",
       "count  1.824900e+04  1.824900e+04  1.824900e+04   18249.000000  18249.000000  \n",
       "mean   2.396392e+05  1.821947e+05  5.433809e+04    3106.426507   2016.147899  \n",
       "std    9.862424e+05  7.461785e+05  2.439660e+05   17692.894652      0.939938  \n",
       "min    0.000000e+00  0.000000e+00  0.000000e+00       0.000000   2015.000000  \n",
       "25%    5.088640e+03  2.849420e+03  1.274700e+02       0.000000   2015.000000  \n",
       "50%    3.974383e+04  2.636282e+04  2.647710e+03       0.000000   2016.000000  \n",
       "75%    1.107834e+05  8.333767e+04  2.202925e+04     132.500000   2017.000000  \n",
       "max    1.937313e+07  1.338459e+07  5.719097e+06  551693.650000   2018.000000  "
      ]
     },
     "execution_count": 18,
     "metadata": {},
     "output_type": "execute_result"
    }
   ],
   "source": [
    "df.describe()"
   ]
  },
  {
   "cell_type": "markdown",
   "id": "31544f01",
   "metadata": {},
   "source": [
    "observation:\n",
    "\n",
    "    1-- as no null values present, so count is equal of every column\n",
    "    \n",
    "    2-- most of the values are shown in exponential form, as it is containing float type.\n",
    "    \n",
    "    3-- string data columns name are date, type and region.\n",
    "    \n",
    "    4-- in string data- unique value , frequency, top value in column are highlighted.\n",
    "    \n",
    "    5-- some of the columns show large difference between mean and median(50% percentile) data- which indicate the spreding of data values.\n",
    "    \n",
    "    6-- target variable taken as region and average price, one is catagorized form and another is regression form model.\n",
    "    "
   ]
  },
  {
   "cell_type": "markdown",
   "id": "7dee49b5",
   "metadata": {},
   "source": [
    "CHECKING CORRELATION"
   ]
  },
  {
   "cell_type": "code",
   "execution_count": 19,
   "id": "a5c0d840",
   "metadata": {},
   "outputs": [
    {
     "data": {
      "text/html": [
       "<div>\n",
       "<style scoped>\n",
       "    .dataframe tbody tr th:only-of-type {\n",
       "        vertical-align: middle;\n",
       "    }\n",
       "\n",
       "    .dataframe tbody tr th {\n",
       "        vertical-align: top;\n",
       "    }\n",
       "\n",
       "    .dataframe thead th {\n",
       "        text-align: right;\n",
       "    }\n",
       "</style>\n",
       "<table border=\"1\" class=\"dataframe\">\n",
       "  <thead>\n",
       "    <tr style=\"text-align: right;\">\n",
       "      <th></th>\n",
       "      <th>AveragePrice</th>\n",
       "      <th>Total Volume</th>\n",
       "      <th>4046</th>\n",
       "      <th>4225</th>\n",
       "      <th>4770</th>\n",
       "      <th>Total Bags</th>\n",
       "      <th>Small Bags</th>\n",
       "      <th>Large Bags</th>\n",
       "      <th>XLarge Bags</th>\n",
       "      <th>year</th>\n",
       "    </tr>\n",
       "  </thead>\n",
       "  <tbody>\n",
       "    <tr>\n",
       "      <th>AveragePrice</th>\n",
       "      <td>1.000000</td>\n",
       "      <td>-0.192752</td>\n",
       "      <td>-0.208317</td>\n",
       "      <td>-0.172928</td>\n",
       "      <td>-0.179446</td>\n",
       "      <td>-0.177088</td>\n",
       "      <td>-0.174730</td>\n",
       "      <td>-0.172940</td>\n",
       "      <td>-0.117592</td>\n",
       "      <td>0.093197</td>\n",
       "    </tr>\n",
       "    <tr>\n",
       "      <th>Total Volume</th>\n",
       "      <td>-0.192752</td>\n",
       "      <td>1.000000</td>\n",
       "      <td>0.977863</td>\n",
       "      <td>0.974181</td>\n",
       "      <td>0.872202</td>\n",
       "      <td>0.963047</td>\n",
       "      <td>0.967238</td>\n",
       "      <td>0.880640</td>\n",
       "      <td>0.747157</td>\n",
       "      <td>0.017193</td>\n",
       "    </tr>\n",
       "    <tr>\n",
       "      <th>4046</th>\n",
       "      <td>-0.208317</td>\n",
       "      <td>0.977863</td>\n",
       "      <td>1.000000</td>\n",
       "      <td>0.926110</td>\n",
       "      <td>0.833389</td>\n",
       "      <td>0.920057</td>\n",
       "      <td>0.925280</td>\n",
       "      <td>0.838645</td>\n",
       "      <td>0.699377</td>\n",
       "      <td>0.003353</td>\n",
       "    </tr>\n",
       "    <tr>\n",
       "      <th>4225</th>\n",
       "      <td>-0.172928</td>\n",
       "      <td>0.974181</td>\n",
       "      <td>0.926110</td>\n",
       "      <td>1.000000</td>\n",
       "      <td>0.887855</td>\n",
       "      <td>0.905787</td>\n",
       "      <td>0.916031</td>\n",
       "      <td>0.810015</td>\n",
       "      <td>0.688809</td>\n",
       "      <td>-0.009559</td>\n",
       "    </tr>\n",
       "    <tr>\n",
       "      <th>4770</th>\n",
       "      <td>-0.179446</td>\n",
       "      <td>0.872202</td>\n",
       "      <td>0.833389</td>\n",
       "      <td>0.887855</td>\n",
       "      <td>1.000000</td>\n",
       "      <td>0.792314</td>\n",
       "      <td>0.802733</td>\n",
       "      <td>0.698471</td>\n",
       "      <td>0.679861</td>\n",
       "      <td>-0.036531</td>\n",
       "    </tr>\n",
       "    <tr>\n",
       "      <th>Total Bags</th>\n",
       "      <td>-0.177088</td>\n",
       "      <td>0.963047</td>\n",
       "      <td>0.920057</td>\n",
       "      <td>0.905787</td>\n",
       "      <td>0.792314</td>\n",
       "      <td>1.000000</td>\n",
       "      <td>0.994335</td>\n",
       "      <td>0.943009</td>\n",
       "      <td>0.804233</td>\n",
       "      <td>0.071552</td>\n",
       "    </tr>\n",
       "    <tr>\n",
       "      <th>Small Bags</th>\n",
       "      <td>-0.174730</td>\n",
       "      <td>0.967238</td>\n",
       "      <td>0.925280</td>\n",
       "      <td>0.916031</td>\n",
       "      <td>0.802733</td>\n",
       "      <td>0.994335</td>\n",
       "      <td>1.000000</td>\n",
       "      <td>0.902589</td>\n",
       "      <td>0.806845</td>\n",
       "      <td>0.063915</td>\n",
       "    </tr>\n",
       "    <tr>\n",
       "      <th>Large Bags</th>\n",
       "      <td>-0.172940</td>\n",
       "      <td>0.880640</td>\n",
       "      <td>0.838645</td>\n",
       "      <td>0.810015</td>\n",
       "      <td>0.698471</td>\n",
       "      <td>0.943009</td>\n",
       "      <td>0.902589</td>\n",
       "      <td>1.000000</td>\n",
       "      <td>0.710858</td>\n",
       "      <td>0.087891</td>\n",
       "    </tr>\n",
       "    <tr>\n",
       "      <th>XLarge Bags</th>\n",
       "      <td>-0.117592</td>\n",
       "      <td>0.747157</td>\n",
       "      <td>0.699377</td>\n",
       "      <td>0.688809</td>\n",
       "      <td>0.679861</td>\n",
       "      <td>0.804233</td>\n",
       "      <td>0.806845</td>\n",
       "      <td>0.710858</td>\n",
       "      <td>1.000000</td>\n",
       "      <td>0.081033</td>\n",
       "    </tr>\n",
       "    <tr>\n",
       "      <th>year</th>\n",
       "      <td>0.093197</td>\n",
       "      <td>0.017193</td>\n",
       "      <td>0.003353</td>\n",
       "      <td>-0.009559</td>\n",
       "      <td>-0.036531</td>\n",
       "      <td>0.071552</td>\n",
       "      <td>0.063915</td>\n",
       "      <td>0.087891</td>\n",
       "      <td>0.081033</td>\n",
       "      <td>1.000000</td>\n",
       "    </tr>\n",
       "  </tbody>\n",
       "</table>\n",
       "</div>"
      ],
      "text/plain": [
       "              AveragePrice  Total Volume      4046      4225      4770  \\\n",
       "AveragePrice      1.000000     -0.192752 -0.208317 -0.172928 -0.179446   \n",
       "Total Volume     -0.192752      1.000000  0.977863  0.974181  0.872202   \n",
       "4046             -0.208317      0.977863  1.000000  0.926110  0.833389   \n",
       "4225             -0.172928      0.974181  0.926110  1.000000  0.887855   \n",
       "4770             -0.179446      0.872202  0.833389  0.887855  1.000000   \n",
       "Total Bags       -0.177088      0.963047  0.920057  0.905787  0.792314   \n",
       "Small Bags       -0.174730      0.967238  0.925280  0.916031  0.802733   \n",
       "Large Bags       -0.172940      0.880640  0.838645  0.810015  0.698471   \n",
       "XLarge Bags      -0.117592      0.747157  0.699377  0.688809  0.679861   \n",
       "year              0.093197      0.017193  0.003353 -0.009559 -0.036531   \n",
       "\n",
       "              Total Bags  Small Bags  Large Bags  XLarge Bags      year  \n",
       "AveragePrice   -0.177088   -0.174730   -0.172940    -0.117592  0.093197  \n",
       "Total Volume    0.963047    0.967238    0.880640     0.747157  0.017193  \n",
       "4046            0.920057    0.925280    0.838645     0.699377  0.003353  \n",
       "4225            0.905787    0.916031    0.810015     0.688809 -0.009559  \n",
       "4770            0.792314    0.802733    0.698471     0.679861 -0.036531  \n",
       "Total Bags      1.000000    0.994335    0.943009     0.804233  0.071552  \n",
       "Small Bags      0.994335    1.000000    0.902589     0.806845  0.063915  \n",
       "Large Bags      0.943009    0.902589    1.000000     0.710858  0.087891  \n",
       "XLarge Bags     0.804233    0.806845    0.710858     1.000000  0.081033  \n",
       "year            0.071552    0.063915    0.087891     0.081033  1.000000  "
      ]
     },
     "execution_count": 19,
     "metadata": {},
     "output_type": "execute_result"
    }
   ],
   "source": [
    "df_corr= df.corr()\n",
    "df_corr"
   ]
  },
  {
   "cell_type": "markdown",
   "id": "e7406047",
   "metadata": {},
   "source": [
    "correlation is calculate only in numeric data type :\n",
    "\n",
    "here in above correlation table, columns represents positive values and negative values.\n",
    "1-- positive values represents postive correlation, which say that it is directly proportional to each other.\n",
    "2-- negative values represents negative correlation, which say that it is inversely proportional to each other.\n"
   ]
  },
  {
   "cell_type": "code",
   "execution_count": 20,
   "id": "19785a75",
   "metadata": {},
   "outputs": [],
   "source": [
    "import matplotlib.pyplot as plt\n",
    "import seaborn as sns\n"
   ]
  },
  {
   "cell_type": "code",
   "execution_count": 21,
   "id": "a68bd875",
   "metadata": {},
   "outputs": [
    {
     "data": {
      "text/plain": [
       "<AxesSubplot:>"
      ]
     },
     "execution_count": 21,
     "metadata": {},
     "output_type": "execute_result"
    },
    {
     "data": {
      "image/png": "[encoded data removed]",
      "text/plain": [
       "<Figure size 432x288 with 2 Axes>"
      ]
     },
     "metadata": {
      "needs_background": "light"
     },
     "output_type": "display_data"
    }
   ],
   "source": [
    "sns.heatmap(df.isnull())"
   ]
  },
  {
   "cell_type": "markdown",
   "id": "c664610c",
   "metadata": {},
   "source": [
    "this is the null heatmap is shown, which is plane and it indicates that there is no null values present as their is the absence of any line or different shade in graph."
   ]
  },
  {
   "cell_type": "code",
   "execution_count": 22,
   "id": "1bff1a5c",
   "metadata": {},
   "outputs": [
    {
     "data": {
      "text/plain": [
       "<AxesSubplot:>"
      ]
     },
     "execution_count": 22,
     "metadata": {},
     "output_type": "execute_result"
    },
    {
     "data": {
      "image/png": "[encoded data removed]",
      "text/plain": [
       "<Figure size 1440x720 with 2 Axes>"
      ]
     },
     "metadata": {
      "needs_background": "light"
     },
     "output_type": "display_data"
    }
   ],
   "source": [
    "plt.figure(figsize=(20,10))\n",
    "sns.heatmap(df_corr, annot=True)"
   ]
  },
  {
   "cell_type": "markdown",
   "id": "808fe195",
   "metadata": {},
   "source": [
    "this heatmap is shown the different relation with each other columns. \n",
    "\n",
    "1-- lighter shade indicate the most correlated value to that particular column .\n",
    "\n",
    "2-- darker shade indicate the least correlated value to that particular column .\n",
    "\n",
    "3-- the columns 4046, 4225, 4770 are most correlated values with all columns, as their shade showing lighter and contains larger correlated value.\n",
    "\n",
    "4-- xlarge bags is little darker shade compare to rest of columns which can say it is least correlated column compares to all."
   ]
  },
  {
   "cell_type": "markdown",
   "id": "68d9282b",
   "metadata": {},
   "source": [
    "VISUALIZATION OF DATA: PLOTTING OF GRAPH"
   ]
  },
  {
   "cell_type": "code",
   "execution_count": 23,
   "id": "8cc5fa50",
   "metadata": {},
   "outputs": [
    {
     "data": {
      "text/plain": [
       "Index(['Date', 'AveragePrice', 'Total Volume', '4046', '4225', '4770',\n",
       "       'Total Bags', 'Small Bags', 'Large Bags', 'XLarge Bags', 'type', 'year',\n",
       "       'region'],\n",
       "      dtype='object')"
      ]
     },
     "execution_count": 23,
     "metadata": {},
     "output_type": "execute_result"
    }
   ],
   "source": [
    "df.columns"
   ]
  },
  {
   "cell_type": "markdown",
   "id": "943132aa",
   "metadata": {},
   "source": [
    "average price and region are taking as target variable one at a time"
   ]
  },
  {
   "cell_type": "code",
   "execution_count": 24,
   "id": "212d1881",
   "metadata": {},
   "outputs": [
    {
     "data": {
      "image/png": "[encoded data removed]",
      "text/plain": [
       "<Figure size 432x288 with 1 Axes>"
      ]
     },
     "metadata": {
      "needs_background": "light"
     },
     "output_type": "display_data"
    }
   ],
   "source": [
    "plt.bar(df['AveragePrice'], df['region'])\n",
    "plt.xlabel('average price')\n",
    "plt.ylabel('region')\n",
    "plt.show()"
   ]
  },
  {
   "cell_type": "code",
   "execution_count": 25,
   "id": "a0825775",
   "metadata": {},
   "outputs": [
    {
     "data": {
      "text/plain": [
       "54"
      ]
     },
     "execution_count": 25,
     "metadata": {},
     "output_type": "execute_result"
    }
   ],
   "source": [
    "df['region'].nunique()"
   ]
  },
  {
   "cell_type": "markdown",
   "id": "ec1fa7e9",
   "metadata": {},
   "source": [
    "the area is almost filled, so cant predict the relation between each other"
   ]
  },
  {
   "cell_type": "code",
   "execution_count": 26,
   "id": "b751f5d3",
   "metadata": {},
   "outputs": [
    {
     "data": {
      "image/png": "[encoded data removed]",
      "text/plain": [
       "<Figure size 432x288 with 1 Axes>"
      ]
     },
     "metadata": {
      "needs_background": "light"
     },
     "output_type": "display_data"
    }
   ],
   "source": [
    "plt.bar(df['Total Volume'], df['AveragePrice'])\n",
    "plt.xlabel('Total Volume')\n",
    "plt.ylabel('AveragePrice')\n",
    "plt.show()"
   ]
  },
  {
   "cell_type": "code",
   "execution_count": 27,
   "id": "379cfe36",
   "metadata": {},
   "outputs": [
    {
     "data": {
      "image/png": "[encoded data removed]",
      "text/plain": [
       "<Figure size 432x288 with 1 Axes>"
      ]
     },
     "metadata": {
      "needs_background": "light"
     },
     "output_type": "display_data"
    }
   ],
   "source": [
    "plt.bar(df['4046'], df['AveragePrice'])\n",
    "plt.xlabel('4046')\n",
    "plt.ylabel('AveragePrice')\n",
    "plt.show()"
   ]
  },
  {
   "cell_type": "code",
   "execution_count": 28,
   "id": "d1aeb030",
   "metadata": {},
   "outputs": [
    {
     "data": {
      "image/png": "[encoded data removed]",
      "text/plain": [
       "<Figure size 432x288 with 1 Axes>"
      ]
     },
     "metadata": {
      "needs_background": "light"
     },
     "output_type": "display_data"
    }
   ],
   "source": [
    "plt.bar(df['4225'], df['AveragePrice'])\n",
    "plt.xlabel('4225')\n",
    "plt.ylabel('AveragePrice')\n",
    "plt.show()"
   ]
  },
  {
   "cell_type": "code",
   "execution_count": 29,
   "id": "e1e18fc7",
   "metadata": {},
   "outputs": [
    {
     "data": {
      "image/png": "[encoded data removed]",
      "text/plain": [
       "<Figure size 432x288 with 1 Axes>"
      ]
     },
     "metadata": {
      "needs_background": "light"
     },
     "output_type": "display_data"
    }
   ],
   "source": [
    "plt.bar(df['4770'], df['AveragePrice'])\n",
    "plt.xlabel('4770')\n",
    "plt.ylabel('AveragePrice')\n",
    "plt.show()"
   ]
  },
  {
   "cell_type": "code",
   "execution_count": 30,
   "id": "e82c006c",
   "metadata": {},
   "outputs": [
    {
     "data": {
      "image/png": "[encoded data removed]",
      "text/plain": [
       "<Figure size 432x288 with 1 Axes>"
      ]
     },
     "metadata": {
      "needs_background": "light"
     },
     "output_type": "display_data"
    }
   ],
   "source": [
    "plt.bar(df['Total Bags'], df['AveragePrice'])\n",
    "plt.xlabel('Total Bags')\n",
    "plt.ylabel('AveragePrice')\n",
    "plt.show()"
   ]
  },
  {
   "cell_type": "code",
   "execution_count": 31,
   "id": "30e70d40",
   "metadata": {},
   "outputs": [
    {
     "data": {
      "image/png": "[encoded data removed]",
      "text/plain": [
       "<Figure size 432x288 with 1 Axes>"
      ]
     },
     "metadata": {
      "needs_background": "light"
     },
     "output_type": "display_data"
    }
   ],
   "source": [
    "plt.violinplot(df['AveragePrice'])\n",
    "plt.show()"
   ]
  },
  {
   "cell_type": "markdown",
   "id": "f1e63b76",
   "metadata": {},
   "source": [
    "the violin plot show the thickness , between 1 to 1.5 having more avg price in this zone"
   ]
  },
  {
   "cell_type": "code",
   "execution_count": 32,
   "id": "a8a5874f",
   "metadata": {},
   "outputs": [
    {
     "data": {
      "image/png": "[encoded data removed]",
      "text/plain": [
       "<Figure size 432x288 with 1 Axes>"
      ]
     },
     "metadata": {
      "needs_background": "light"
     },
     "output_type": "display_data"
    }
   ],
   "source": [
    "plt.violinplot(df['Total Volume'])\n",
    "plt.show()"
   ]
  },
  {
   "cell_type": "markdown",
   "id": "72bd28b7",
   "metadata": {},
   "source": [
    "the thickness is present at very low level approx to 0"
   ]
  },
  {
   "cell_type": "code",
   "execution_count": 33,
   "id": "56e3372e",
   "metadata": {},
   "outputs": [
    {
     "data": {
      "text/plain": [
       "{'bodies': [<matplotlib.collections.PolyCollection at 0x1f7fb8f3670>],\n",
       " 'cmaxes': <matplotlib.collections.LineCollection at 0x1f7fb8fc7f0>,\n",
       " 'cmins': <matplotlib.collections.LineCollection at 0x1f7fb8fce20>,\n",
       " 'cbars': <matplotlib.collections.LineCollection at 0x1f7fb90b220>}"
      ]
     },
     "execution_count": 33,
     "metadata": {},
     "output_type": "execute_result"
    },
    {
     "data": {
      "image/png": "[encoded data removed]",
      "text/plain": [
       "<Figure size 432x288 with 1 Axes>"
      ]
     },
     "metadata": {
      "needs_background": "light"
     },
     "output_type": "display_data"
    }
   ],
   "source": [
    "plt.violinplot(df['4046'])"
   ]
  },
  {
   "cell_type": "code",
   "execution_count": 34,
   "id": "60bfb889",
   "metadata": {},
   "outputs": [
    {
     "data": {
      "text/plain": [
       "{'bodies': [<matplotlib.collections.PolyCollection at 0x1f7fb992a90>],\n",
       " 'cmaxes': <matplotlib.collections.LineCollection at 0x1f7fb9a0c10>,\n",
       " 'cmins': <matplotlib.collections.LineCollection at 0x1f7fb9b0280>,\n",
       " 'cbars': <matplotlib.collections.LineCollection at 0x1f7fb9b0640>}"
      ]
     },
     "execution_count": 34,
     "metadata": {},
     "output_type": "execute_result"
    },
    {
     "data": {
      "image/png": "[encoded data removed]",
      "text/plain": [
       "<Figure size 432x288 with 1 Axes>"
      ]
     },
     "metadata": {
      "needs_background": "light"
     },
     "output_type": "display_data"
    }
   ],
   "source": [
    "plt.violinplot(df['4225'])"
   ]
  },
  {
   "cell_type": "code",
   "execution_count": 35,
   "id": "1e5898a3",
   "metadata": {},
   "outputs": [
    {
     "data": {
      "text/plain": [
       "{'bodies': [<matplotlib.collections.PolyCollection at 0x1f7fb9f6e50>],\n",
       " 'cmaxes': <matplotlib.collections.LineCollection at 0x1f7fba02f70>,\n",
       " 'cmins': <matplotlib.collections.LineCollection at 0x1f7fba10640>,\n",
       " 'cbars': <matplotlib.collections.LineCollection at 0x1f7fba10a00>}"
      ]
     },
     "execution_count": 35,
     "metadata": {},
     "output_type": "execute_result"
    },
    {
     "data": {
      "image/png": "[encoded data removed]",
      "text/plain": [
       "<Figure size 432x288 with 1 Axes>"
      ]
     },
     "metadata": {
      "needs_background": "light"
     },
     "output_type": "display_data"
    }
   ],
   "source": [
    "plt.violinplot(df['4770'])"
   ]
  },
  {
   "cell_type": "code",
   "execution_count": 36,
   "id": "e1126753",
   "metadata": {},
   "outputs": [
    {
     "data": {
      "text/plain": [
       "{'bodies': [<matplotlib.collections.PolyCollection at 0x1f7fbb64820>],\n",
       " 'cmaxes': <matplotlib.collections.LineCollection at 0x1f7fbb729d0>,\n",
       " 'cmins': <matplotlib.collections.LineCollection at 0x1f7fbb72a00>,\n",
       " 'cbars': <matplotlib.collections.LineCollection at 0x1f7fbb83400>}"
      ]
     },
     "execution_count": 36,
     "metadata": {},
     "output_type": "execute_result"
    },
    {
     "data": {
      "image/png": "[encoded data removed]",
      "text/plain": [
       "<Figure size 432x288 with 1 Axes>"
      ]
     },
     "metadata": {
      "needs_background": "light"
     },
     "output_type": "display_data"
    }
   ],
   "source": [
    "plt.violinplot(df['Total Bags'])"
   ]
  },
  {
   "cell_type": "code",
   "execution_count": 37,
   "id": "5d9dd758",
   "metadata": {},
   "outputs": [
    {
     "data": {
      "text/plain": [
       "{'bodies': [<matplotlib.collections.PolyCollection at 0x1f7fbbdc430>],\n",
       " 'cmaxes': <matplotlib.collections.LineCollection at 0x1f7fbbe95b0>,\n",
       " 'cmins': <matplotlib.collections.LineCollection at 0x1f7fbbe9be0>,\n",
       " 'cbars': <matplotlib.collections.LineCollection at 0x1f7fbbe9fa0>}"
      ]
     },
     "execution_count": 37,
     "metadata": {},
     "output_type": "execute_result"
    },
    {
     "data": {
      "image/png": "[encoded data removed]",
      "text/plain": [
       "<Figure size 432x288 with 1 Axes>"
      ]
     },
     "metadata": {
      "needs_background": "light"
     },
     "output_type": "display_data"
    }
   ],
   "source": [
    "plt.violinplot(df['Small Bags'])"
   ]
  },
  {
   "cell_type": "code",
   "execution_count": 38,
   "id": "a2cff0c6",
   "metadata": {},
   "outputs": [
    {
     "data": {
      "text/plain": [
       "{'bodies': [<matplotlib.collections.PolyCollection at 0x1f7fbc429a0>],\n",
       " 'cmaxes': <matplotlib.collections.LineCollection at 0x1f7fbc52b20>,\n",
       " 'cmins': <matplotlib.collections.LineCollection at 0x1f7fbc63190>,\n",
       " 'cbars': <matplotlib.collections.LineCollection at 0x1f7fbc63550>}"
      ]
     },
     "execution_count": 38,
     "metadata": {},
     "output_type": "execute_result"
    },
    {
     "data": {
      "image/png": "[encoded data removed]",
      "text/plain": [
       "<Figure size 432x288 with 1 Axes>"
      ]
     },
     "metadata": {
      "needs_background": "light"
     },
     "output_type": "display_data"
    }
   ],
   "source": [
    "plt.violinplot(df['Large Bags'])"
   ]
  },
  {
   "cell_type": "code",
   "execution_count": 39,
   "id": "db96accb",
   "metadata": {},
   "outputs": [
    {
     "data": {
      "text/plain": [
       "{'bodies': [<matplotlib.collections.PolyCollection at 0x1f7fbcb09d0>],\n",
       " 'cmaxes': <matplotlib.collections.LineCollection at 0x1f7fbcbfb50>,\n",
       " 'cmins': <matplotlib.collections.LineCollection at 0x1f7fbccd1c0>,\n",
       " 'cbars': <matplotlib.collections.LineCollection at 0x1f7fbccd580>}"
      ]
     },
     "execution_count": 39,
     "metadata": {},
     "output_type": "execute_result"
    },
    {
     "data": {
      "image/png": "[encoded data removed]",
      "text/plain": [
       "<Figure size 432x288 with 1 Axes>"
      ]
     },
     "metadata": {
      "needs_background": "light"
     },
     "output_type": "display_data"
    }
   ],
   "source": [
    "plt.violinplot(df['XLarge Bags'])"
   ]
  },
  {
   "cell_type": "code",
   "execution_count": 40,
   "id": "2a42cb19",
   "metadata": {},
   "outputs": [
    {
     "data": {
      "text/plain": [
       "{'bodies': [<matplotlib.collections.PolyCollection at 0x1f7fbd233d0>],\n",
       " 'cmaxes': <matplotlib.collections.LineCollection at 0x1f7fbd2f550>,\n",
       " 'cmins': <matplotlib.collections.LineCollection at 0x1f7fbd2fb80>,\n",
       " 'cbars': <matplotlib.collections.LineCollection at 0x1f7fbd2ff40>}"
      ]
     },
     "execution_count": 40,
     "metadata": {},
     "output_type": "execute_result"
    },
    {
     "data": {
      "image/png": "[encoded data removed]",
      "text/plain": [
       "<Figure size 432x288 with 1 Axes>"
      ]
     },
     "metadata": {
      "needs_background": "light"
     },
     "output_type": "display_data"
    }
   ],
   "source": [
    "plt.violinplot(df['year'])"
   ]
  },
  {
   "cell_type": "markdown",
   "id": "9cbc40bf",
   "metadata": {},
   "source": [
    "the year showing 2 to 3 density thickness high in year 2015,2016,2017"
   ]
  },
  {
   "cell_type": "markdown",
   "id": "c4de7991",
   "metadata": {},
   "source": [
    "from violin and bar plot not able to find much relation with each other.\n",
    "lets try with other plotting."
   ]
  },
  {
   "cell_type": "code",
   "execution_count": 41,
   "id": "dc47c8eb",
   "metadata": {},
   "outputs": [
    {
     "data": {
      "text/plain": [
       "<matplotlib.collections.PathCollection at 0x1f7fbd9b430>"
      ]
     },
     "execution_count": 41,
     "metadata": {},
     "output_type": "execute_result"
    },
    {
     "data": {
      "image/png": "[encoded data removed]",
      "text/plain": [
       "<Figure size 432x288 with 1 Axes>"
      ]
     },
     "metadata": {
      "needs_background": "light"
     },
     "output_type": "display_data"
    }
   ],
   "source": [
    "plt.scatter(df['Date'], df['AveragePrice'])"
   ]
  },
  {
   "cell_type": "code",
   "execution_count": 42,
   "id": "0f35073e",
   "metadata": {},
   "outputs": [
    {
     "data": {
      "text/plain": [
       "<matplotlib.collections.PathCollection at 0x1f7fbfe33a0>"
      ]
     },
     "execution_count": 42,
     "metadata": {},
     "output_type": "execute_result"
    },
    {
     "data": {
      "image/png": "[encoded data removed]",
      "text/plain": [
       "<Figure size 432x288 with 1 Axes>"
      ]
     },
     "metadata": {
      "needs_background": "light"
     },
     "output_type": "display_data"
    }
   ],
   "source": [
    "plt.scatter(df['Total Volume'], df['AveragePrice'])"
   ]
  },
  {
   "cell_type": "code",
   "execution_count": 43,
   "id": "f0952140",
   "metadata": {},
   "outputs": [
    {
     "data": {
      "text/plain": [
       "<matplotlib.collections.PathCollection at 0x1f7fc033ca0>"
      ]
     },
     "execution_count": 43,
     "metadata": {},
     "output_type": "execute_result"
    },
    {
     "data": {
      "image/png": "[encoded data removed]",
      "text/plain": [
       "<Figure size 432x288 with 1 Axes>"
      ]
     },
     "metadata": {
      "needs_background": "light"
     },
     "output_type": "display_data"
    }
   ],
   "source": [
    "plt.scatter(df['4046'], df['AveragePrice'])"
   ]
  },
  {
   "cell_type": "markdown",
   "id": "be44cb88",
   "metadata": {},
   "source": [
    "average price at 0 showing very high density and some density is also showing at 1 to 1.5 average price"
   ]
  },
  {
   "cell_type": "code",
   "execution_count": 44,
   "id": "59f9fe37",
   "metadata": {},
   "outputs": [
    {
     "data": {
      "text/plain": [
       "<matplotlib.collections.PathCollection at 0x1f7fc092a00>"
      ]
     },
     "execution_count": 44,
     "metadata": {},
     "output_type": "execute_result"
    },
    {
     "data": {
      "image/png": "[encoded data removed]",
      "text/plain": [
       "<Figure size 432x288 with 1 Axes>"
      ]
     },
     "metadata": {
      "needs_background": "light"
     },
     "output_type": "display_data"
    }
   ],
   "source": [
    "plt.scatter(df['AveragePrice'], df['4225'])"
   ]
  },
  {
   "cell_type": "code",
   "execution_count": 45,
   "id": "5057eee1",
   "metadata": {},
   "outputs": [
    {
     "data": {
      "text/plain": [
       "<matplotlib.collections.PathCollection at 0x1f7fc0f1760>"
      ]
     },
     "execution_count": 45,
     "metadata": {},
     "output_type": "execute_result"
    },
    {
     "data": {
      "image/png": "[encoded data removed]",
      "text/plain": [
       "<Figure size 432x288 with 1 Axes>"
      ]
     },
     "metadata": {
      "needs_background": "light"
     },
     "output_type": "display_data"
    }
   ],
   "source": [
    "plt.scatter(df['AveragePrice'], df['4770'])"
   ]
  },
  {
   "cell_type": "code",
   "execution_count": 46,
   "id": "e6a5af20",
   "metadata": {},
   "outputs": [
    {
     "data": {
      "text/plain": [
       "<matplotlib.collections.PathCollection at 0x1f7fc150af0>"
      ]
     },
     "execution_count": 46,
     "metadata": {},
     "output_type": "execute_result"
    },
    {
     "data": {
      "image/png": "[encoded data removed]",
      "text/plain": [
       "<Figure size 432x288 with 1 Axes>"
      ]
     },
     "metadata": {
      "needs_background": "light"
     },
     "output_type": "display_data"
    }
   ],
   "source": [
    "plt.scatter(df['AveragePrice'], df['Total Bags'])"
   ]
  },
  {
   "cell_type": "code",
   "execution_count": 47,
   "id": "20808c0d",
   "metadata": {},
   "outputs": [
    {
     "data": {
      "text/plain": [
       "<matplotlib.collections.PathCollection at 0x1f7fc1b5f40>"
      ]
     },
     "execution_count": 47,
     "metadata": {},
     "output_type": "execute_result"
    },
    {
     "data": {
      "image/png": "[encoded data removed]",
      "text/plain": [
       "<Figure size 432x288 with 1 Axes>"
      ]
     },
     "metadata": {
      "needs_background": "light"
     },
     "output_type": "display_data"
    }
   ],
   "source": [
    "plt.scatter(df['AveragePrice'], df['Small Bags'])"
   ]
  },
  {
   "cell_type": "code",
   "execution_count": 48,
   "id": "4f7e8217",
   "metadata": {},
   "outputs": [
    {
     "data": {
      "text/plain": [
       "<matplotlib.collections.PathCollection at 0x1f7fc20dd30>"
      ]
     },
     "execution_count": 48,
     "metadata": {},
     "output_type": "execute_result"
    },
    {
     "data": {
      "image/png": "[encoded data removed]",
      "text/plain": [
       "<Figure size 432x288 with 1 Axes>"
      ]
     },
     "metadata": {
      "needs_background": "light"
     },
     "output_type": "display_data"
    }
   ],
   "source": [
    "plt.scatter(df['AveragePrice'], df['Large Bags'])"
   ]
  },
  {
   "cell_type": "markdown",
   "id": "52a591d5",
   "metadata": {},
   "source": [
    "average price is ahowing high density in 0.5 to 1.5  upto 1 large bags"
   ]
  },
  {
   "cell_type": "code",
   "execution_count": 49,
   "id": "47021b12",
   "metadata": {},
   "outputs": [
    {
     "data": {
      "text/plain": [
       "<matplotlib.collections.PathCollection at 0x1f7fc284790>"
      ]
     },
     "execution_count": 49,
     "metadata": {},
     "output_type": "execute_result"
    },
    {
     "data": {
      "image/png": "[encoded data removed]",
      "text/plain": [
       "<Figure size 432x288 with 1 Axes>"
      ]
     },
     "metadata": {
      "needs_background": "light"
     },
     "output_type": "display_data"
    }
   ],
   "source": [
    "plt.scatter(df['AveragePrice'], df['XLarge Bags'])"
   ]
  },
  {
   "cell_type": "markdown",
   "id": "468ae4ef",
   "metadata": {},
   "source": [
    "the density between 0.5 to 1.5 showing very high density and upto 1 lakh xlarge bags"
   ]
  },
  {
   "cell_type": "code",
   "execution_count": 50,
   "id": "0d3f8c51",
   "metadata": {},
   "outputs": [
    {
     "data": {
      "text/plain": [
       "Text(0, 0.5, 'type')"
      ]
     },
     "execution_count": 50,
     "metadata": {},
     "output_type": "execute_result"
    },
    {
     "data": {
      "image/png": "[encoded data removed]",
      "text/plain": [
       "<Figure size 432x288 with 1 Axes>"
      ]
     },
     "metadata": {
      "needs_background": "light"
     },
     "output_type": "display_data"
    }
   ],
   "source": [
    "plt.scatter(df['AveragePrice'], df['type'])\n",
    "plt.xlabel('average price')\n",
    "plt.ylabel('type')"
   ]
  },
  {
   "cell_type": "markdown",
   "id": "ee901c76",
   "metadata": {},
   "source": [
    "the avg price of oragnic is high and conventional is having low average price "
   ]
  },
  {
   "cell_type": "code",
   "execution_count": 51,
   "id": "8baa47e2",
   "metadata": {},
   "outputs": [
    {
     "data": {
      "text/plain": [
       "<matplotlib.collections.PathCollection at 0x1f7fc3b8cd0>"
      ]
     },
     "execution_count": 51,
     "metadata": {},
     "output_type": "execute_result"
    },
    {
     "data": {
      "image/png": "[encoded data removed]",
      "text/plain": [
       "<Figure size 432x288 with 1 Axes>"
      ]
     },
     "metadata": {
      "needs_background": "light"
     },
     "output_type": "display_data"
    }
   ],
   "source": [
    "plt.scatter(df['AveragePrice'], df['year'])"
   ]
  },
  {
   "cell_type": "markdown",
   "id": "903e4def",
   "metadata": {},
   "source": [
    "the year 2016,2017 showing high density and value high"
   ]
  },
  {
   "cell_type": "code",
   "execution_count": 52,
   "id": "88275b94",
   "metadata": {},
   "outputs": [
    {
     "data": {
      "text/plain": [
       "<matplotlib.collections.PathCollection at 0x1f7fe442640>"
      ]
     },
     "execution_count": 52,
     "metadata": {},
     "output_type": "execute_result"
    },
    {
     "data": {
      "image/png": "[encoded data removed]",
      "text/plain": [
       "<Figure size 432x288 with 1 Axes>"
      ]
     },
     "metadata": {
      "needs_background": "light"
     },
     "output_type": "display_data"
    }
   ],
   "source": [
    "plt.scatter(df['AveragePrice'], df['region'])"
   ]
  },
  {
   "cell_type": "code",
   "execution_count": 53,
   "id": "c2842a27",
   "metadata": {},
   "outputs": [
    {
     "data": {
      "text/plain": [
       "conventional    9126\n",
       "organic         9123\n",
       "Name: type, dtype: int64"
      ]
     },
     "execution_count": 53,
     "metadata": {},
     "output_type": "execute_result"
    },
    {
     "data": {
      "image/png": "[encoded data removed]",
      "text/plain": [
       "<Figure size 432x288 with 1 Axes>"
      ]
     },
     "metadata": {
      "needs_background": "light"
     },
     "output_type": "display_data"
    }
   ],
   "source": [
    "sns.countplot(df['type'])\n",
    "df['type'].value_counts()"
   ]
  },
  {
   "cell_type": "code",
   "execution_count": 54,
   "id": "63abf4d5",
   "metadata": {},
   "outputs": [
    {
     "data": {
      "text/plain": [
       "Albany                 338\n",
       "Sacramento             338\n",
       "Northeast              338\n",
       "NorthernNewEngland     338\n",
       "Orlando                338\n",
       "Philadelphia           338\n",
       "PhoenixTucson          338\n",
       "Pittsburgh             338\n",
       "Plains                 338\n",
       "Portland               338\n",
       "RaleighGreensboro      338\n",
       "RichmondNorfolk        338\n",
       "Roanoke                338\n",
       "SanDiego               338\n",
       "Atlanta                338\n",
       "SanFrancisco           338\n",
       "Seattle                338\n",
       "SouthCarolina          338\n",
       "SouthCentral           338\n",
       "Southeast              338\n",
       "Spokane                338\n",
       "StLouis                338\n",
       "Syracuse               338\n",
       "Tampa                  338\n",
       "TotalUS                338\n",
       "West                   338\n",
       "NewYork                338\n",
       "NewOrleansMobile       338\n",
       "Nashville              338\n",
       "Midsouth               338\n",
       "BaltimoreWashington    338\n",
       "Boise                  338\n",
       "Boston                 338\n",
       "BuffaloRochester       338\n",
       "California             338\n",
       "Charlotte              338\n",
       "Chicago                338\n",
       "CincinnatiDayton       338\n",
       "Columbus               338\n",
       "DallasFtWorth          338\n",
       "Denver                 338\n",
       "Detroit                338\n",
       "GrandRapids            338\n",
       "GreatLakes             338\n",
       "HarrisburgScranton     338\n",
       "HartfordSpringfield    338\n",
       "Houston                338\n",
       "Indianapolis           338\n",
       "Jacksonville           338\n",
       "LasVegas               338\n",
       "LosAngeles             338\n",
       "Louisville             338\n",
       "MiamiFtLauderdale      338\n",
       "WestTexNewMexico       335\n",
       "Name: region, dtype: int64"
      ]
     },
     "execution_count": 54,
     "metadata": {},
     "output_type": "execute_result"
    },
    {
     "data": {
      "image/png": "[encoded data removed]",
      "text/plain": [
       "<Figure size 432x288 with 1 Axes>"
      ]
     },
     "metadata": {
      "needs_background": "light"
     },
     "output_type": "display_data"
    }
   ],
   "source": [
    "sns.countplot(df['region'])\n",
    "df['region'].value_counts()"
   ]
  },
  {
   "cell_type": "code",
   "execution_count": 55,
   "id": "59be6315",
   "metadata": {},
   "outputs": [
    {
     "data": {
      "text/plain": [
       "2017    5722\n",
       "2016    5616\n",
       "2015    5615\n",
       "2018    1296\n",
       "Name: year, dtype: int64"
      ]
     },
     "execution_count": 55,
     "metadata": {},
     "output_type": "execute_result"
    },
    {
     "data": {
      "image/png": "[encoded data removed]",
      "text/plain": [
       "<Figure size 432x288 with 1 Axes>"
      ]
     },
     "metadata": {
      "needs_background": "light"
     },
     "output_type": "display_data"
    }
   ],
   "source": [
    "sns.countplot(df['year'])\n",
    "df['year'].value_counts()"
   ]
  },
  {
   "cell_type": "code",
   "execution_count": 56,
   "id": "1c64f15e",
   "metadata": {},
   "outputs": [],
   "source": [
    "#sns.pairplot(df)"
   ]
  },
  {
   "cell_type": "markdown",
   "id": "0fc1f908",
   "metadata": {},
   "source": [
    "pairplot show the every relation with each and every columns combination. \n",
    "\n",
    "scatter plot is showing generally and where density of dots is high that area is given the relation with other column."
   ]
  },
  {
   "cell_type": "markdown",
   "id": "6830e03f",
   "metadata": {},
   "source": [
    "LABEL ENCODING: CONVERT STRING INTO NUMERIC DATA VALUE"
   ]
  },
  {
   "cell_type": "code",
   "execution_count": 57,
   "id": "9649deb1",
   "metadata": {},
   "outputs": [],
   "source": [
    "from sklearn.preprocessing import OrdinalEncoder\n",
    "enc = OrdinalEncoder()"
   ]
  },
  {
   "cell_type": "code",
   "execution_count": 58,
   "id": "774fc4b9",
   "metadata": {},
   "outputs": [
    {
     "data": {
      "text/plain": [
       "Index(['Date', 'AveragePrice', 'Total Volume', '4046', '4225', '4770',\n",
       "       'Total Bags', 'Small Bags', 'Large Bags', 'XLarge Bags', 'type', 'year',\n",
       "       'region'],\n",
       "      dtype='object')"
      ]
     },
     "execution_count": 58,
     "metadata": {},
     "output_type": "execute_result"
    }
   ],
   "source": [
    "df.columns"
   ]
  },
  {
   "cell_type": "code",
   "execution_count": 59,
   "id": "a60e8676",
   "metadata": {},
   "outputs": [
    {
     "data": {
      "text/plain": [
       "Date             object\n",
       "AveragePrice    float64\n",
       "Total Volume    float64\n",
       "4046            float64\n",
       "4225            float64\n",
       "4770            float64\n",
       "Total Bags      float64\n",
       "Small Bags      float64\n",
       "Large Bags      float64\n",
       "XLarge Bags     float64\n",
       "type             object\n",
       "year              int64\n",
       "region           object\n",
       "dtype: object"
      ]
     },
     "execution_count": 59,
     "metadata": {},
     "output_type": "execute_result"
    }
   ],
   "source": [
    "df.dtypes"
   ]
  },
  {
   "cell_type": "code",
   "execution_count": 60,
   "id": "93e22dfb",
   "metadata": {},
   "outputs": [],
   "source": [
    "for i in df.columns:\n",
    "    if df[i].dtypes == 'object':\n",
    "        df[i]=enc.fit_transform(df[i].values.reshape(-1,1))"
   ]
  },
  {
   "cell_type": "code",
   "execution_count": 61,
   "id": "14d9b395",
   "metadata": {},
   "outputs": [
    {
     "data": {
      "text/plain": [
       "Date            float64\n",
       "AveragePrice    float64\n",
       "Total Volume    float64\n",
       "4046            float64\n",
       "4225            float64\n",
       "4770            float64\n",
       "Total Bags      float64\n",
       "Small Bags      float64\n",
       "Large Bags      float64\n",
       "XLarge Bags     float64\n",
       "type            float64\n",
       "year              int64\n",
       "region          float64\n",
       "dtype: object"
      ]
     },
     "execution_count": 61,
     "metadata": {},
     "output_type": "execute_result"
    }
   ],
   "source": [
    "df.dtypes"
   ]
  },
  {
   "cell_type": "markdown",
   "id": "4584a643",
   "metadata": {},
   "source": [
    "CHECKING FOR OUTLIERS : BOX PLOT"
   ]
  },
  {
   "cell_type": "code",
   "execution_count": 62,
   "id": "7b9f13fc",
   "metadata": {},
   "outputs": [
    {
     "data": {
      "text/plain": [
       "<AxesSubplot:>"
      ]
     },
     "execution_count": 62,
     "metadata": {},
     "output_type": "execute_result"
    },
    {
     "data": {
      "image/png": "[encoded data removed]",
      "text/plain": [
       "<Figure size 432x288 with 1 Axes>"
      ]
     },
     "metadata": {
      "needs_background": "light"
     },
     "output_type": "display_data"
    }
   ],
   "source": [
    "df['Date'].plot.box()"
   ]
  },
  {
   "cell_type": "code",
   "execution_count": 63,
   "id": "8fc337f5",
   "metadata": {},
   "outputs": [
    {
     "data": {
      "text/plain": [
       "<AxesSubplot:>"
      ]
     },
     "execution_count": 63,
     "metadata": {},
     "output_type": "execute_result"
    },
    {
     "data": {
      "image/png": "[encoded data removed]",
      "text/plain": [
       "<Figure size 432x288 with 1 Axes>"
      ]
     },
     "metadata": {
      "needs_background": "light"
     },
     "output_type": "display_data"
    }
   ],
   "source": [
    "df['AveragePrice'].plot.box()"
   ]
  },
  {
   "cell_type": "markdown",
   "id": "38d5025e",
   "metadata": {},
   "source": [
    "average price contains very large amount of outliers and also considering as a target variable "
   ]
  },
  {
   "cell_type": "code",
   "execution_count": 64,
   "id": "3327609d",
   "metadata": {},
   "outputs": [
    {
     "data": {
      "text/plain": [
       "<AxesSubplot:>"
      ]
     },
     "execution_count": 64,
     "metadata": {},
     "output_type": "execute_result"
    },
    {
     "data": {
      "image/png": "[encoded data removed]",
      "text/plain": [
       "<Figure size 432x288 with 1 Axes>"
      ]
     },
     "metadata": {
      "needs_background": "light"
     },
     "output_type": "display_data"
    }
   ],
   "source": [
    "df['Total Volume'].plot.box()"
   ]
  },
  {
   "cell_type": "markdown",
   "id": "3bc29993",
   "metadata": {},
   "source": [
    "total volumne also contains extense amount of outliers present and it need to be removed"
   ]
  },
  {
   "cell_type": "code",
   "execution_count": 65,
   "id": "feccb7ef",
   "metadata": {},
   "outputs": [
    {
     "data": {
      "text/plain": [
       "<AxesSubplot:>"
      ]
     },
     "execution_count": 65,
     "metadata": {},
     "output_type": "execute_result"
    },
    {
     "data": {
      "image/png": "[encoded data removed]",
      "text/plain": [
       "<Figure size 432x288 with 1 Axes>"
      ]
     },
     "metadata": {
      "needs_background": "light"
     },
     "output_type": "display_data"
    }
   ],
   "source": [
    "df['4046'].plot.box()"
   ]
  },
  {
   "cell_type": "code",
   "execution_count": 66,
   "id": "8749dc1f",
   "metadata": {},
   "outputs": [
    {
     "data": {
      "text/plain": [
       "<AxesSubplot:>"
      ]
     },
     "execution_count": 66,
     "metadata": {},
     "output_type": "execute_result"
    },
    {
     "data": {
      "image/png": "[encoded data removed]",
      "text/plain": [
       "<Figure size 432x288 with 1 Axes>"
      ]
     },
     "metadata": {
      "needs_background": "light"
     },
     "output_type": "display_data"
    }
   ],
   "source": [
    "df['4225'].plot.box()"
   ]
  },
  {
   "cell_type": "code",
   "execution_count": 67,
   "id": "b9c37178",
   "metadata": {},
   "outputs": [
    {
     "data": {
      "text/plain": [
       "<AxesSubplot:>"
      ]
     },
     "execution_count": 67,
     "metadata": {},
     "output_type": "execute_result"
    },
    {
     "data": {
      "image/png": "[encoded data removed]",
      "text/plain": [
       "<Figure size 432x288 with 1 Axes>"
      ]
     },
     "metadata": {
      "needs_background": "light"
     },
     "output_type": "display_data"
    }
   ],
   "source": [
    "df['4770'].plot.box()"
   ]
  },
  {
   "cell_type": "code",
   "execution_count": 68,
   "id": "c683ba10",
   "metadata": {},
   "outputs": [
    {
     "data": {
      "text/plain": [
       "<AxesSubplot:>"
      ]
     },
     "execution_count": 68,
     "metadata": {},
     "output_type": "execute_result"
    },
    {
     "data": {
      "image/png": "[encoded data removed]",
      "text/plain": [
       "<Figure size 432x288 with 1 Axes>"
      ]
     },
     "metadata": {
      "needs_background": "light"
     },
     "output_type": "display_data"
    }
   ],
   "source": [
    "df['Total Bags'].plot.box()"
   ]
  },
  {
   "cell_type": "code",
   "execution_count": 69,
   "id": "1a5a1a2e",
   "metadata": {},
   "outputs": [
    {
     "data": {
      "text/plain": [
       "<AxesSubplot:>"
      ]
     },
     "execution_count": 69,
     "metadata": {},
     "output_type": "execute_result"
    },
    {
     "data": {
      "image/png": "[encoded data removed]",
      "text/plain": [
       "<Figure size 432x288 with 1 Axes>"
      ]
     },
     "metadata": {
      "needs_background": "light"
     },
     "output_type": "display_data"
    }
   ],
   "source": [
    "df['Small Bags'].plot.box()"
   ]
  },
  {
   "cell_type": "code",
   "execution_count": 70,
   "id": "334b16c9",
   "metadata": {},
   "outputs": [
    {
     "data": {
      "text/plain": [
       "<AxesSubplot:>"
      ]
     },
     "execution_count": 70,
     "metadata": {},
     "output_type": "execute_result"
    },
    {
     "data": {
      "image/png": "[encoded data removed]",
      "text/plain": [
       "<Figure size 432x288 with 1 Axes>"
      ]
     },
     "metadata": {
      "needs_background": "light"
     },
     "output_type": "display_data"
    }
   ],
   "source": [
    "df['Large Bags'].plot.box()"
   ]
  },
  {
   "cell_type": "code",
   "execution_count": 71,
   "id": "59acd492",
   "metadata": {},
   "outputs": [
    {
     "data": {
      "text/plain": [
       "<AxesSubplot:>"
      ]
     },
     "execution_count": 71,
     "metadata": {},
     "output_type": "execute_result"
    },
    {
     "data": {
      "image/png": "[encoded data removed]",
      "text/plain": [
       "<Figure size 432x288 with 1 Axes>"
      ]
     },
     "metadata": {
      "needs_background": "light"
     },
     "output_type": "display_data"
    }
   ],
   "source": [
    "df['XLarge Bags'].plot.box()"
   ]
  },
  {
   "cell_type": "code",
   "execution_count": 72,
   "id": "95f99452",
   "metadata": {},
   "outputs": [
    {
     "data": {
      "text/plain": [
       "<AxesSubplot:>"
      ]
     },
     "execution_count": 72,
     "metadata": {},
     "output_type": "execute_result"
    },
    {
     "data": {
      "image/png": "[encoded data removed]",
      "text/plain": [
       "<Figure size 432x288 with 1 Axes>"
      ]
     },
     "metadata": {
      "needs_background": "light"
     },
     "output_type": "display_data"
    }
   ],
   "source": [
    "df['type'].plot.box()"
   ]
  },
  {
   "cell_type": "code",
   "execution_count": 73,
   "id": "118ba2fb",
   "metadata": {},
   "outputs": [
    {
     "data": {
      "text/plain": [
       "<AxesSubplot:>"
      ]
     },
     "execution_count": 73,
     "metadata": {},
     "output_type": "execute_result"
    },
    {
     "data": {
      "image/png": "[encoded data removed]",
      "text/plain": [
       "<Figure size 432x288 with 1 Axes>"
      ]
     },
     "metadata": {
      "needs_background": "light"
     },
     "output_type": "display_data"
    }
   ],
   "source": [
    "df['year'].plot.box()"
   ]
  },
  {
   "cell_type": "code",
   "execution_count": 74,
   "id": "0780d9b8",
   "metadata": {},
   "outputs": [
    {
     "data": {
      "text/plain": [
       "<AxesSubplot:>"
      ]
     },
     "execution_count": 74,
     "metadata": {},
     "output_type": "execute_result"
    },
    {
     "data": {
      "image/png": "[encoded data removed]",
      "text/plain": [
       "<Figure size 432x288 with 1 Axes>"
      ]
     },
     "metadata": {
      "needs_background": "light"
     },
     "output_type": "display_data"
    }
   ],
   "source": [
    "df['region'].plot.box()"
   ]
  },
  {
   "cell_type": "code",
   "execution_count": 75,
   "id": "97e8a486",
   "metadata": {},
   "outputs": [
    {
     "data": {
      "text/plain": [
       "Date               AxesSubplot(0.125,0.749828;0.227941x0.130172)\n",
       "AveragePrice    AxesSubplot(0.398529,0.749828;0.227941x0.130172)\n",
       "Total Volume    AxesSubplot(0.672059,0.749828;0.227941x0.130172)\n",
       "4046               AxesSubplot(0.125,0.593621;0.227941x0.130172)\n",
       "4225            AxesSubplot(0.398529,0.593621;0.227941x0.130172)\n",
       "4770            AxesSubplot(0.672059,0.593621;0.227941x0.130172)\n",
       "Total Bags         AxesSubplot(0.125,0.437414;0.227941x0.130172)\n",
       "Small Bags      AxesSubplot(0.398529,0.437414;0.227941x0.130172)\n",
       "Large Bags      AxesSubplot(0.672059,0.437414;0.227941x0.130172)\n",
       "XLarge Bags        AxesSubplot(0.125,0.281207;0.227941x0.130172)\n",
       "type            AxesSubplot(0.398529,0.281207;0.227941x0.130172)\n",
       "year            AxesSubplot(0.672059,0.281207;0.227941x0.130172)\n",
       "region                AxesSubplot(0.125,0.125;0.227941x0.130172)\n",
       "dtype: object"
      ]
     },
     "execution_count": 75,
     "metadata": {},
     "output_type": "execute_result"
    },
    {
     "data": {
      "image/png": "[encoded data removed]",
      "text/plain": [
       "<Figure size 432x288 with 15 Axes>"
      ]
     },
     "metadata": {
      "needs_background": "light"
     },
     "output_type": "display_data"
    }
   ],
   "source": [
    "df.plot(kind='box', subplots=True, layout=(5,3))"
   ]
  },
  {
   "cell_type": "markdown",
   "id": "3583b0e8",
   "metadata": {},
   "source": [
    "REMOVING OUTLIERS: Z SCORE METHOD"
   ]
  },
  {
   "cell_type": "code",
   "execution_count": 76,
   "id": "f93afe6d",
   "metadata": {},
   "outputs": [],
   "source": [
    "from scipy.stats import zscore"
   ]
  },
  {
   "cell_type": "code",
   "execution_count": 77,
   "id": "2d33658a",
   "metadata": {},
   "outputs": [],
   "source": [
    "x1= df.drop('AveragePrice', axis=1)\n",
    "y1= df['AveragePrice']"
   ]
  },
  {
   "cell_type": "code",
   "execution_count": 78,
   "id": "01a7de69",
   "metadata": {},
   "outputs": [
    {
     "data": {
      "text/html": [
       "<div>\n",
       "<style scoped>\n",
       "    .dataframe tbody tr th:only-of-type {\n",
       "        vertical-align: middle;\n",
       "    }\n",
       "\n",
       "    .dataframe tbody tr th {\n",
       "        vertical-align: top;\n",
       "    }\n",
       "\n",
       "    .dataframe thead th {\n",
       "        text-align: right;\n",
       "    }\n",
       "</style>\n",
       "<table border=\"1\" class=\"dataframe\">\n",
       "  <thead>\n",
       "    <tr style=\"text-align: right;\">\n",
       "      <th></th>\n",
       "      <th>Date</th>\n",
       "      <th>Total Volume</th>\n",
       "      <th>4046</th>\n",
       "      <th>4225</th>\n",
       "      <th>4770</th>\n",
       "      <th>Total Bags</th>\n",
       "      <th>Small Bags</th>\n",
       "      <th>Large Bags</th>\n",
       "      <th>XLarge Bags</th>\n",
       "      <th>type</th>\n",
       "      <th>year</th>\n",
       "      <th>region</th>\n",
       "    </tr>\n",
       "  </thead>\n",
       "  <tbody>\n",
       "    <tr>\n",
       "      <th>0</th>\n",
       "      <td>51.0</td>\n",
       "      <td>64236.62</td>\n",
       "      <td>1036.74</td>\n",
       "      <td>54454.85</td>\n",
       "      <td>48.16</td>\n",
       "      <td>8696.87</td>\n",
       "      <td>8603.62</td>\n",
       "      <td>93.25</td>\n",
       "      <td>0.0</td>\n",
       "      <td>0.0</td>\n",
       "      <td>2015</td>\n",
       "      <td>0.0</td>\n",
       "    </tr>\n",
       "    <tr>\n",
       "      <th>1</th>\n",
       "      <td>50.0</td>\n",
       "      <td>54876.98</td>\n",
       "      <td>674.28</td>\n",
       "      <td>44638.81</td>\n",
       "      <td>58.33</td>\n",
       "      <td>9505.56</td>\n",
       "      <td>9408.07</td>\n",
       "      <td>97.49</td>\n",
       "      <td>0.0</td>\n",
       "      <td>0.0</td>\n",
       "      <td>2015</td>\n",
       "      <td>0.0</td>\n",
       "    </tr>\n",
       "    <tr>\n",
       "      <th>2</th>\n",
       "      <td>49.0</td>\n",
       "      <td>118220.22</td>\n",
       "      <td>794.70</td>\n",
       "      <td>109149.67</td>\n",
       "      <td>130.50</td>\n",
       "      <td>8145.35</td>\n",
       "      <td>8042.21</td>\n",
       "      <td>103.14</td>\n",
       "      <td>0.0</td>\n",
       "      <td>0.0</td>\n",
       "      <td>2015</td>\n",
       "      <td>0.0</td>\n",
       "    </tr>\n",
       "    <tr>\n",
       "      <th>3</th>\n",
       "      <td>48.0</td>\n",
       "      <td>78992.15</td>\n",
       "      <td>1132.00</td>\n",
       "      <td>71976.41</td>\n",
       "      <td>72.58</td>\n",
       "      <td>5811.16</td>\n",
       "      <td>5677.40</td>\n",
       "      <td>133.76</td>\n",
       "      <td>0.0</td>\n",
       "      <td>0.0</td>\n",
       "      <td>2015</td>\n",
       "      <td>0.0</td>\n",
       "    </tr>\n",
       "    <tr>\n",
       "      <th>4</th>\n",
       "      <td>47.0</td>\n",
       "      <td>51039.60</td>\n",
       "      <td>941.48</td>\n",
       "      <td>43838.39</td>\n",
       "      <td>75.78</td>\n",
       "      <td>6183.95</td>\n",
       "      <td>5986.26</td>\n",
       "      <td>197.69</td>\n",
       "      <td>0.0</td>\n",
       "      <td>0.0</td>\n",
       "      <td>2015</td>\n",
       "      <td>0.0</td>\n",
       "    </tr>\n",
       "    <tr>\n",
       "      <th>...</th>\n",
       "      <td>...</td>\n",
       "      <td>...</td>\n",
       "      <td>...</td>\n",
       "      <td>...</td>\n",
       "      <td>...</td>\n",
       "      <td>...</td>\n",
       "      <td>...</td>\n",
       "      <td>...</td>\n",
       "      <td>...</td>\n",
       "      <td>...</td>\n",
       "      <td>...</td>\n",
       "      <td>...</td>\n",
       "    </tr>\n",
       "    <tr>\n",
       "      <th>18244</th>\n",
       "      <td>161.0</td>\n",
       "      <td>17074.83</td>\n",
       "      <td>2046.96</td>\n",
       "      <td>1529.20</td>\n",
       "      <td>0.00</td>\n",
       "      <td>13498.67</td>\n",
       "      <td>13066.82</td>\n",
       "      <td>431.85</td>\n",
       "      <td>0.0</td>\n",
       "      <td>1.0</td>\n",
       "      <td>2018</td>\n",
       "      <td>53.0</td>\n",
       "    </tr>\n",
       "    <tr>\n",
       "      <th>18245</th>\n",
       "      <td>160.0</td>\n",
       "      <td>13888.04</td>\n",
       "      <td>1191.70</td>\n",
       "      <td>3431.50</td>\n",
       "      <td>0.00</td>\n",
       "      <td>9264.84</td>\n",
       "      <td>8940.04</td>\n",
       "      <td>324.80</td>\n",
       "      <td>0.0</td>\n",
       "      <td>1.0</td>\n",
       "      <td>2018</td>\n",
       "      <td>53.0</td>\n",
       "    </tr>\n",
       "    <tr>\n",
       "      <th>18246</th>\n",
       "      <td>159.0</td>\n",
       "      <td>13766.76</td>\n",
       "      <td>1191.92</td>\n",
       "      <td>2452.79</td>\n",
       "      <td>727.94</td>\n",
       "      <td>9394.11</td>\n",
       "      <td>9351.80</td>\n",
       "      <td>42.31</td>\n",
       "      <td>0.0</td>\n",
       "      <td>1.0</td>\n",
       "      <td>2018</td>\n",
       "      <td>53.0</td>\n",
       "    </tr>\n",
       "    <tr>\n",
       "      <th>18247</th>\n",
       "      <td>158.0</td>\n",
       "      <td>16205.22</td>\n",
       "      <td>1527.63</td>\n",
       "      <td>2981.04</td>\n",
       "      <td>727.01</td>\n",
       "      <td>10969.54</td>\n",
       "      <td>10919.54</td>\n",
       "      <td>50.00</td>\n",
       "      <td>0.0</td>\n",
       "      <td>1.0</td>\n",
       "      <td>2018</td>\n",
       "      <td>53.0</td>\n",
       "    </tr>\n",
       "    <tr>\n",
       "      <th>18248</th>\n",
       "      <td>157.0</td>\n",
       "      <td>17489.58</td>\n",
       "      <td>2894.77</td>\n",
       "      <td>2356.13</td>\n",
       "      <td>224.53</td>\n",
       "      <td>12014.15</td>\n",
       "      <td>11988.14</td>\n",
       "      <td>26.01</td>\n",
       "      <td>0.0</td>\n",
       "      <td>1.0</td>\n",
       "      <td>2018</td>\n",
       "      <td>53.0</td>\n",
       "    </tr>\n",
       "  </tbody>\n",
       "</table>\n",
       "<p>18249 rows × 12 columns</p>\n",
       "</div>"
      ],
      "text/plain": [
       "        Date  Total Volume     4046       4225    4770  Total Bags  \\\n",
       "0       51.0      64236.62  1036.74   54454.85   48.16     8696.87   \n",
       "1       50.0      54876.98   674.28   44638.81   58.33     9505.56   \n",
       "2       49.0     118220.22   794.70  109149.67  130.50     8145.35   \n",
       "3       48.0      78992.15  1132.00   71976.41   72.58     5811.16   \n",
       "4       47.0      51039.60   941.48   43838.39   75.78     6183.95   \n",
       "...      ...           ...      ...        ...     ...         ...   \n",
       "18244  161.0      17074.83  2046.96    1529.20    0.00    13498.67   \n",
       "18245  160.0      13888.04  1191.70    3431.50    0.00     9264.84   \n",
       "18246  159.0      13766.76  1191.92    2452.79  727.94     9394.11   \n",
       "18247  158.0      16205.22  1527.63    2981.04  727.01    10969.54   \n",
       "18248  157.0      17489.58  2894.77    2356.13  224.53    12014.15   \n",
       "\n",
       "       Small Bags  Large Bags  XLarge Bags  type  year  region  \n",
       "0         8603.62       93.25          0.0   0.0  2015     0.0  \n",
       "1         9408.07       97.49          0.0   0.0  2015     0.0  \n",
       "2         8042.21      103.14          0.0   0.0  2015     0.0  \n",
       "3         5677.40      133.76          0.0   0.0  2015     0.0  \n",
       "4         5986.26      197.69          0.0   0.0  2015     0.0  \n",
       "...           ...         ...          ...   ...   ...     ...  \n",
       "18244    13066.82      431.85          0.0   1.0  2018    53.0  \n",
       "18245     8940.04      324.80          0.0   1.0  2018    53.0  \n",
       "18246     9351.80       42.31          0.0   1.0  2018    53.0  \n",
       "18247    10919.54       50.00          0.0   1.0  2018    53.0  \n",
       "18248    11988.14       26.01          0.0   1.0  2018    53.0  \n",
       "\n",
       "[18249 rows x 12 columns]"
      ]
     },
     "execution_count": 78,
     "metadata": {},
     "output_type": "execute_result"
    }
   ],
   "source": [
    "x1"
   ]
  },
  {
   "cell_type": "code",
   "execution_count": 79,
   "id": "e2e8c50d",
   "metadata": {},
   "outputs": [
    {
     "data": {
      "text/plain": [
       "0        1.33\n",
       "1        1.35\n",
       "2        0.93\n",
       "3        1.08\n",
       "4        1.28\n",
       "         ... \n",
       "18244    1.63\n",
       "18245    1.71\n",
       "18246    1.87\n",
       "18247    1.93\n",
       "18248    1.62\n",
       "Name: AveragePrice, Length: 18249, dtype: float64"
      ]
     },
     "execution_count": 79,
     "metadata": {},
     "output_type": "execute_result"
    }
   ],
   "source": [
    "y1"
   ]
  },
  {
   "cell_type": "code",
   "execution_count": 80,
   "id": "20ba252d",
   "metadata": {},
   "outputs": [
    {
     "data": {
      "text/html": [
       "<div>\n",
       "<style scoped>\n",
       "    .dataframe tbody tr th:only-of-type {\n",
       "        vertical-align: middle;\n",
       "    }\n",
       "\n",
       "    .dataframe tbody tr th {\n",
       "        vertical-align: top;\n",
       "    }\n",
       "\n",
       "    .dataframe thead th {\n",
       "        text-align: right;\n",
       "    }\n",
       "</style>\n",
       "<table border=\"1\" class=\"dataframe\">\n",
       "  <thead>\n",
       "    <tr style=\"text-align: right;\">\n",
       "      <th></th>\n",
       "      <th>Date</th>\n",
       "      <th>Total Volume</th>\n",
       "      <th>4046</th>\n",
       "      <th>4225</th>\n",
       "      <th>4770</th>\n",
       "      <th>Total Bags</th>\n",
       "      <th>Small Bags</th>\n",
       "      <th>Large Bags</th>\n",
       "      <th>XLarge Bags</th>\n",
       "      <th>type</th>\n",
       "      <th>year</th>\n",
       "      <th>region</th>\n",
       "    </tr>\n",
       "  </thead>\n",
       "  <tbody>\n",
       "    <tr>\n",
       "      <th>0</th>\n",
       "      <td>0.676360</td>\n",
       "      <td>0.227716</td>\n",
       "      <td>0.230816</td>\n",
       "      <td>0.199902</td>\n",
       "      <td>0.212091</td>\n",
       "      <td>0.234170</td>\n",
       "      <td>0.232647</td>\n",
       "      <td>0.222352</td>\n",
       "      <td>0.17558</td>\n",
       "      <td>0.999836</td>\n",
       "      <td>1.221282</td>\n",
       "      <td>1.700252</td>\n",
       "    </tr>\n",
       "    <tr>\n",
       "      <th>1</th>\n",
       "      <td>0.696857</td>\n",
       "      <td>0.230427</td>\n",
       "      <td>0.231103</td>\n",
       "      <td>0.208054</td>\n",
       "      <td>0.211997</td>\n",
       "      <td>0.233350</td>\n",
       "      <td>0.231568</td>\n",
       "      <td>0.222335</td>\n",
       "      <td>0.17558</td>\n",
       "      <td>0.999836</td>\n",
       "      <td>1.221282</td>\n",
       "      <td>1.700252</td>\n",
       "    </tr>\n",
       "    <tr>\n",
       "      <th>2</th>\n",
       "      <td>0.717355</td>\n",
       "      <td>0.212085</td>\n",
       "      <td>0.231007</td>\n",
       "      <td>0.154478</td>\n",
       "      <td>0.211325</td>\n",
       "      <td>0.234730</td>\n",
       "      <td>0.233399</td>\n",
       "      <td>0.222311</td>\n",
       "      <td>0.17558</td>\n",
       "      <td>0.999836</td>\n",
       "      <td>1.221282</td>\n",
       "      <td>1.700252</td>\n",
       "    </tr>\n",
       "    <tr>\n",
       "      <th>3</th>\n",
       "      <td>0.737853</td>\n",
       "      <td>0.223444</td>\n",
       "      <td>0.230741</td>\n",
       "      <td>0.185350</td>\n",
       "      <td>0.211864</td>\n",
       "      <td>0.237096</td>\n",
       "      <td>0.236568</td>\n",
       "      <td>0.222186</td>\n",
       "      <td>0.17558</td>\n",
       "      <td>0.999836</td>\n",
       "      <td>1.221282</td>\n",
       "      <td>1.700252</td>\n",
       "    </tr>\n",
       "    <tr>\n",
       "      <th>4</th>\n",
       "      <td>0.758350</td>\n",
       "      <td>0.231538</td>\n",
       "      <td>0.230891</td>\n",
       "      <td>0.208719</td>\n",
       "      <td>0.211834</td>\n",
       "      <td>0.236718</td>\n",
       "      <td>0.236154</td>\n",
       "      <td>0.221924</td>\n",
       "      <td>0.17558</td>\n",
       "      <td>0.999836</td>\n",
       "      <td>1.221282</td>\n",
       "      <td>1.700252</td>\n",
       "    </tr>\n",
       "    <tr>\n",
       "      <th>...</th>\n",
       "      <td>...</td>\n",
       "      <td>...</td>\n",
       "      <td>...</td>\n",
       "      <td>...</td>\n",
       "      <td>...</td>\n",
       "      <td>...</td>\n",
       "      <td>...</td>\n",
       "      <td>...</td>\n",
       "      <td>...</td>\n",
       "      <td>...</td>\n",
       "      <td>...</td>\n",
       "      <td>...</td>\n",
       "    </tr>\n",
       "    <tr>\n",
       "      <th>18244</th>\n",
       "      <td>1.578371</td>\n",
       "      <td>0.241373</td>\n",
       "      <td>0.230017</td>\n",
       "      <td>0.243857</td>\n",
       "      <td>0.212540</td>\n",
       "      <td>0.229301</td>\n",
       "      <td>0.226665</td>\n",
       "      <td>0.220964</td>\n",
       "      <td>0.17558</td>\n",
       "      <td>1.000164</td>\n",
       "      <td>1.970504</td>\n",
       "      <td>1.700811</td>\n",
       "    </tr>\n",
       "    <tr>\n",
       "      <th>18245</th>\n",
       "      <td>1.557874</td>\n",
       "      <td>0.242296</td>\n",
       "      <td>0.230693</td>\n",
       "      <td>0.242277</td>\n",
       "      <td>0.212540</td>\n",
       "      <td>0.233594</td>\n",
       "      <td>0.232196</td>\n",
       "      <td>0.221403</td>\n",
       "      <td>0.17558</td>\n",
       "      <td>1.000164</td>\n",
       "      <td>1.970504</td>\n",
       "      <td>1.700811</td>\n",
       "    </tr>\n",
       "    <tr>\n",
       "      <th>18246</th>\n",
       "      <td>1.537376</td>\n",
       "      <td>0.242331</td>\n",
       "      <td>0.230693</td>\n",
       "      <td>0.243090</td>\n",
       "      <td>0.205766</td>\n",
       "      <td>0.233463</td>\n",
       "      <td>0.231644</td>\n",
       "      <td>0.222561</td>\n",
       "      <td>0.17558</td>\n",
       "      <td>1.000164</td>\n",
       "      <td>1.970504</td>\n",
       "      <td>1.700811</td>\n",
       "    </tr>\n",
       "    <tr>\n",
       "      <th>18247</th>\n",
       "      <td>1.516879</td>\n",
       "      <td>0.241625</td>\n",
       "      <td>0.230428</td>\n",
       "      <td>0.242651</td>\n",
       "      <td>0.205774</td>\n",
       "      <td>0.231866</td>\n",
       "      <td>0.229543</td>\n",
       "      <td>0.222529</td>\n",
       "      <td>0.17558</td>\n",
       "      <td>1.000164</td>\n",
       "      <td>1.970504</td>\n",
       "      <td>1.700811</td>\n",
       "    </tr>\n",
       "    <tr>\n",
       "      <th>18248</th>\n",
       "      <td>1.496381</td>\n",
       "      <td>0.241253</td>\n",
       "      <td>0.229347</td>\n",
       "      <td>0.243170</td>\n",
       "      <td>0.210450</td>\n",
       "      <td>0.230807</td>\n",
       "      <td>0.228111</td>\n",
       "      <td>0.222628</td>\n",
       "      <td>0.17558</td>\n",
       "      <td>1.000164</td>\n",
       "      <td>1.970504</td>\n",
       "      <td>1.700811</td>\n",
       "    </tr>\n",
       "  </tbody>\n",
       "</table>\n",
       "<p>18249 rows × 12 columns</p>\n",
       "</div>"
      ],
      "text/plain": [
       "           Date  Total Volume      4046      4225      4770  Total Bags  \\\n",
       "0      0.676360      0.227716  0.230816  0.199902  0.212091    0.234170   \n",
       "1      0.696857      0.230427  0.231103  0.208054  0.211997    0.233350   \n",
       "2      0.717355      0.212085  0.231007  0.154478  0.211325    0.234730   \n",
       "3      0.737853      0.223444  0.230741  0.185350  0.211864    0.237096   \n",
       "4      0.758350      0.231538  0.230891  0.208719  0.211834    0.236718   \n",
       "...         ...           ...       ...       ...       ...         ...   \n",
       "18244  1.578371      0.241373  0.230017  0.243857  0.212540    0.229301   \n",
       "18245  1.557874      0.242296  0.230693  0.242277  0.212540    0.233594   \n",
       "18246  1.537376      0.242331  0.230693  0.243090  0.205766    0.233463   \n",
       "18247  1.516879      0.241625  0.230428  0.242651  0.205774    0.231866   \n",
       "18248  1.496381      0.241253  0.229347  0.243170  0.210450    0.230807   \n",
       "\n",
       "       Small Bags  Large Bags  XLarge Bags      type      year    region  \n",
       "0        0.232647    0.222352      0.17558  0.999836  1.221282  1.700252  \n",
       "1        0.231568    0.222335      0.17558  0.999836  1.221282  1.700252  \n",
       "2        0.233399    0.222311      0.17558  0.999836  1.221282  1.700252  \n",
       "3        0.236568    0.222186      0.17558  0.999836  1.221282  1.700252  \n",
       "4        0.236154    0.221924      0.17558  0.999836  1.221282  1.700252  \n",
       "...           ...         ...          ...       ...       ...       ...  \n",
       "18244    0.226665    0.220964      0.17558  1.000164  1.970504  1.700811  \n",
       "18245    0.232196    0.221403      0.17558  1.000164  1.970504  1.700811  \n",
       "18246    0.231644    0.222561      0.17558  1.000164  1.970504  1.700811  \n",
       "18247    0.229543    0.222529      0.17558  1.000164  1.970504  1.700811  \n",
       "18248    0.228111    0.222628      0.17558  1.000164  1.970504  1.700811  \n",
       "\n",
       "[18249 rows x 12 columns]"
      ]
     },
     "execution_count": 80,
     "metadata": {},
     "output_type": "execute_result"
    }
   ],
   "source": [
    "z=np.abs(zscore(x1))\n",
    "z"
   ]
  },
  {
   "cell_type": "code",
   "execution_count": 81,
   "id": "8882a463",
   "metadata": {},
   "outputs": [
    {
     "name": "stdout",
     "output_type": "stream",
     "text": [
      "(array([ 346,  359,  780, ..., 9111, 9112, 9113], dtype=int64), array([2, 2, 8, ..., 7, 7, 7], dtype=int64))\n"
     ]
    }
   ],
   "source": [
    "print(np.where(z>3))\n",
    "\n",
    "thresholds= 3"
   ]
  },
  {
   "cell_type": "code",
   "execution_count": 82,
   "id": "588fbbf6",
   "metadata": {},
   "outputs": [
    {
     "data": {
      "text/html": [
       "<div>\n",
       "<style scoped>\n",
       "    .dataframe tbody tr th:only-of-type {\n",
       "        vertical-align: middle;\n",
       "    }\n",
       "\n",
       "    .dataframe tbody tr th {\n",
       "        vertical-align: top;\n",
       "    }\n",
       "\n",
       "    .dataframe thead th {\n",
       "        text-align: right;\n",
       "    }\n",
       "</style>\n",
       "<table border=\"1\" class=\"dataframe\">\n",
       "  <thead>\n",
       "    <tr style=\"text-align: right;\">\n",
       "      <th></th>\n",
       "      <th>Date</th>\n",
       "      <th>Total Volume</th>\n",
       "      <th>4046</th>\n",
       "      <th>4225</th>\n",
       "      <th>4770</th>\n",
       "      <th>Total Bags</th>\n",
       "      <th>Small Bags</th>\n",
       "      <th>Large Bags</th>\n",
       "      <th>XLarge Bags</th>\n",
       "      <th>type</th>\n",
       "      <th>year</th>\n",
       "      <th>region</th>\n",
       "    </tr>\n",
       "  </thead>\n",
       "  <tbody>\n",
       "    <tr>\n",
       "      <th>0</th>\n",
       "      <td>51.0</td>\n",
       "      <td>64236.62</td>\n",
       "      <td>1036.74</td>\n",
       "      <td>54454.85</td>\n",
       "      <td>48.16</td>\n",
       "      <td>8696.87</td>\n",
       "      <td>8603.62</td>\n",
       "      <td>93.25</td>\n",
       "      <td>0.0</td>\n",
       "      <td>0.0</td>\n",
       "      <td>2015</td>\n",
       "      <td>0.0</td>\n",
       "    </tr>\n",
       "    <tr>\n",
       "      <th>1</th>\n",
       "      <td>50.0</td>\n",
       "      <td>54876.98</td>\n",
       "      <td>674.28</td>\n",
       "      <td>44638.81</td>\n",
       "      <td>58.33</td>\n",
       "      <td>9505.56</td>\n",
       "      <td>9408.07</td>\n",
       "      <td>97.49</td>\n",
       "      <td>0.0</td>\n",
       "      <td>0.0</td>\n",
       "      <td>2015</td>\n",
       "      <td>0.0</td>\n",
       "    </tr>\n",
       "    <tr>\n",
       "      <th>2</th>\n",
       "      <td>49.0</td>\n",
       "      <td>118220.22</td>\n",
       "      <td>794.70</td>\n",
       "      <td>109149.67</td>\n",
       "      <td>130.50</td>\n",
       "      <td>8145.35</td>\n",
       "      <td>8042.21</td>\n",
       "      <td>103.14</td>\n",
       "      <td>0.0</td>\n",
       "      <td>0.0</td>\n",
       "      <td>2015</td>\n",
       "      <td>0.0</td>\n",
       "    </tr>\n",
       "    <tr>\n",
       "      <th>3</th>\n",
       "      <td>48.0</td>\n",
       "      <td>78992.15</td>\n",
       "      <td>1132.00</td>\n",
       "      <td>71976.41</td>\n",
       "      <td>72.58</td>\n",
       "      <td>5811.16</td>\n",
       "      <td>5677.40</td>\n",
       "      <td>133.76</td>\n",
       "      <td>0.0</td>\n",
       "      <td>0.0</td>\n",
       "      <td>2015</td>\n",
       "      <td>0.0</td>\n",
       "    </tr>\n",
       "    <tr>\n",
       "      <th>4</th>\n",
       "      <td>47.0</td>\n",
       "      <td>51039.60</td>\n",
       "      <td>941.48</td>\n",
       "      <td>43838.39</td>\n",
       "      <td>75.78</td>\n",
       "      <td>6183.95</td>\n",
       "      <td>5986.26</td>\n",
       "      <td>197.69</td>\n",
       "      <td>0.0</td>\n",
       "      <td>0.0</td>\n",
       "      <td>2015</td>\n",
       "      <td>0.0</td>\n",
       "    </tr>\n",
       "    <tr>\n",
       "      <th>...</th>\n",
       "      <td>...</td>\n",
       "      <td>...</td>\n",
       "      <td>...</td>\n",
       "      <td>...</td>\n",
       "      <td>...</td>\n",
       "      <td>...</td>\n",
       "      <td>...</td>\n",
       "      <td>...</td>\n",
       "      <td>...</td>\n",
       "      <td>...</td>\n",
       "      <td>...</td>\n",
       "      <td>...</td>\n",
       "    </tr>\n",
       "    <tr>\n",
       "      <th>18244</th>\n",
       "      <td>161.0</td>\n",
       "      <td>17074.83</td>\n",
       "      <td>2046.96</td>\n",
       "      <td>1529.20</td>\n",
       "      <td>0.00</td>\n",
       "      <td>13498.67</td>\n",
       "      <td>13066.82</td>\n",
       "      <td>431.85</td>\n",
       "      <td>0.0</td>\n",
       "      <td>1.0</td>\n",
       "      <td>2018</td>\n",
       "      <td>53.0</td>\n",
       "    </tr>\n",
       "    <tr>\n",
       "      <th>18245</th>\n",
       "      <td>160.0</td>\n",
       "      <td>13888.04</td>\n",
       "      <td>1191.70</td>\n",
       "      <td>3431.50</td>\n",
       "      <td>0.00</td>\n",
       "      <td>9264.84</td>\n",
       "      <td>8940.04</td>\n",
       "      <td>324.80</td>\n",
       "      <td>0.0</td>\n",
       "      <td>1.0</td>\n",
       "      <td>2018</td>\n",
       "      <td>53.0</td>\n",
       "    </tr>\n",
       "    <tr>\n",
       "      <th>18246</th>\n",
       "      <td>159.0</td>\n",
       "      <td>13766.76</td>\n",
       "      <td>1191.92</td>\n",
       "      <td>2452.79</td>\n",
       "      <td>727.94</td>\n",
       "      <td>9394.11</td>\n",
       "      <td>9351.80</td>\n",
       "      <td>42.31</td>\n",
       "      <td>0.0</td>\n",
       "      <td>1.0</td>\n",
       "      <td>2018</td>\n",
       "      <td>53.0</td>\n",
       "    </tr>\n",
       "    <tr>\n",
       "      <th>18247</th>\n",
       "      <td>158.0</td>\n",
       "      <td>16205.22</td>\n",
       "      <td>1527.63</td>\n",
       "      <td>2981.04</td>\n",
       "      <td>727.01</td>\n",
       "      <td>10969.54</td>\n",
       "      <td>10919.54</td>\n",
       "      <td>50.00</td>\n",
       "      <td>0.0</td>\n",
       "      <td>1.0</td>\n",
       "      <td>2018</td>\n",
       "      <td>53.0</td>\n",
       "    </tr>\n",
       "    <tr>\n",
       "      <th>18248</th>\n",
       "      <td>157.0</td>\n",
       "      <td>17489.58</td>\n",
       "      <td>2894.77</td>\n",
       "      <td>2356.13</td>\n",
       "      <td>224.53</td>\n",
       "      <td>12014.15</td>\n",
       "      <td>11988.14</td>\n",
       "      <td>26.01</td>\n",
       "      <td>0.0</td>\n",
       "      <td>1.0</td>\n",
       "      <td>2018</td>\n",
       "      <td>53.0</td>\n",
       "    </tr>\n",
       "  </tbody>\n",
       "</table>\n",
       "<p>18249 rows × 12 columns</p>\n",
       "</div>"
      ],
      "text/plain": [
       "        Date  Total Volume     4046       4225    4770  Total Bags  \\\n",
       "0       51.0      64236.62  1036.74   54454.85   48.16     8696.87   \n",
       "1       50.0      54876.98   674.28   44638.81   58.33     9505.56   \n",
       "2       49.0     118220.22   794.70  109149.67  130.50     8145.35   \n",
       "3       48.0      78992.15  1132.00   71976.41   72.58     5811.16   \n",
       "4       47.0      51039.60   941.48   43838.39   75.78     6183.95   \n",
       "...      ...           ...      ...        ...     ...         ...   \n",
       "18244  161.0      17074.83  2046.96    1529.20    0.00    13498.67   \n",
       "18245  160.0      13888.04  1191.70    3431.50    0.00     9264.84   \n",
       "18246  159.0      13766.76  1191.92    2452.79  727.94     9394.11   \n",
       "18247  158.0      16205.22  1527.63    2981.04  727.01    10969.54   \n",
       "18248  157.0      17489.58  2894.77    2356.13  224.53    12014.15   \n",
       "\n",
       "       Small Bags  Large Bags  XLarge Bags  type  year  region  \n",
       "0         8603.62       93.25          0.0   0.0  2015     0.0  \n",
       "1         9408.07       97.49          0.0   0.0  2015     0.0  \n",
       "2         8042.21      103.14          0.0   0.0  2015     0.0  \n",
       "3         5677.40      133.76          0.0   0.0  2015     0.0  \n",
       "4         5986.26      197.69          0.0   0.0  2015     0.0  \n",
       "...           ...         ...          ...   ...   ...     ...  \n",
       "18244    13066.82      431.85          0.0   1.0  2018    53.0  \n",
       "18245     8940.04      324.80          0.0   1.0  2018    53.0  \n",
       "18246     9351.80       42.31          0.0   1.0  2018    53.0  \n",
       "18247    10919.54       50.00          0.0   1.0  2018    53.0  \n",
       "18248    11988.14       26.01          0.0   1.0  2018    53.0  \n",
       "\n",
       "[18249 rows x 12 columns]"
      ]
     },
     "execution_count": 82,
     "metadata": {},
     "output_type": "execute_result"
    }
   ],
   "source": [
    "df1= x1[(z<3)]\n",
    "df1"
   ]
  },
  {
   "cell_type": "code",
   "execution_count": 83,
   "id": "0539a96b",
   "metadata": {},
   "outputs": [
    {
     "data": {
      "text/plain": [
       "Index(['Date', 'Total Volume', '4046', '4225', '4770', 'Total Bags',\n",
       "       'Small Bags', 'Large Bags', 'XLarge Bags', 'type', 'year', 'region'],\n",
       "      dtype='object')"
      ]
     },
     "execution_count": 83,
     "metadata": {},
     "output_type": "execute_result"
    }
   ],
   "source": [
    "df1.columns"
   ]
  },
  {
   "cell_type": "markdown",
   "id": "534a5717",
   "metadata": {},
   "source": [
    "CHECKING SKEWNESS : PLOTTING DISTRIBUTION GRAPH"
   ]
  },
  {
   "cell_type": "code",
   "execution_count": 84,
   "id": "3298c2b8",
   "metadata": {},
   "outputs": [
    {
     "data": {
      "text/plain": [
       "Index(['Date', 'AveragePrice', 'Total Volume', '4046', '4225', '4770',\n",
       "       'Total Bags', 'Small Bags', 'Large Bags', 'XLarge Bags', 'type', 'year',\n",
       "       'region'],\n",
       "      dtype='object')"
      ]
     },
     "execution_count": 84,
     "metadata": {},
     "output_type": "execute_result"
    }
   ],
   "source": [
    "df.columns"
   ]
  },
  {
   "cell_type": "code",
   "execution_count": 85,
   "id": "851d7645",
   "metadata": {},
   "outputs": [
    {
     "data": {
      "text/plain": [
       "<AxesSubplot:xlabel='Date', ylabel='Density'>"
      ]
     },
     "execution_count": 85,
     "metadata": {},
     "output_type": "execute_result"
    },
    {
     "data": {
      "image/png": "[encoded data removed]",
      "text/plain": [
       "<Figure size 432x288 with 1 Axes>"
      ]
     },
     "metadata": {
      "needs_background": "light"
     },
     "output_type": "display_data"
    }
   ],
   "source": [
    "sns.distplot(df['Date'])"
   ]
  },
  {
   "cell_type": "code",
   "execution_count": 86,
   "id": "0e4a7a44",
   "metadata": {},
   "outputs": [
    {
     "data": {
      "text/plain": [
       "<AxesSubplot:xlabel='AveragePrice', ylabel='Density'>"
      ]
     },
     "execution_count": 86,
     "metadata": {},
     "output_type": "execute_result"
    },
    {
     "data": {
      "image/png": "[encoded data removed]",
      "text/plain": [
       "<Figure size 432x288 with 1 Axes>"
      ]
     },
     "metadata": {
      "needs_background": "light"
     },
     "output_type": "display_data"
    }
   ],
   "source": [
    "sns.distplot(df['AveragePrice'])"
   ]
  },
  {
   "cell_type": "markdown",
   "id": "6001fcee",
   "metadata": {},
   "source": [
    "average price is normally distributed but very slightly skewed to right "
   ]
  },
  {
   "cell_type": "code",
   "execution_count": 87,
   "id": "b3b6ddc0",
   "metadata": {},
   "outputs": [
    {
     "data": {
      "text/plain": [
       "<AxesSubplot:xlabel='Total Volume', ylabel='Density'>"
      ]
     },
     "execution_count": 87,
     "metadata": {},
     "output_type": "execute_result"
    },
    {
     "data": {
      "image/png": "[encoded data removed]",
      "text/plain": [
       "<Figure size 432x288 with 1 Axes>"
      ]
     },
     "metadata": {
      "needs_background": "light"
     },
     "output_type": "display_data"
    }
   ],
   "source": [
    "sns.distplot(df['Total Volume'])"
   ]
  },
  {
   "cell_type": "markdown",
   "id": "44121574",
   "metadata": {},
   "source": [
    "total volume right skewed as the graph data values is spreading towards right"
   ]
  },
  {
   "cell_type": "code",
   "execution_count": 88,
   "id": "96c4f4b6",
   "metadata": {},
   "outputs": [
    {
     "data": {
      "text/plain": [
       "<AxesSubplot:xlabel='4046', ylabel='Density'>"
      ]
     },
     "execution_count": 88,
     "metadata": {},
     "output_type": "execute_result"
    },
    {
     "data": {
      "image/png": "[encoded data removed]",
      "text/plain": [
       "<Figure size 432x288 with 1 Axes>"
      ]
     },
     "metadata": {
      "needs_background": "light"
     },
     "output_type": "display_data"
    }
   ],
   "source": [
    "sns.distplot(df['4046'])"
   ]
  },
  {
   "cell_type": "code",
   "execution_count": 89,
   "id": "d3960944",
   "metadata": {},
   "outputs": [
    {
     "data": {
      "text/plain": [
       "<AxesSubplot:xlabel='4225', ylabel='Density'>"
      ]
     },
     "execution_count": 89,
     "metadata": {},
     "output_type": "execute_result"
    },
    {
     "data": {
      "image/png": "[encoded data removed]",
      "text/plain": [
       "<Figure size 432x288 with 1 Axes>"
      ]
     },
     "metadata": {
      "needs_background": "light"
     },
     "output_type": "display_data"
    }
   ],
   "source": [
    "sns.distplot(df['4225'])"
   ]
  },
  {
   "cell_type": "code",
   "execution_count": 90,
   "id": "82acc3c1",
   "metadata": {},
   "outputs": [
    {
     "data": {
      "text/plain": [
       "<AxesSubplot:xlabel='4770', ylabel='Density'>"
      ]
     },
     "execution_count": 90,
     "metadata": {},
     "output_type": "execute_result"
    },
    {
     "data": {
      "image/png": "[encoded data removed]",
      "text/plain": [
       "<Figure size 432x288 with 1 Axes>"
      ]
     },
     "metadata": {
      "needs_background": "light"
     },
     "output_type": "display_data"
    }
   ],
   "source": [
    "sns.distplot(df['4770'])"
   ]
  },
  {
   "cell_type": "code",
   "execution_count": 91,
   "id": "bad32211",
   "metadata": {},
   "outputs": [
    {
     "data": {
      "text/plain": [
       "<AxesSubplot:xlabel='Total Bags', ylabel='Density'>"
      ]
     },
     "execution_count": 91,
     "metadata": {},
     "output_type": "execute_result"
    },
    {
     "data": {
      "image/png": "[encoded data removed]",
      "text/plain": [
       "<Figure size 432x288 with 1 Axes>"
      ]
     },
     "metadata": {
      "needs_background": "light"
     },
     "output_type": "display_data"
    }
   ],
   "source": [
    "sns.distplot(df['Total Bags'])"
   ]
  },
  {
   "cell_type": "code",
   "execution_count": 92,
   "id": "8668a528",
   "metadata": {},
   "outputs": [
    {
     "data": {
      "text/plain": [
       "<AxesSubplot:xlabel='Small Bags', ylabel='Density'>"
      ]
     },
     "execution_count": 92,
     "metadata": {},
     "output_type": "execute_result"
    },
    {
     "data": {
      "image/png": "[encoded data removed]",
      "text/plain": [
       "<Figure size 432x288 with 1 Axes>"
      ]
     },
     "metadata": {
      "needs_background": "light"
     },
     "output_type": "display_data"
    }
   ],
   "source": [
    "sns.distplot(df['Small Bags'])"
   ]
  },
  {
   "cell_type": "code",
   "execution_count": 93,
   "id": "ef23fb75",
   "metadata": {},
   "outputs": [
    {
     "data": {
      "text/plain": [
       "<AxesSubplot:xlabel='Large Bags', ylabel='Density'>"
      ]
     },
     "execution_count": 93,
     "metadata": {},
     "output_type": "execute_result"
    },
    {
     "data": {
      "image/png": "[encoded data removed]",
      "text/plain": [
       "<Figure size 432x288 with 1 Axes>"
      ]
     },
     "metadata": {
      "needs_background": "light"
     },
     "output_type": "display_data"
    }
   ],
   "source": [
    "sns.distplot(df['Large Bags'])"
   ]
  },
  {
   "cell_type": "code",
   "execution_count": 94,
   "id": "fd460b1e",
   "metadata": {},
   "outputs": [
    {
     "data": {
      "text/plain": [
       "<AxesSubplot:xlabel='XLarge Bags', ylabel='Density'>"
      ]
     },
     "execution_count": 94,
     "metadata": {},
     "output_type": "execute_result"
    },
    {
     "data": {
      "image/png": "[encoded data removed]",
      "text/plain": [
       "<Figure size 432x288 with 1 Axes>"
      ]
     },
     "metadata": {
      "needs_background": "light"
     },
     "output_type": "display_data"
    }
   ],
   "source": [
    "sns.distplot(df['XLarge Bags'])"
   ]
  },
  {
   "cell_type": "code",
   "execution_count": 95,
   "id": "ea8bc70e",
   "metadata": {},
   "outputs": [
    {
     "data": {
      "text/plain": [
       "<AxesSubplot:xlabel='type', ylabel='Density'>"
      ]
     },
     "execution_count": 95,
     "metadata": {},
     "output_type": "execute_result"
    },
    {
     "data": {
      "image/png": "[encoded data removed]",
      "text/plain": [
       "<Figure size 432x288 with 1 Axes>"
      ]
     },
     "metadata": {
      "needs_background": "light"
     },
     "output_type": "display_data"
    }
   ],
   "source": [
    "sns.distplot(df['type'])"
   ]
  },
  {
   "cell_type": "markdown",
   "id": "860d5b73",
   "metadata": {},
   "source": [
    "type showing bi nodal as it contains catagory column data type value."
   ]
  },
  {
   "cell_type": "code",
   "execution_count": 96,
   "id": "3d108f6c",
   "metadata": {},
   "outputs": [
    {
     "data": {
      "text/plain": [
       "<AxesSubplot:xlabel='year', ylabel='Density'>"
      ]
     },
     "execution_count": 96,
     "metadata": {},
     "output_type": "execute_result"
    },
    {
     "data": {
      "image/png": "[encoded data removed]",
      "text/plain": [
       "<Figure size 432x288 with 1 Axes>"
      ]
     },
     "metadata": {
      "needs_background": "light"
     },
     "output_type": "display_data"
    }
   ],
   "source": [
    "sns.distplot(df['year'])"
   ]
  },
  {
   "cell_type": "code",
   "execution_count": 97,
   "id": "50b736b7",
   "metadata": {},
   "outputs": [
    {
     "data": {
      "text/plain": [
       "<AxesSubplot:xlabel='region', ylabel='Density'>"
      ]
     },
     "execution_count": 97,
     "metadata": {},
     "output_type": "execute_result"
    },
    {
     "data": {
      "image/png": "[encoded data removed]",
      "text/plain": [
       "<Figure size 432x288 with 1 Axes>"
      ]
     },
     "metadata": {
      "needs_background": "light"
     },
     "output_type": "display_data"
    }
   ],
   "source": [
    "sns.distplot(df['region'])"
   ]
  },
  {
   "cell_type": "code",
   "execution_count": 98,
   "id": "61d0838c",
   "metadata": {},
   "outputs": [
    {
     "data": {
      "text/plain": [
       "Date            0.000117\n",
       "Total Volume    3.581220\n",
       "4046            4.364381\n",
       "4225            3.945320\n",
       "4770            4.760268\n",
       "Total Bags      4.181288\n",
       "Small Bags      4.010837\n",
       "Large Bags      4.879352\n",
       "XLarge Bags     5.712669\n",
       "type            0.000329\n",
       "year            0.215339\n",
       "region          0.000030\n",
       "dtype: float64"
      ]
     },
     "execution_count": 98,
     "metadata": {},
     "output_type": "execute_result"
    }
   ],
   "source": [
    "df1.skew()"
   ]
  },
  {
   "cell_type": "markdown",
   "id": "bd6f8bf3",
   "metadata": {},
   "source": [
    "REMOVING SKEWNESS : POWER TRANSFORM"
   ]
  },
  {
   "cell_type": "code",
   "execution_count": 99,
   "id": "4d82e6b8",
   "metadata": {},
   "outputs": [],
   "source": [
    "from sklearn.preprocessing import power_transform"
   ]
  },
  {
   "cell_type": "code",
   "execution_count": 100,
   "id": "3bb0ac6c",
   "metadata": {},
   "outputs": [
    {
     "data": {
      "text/plain": [
       "array([[-0.58305373, -0.08790688, -0.6630915 , ..., -0.99983562,\n",
       "        -1.22189489, -2.01155231],\n",
       "       [-0.60532524, -0.15852271, -0.78167347, ..., -0.99983562,\n",
       "        -1.22189489, -2.01155231],\n",
       "       [-0.62772182,  0.18589321, -0.73669075, ..., -0.99983562,\n",
       "        -1.22189489, -2.01155231],\n",
       "       ...,\n",
       "       [ 1.40879579, -0.77732942, -0.6240732 , ...,  1.00016441,\n",
       "         1.96854784,  1.54383806],\n",
       "       [ 1.39266926, -0.70447388, -0.55396108, ...,  1.00016441,\n",
       "         1.96854784,  1.54383806],\n",
       "       [ 1.37651374, -0.67038785, -0.36920842, ...,  1.00016441,\n",
       "         1.96854784,  1.54383806]])"
      ]
     },
     "execution_count": 100,
     "metadata": {},
     "output_type": "execute_result"
    }
   ],
   "source": [
    "df1_modify= power_transform(df1)\n",
    "df1_modify"
   ]
  },
  {
   "cell_type": "code",
   "execution_count": 101,
   "id": "5b9559de",
   "metadata": {},
   "outputs": [
    {
     "data": {
      "text/html": [
       "<div>\n",
       "<style scoped>\n",
       "    .dataframe tbody tr th:only-of-type {\n",
       "        vertical-align: middle;\n",
       "    }\n",
       "\n",
       "    .dataframe tbody tr th {\n",
       "        vertical-align: top;\n",
       "    }\n",
       "\n",
       "    .dataframe thead th {\n",
       "        text-align: right;\n",
       "    }\n",
       "</style>\n",
       "<table border=\"1\" class=\"dataframe\">\n",
       "  <thead>\n",
       "    <tr style=\"text-align: right;\">\n",
       "      <th></th>\n",
       "      <th>Date</th>\n",
       "      <th>Total Volume</th>\n",
       "      <th>4046</th>\n",
       "      <th>4225</th>\n",
       "      <th>4770</th>\n",
       "      <th>Total Bags</th>\n",
       "      <th>Small Bags</th>\n",
       "      <th>Large Bags</th>\n",
       "      <th>XLarge Bags</th>\n",
       "      <th>type</th>\n",
       "      <th>year</th>\n",
       "      <th>region</th>\n",
       "    </tr>\n",
       "  </thead>\n",
       "  <tbody>\n",
       "    <tr>\n",
       "      <th>0</th>\n",
       "      <td>-0.583054</td>\n",
       "      <td>-0.087907</td>\n",
       "      <td>-0.663092</td>\n",
       "      <td>0.325094</td>\n",
       "      <td>-0.231836</td>\n",
       "      <td>-0.536550</td>\n",
       "      <td>-0.351425</td>\n",
       "      <td>-0.784669</td>\n",
       "      <td>-0.688002</td>\n",
       "      <td>-0.999836</td>\n",
       "      <td>-1.221895</td>\n",
       "      <td>-2.011552</td>\n",
       "    </tr>\n",
       "    <tr>\n",
       "      <th>1</th>\n",
       "      <td>-0.605325</td>\n",
       "      <td>-0.158523</td>\n",
       "      <td>-0.781673</td>\n",
       "      <td>0.245235</td>\n",
       "      <td>-0.184866</td>\n",
       "      <td>-0.497993</td>\n",
       "      <td>-0.316244</td>\n",
       "      <td>-0.774765</td>\n",
       "      <td>-0.688002</td>\n",
       "      <td>-0.999836</td>\n",
       "      <td>-1.221895</td>\n",
       "      <td>-2.011552</td>\n",
       "    </tr>\n",
       "    <tr>\n",
       "      <th>2</th>\n",
       "      <td>-0.627722</td>\n",
       "      <td>0.185893</td>\n",
       "      <td>-0.736691</td>\n",
       "      <td>0.614792</td>\n",
       "      <td>0.012686</td>\n",
       "      <td>-0.564832</td>\n",
       "      <td>-0.377788</td>\n",
       "      <td>-0.762155</td>\n",
       "      <td>-0.688002</td>\n",
       "      <td>-0.999836</td>\n",
       "      <td>-1.221895</td>\n",
       "      <td>-2.011552</td>\n",
       "    </tr>\n",
       "    <tr>\n",
       "      <th>3</th>\n",
       "      <td>-0.650247</td>\n",
       "      <td>0.004859</td>\n",
       "      <td>-0.638534</td>\n",
       "      <td>0.439363</td>\n",
       "      <td>-0.131236</td>\n",
       "      <td>-0.708886</td>\n",
       "      <td>-0.511206</td>\n",
       "      <td>-0.703079</td>\n",
       "      <td>-0.688002</td>\n",
       "      <td>-0.999836</td>\n",
       "      <td>-1.221895</td>\n",
       "      <td>-2.011552</td>\n",
       "    </tr>\n",
       "    <tr>\n",
       "      <th>4</th>\n",
       "      <td>-0.672903</td>\n",
       "      <td>-0.191019</td>\n",
       "      <td>-0.689890</td>\n",
       "      <td>0.238029</td>\n",
       "      <td>-0.120648</td>\n",
       "      <td>-0.682574</td>\n",
       "      <td>-0.491189</td>\n",
       "      <td>-0.611541</td>\n",
       "      <td>-0.688002</td>\n",
       "      <td>-0.999836</td>\n",
       "      <td>-1.221895</td>\n",
       "      <td>-2.011552</td>\n",
       "    </tr>\n",
       "    <tr>\n",
       "      <th>...</th>\n",
       "      <td>...</td>\n",
       "      <td>...</td>\n",
       "      <td>...</td>\n",
       "      <td>...</td>\n",
       "      <td>...</td>\n",
       "      <td>...</td>\n",
       "      <td>...</td>\n",
       "      <td>...</td>\n",
       "      <td>...</td>\n",
       "      <td>...</td>\n",
       "      <td>...</td>\n",
       "      <td>...</td>\n",
       "    </tr>\n",
       "    <tr>\n",
       "      <th>18244</th>\n",
       "      <td>1.440963</td>\n",
       "      <td>-0.681114</td>\n",
       "      <td>-0.470125</td>\n",
       "      <td>-0.931298</td>\n",
       "      <td>-1.230800</td>\n",
       "      <td>-0.343934</td>\n",
       "      <td>-0.184378</td>\n",
       "      <td>-0.418312</td>\n",
       "      <td>-0.688002</td>\n",
       "      <td>1.000164</td>\n",
       "      <td>1.968548</td>\n",
       "      <td>1.543838</td>\n",
       "    </tr>\n",
       "    <tr>\n",
       "      <th>18245</th>\n",
       "      <td>1.424894</td>\n",
       "      <td>-0.773412</td>\n",
       "      <td>-0.624125</td>\n",
       "      <td>-0.678041</td>\n",
       "      <td>-1.230800</td>\n",
       "      <td>-0.509136</td>\n",
       "      <td>-0.336364</td>\n",
       "      <td>-0.490347</td>\n",
       "      <td>-0.688002</td>\n",
       "      <td>1.000164</td>\n",
       "      <td>1.968548</td>\n",
       "      <td>1.543838</td>\n",
       "    </tr>\n",
       "    <tr>\n",
       "      <th>18246</th>\n",
       "      <td>1.408796</td>\n",
       "      <td>-0.777329</td>\n",
       "      <td>-0.624073</td>\n",
       "      <td>-0.785276</td>\n",
       "      <td>0.430976</td>\n",
       "      <td>-0.503119</td>\n",
       "      <td>-0.318614</td>\n",
       "      <td>-0.953533</td>\n",
       "      <td>-0.688002</td>\n",
       "      <td>1.000164</td>\n",
       "      <td>1.968548</td>\n",
       "      <td>1.543838</td>\n",
       "    </tr>\n",
       "    <tr>\n",
       "      <th>18247</th>\n",
       "      <td>1.392669</td>\n",
       "      <td>-0.704474</td>\n",
       "      <td>-0.553961</td>\n",
       "      <td>-0.723341</td>\n",
       "      <td>0.430668</td>\n",
       "      <td>-0.435451</td>\n",
       "      <td>-0.256944</td>\n",
       "      <td>-0.918986</td>\n",
       "      <td>-0.688002</td>\n",
       "      <td>1.000164</td>\n",
       "      <td>1.968548</td>\n",
       "      <td>1.543838</td>\n",
       "    </tr>\n",
       "    <tr>\n",
       "      <th>18248</th>\n",
       "      <td>1.376514</td>\n",
       "      <td>-0.670388</td>\n",
       "      <td>-0.369208</td>\n",
       "      <td>-0.797921</td>\n",
       "      <td>0.145439</td>\n",
       "      <td>-0.395463</td>\n",
       "      <td>-0.219358</td>\n",
       "      <td>-1.050606</td>\n",
       "      <td>-0.688002</td>\n",
       "      <td>1.000164</td>\n",
       "      <td>1.968548</td>\n",
       "      <td>1.543838</td>\n",
       "    </tr>\n",
       "  </tbody>\n",
       "</table>\n",
       "<p>18249 rows × 12 columns</p>\n",
       "</div>"
      ],
      "text/plain": [
       "           Date  Total Volume      4046      4225      4770  Total Bags  \\\n",
       "0     -0.583054     -0.087907 -0.663092  0.325094 -0.231836   -0.536550   \n",
       "1     -0.605325     -0.158523 -0.781673  0.245235 -0.184866   -0.497993   \n",
       "2     -0.627722      0.185893 -0.736691  0.614792  0.012686   -0.564832   \n",
       "3     -0.650247      0.004859 -0.638534  0.439363 -0.131236   -0.708886   \n",
       "4     -0.672903     -0.191019 -0.689890  0.238029 -0.120648   -0.682574   \n",
       "...         ...           ...       ...       ...       ...         ...   \n",
       "18244  1.440963     -0.681114 -0.470125 -0.931298 -1.230800   -0.343934   \n",
       "18245  1.424894     -0.773412 -0.624125 -0.678041 -1.230800   -0.509136   \n",
       "18246  1.408796     -0.777329 -0.624073 -0.785276  0.430976   -0.503119   \n",
       "18247  1.392669     -0.704474 -0.553961 -0.723341  0.430668   -0.435451   \n",
       "18248  1.376514     -0.670388 -0.369208 -0.797921  0.145439   -0.395463   \n",
       "\n",
       "       Small Bags  Large Bags  XLarge Bags      type      year    region  \n",
       "0       -0.351425   -0.784669    -0.688002 -0.999836 -1.221895 -2.011552  \n",
       "1       -0.316244   -0.774765    -0.688002 -0.999836 -1.221895 -2.011552  \n",
       "2       -0.377788   -0.762155    -0.688002 -0.999836 -1.221895 -2.011552  \n",
       "3       -0.511206   -0.703079    -0.688002 -0.999836 -1.221895 -2.011552  \n",
       "4       -0.491189   -0.611541    -0.688002 -0.999836 -1.221895 -2.011552  \n",
       "...           ...         ...          ...       ...       ...       ...  \n",
       "18244   -0.184378   -0.418312    -0.688002  1.000164  1.968548  1.543838  \n",
       "18245   -0.336364   -0.490347    -0.688002  1.000164  1.968548  1.543838  \n",
       "18246   -0.318614   -0.953533    -0.688002  1.000164  1.968548  1.543838  \n",
       "18247   -0.256944   -0.918986    -0.688002  1.000164  1.968548  1.543838  \n",
       "18248   -0.219358   -1.050606    -0.688002  1.000164  1.968548  1.543838  \n",
       "\n",
       "[18249 rows x 12 columns]"
      ]
     },
     "execution_count": 101,
     "metadata": {},
     "output_type": "execute_result"
    }
   ],
   "source": [
    "X1= pd.DataFrame( df1_modify, columns=df1.columns)\n",
    "X1"
   ]
  },
  {
   "cell_type": "code",
   "execution_count": 102,
   "id": "bb6a9f89",
   "metadata": {},
   "outputs": [
    {
     "data": {
      "text/plain": [
       "XLarge Bags     0.825205\n",
       "year            0.213156\n",
       "4770            0.024811\n",
       "type            0.000329\n",
       "Total Volume   -0.001874\n",
       "Total Bags     -0.016455\n",
       "Small Bags     -0.019981\n",
       "4046           -0.036548\n",
       "4225           -0.042008\n",
       "Large Bags     -0.108237\n",
       "region         -0.261443\n",
       "Date           -0.277806\n",
       "dtype: float64"
      ]
     },
     "execution_count": 102,
     "metadata": {},
     "output_type": "execute_result"
    }
   ],
   "source": [
    "X1.skew().sort_values(ascending=False)"
   ]
  },
  {
   "cell_type": "markdown",
   "id": "0255f779",
   "metadata": {},
   "source": [
    "the skewness is being removed from data sets of X,\n",
    "all values lie between -1/+1 range"
   ]
  },
  {
   "cell_type": "markdown",
   "id": "09aa45d4",
   "metadata": {},
   "source": [
    "TRAINING PROCESS FOR TARGET VARIABLE OF AVERAGE PRICE"
   ]
  },
  {
   "cell_type": "markdown",
   "id": "5c7dd314",
   "metadata": {},
   "source": [
    "df1 data sets is being saved for target variable of average price."
   ]
  },
  {
   "cell_type": "code",
   "execution_count": 103,
   "id": "d1ac44ea",
   "metadata": {},
   "outputs": [],
   "source": [
    "#from sklearn.preprocessing import StandardScalar\n",
    "from sklearn.model_selection import train_test_split\n",
    "from sklearn.metrics import r2_score, accuracy_score, classification_report\n",
    "\n",
    "\n",
    "from sklearn.linear_model import LinearRegression, Lasso,LassoCV,Ridge,RidgeCV\n",
    "from sklearn.tree import DecisionTreeRegressor\n",
    "from sklearn.ensemble import RandomForestRegressor\n",
    "from sklearn.svm import SVR\n"
   ]
  },
  {
   "cell_type": "code",
   "execution_count": 104,
   "id": "d51d43c1",
   "metadata": {},
   "outputs": [
    {
     "data": {
      "text/html": [
       "<div>\n",
       "<style scoped>\n",
       "    .dataframe tbody tr th:only-of-type {\n",
       "        vertical-align: middle;\n",
       "    }\n",
       "\n",
       "    .dataframe tbody tr th {\n",
       "        vertical-align: top;\n",
       "    }\n",
       "\n",
       "    .dataframe thead th {\n",
       "        text-align: right;\n",
       "    }\n",
       "</style>\n",
       "<table border=\"1\" class=\"dataframe\">\n",
       "  <thead>\n",
       "    <tr style=\"text-align: right;\">\n",
       "      <th></th>\n",
       "      <th>Date</th>\n",
       "      <th>Total Volume</th>\n",
       "      <th>4046</th>\n",
       "      <th>4225</th>\n",
       "      <th>4770</th>\n",
       "      <th>Total Bags</th>\n",
       "      <th>Small Bags</th>\n",
       "      <th>Large Bags</th>\n",
       "      <th>XLarge Bags</th>\n",
       "      <th>type</th>\n",
       "      <th>year</th>\n",
       "      <th>region</th>\n",
       "    </tr>\n",
       "  </thead>\n",
       "  <tbody>\n",
       "    <tr>\n",
       "      <th>0</th>\n",
       "      <td>-0.583054</td>\n",
       "      <td>-0.087907</td>\n",
       "      <td>-0.663092</td>\n",
       "      <td>0.325094</td>\n",
       "      <td>-0.231836</td>\n",
       "      <td>-0.536550</td>\n",
       "      <td>-0.351425</td>\n",
       "      <td>-0.784669</td>\n",
       "      <td>-0.688002</td>\n",
       "      <td>-0.999836</td>\n",
       "      <td>-1.221895</td>\n",
       "      <td>-2.011552</td>\n",
       "    </tr>\n",
       "    <tr>\n",
       "      <th>1</th>\n",
       "      <td>-0.605325</td>\n",
       "      <td>-0.158523</td>\n",
       "      <td>-0.781673</td>\n",
       "      <td>0.245235</td>\n",
       "      <td>-0.184866</td>\n",
       "      <td>-0.497993</td>\n",
       "      <td>-0.316244</td>\n",
       "      <td>-0.774765</td>\n",
       "      <td>-0.688002</td>\n",
       "      <td>-0.999836</td>\n",
       "      <td>-1.221895</td>\n",
       "      <td>-2.011552</td>\n",
       "    </tr>\n",
       "    <tr>\n",
       "      <th>2</th>\n",
       "      <td>-0.627722</td>\n",
       "      <td>0.185893</td>\n",
       "      <td>-0.736691</td>\n",
       "      <td>0.614792</td>\n",
       "      <td>0.012686</td>\n",
       "      <td>-0.564832</td>\n",
       "      <td>-0.377788</td>\n",
       "      <td>-0.762155</td>\n",
       "      <td>-0.688002</td>\n",
       "      <td>-0.999836</td>\n",
       "      <td>-1.221895</td>\n",
       "      <td>-2.011552</td>\n",
       "    </tr>\n",
       "    <tr>\n",
       "      <th>3</th>\n",
       "      <td>-0.650247</td>\n",
       "      <td>0.004859</td>\n",
       "      <td>-0.638534</td>\n",
       "      <td>0.439363</td>\n",
       "      <td>-0.131236</td>\n",
       "      <td>-0.708886</td>\n",
       "      <td>-0.511206</td>\n",
       "      <td>-0.703079</td>\n",
       "      <td>-0.688002</td>\n",
       "      <td>-0.999836</td>\n",
       "      <td>-1.221895</td>\n",
       "      <td>-2.011552</td>\n",
       "    </tr>\n",
       "    <tr>\n",
       "      <th>4</th>\n",
       "      <td>-0.672903</td>\n",
       "      <td>-0.191019</td>\n",
       "      <td>-0.689890</td>\n",
       "      <td>0.238029</td>\n",
       "      <td>-0.120648</td>\n",
       "      <td>-0.682574</td>\n",
       "      <td>-0.491189</td>\n",
       "      <td>-0.611541</td>\n",
       "      <td>-0.688002</td>\n",
       "      <td>-0.999836</td>\n",
       "      <td>-1.221895</td>\n",
       "      <td>-2.011552</td>\n",
       "    </tr>\n",
       "    <tr>\n",
       "      <th>...</th>\n",
       "      <td>...</td>\n",
       "      <td>...</td>\n",
       "      <td>...</td>\n",
       "      <td>...</td>\n",
       "      <td>...</td>\n",
       "      <td>...</td>\n",
       "      <td>...</td>\n",
       "      <td>...</td>\n",
       "      <td>...</td>\n",
       "      <td>...</td>\n",
       "      <td>...</td>\n",
       "      <td>...</td>\n",
       "    </tr>\n",
       "    <tr>\n",
       "      <th>18244</th>\n",
       "      <td>1.440963</td>\n",
       "      <td>-0.681114</td>\n",
       "      <td>-0.470125</td>\n",
       "      <td>-0.931298</td>\n",
       "      <td>-1.230800</td>\n",
       "      <td>-0.343934</td>\n",
       "      <td>-0.184378</td>\n",
       "      <td>-0.418312</td>\n",
       "      <td>-0.688002</td>\n",
       "      <td>1.000164</td>\n",
       "      <td>1.968548</td>\n",
       "      <td>1.543838</td>\n",
       "    </tr>\n",
       "    <tr>\n",
       "      <th>18245</th>\n",
       "      <td>1.424894</td>\n",
       "      <td>-0.773412</td>\n",
       "      <td>-0.624125</td>\n",
       "      <td>-0.678041</td>\n",
       "      <td>-1.230800</td>\n",
       "      <td>-0.509136</td>\n",
       "      <td>-0.336364</td>\n",
       "      <td>-0.490347</td>\n",
       "      <td>-0.688002</td>\n",
       "      <td>1.000164</td>\n",
       "      <td>1.968548</td>\n",
       "      <td>1.543838</td>\n",
       "    </tr>\n",
       "    <tr>\n",
       "      <th>18246</th>\n",
       "      <td>1.408796</td>\n",
       "      <td>-0.777329</td>\n",
       "      <td>-0.624073</td>\n",
       "      <td>-0.785276</td>\n",
       "      <td>0.430976</td>\n",
       "      <td>-0.503119</td>\n",
       "      <td>-0.318614</td>\n",
       "      <td>-0.953533</td>\n",
       "      <td>-0.688002</td>\n",
       "      <td>1.000164</td>\n",
       "      <td>1.968548</td>\n",
       "      <td>1.543838</td>\n",
       "    </tr>\n",
       "    <tr>\n",
       "      <th>18247</th>\n",
       "      <td>1.392669</td>\n",
       "      <td>-0.704474</td>\n",
       "      <td>-0.553961</td>\n",
       "      <td>-0.723341</td>\n",
       "      <td>0.430668</td>\n",
       "      <td>-0.435451</td>\n",
       "      <td>-0.256944</td>\n",
       "      <td>-0.918986</td>\n",
       "      <td>-0.688002</td>\n",
       "      <td>1.000164</td>\n",
       "      <td>1.968548</td>\n",
       "      <td>1.543838</td>\n",
       "    </tr>\n",
       "    <tr>\n",
       "      <th>18248</th>\n",
       "      <td>1.376514</td>\n",
       "      <td>-0.670388</td>\n",
       "      <td>-0.369208</td>\n",
       "      <td>-0.797921</td>\n",
       "      <td>0.145439</td>\n",
       "      <td>-0.395463</td>\n",
       "      <td>-0.219358</td>\n",
       "      <td>-1.050606</td>\n",
       "      <td>-0.688002</td>\n",
       "      <td>1.000164</td>\n",
       "      <td>1.968548</td>\n",
       "      <td>1.543838</td>\n",
       "    </tr>\n",
       "  </tbody>\n",
       "</table>\n",
       "<p>18249 rows × 12 columns</p>\n",
       "</div>"
      ],
      "text/plain": [
       "           Date  Total Volume      4046      4225      4770  Total Bags  \\\n",
       "0     -0.583054     -0.087907 -0.663092  0.325094 -0.231836   -0.536550   \n",
       "1     -0.605325     -0.158523 -0.781673  0.245235 -0.184866   -0.497993   \n",
       "2     -0.627722      0.185893 -0.736691  0.614792  0.012686   -0.564832   \n",
       "3     -0.650247      0.004859 -0.638534  0.439363 -0.131236   -0.708886   \n",
       "4     -0.672903     -0.191019 -0.689890  0.238029 -0.120648   -0.682574   \n",
       "...         ...           ...       ...       ...       ...         ...   \n",
       "18244  1.440963     -0.681114 -0.470125 -0.931298 -1.230800   -0.343934   \n",
       "18245  1.424894     -0.773412 -0.624125 -0.678041 -1.230800   -0.509136   \n",
       "18246  1.408796     -0.777329 -0.624073 -0.785276  0.430976   -0.503119   \n",
       "18247  1.392669     -0.704474 -0.553961 -0.723341  0.430668   -0.435451   \n",
       "18248  1.376514     -0.670388 -0.369208 -0.797921  0.145439   -0.395463   \n",
       "\n",
       "       Small Bags  Large Bags  XLarge Bags      type      year    region  \n",
       "0       -0.351425   -0.784669    -0.688002 -0.999836 -1.221895 -2.011552  \n",
       "1       -0.316244   -0.774765    -0.688002 -0.999836 -1.221895 -2.011552  \n",
       "2       -0.377788   -0.762155    -0.688002 -0.999836 -1.221895 -2.011552  \n",
       "3       -0.511206   -0.703079    -0.688002 -0.999836 -1.221895 -2.011552  \n",
       "4       -0.491189   -0.611541    -0.688002 -0.999836 -1.221895 -2.011552  \n",
       "...           ...         ...          ...       ...       ...       ...  \n",
       "18244   -0.184378   -0.418312    -0.688002  1.000164  1.968548  1.543838  \n",
       "18245   -0.336364   -0.490347    -0.688002  1.000164  1.968548  1.543838  \n",
       "18246   -0.318614   -0.953533    -0.688002  1.000164  1.968548  1.543838  \n",
       "18247   -0.256944   -0.918986    -0.688002  1.000164  1.968548  1.543838  \n",
       "18248   -0.219358   -1.050606    -0.688002  1.000164  1.968548  1.543838  \n",
       "\n",
       "[18249 rows x 12 columns]"
      ]
     },
     "execution_count": 104,
     "metadata": {},
     "output_type": "execute_result"
    }
   ],
   "source": [
    "X1"
   ]
  },
  {
   "cell_type": "code",
   "execution_count": 105,
   "id": "58568269",
   "metadata": {},
   "outputs": [
    {
     "data": {
      "text/plain": [
       "Date              0\n",
       "Total Volume    171\n",
       "4046            181\n",
       "4225            180\n",
       "4770            259\n",
       "Total Bags      187\n",
       "Small Bags      179\n",
       "Large Bags      251\n",
       "XLarge Bags     234\n",
       "type              0\n",
       "year              0\n",
       "region            0\n",
       "dtype: int64"
      ]
     },
     "execution_count": 105,
     "metadata": {},
     "output_type": "execute_result"
    }
   ],
   "source": [
    "X1.isnull().sum()"
   ]
  },
  {
   "cell_type": "code",
   "execution_count": 106,
   "id": "8f414ced",
   "metadata": {},
   "outputs": [],
   "source": [
    "X1['Total Volume']= X1['Total Volume'].fillna(X1['Total Volume'].mean())\n",
    "X1['4046']=X1['4046'].fillna(X1['4046'].mean())\n",
    "X1['4225']=X1['4225'].fillna(X1['4225'].mean())\n",
    "X1['4770']=X1['4770'].fillna(X1['4770'].mean())\n",
    "X1['Total Bags']=X1['Total Bags'].fillna(X1['Total Bags'].mean())\n",
    "X1['Small Bags']=X1['Small Bags'].fillna(X1['Small Bags'].mean())\n",
    "X1['Large Bags']=X1['Large Bags'].fillna(X1['Large Bags'].mean())\n",
    "X1['XLarge Bags']=X1['XLarge Bags'].fillna(X1['XLarge Bags'].mean())"
   ]
  },
  {
   "cell_type": "code",
   "execution_count": 107,
   "id": "986aeae7",
   "metadata": {},
   "outputs": [
    {
     "data": {
      "text/plain": [
       "0"
      ]
     },
     "execution_count": 107,
     "metadata": {},
     "output_type": "execute_result"
    }
   ],
   "source": [
    "X1.isnull().sum().sum()"
   ]
  },
  {
   "cell_type": "code",
   "execution_count": 108,
   "id": "a037fac9",
   "metadata": {},
   "outputs": [
    {
     "data": {
      "text/plain": [
       "Date           -0.277806\n",
       "Total Volume   -0.001883\n",
       "4046           -0.036731\n",
       "4225           -0.042217\n",
       "4770            0.024989\n",
       "Total Bags     -0.016540\n",
       "Small Bags     -0.020080\n",
       "Large Bags     -0.108989\n",
       "XLarge Bags     0.830546\n",
       "type            0.000329\n",
       "year            0.213156\n",
       "region         -0.261443\n",
       "dtype: float64"
      ]
     },
     "execution_count": 108,
     "metadata": {},
     "output_type": "execute_result"
    }
   ],
   "source": [
    "X1.skew()"
   ]
  },
  {
   "cell_type": "code",
   "execution_count": 109,
   "id": "797f43d4",
   "metadata": {},
   "outputs": [
    {
     "data": {
      "text/plain": [
       "0        1.33\n",
       "1        1.35\n",
       "2        0.93\n",
       "3        1.08\n",
       "4        1.28\n",
       "         ... \n",
       "18244    1.63\n",
       "18245    1.71\n",
       "18246    1.87\n",
       "18247    1.93\n",
       "18248    1.62\n",
       "Name: AveragePrice, Length: 18249, dtype: float64"
      ]
     },
     "execution_count": 109,
     "metadata": {},
     "output_type": "execute_result"
    }
   ],
   "source": [
    "y1"
   ]
  },
  {
   "cell_type": "code",
   "execution_count": 110,
   "id": "888b4148",
   "metadata": {},
   "outputs": [
    {
     "name": "stdout",
     "output_type": "stream",
     "text": [
      "score 0.5490029911909555 random state 1\n",
      "max accuracy 0.5490029911909555 max random state 1\n",
      "score 0.5375388033694961 random state 2\n",
      "score 0.5604428539254194 random state 3\n",
      "max accuracy 0.5604428539254194 max random state 3\n",
      "score 0.5450541924746358 random state 4\n",
      "score 0.5439241136048791 random state 5\n",
      "score 0.5595414990759553 random state 6\n",
      "score 0.5515552817744569 random state 7\n",
      "score 0.5501147531180517 random state 8\n",
      "score 0.5395491488845142 random state 9\n",
      "score 0.5559014706206993 random state 10\n",
      "score 0.546441238707914 random state 11\n",
      "score 0.5544515087926151 random state 12\n",
      "score 0.5580044473939665 random state 13\n",
      "score 0.5523799735617148 random state 14\n",
      "score 0.549313406642747 random state 15\n",
      "score 0.5359588158545268 random state 16\n",
      "score 0.5489467127079144 random state 17\n",
      "score 0.5461806070369399 random state 18\n",
      "score 0.5354164899466551 random state 19\n",
      "score 0.5592704021300778 random state 20\n",
      "score 0.5465752897273469 random state 21\n",
      "score 0.5462139402658822 random state 22\n",
      "score 0.553209821579858 random state 23\n",
      "score 0.5494072343861038 random state 24\n",
      "score 0.5476042983585411 random state 25\n",
      "score 0.5575969692418545 random state 26\n",
      "score 0.5575057272233022 random state 27\n",
      "score 0.5537473807909095 random state 28\n",
      "score 0.565768061712914 random state 29\n",
      "max accuracy 0.565768061712914 max random state 29\n",
      "score 0.5498846864304916 random state 30\n",
      "score 0.5422323399372465 random state 31\n",
      "score 0.5244804963807028 random state 32\n",
      "score 0.5584793465180453 random state 33\n",
      "score 0.5508954255547476 random state 34\n",
      "score 0.548468201577124 random state 35\n",
      "score 0.5368849100323145 random state 36\n",
      "score 0.551345578626236 random state 37\n",
      "score 0.556748708727426 random state 38\n",
      "score 0.5498505185727054 random state 39\n",
      "score 0.5440089062766189 random state 40\n",
      "score 0.5543185666063863 random state 41\n",
      "score 0.5383413799203061 random state 42\n",
      "score 0.5544196708046794 random state 43\n",
      "score 0.5366732410303436 random state 44\n",
      "score 0.5449600342340304 random state 45\n",
      "score 0.5499552616190764 random state 46\n",
      "score 0.5457596570363252 random state 47\n",
      "score 0.5572044953962196 random state 48\n",
      "score 0.5586908612757426 random state 49\n",
      "score 0.5562998086226212 random state 50\n",
      "score 0.5571921829794899 random state 51\n",
      "score 0.5497836899633632 random state 52\n",
      "score 0.5454288877116928 random state 53\n",
      "score 0.5389886262550488 random state 54\n",
      "score 0.5431204462921744 random state 55\n",
      "score 0.5500220923015573 random state 56\n",
      "score 0.5563334854040052 random state 57\n",
      "score 0.5464031667172473 random state 58\n",
      "score 0.5344897425950437 random state 59\n",
      "score 0.5395600799852633 random state 60\n",
      "score 0.5413662484750097 random state 61\n",
      "score 0.5559662321059535 random state 62\n",
      "score 0.5524260921573312 random state 63\n",
      "score 0.5396932316733021 random state 64\n",
      "score 0.5477392017875553 random state 65\n",
      "score 0.553414927918014 random state 66\n",
      "score 0.5362445326138487 random state 67\n",
      "score 0.5563566914996353 random state 68\n",
      "score 0.5544332514178134 random state 69\n",
      "score 0.5484908712098742 random state 70\n",
      "score 0.5479370614944274 random state 71\n",
      "score 0.5326299624295688 random state 72\n",
      "score 0.5405315310575389 random state 73\n",
      "score 0.5451199827164863 random state 74\n",
      "score 0.5409679615537759 random state 75\n",
      "score 0.5556770469536444 random state 76\n",
      "score 0.5546262784903633 random state 77\n",
      "score 0.5551068168745164 random state 78\n",
      "score 0.5670313074991722 random state 79\n",
      "max accuracy 0.5670313074991722 max random state 79\n",
      "score 0.5391678590257405 random state 80\n",
      "score 0.5524680676614638 random state 81\n",
      "score 0.5486479984200934 random state 82\n",
      "score 0.5475781244204192 random state 83\n",
      "score 0.544193011041997 random state 84\n",
      "score 0.5497126969722074 random state 85\n",
      "score 0.5449135064694879 random state 86\n",
      "score 0.5560237505570371 random state 87\n",
      "score 0.5623730931665512 random state 88\n",
      "score 0.5464654899245555 random state 89\n",
      "score 0.5335395401455614 random state 90\n",
      "score 0.5477243362914286 random state 91\n",
      "score 0.5563587992107613 random state 92\n",
      "score 0.5538186837593146 random state 93\n",
      "score 0.5652760238845962 random state 94\n",
      "score 0.5487893010230993 random state 95\n",
      "score 0.5570989083933664 random state 96\n",
      "score 0.5370700133700432 random state 97\n",
      "score 0.5487959016367323 random state 98\n",
      "score 0.547232157377282 random state 99\n",
      "score 0.5462750253534385 random state 100\n",
      "score 0.5481002484047905 random state 101\n",
      "score 0.5425149363330908 random state 102\n",
      "score 0.5422795442267092 random state 103\n",
      "score 0.5571689224673919 random state 104\n",
      "score 0.5464091367104149 random state 105\n",
      "score 0.5282530110334369 random state 106\n",
      "score 0.5547611983236562 random state 107\n",
      "score 0.5511626363149376 random state 108\n",
      "score 0.5524000136948675 random state 109\n",
      "score 0.551020152364663 random state 110\n",
      "score 0.5427131609257414 random state 111\n",
      "score 0.5359765817142033 random state 112\n",
      "score 0.5660135169114092 random state 113\n",
      "score 0.5584752370355657 random state 114\n",
      "score 0.5533410442266428 random state 115\n",
      "score 0.5698922349451283 random state 116\n",
      "max accuracy 0.5698922349451283 max random state 116\n",
      "score 0.5433536785060805 random state 117\n",
      "score 0.557332688324766 random state 118\n",
      "score 0.5482679979607612 random state 119\n",
      "score 0.545078230595152 random state 120\n",
      "score 0.5518125192465886 random state 121\n",
      "score 0.5493087599079158 random state 122\n",
      "score 0.5514523699351985 random state 123\n",
      "score 0.5335658070974012 random state 124\n",
      "score 0.5466463651993829 random state 125\n",
      "score 0.5572548025344526 random state 126\n",
      "score 0.5537411534821118 random state 127\n",
      "score 0.5524921239371312 random state 128\n",
      "score 0.5471806998124871 random state 129\n",
      "score 0.5480288509715259 random state 130\n",
      "score 0.5457778811715339 random state 131\n",
      "score 0.5496411531176959 random state 132\n",
      "score 0.5497102033871044 random state 133\n",
      "score 0.5454962175715607 random state 134\n",
      "score 0.5561691556087456 random state 135\n",
      "score 0.5606350630525242 random state 136\n",
      "score 0.5407297158199234 random state 137\n",
      "score 0.5460051914570223 random state 138\n",
      "score 0.5469710987017278 random state 139\n",
      "score 0.5498283476373258 random state 140\n",
      "score 0.5477287564036454 random state 141\n",
      "score 0.552174578006688 random state 142\n",
      "score 0.5483479651072142 random state 143\n",
      "score 0.5568183389925295 random state 144\n",
      "score 0.546584339888059 random state 145\n",
      "score 0.5452912194103284 random state 146\n",
      "score 0.5396578231131581 random state 147\n",
      "score 0.5510174579258689 random state 148\n",
      "score 0.5476597546112584 random state 149\n",
      "score 0.5387518167683534 random state 150\n",
      "score 0.5409165166804415 random state 151\n",
      "score 0.5610402247710538 random state 152\n",
      "score 0.5508977433109021 random state 153\n",
      "score 0.5428772055547287 random state 154\n",
      "score 0.5505781802871902 random state 155\n",
      "score 0.5498103468675837 random state 156\n",
      "score 0.5466861204693987 random state 157\n",
      "score 0.543253142128372 random state 158\n",
      "score 0.5588913139766593 random state 159\n",
      "score 0.5525260982810793 random state 160\n",
      "score 0.5593886298429049 random state 161\n",
      "score 0.5362616286980968 random state 162\n",
      "score 0.5495424735594887 random state 163\n",
      "score 0.5551494391405403 random state 164\n",
      "score 0.5425811702505122 random state 165\n",
      "score 0.5565637690070051 random state 166\n",
      "score 0.5578508959326005 random state 167\n",
      "score 0.5623536527379811 random state 168\n",
      "score 0.5360336814892224 random state 169\n",
      "score 0.5399169752532711 random state 170\n",
      "score 0.5415419497240351 random state 171\n",
      "score 0.5457464980311287 random state 172\n",
      "score 0.5510999150613723 random state 173\n",
      "score 0.5601515517553398 random state 174\n",
      "score 0.5369420241687883 random state 175\n",
      "score 0.5443760136709659 random state 176\n",
      "score 0.5429298669021607 random state 177\n",
      "score 0.548716532866069 random state 178\n",
      "score 0.5525944573130585 random state 179\n",
      "score 0.5479065926267757 random state 180\n",
      "score 0.5351402104561482 random state 181\n",
      "score 0.5485701255009192 random state 182\n",
      "score 0.555350052096754 random state 183\n",
      "score 0.5369751506365762 random state 184\n",
      "score 0.5552076772199854 random state 185\n",
      "score 0.5500856895658749 random state 186\n",
      "score 0.5489554631753496 random state 187\n",
      "score 0.5614048017848103 random state 188\n",
      "score 0.5687142502262529 random state 189\n",
      "score 0.5491210118089567 random state 190\n",
      "score 0.5506559549440793 random state 191\n",
      "score 0.5421678047355452 random state 192\n",
      "score 0.5555080144634521 random state 193\n",
      "score 0.558304833549572 random state 194\n",
      "score 0.5338510669300585 random state 195\n",
      "score 0.5504158049281852 random state 196\n",
      "score 0.5466749511108406 random state 197\n",
      "score 0.5579437999412039 random state 198\n",
      "score 0.544596703438765 random state 199\n"
     ]
    }
   ],
   "source": [
    "maxAcc=0\n",
    "maxRs=0\n",
    "\n",
    "for i in range(1,200):\n",
    "    x_train, x_test, y_train, y_test= train_test_split(X1, y1, test_size=0.3, random_state=i)\n",
    "    lr=LinearRegression()\n",
    "    lr.fit(x_train, y_train)\n",
    "    y_pred=lr.predict(x_test)\n",
    "    score=r2_score(y_test, y_pred)\n",
    "    print('score',score, 'random state', i)\n",
    "    \n",
    "    if(score>maxAcc):\n",
    "        maxAcc=score\n",
    "        maxRs=i\n",
    "        print('max accuracy', maxAcc, 'max random state', i)"
   ]
  },
  {
   "cell_type": "markdown",
   "id": "64b6ab2b",
   "metadata": {},
   "source": [
    "here we receive output which is having max random state at 116 at 56.98922%"
   ]
  },
  {
   "cell_type": "code",
   "execution_count": 111,
   "id": "d40ccbb9",
   "metadata": {},
   "outputs": [],
   "source": [
    "x1_train, x1_test, y1_train, y1_test=train_test_split(X1, y1, test_size=0.3, random_state=116)"
   ]
  },
  {
   "cell_type": "markdown",
   "id": "f91987a1",
   "metadata": {},
   "source": [
    "MODEL 1: LINEAR REGRESSION"
   ]
  },
  {
   "cell_type": "code",
   "execution_count": 112,
   "id": "178ee18a",
   "metadata": {},
   "outputs": [
    {
     "name": "stdout",
     "output_type": "stream",
     "text": [
      "training score is  0.5409006979088405\n",
      "testing score is  0.5698922349451283\n",
      "r2 score is  0.5698922349451283\n"
     ]
    }
   ],
   "source": [
    "lr= LinearRegression()\n",
    "lr.fit(x1_train, y1_train)\n",
    "\n",
    "a=lr.score(x1_train, y1_train)\n",
    "b=lr.score(x1_test, y1_test)\n",
    "y1_pred= lr.predict(x1_test)\n",
    "c=r2_score(y1_test, y1_pred)\n",
    "\n",
    "print('training score is ', a)\n",
    "print('testing score is ', b)\n",
    "print('r2 score is ', c)"
   ]
  },
  {
   "cell_type": "markdown",
   "id": "890642da",
   "metadata": {},
   "source": [
    "MODEL 2: DECISION TREE REGRESSOR"
   ]
  },
  {
   "cell_type": "code",
   "execution_count": 113,
   "id": "4decb891",
   "metadata": {},
   "outputs": [
    {
     "name": "stdout",
     "output_type": "stream",
     "text": [
      "training score is  1.0\n",
      "testing score is  0.797544836285971\n",
      "r2 score is  0.797544836285971\n"
     ]
    }
   ],
   "source": [
    "dtc=DecisionTreeRegressor()\n",
    "dtc.fit(x1_train, y1_train)\n",
    "\n",
    "a=dtc.score(x1_train, y1_train)\n",
    "b=dtc.score(x1_test, y1_test)\n",
    "y1_pred= dtc.predict(x1_test)\n",
    "c=r2_score(y1_test, y1_pred)\n",
    "\n",
    "print('training score is ', a)\n",
    "print('testing score is ', b)\n",
    "print('r2 score is ', c)"
   ]
  },
  {
   "cell_type": "markdown",
   "id": "cc54d390",
   "metadata": {},
   "source": [
    "MODEL 3: RANDOM FOREST REGRESSOR"
   ]
  },
  {
   "cell_type": "code",
   "execution_count": 114,
   "id": "6cb91b27",
   "metadata": {},
   "outputs": [
    {
     "name": "stdout",
     "output_type": "stream",
     "text": [
      "training score is  0.985514949527227\n",
      "testing score is  0.9094570647095315\n",
      "r2 score is  0.9094570647095315\n"
     ]
    }
   ],
   "source": [
    "rfr=RandomForestRegressor()\n",
    "rfr.fit(x1_train, y1_train)\n",
    "\n",
    "a=rfr.score(x1_train, y1_train)\n",
    "b=rfr.score(x1_test, y1_test)\n",
    "y1_pred= rfr.predict(x1_test)\n",
    "c=r2_score(y1_test, y1_pred)\n",
    "\n",
    "print('training score is ', a)\n",
    "print('testing score is ', b)\n",
    "print('r2 score is ', c)"
   ]
  },
  {
   "cell_type": "markdown",
   "id": "2fe42e2c",
   "metadata": {},
   "source": [
    "MODEL 4: SVM (SUPPORT VECTOR MACHINES)"
   ]
  },
  {
   "cell_type": "code",
   "execution_count": 115,
   "id": "d7415f5a",
   "metadata": {},
   "outputs": [
    {
     "name": "stdout",
     "output_type": "stream",
     "text": [
      "training score is  0.767799690116312\n",
      "testing score is  0.7768795769869163\n",
      "r2 score is  0.7768795769869163\n"
     ]
    }
   ],
   "source": [
    "svr=SVR()\n",
    "svr.fit(x1_train, y1_train)\n",
    "\n",
    "a=svr.score(x1_train, y1_train)\n",
    "b=svr.score(x1_test, y1_test)\n",
    "y1_pred= svr.predict(x1_test)\n",
    "c=r2_score(y1_test, y1_pred)\n",
    "\n",
    "print('training score is ', a)\n",
    "print('testing score is ', b)\n",
    "print('r2 score is ', c)"
   ]
  },
  {
   "cell_type": "markdown",
   "id": "b1d7b6af",
   "metadata": {},
   "source": [
    "MODEL 5: LASSO CV "
   ]
  },
  {
   "cell_type": "code",
   "execution_count": 116,
   "id": "0b19bb82",
   "metadata": {},
   "outputs": [
    {
     "name": "stdout",
     "output_type": "stream",
     "text": [
      "alpha value is  0.000243370916135548\n"
     ]
    }
   ],
   "source": [
    "lasscv=LassoCV(alphas=None, cv=9, max_iter=1000)\n",
    "lasscv.fit(x1_train, y1_train)\n",
    "\n",
    "alpha=lasscv.alpha_\n",
    "print('alpha value is ', alpha)\n",
    "\n"
   ]
  },
  {
   "cell_type": "code",
   "execution_count": 117,
   "id": "21880c1c",
   "metadata": {},
   "outputs": [
    {
     "name": "stdout",
     "output_type": "stream",
     "text": [
      "training score is  0.5408367032396778\n",
      "testing score is  0.5698455775093161\n",
      "r2 score is  0.5698455775093161\n"
     ]
    }
   ],
   "source": [
    "lasso_reg=Lasso(alpha)\n",
    "lasso_reg.fit(x1_train, y1_train)\n",
    "\n",
    "a=lasso_reg.score(x1_train, y1_train)\n",
    "b=lasso_reg.score(x1_test, y1_test)\n",
    "y1_pred= lasso_reg.predict(x1_test)\n",
    "c=r2_score(y1_test, y1_pred)\n",
    "\n",
    "print('training score is ', a)\n",
    "print('testing score is ', b)\n",
    "print('r2 score is ', c)"
   ]
  },
  {
   "cell_type": "markdown",
   "id": "213b73a6",
   "metadata": {},
   "source": [
    "MODEL 6: RIDGE CV "
   ]
  },
  {
   "cell_type": "code",
   "execution_count": 118,
   "id": "bd4f01a8",
   "metadata": {},
   "outputs": [
    {
     "name": "stdout",
     "output_type": "stream",
     "text": [
      "alpha value is  3.408541244066038\n"
     ]
    }
   ],
   "source": [
    "alphas= np.random.uniform(low=0, high=10, size=(50,))\n",
    "ridgecv=RidgeCV(alphas=alphas, cv=10)\n",
    "\n",
    "ridgecv.fit(x1_train, y1_train)\n",
    "alpha=ridgecv.alpha_\n",
    "print('alpha value is ', alpha)"
   ]
  },
  {
   "cell_type": "code",
   "execution_count": 119,
   "id": "a1798df9",
   "metadata": {},
   "outputs": [
    {
     "name": "stdout",
     "output_type": "stream",
     "text": [
      "training score is  0.5408967806195281\n",
      "testing score is  0.5698887196878499\n",
      "r2 score is  0.5698887196878499\n"
     ]
    }
   ],
   "source": [
    "ridge_reg= Ridge(alpha)\n",
    "ridge_reg.fit(x1_train, y1_train)\n",
    "\n",
    "a=ridge_reg.score(x1_train, y1_train)\n",
    "b=ridge_reg.score(x1_test, y1_test)\n",
    "y1_pred= ridge_reg.predict(x1_test)\n",
    "c=r2_score(y1_test, y1_pred)\n",
    "\n",
    "print('training score is ', a)\n",
    "print('testing score is ', b)\n",
    "print('r2 score is ', c)"
   ]
  },
  {
   "cell_type": "markdown",
   "id": "386f2536",
   "metadata": {},
   "source": [
    "CROSS VALIDATION SCORE"
   ]
  },
  {
   "cell_type": "code",
   "execution_count": 120,
   "id": "938872b4",
   "metadata": {},
   "outputs": [],
   "source": [
    "from sklearn.model_selection import cross_val_score"
   ]
  },
  {
   "cell_type": "code",
   "execution_count": 121,
   "id": "a31dda9a",
   "metadata": {},
   "outputs": [
    {
     "name": "stdout",
     "output_type": "stream",
     "text": [
      "cross validation score of linear regression is  0.1796310143905842\n"
     ]
    }
   ],
   "source": [
    "scr=cross_val_score(lr, X1, y1, cv=5)\n",
    "print('cross validation score of linear regression is ', scr.mean())"
   ]
  },
  {
   "cell_type": "code",
   "execution_count": 122,
   "id": "07efd945",
   "metadata": {},
   "outputs": [
    {
     "name": "stdout",
     "output_type": "stream",
     "text": [
      "cross validation score of decision tree regressor is  0.1812257088953618\n"
     ]
    }
   ],
   "source": [
    "scr=cross_val_score(dtc, X1, y1, cv=15)\n",
    "print('cross validation score of decision tree regressor is ', scr.mean())"
   ]
  },
  {
   "cell_type": "code",
   "execution_count": 123,
   "id": "cf6b1da6",
   "metadata": {},
   "outputs": [
    {
     "name": "stdout",
     "output_type": "stream",
     "text": [
      "cross validation score of random forest regressor is  0.5103038080821477\n"
     ]
    }
   ],
   "source": [
    "scr=cross_val_score(rfr, X1, y1, cv=20)\n",
    "print('cross validation score of random forest regressor is ', scr.mean())"
   ]
  },
  {
   "cell_type": "code",
   "execution_count": 124,
   "id": "60eeb727",
   "metadata": {},
   "outputs": [
    {
     "name": "stdout",
     "output_type": "stream",
     "text": [
      "cross validation score of SVR is  0.2705717588849906\n"
     ]
    }
   ],
   "source": [
    "scr=cross_val_score(svr, X1, y1, cv=5)\n",
    "print('cross validation score of SVR is ', scr.mean())"
   ]
  },
  {
   "cell_type": "code",
   "execution_count": 125,
   "id": "3d3a04d7",
   "metadata": {},
   "outputs": [
    {
     "name": "stdout",
     "output_type": "stream",
     "text": [
      "cross validation score of lasso cv is  0.18173940421335116\n"
     ]
    }
   ],
   "source": [
    "scr=cross_val_score(lasso_reg, X1, y1, cv=5)\n",
    "print('cross validation score of lasso cv is ', scr.mean())"
   ]
  },
  {
   "cell_type": "code",
   "execution_count": 126,
   "id": "d90f1575",
   "metadata": {},
   "outputs": [
    {
     "name": "stdout",
     "output_type": "stream",
     "text": [
      "cross validation score of ridge cv is  0.1801035599228192\n"
     ]
    }
   ],
   "source": [
    "scr=cross_val_score(ridge_reg, X1, y1, cv=5)\n",
    "print('cross validation score of ridge cv is ', scr.mean())"
   ]
  },
  {
   "cell_type": "markdown",
   "id": "57a6adae",
   "metadata": {},
   "source": [
    "HYPER PARAMETER TUNING"
   ]
  },
  {
   "cell_type": "code",
   "execution_count": 127,
   "id": "2f93b2df",
   "metadata": {},
   "outputs": [],
   "source": [
    "from sklearn.model_selection import GridSearchCV"
   ]
  },
  {
   "cell_type": "code",
   "execution_count": 128,
   "id": "ba4658af",
   "metadata": {},
   "outputs": [],
   "source": [
    "parameters= {'n_estimators':[10],\n",
    "             'max_features':['auto', 'sqrt'],\n",
    "             'max_depth':[2,3,5,7],\n",
    "             'min_samples_split':[2,3,5],\n",
    "             'min_samples_leaf':[1,2,4],\n",
    "             'bootstrap':[True, False]\n",
    "    \n",
    "}"
   ]
  },
  {
   "cell_type": "code",
   "execution_count": 129,
   "id": "3fa9104c",
   "metadata": {},
   "outputs": [],
   "source": [
    "gridsearch= GridSearchCV(estimator=RandomForestRegressor(),\n",
    "                        param_grid=parameters,\n",
    "                        n_jobs=-1,\n",
    "                        cv=7,\n",
    "                        scoring='accuracy')"
   ]
  },
  {
   "cell_type": "code",
   "execution_count": 130,
   "id": "8dc9a0e9",
   "metadata": {},
   "outputs": [
    {
     "data": {
      "text/plain": [
       "GridSearchCV(cv=7, estimator=RandomForestRegressor(), n_jobs=-1,\n",
       "             param_grid={'bootstrap': [True, False], 'max_depth': [2, 3, 5, 7],\n",
       "                         'max_features': ['auto', 'sqrt'],\n",
       "                         'min_samples_leaf': [1, 2, 4],\n",
       "                         'min_samples_split': [2, 3, 5], 'n_estimators': [10]},\n",
       "             scoring='accuracy')"
      ]
     },
     "execution_count": 130,
     "metadata": {},
     "output_type": "execute_result"
    }
   ],
   "source": [
    "gridsearch.fit(x1_train, y1_train)"
   ]
  },
  {
   "cell_type": "code",
   "execution_count": 131,
   "id": "f0452fa7",
   "metadata": {},
   "outputs": [
    {
     "data": {
      "text/plain": [
       "{'bootstrap': True,\n",
       " 'max_depth': 2,\n",
       " 'max_features': 'auto',\n",
       " 'min_samples_leaf': 1,\n",
       " 'min_samples_split': 2,\n",
       " 'n_estimators': 10}"
      ]
     },
     "execution_count": 131,
     "metadata": {},
     "output_type": "execute_result"
    }
   ],
   "source": [
    "gridsearch.best_params_"
   ]
  },
  {
   "cell_type": "code",
   "execution_count": 132,
   "id": "348b5eef",
   "metadata": {},
   "outputs": [
    {
     "data": {
      "text/plain": [
       "RandomForestRegressor(max_depth=2, n_estimators=10)"
      ]
     },
     "execution_count": 132,
     "metadata": {},
     "output_type": "execute_result"
    }
   ],
   "source": [
    "rfr=RandomForestRegressor(n_estimators=10, max_depth=2, max_features='auto', min_samples_leaf=1, min_samples_split=2)\n",
    "rfr.fit(x1_train, y1_train)"
   ]
  },
  {
   "cell_type": "code",
   "execution_count": 133,
   "id": "1aadfaa4",
   "metadata": {},
   "outputs": [
    {
     "data": {
      "text/plain": [
       "0.46814341623489686"
      ]
     },
     "execution_count": 133,
     "metadata": {},
     "output_type": "execute_result"
    }
   ],
   "source": [
    "y1_pred=rfr.predict(x1_test)\n",
    "r2_score(y1_test, y1_pred)\n"
   ]
  },
  {
   "cell_type": "markdown",
   "id": "73098159",
   "metadata": {},
   "source": [
    "SAVING THE MODEL OF REGRESSION"
   ]
  },
  {
   "cell_type": "code",
   "execution_count": 134,
   "id": "34b006e0",
   "metadata": {},
   "outputs": [
    {
     "data": {
      "text/plain": [
       "['avacado_avgprice.pkl']"
      ]
     },
     "execution_count": 134,
     "metadata": {},
     "output_type": "execute_result"
    }
   ],
   "source": [
    "import joblib\n",
    "joblib.dump(rfr.predict, 'avacado_avgprice.pkl')"
   ]
  },
  {
   "cell_type": "markdown",
   "id": "0fc9a747",
   "metadata": {},
   "source": [
    "TRAINING PROCESS FOR TARGET VARIABLE REGION"
   ]
  },
  {
   "cell_type": "code",
   "execution_count": 135,
   "id": "c0d83dcc",
   "metadata": {},
   "outputs": [
    {
     "data": {
      "text/html": [
       "<div>\n",
       "<style scoped>\n",
       "    .dataframe tbody tr th:only-of-type {\n",
       "        vertical-align: middle;\n",
       "    }\n",
       "\n",
       "    .dataframe tbody tr th {\n",
       "        vertical-align: top;\n",
       "    }\n",
       "\n",
       "    .dataframe thead th {\n",
       "        text-align: right;\n",
       "    }\n",
       "</style>\n",
       "<table border=\"1\" class=\"dataframe\">\n",
       "  <thead>\n",
       "    <tr style=\"text-align: right;\">\n",
       "      <th></th>\n",
       "      <th>Date</th>\n",
       "      <th>AveragePrice</th>\n",
       "      <th>Total Volume</th>\n",
       "      <th>4046</th>\n",
       "      <th>4225</th>\n",
       "      <th>4770</th>\n",
       "      <th>Total Bags</th>\n",
       "      <th>Small Bags</th>\n",
       "      <th>Large Bags</th>\n",
       "      <th>XLarge Bags</th>\n",
       "      <th>type</th>\n",
       "      <th>year</th>\n",
       "      <th>region</th>\n",
       "    </tr>\n",
       "  </thead>\n",
       "  <tbody>\n",
       "    <tr>\n",
       "      <th>0</th>\n",
       "      <td>51.0</td>\n",
       "      <td>1.33</td>\n",
       "      <td>64236.62</td>\n",
       "      <td>1036.74</td>\n",
       "      <td>54454.85</td>\n",
       "      <td>48.16</td>\n",
       "      <td>8696.87</td>\n",
       "      <td>8603.62</td>\n",
       "      <td>93.25</td>\n",
       "      <td>0.0</td>\n",
       "      <td>0.0</td>\n",
       "      <td>2015</td>\n",
       "      <td>0.0</td>\n",
       "    </tr>\n",
       "    <tr>\n",
       "      <th>1</th>\n",
       "      <td>50.0</td>\n",
       "      <td>1.35</td>\n",
       "      <td>54876.98</td>\n",
       "      <td>674.28</td>\n",
       "      <td>44638.81</td>\n",
       "      <td>58.33</td>\n",
       "      <td>9505.56</td>\n",
       "      <td>9408.07</td>\n",
       "      <td>97.49</td>\n",
       "      <td>0.0</td>\n",
       "      <td>0.0</td>\n",
       "      <td>2015</td>\n",
       "      <td>0.0</td>\n",
       "    </tr>\n",
       "    <tr>\n",
       "      <th>2</th>\n",
       "      <td>49.0</td>\n",
       "      <td>0.93</td>\n",
       "      <td>118220.22</td>\n",
       "      <td>794.70</td>\n",
       "      <td>109149.67</td>\n",
       "      <td>130.50</td>\n",
       "      <td>8145.35</td>\n",
       "      <td>8042.21</td>\n",
       "      <td>103.14</td>\n",
       "      <td>0.0</td>\n",
       "      <td>0.0</td>\n",
       "      <td>2015</td>\n",
       "      <td>0.0</td>\n",
       "    </tr>\n",
       "    <tr>\n",
       "      <th>3</th>\n",
       "      <td>48.0</td>\n",
       "      <td>1.08</td>\n",
       "      <td>78992.15</td>\n",
       "      <td>1132.00</td>\n",
       "      <td>71976.41</td>\n",
       "      <td>72.58</td>\n",
       "      <td>5811.16</td>\n",
       "      <td>5677.40</td>\n",
       "      <td>133.76</td>\n",
       "      <td>0.0</td>\n",
       "      <td>0.0</td>\n",
       "      <td>2015</td>\n",
       "      <td>0.0</td>\n",
       "    </tr>\n",
       "    <tr>\n",
       "      <th>4</th>\n",
       "      <td>47.0</td>\n",
       "      <td>1.28</td>\n",
       "      <td>51039.60</td>\n",
       "      <td>941.48</td>\n",
       "      <td>43838.39</td>\n",
       "      <td>75.78</td>\n",
       "      <td>6183.95</td>\n",
       "      <td>5986.26</td>\n",
       "      <td>197.69</td>\n",
       "      <td>0.0</td>\n",
       "      <td>0.0</td>\n",
       "      <td>2015</td>\n",
       "      <td>0.0</td>\n",
       "    </tr>\n",
       "    <tr>\n",
       "      <th>...</th>\n",
       "      <td>...</td>\n",
       "      <td>...</td>\n",
       "      <td>...</td>\n",
       "      <td>...</td>\n",
       "      <td>...</td>\n",
       "      <td>...</td>\n",
       "      <td>...</td>\n",
       "      <td>...</td>\n",
       "      <td>...</td>\n",
       "      <td>...</td>\n",
       "      <td>...</td>\n",
       "      <td>...</td>\n",
       "      <td>...</td>\n",
       "    </tr>\n",
       "    <tr>\n",
       "      <th>18244</th>\n",
       "      <td>161.0</td>\n",
       "      <td>1.63</td>\n",
       "      <td>17074.83</td>\n",
       "      <td>2046.96</td>\n",
       "      <td>1529.20</td>\n",
       "      <td>0.00</td>\n",
       "      <td>13498.67</td>\n",
       "      <td>13066.82</td>\n",
       "      <td>431.85</td>\n",
       "      <td>0.0</td>\n",
       "      <td>1.0</td>\n",
       "      <td>2018</td>\n",
       "      <td>53.0</td>\n",
       "    </tr>\n",
       "    <tr>\n",
       "      <th>18245</th>\n",
       "      <td>160.0</td>\n",
       "      <td>1.71</td>\n",
       "      <td>13888.04</td>\n",
       "      <td>1191.70</td>\n",
       "      <td>3431.50</td>\n",
       "      <td>0.00</td>\n",
       "      <td>9264.84</td>\n",
       "      <td>8940.04</td>\n",
       "      <td>324.80</td>\n",
       "      <td>0.0</td>\n",
       "      <td>1.0</td>\n",
       "      <td>2018</td>\n",
       "      <td>53.0</td>\n",
       "    </tr>\n",
       "    <tr>\n",
       "      <th>18246</th>\n",
       "      <td>159.0</td>\n",
       "      <td>1.87</td>\n",
       "      <td>13766.76</td>\n",
       "      <td>1191.92</td>\n",
       "      <td>2452.79</td>\n",
       "      <td>727.94</td>\n",
       "      <td>9394.11</td>\n",
       "      <td>9351.80</td>\n",
       "      <td>42.31</td>\n",
       "      <td>0.0</td>\n",
       "      <td>1.0</td>\n",
       "      <td>2018</td>\n",
       "      <td>53.0</td>\n",
       "    </tr>\n",
       "    <tr>\n",
       "      <th>18247</th>\n",
       "      <td>158.0</td>\n",
       "      <td>1.93</td>\n",
       "      <td>16205.22</td>\n",
       "      <td>1527.63</td>\n",
       "      <td>2981.04</td>\n",
       "      <td>727.01</td>\n",
       "      <td>10969.54</td>\n",
       "      <td>10919.54</td>\n",
       "      <td>50.00</td>\n",
       "      <td>0.0</td>\n",
       "      <td>1.0</td>\n",
       "      <td>2018</td>\n",
       "      <td>53.0</td>\n",
       "    </tr>\n",
       "    <tr>\n",
       "      <th>18248</th>\n",
       "      <td>157.0</td>\n",
       "      <td>1.62</td>\n",
       "      <td>17489.58</td>\n",
       "      <td>2894.77</td>\n",
       "      <td>2356.13</td>\n",
       "      <td>224.53</td>\n",
       "      <td>12014.15</td>\n",
       "      <td>11988.14</td>\n",
       "      <td>26.01</td>\n",
       "      <td>0.0</td>\n",
       "      <td>1.0</td>\n",
       "      <td>2018</td>\n",
       "      <td>53.0</td>\n",
       "    </tr>\n",
       "  </tbody>\n",
       "</table>\n",
       "<p>18249 rows × 13 columns</p>\n",
       "</div>"
      ],
      "text/plain": [
       "        Date  AveragePrice  Total Volume     4046       4225    4770  \\\n",
       "0       51.0          1.33      64236.62  1036.74   54454.85   48.16   \n",
       "1       50.0          1.35      54876.98   674.28   44638.81   58.33   \n",
       "2       49.0          0.93     118220.22   794.70  109149.67  130.50   \n",
       "3       48.0          1.08      78992.15  1132.00   71976.41   72.58   \n",
       "4       47.0          1.28      51039.60   941.48   43838.39   75.78   \n",
       "...      ...           ...           ...      ...        ...     ...   \n",
       "18244  161.0          1.63      17074.83  2046.96    1529.20    0.00   \n",
       "18245  160.0          1.71      13888.04  1191.70    3431.50    0.00   \n",
       "18246  159.0          1.87      13766.76  1191.92    2452.79  727.94   \n",
       "18247  158.0          1.93      16205.22  1527.63    2981.04  727.01   \n",
       "18248  157.0          1.62      17489.58  2894.77    2356.13  224.53   \n",
       "\n",
       "       Total Bags  Small Bags  Large Bags  XLarge Bags  type  year  region  \n",
       "0         8696.87     8603.62       93.25          0.0   0.0  2015     0.0  \n",
       "1         9505.56     9408.07       97.49          0.0   0.0  2015     0.0  \n",
       "2         8145.35     8042.21      103.14          0.0   0.0  2015     0.0  \n",
       "3         5811.16     5677.40      133.76          0.0   0.0  2015     0.0  \n",
       "4         6183.95     5986.26      197.69          0.0   0.0  2015     0.0  \n",
       "...           ...         ...         ...          ...   ...   ...     ...  \n",
       "18244    13498.67    13066.82      431.85          0.0   1.0  2018    53.0  \n",
       "18245     9264.84     8940.04      324.80          0.0   1.0  2018    53.0  \n",
       "18246     9394.11     9351.80       42.31          0.0   1.0  2018    53.0  \n",
       "18247    10969.54    10919.54       50.00          0.0   1.0  2018    53.0  \n",
       "18248    12014.15    11988.14       26.01          0.0   1.0  2018    53.0  \n",
       "\n",
       "[18249 rows x 13 columns]"
      ]
     },
     "execution_count": 135,
     "metadata": {},
     "output_type": "execute_result"
    }
   ],
   "source": [
    "df"
   ]
  },
  {
   "cell_type": "code",
   "execution_count": 136,
   "id": "31dfb665",
   "metadata": {},
   "outputs": [],
   "source": [
    "x2=df.drop('region', axis=1)\n",
    "y2=df['region']\n"
   ]
  },
  {
   "cell_type": "code",
   "execution_count": 137,
   "id": "8c61076d",
   "metadata": {},
   "outputs": [
    {
     "data": {
      "text/html": [
       "<div>\n",
       "<style scoped>\n",
       "    .dataframe tbody tr th:only-of-type {\n",
       "        vertical-align: middle;\n",
       "    }\n",
       "\n",
       "    .dataframe tbody tr th {\n",
       "        vertical-align: top;\n",
       "    }\n",
       "\n",
       "    .dataframe thead th {\n",
       "        text-align: right;\n",
       "    }\n",
       "</style>\n",
       "<table border=\"1\" class=\"dataframe\">\n",
       "  <thead>\n",
       "    <tr style=\"text-align: right;\">\n",
       "      <th></th>\n",
       "      <th>Date</th>\n",
       "      <th>AveragePrice</th>\n",
       "      <th>Total Volume</th>\n",
       "      <th>4046</th>\n",
       "      <th>4225</th>\n",
       "      <th>4770</th>\n",
       "      <th>Total Bags</th>\n",
       "      <th>Small Bags</th>\n",
       "      <th>Large Bags</th>\n",
       "      <th>XLarge Bags</th>\n",
       "      <th>type</th>\n",
       "      <th>year</th>\n",
       "    </tr>\n",
       "  </thead>\n",
       "  <tbody>\n",
       "    <tr>\n",
       "      <th>0</th>\n",
       "      <td>51.0</td>\n",
       "      <td>1.33</td>\n",
       "      <td>64236.62</td>\n",
       "      <td>1036.74</td>\n",
       "      <td>54454.85</td>\n",
       "      <td>48.16</td>\n",
       "      <td>8696.87</td>\n",
       "      <td>8603.62</td>\n",
       "      <td>93.25</td>\n",
       "      <td>0.0</td>\n",
       "      <td>0.0</td>\n",
       "      <td>2015</td>\n",
       "    </tr>\n",
       "    <tr>\n",
       "      <th>1</th>\n",
       "      <td>50.0</td>\n",
       "      <td>1.35</td>\n",
       "      <td>54876.98</td>\n",
       "      <td>674.28</td>\n",
       "      <td>44638.81</td>\n",
       "      <td>58.33</td>\n",
       "      <td>9505.56</td>\n",
       "      <td>9408.07</td>\n",
       "      <td>97.49</td>\n",
       "      <td>0.0</td>\n",
       "      <td>0.0</td>\n",
       "      <td>2015</td>\n",
       "    </tr>\n",
       "    <tr>\n",
       "      <th>2</th>\n",
       "      <td>49.0</td>\n",
       "      <td>0.93</td>\n",
       "      <td>118220.22</td>\n",
       "      <td>794.70</td>\n",
       "      <td>109149.67</td>\n",
       "      <td>130.50</td>\n",
       "      <td>8145.35</td>\n",
       "      <td>8042.21</td>\n",
       "      <td>103.14</td>\n",
       "      <td>0.0</td>\n",
       "      <td>0.0</td>\n",
       "      <td>2015</td>\n",
       "    </tr>\n",
       "    <tr>\n",
       "      <th>3</th>\n",
       "      <td>48.0</td>\n",
       "      <td>1.08</td>\n",
       "      <td>78992.15</td>\n",
       "      <td>1132.00</td>\n",
       "      <td>71976.41</td>\n",
       "      <td>72.58</td>\n",
       "      <td>5811.16</td>\n",
       "      <td>5677.40</td>\n",
       "      <td>133.76</td>\n",
       "      <td>0.0</td>\n",
       "      <td>0.0</td>\n",
       "      <td>2015</td>\n",
       "    </tr>\n",
       "    <tr>\n",
       "      <th>4</th>\n",
       "      <td>47.0</td>\n",
       "      <td>1.28</td>\n",
       "      <td>51039.60</td>\n",
       "      <td>941.48</td>\n",
       "      <td>43838.39</td>\n",
       "      <td>75.78</td>\n",
       "      <td>6183.95</td>\n",
       "      <td>5986.26</td>\n",
       "      <td>197.69</td>\n",
       "      <td>0.0</td>\n",
       "      <td>0.0</td>\n",
       "      <td>2015</td>\n",
       "    </tr>\n",
       "    <tr>\n",
       "      <th>...</th>\n",
       "      <td>...</td>\n",
       "      <td>...</td>\n",
       "      <td>...</td>\n",
       "      <td>...</td>\n",
       "      <td>...</td>\n",
       "      <td>...</td>\n",
       "      <td>...</td>\n",
       "      <td>...</td>\n",
       "      <td>...</td>\n",
       "      <td>...</td>\n",
       "      <td>...</td>\n",
       "      <td>...</td>\n",
       "    </tr>\n",
       "    <tr>\n",
       "      <th>18244</th>\n",
       "      <td>161.0</td>\n",
       "      <td>1.63</td>\n",
       "      <td>17074.83</td>\n",
       "      <td>2046.96</td>\n",
       "      <td>1529.20</td>\n",
       "      <td>0.00</td>\n",
       "      <td>13498.67</td>\n",
       "      <td>13066.82</td>\n",
       "      <td>431.85</td>\n",
       "      <td>0.0</td>\n",
       "      <td>1.0</td>\n",
       "      <td>2018</td>\n",
       "    </tr>\n",
       "    <tr>\n",
       "      <th>18245</th>\n",
       "      <td>160.0</td>\n",
       "      <td>1.71</td>\n",
       "      <td>13888.04</td>\n",
       "      <td>1191.70</td>\n",
       "      <td>3431.50</td>\n",
       "      <td>0.00</td>\n",
       "      <td>9264.84</td>\n",
       "      <td>8940.04</td>\n",
       "      <td>324.80</td>\n",
       "      <td>0.0</td>\n",
       "      <td>1.0</td>\n",
       "      <td>2018</td>\n",
       "    </tr>\n",
       "    <tr>\n",
       "      <th>18246</th>\n",
       "      <td>159.0</td>\n",
       "      <td>1.87</td>\n",
       "      <td>13766.76</td>\n",
       "      <td>1191.92</td>\n",
       "      <td>2452.79</td>\n",
       "      <td>727.94</td>\n",
       "      <td>9394.11</td>\n",
       "      <td>9351.80</td>\n",
       "      <td>42.31</td>\n",
       "      <td>0.0</td>\n",
       "      <td>1.0</td>\n",
       "      <td>2018</td>\n",
       "    </tr>\n",
       "    <tr>\n",
       "      <th>18247</th>\n",
       "      <td>158.0</td>\n",
       "      <td>1.93</td>\n",
       "      <td>16205.22</td>\n",
       "      <td>1527.63</td>\n",
       "      <td>2981.04</td>\n",
       "      <td>727.01</td>\n",
       "      <td>10969.54</td>\n",
       "      <td>10919.54</td>\n",
       "      <td>50.00</td>\n",
       "      <td>0.0</td>\n",
       "      <td>1.0</td>\n",
       "      <td>2018</td>\n",
       "    </tr>\n",
       "    <tr>\n",
       "      <th>18248</th>\n",
       "      <td>157.0</td>\n",
       "      <td>1.62</td>\n",
       "      <td>17489.58</td>\n",
       "      <td>2894.77</td>\n",
       "      <td>2356.13</td>\n",
       "      <td>224.53</td>\n",
       "      <td>12014.15</td>\n",
       "      <td>11988.14</td>\n",
       "      <td>26.01</td>\n",
       "      <td>0.0</td>\n",
       "      <td>1.0</td>\n",
       "      <td>2018</td>\n",
       "    </tr>\n",
       "  </tbody>\n",
       "</table>\n",
       "<p>18249 rows × 12 columns</p>\n",
       "</div>"
      ],
      "text/plain": [
       "        Date  AveragePrice  Total Volume     4046       4225    4770  \\\n",
       "0       51.0          1.33      64236.62  1036.74   54454.85   48.16   \n",
       "1       50.0          1.35      54876.98   674.28   44638.81   58.33   \n",
       "2       49.0          0.93     118220.22   794.70  109149.67  130.50   \n",
       "3       48.0          1.08      78992.15  1132.00   71976.41   72.58   \n",
       "4       47.0          1.28      51039.60   941.48   43838.39   75.78   \n",
       "...      ...           ...           ...      ...        ...     ...   \n",
       "18244  161.0          1.63      17074.83  2046.96    1529.20    0.00   \n",
       "18245  160.0          1.71      13888.04  1191.70    3431.50    0.00   \n",
       "18246  159.0          1.87      13766.76  1191.92    2452.79  727.94   \n",
       "18247  158.0          1.93      16205.22  1527.63    2981.04  727.01   \n",
       "18248  157.0          1.62      17489.58  2894.77    2356.13  224.53   \n",
       "\n",
       "       Total Bags  Small Bags  Large Bags  XLarge Bags  type  year  \n",
       "0         8696.87     8603.62       93.25          0.0   0.0  2015  \n",
       "1         9505.56     9408.07       97.49          0.0   0.0  2015  \n",
       "2         8145.35     8042.21      103.14          0.0   0.0  2015  \n",
       "3         5811.16     5677.40      133.76          0.0   0.0  2015  \n",
       "4         6183.95     5986.26      197.69          0.0   0.0  2015  \n",
       "...           ...         ...         ...          ...   ...   ...  \n",
       "18244    13498.67    13066.82      431.85          0.0   1.0  2018  \n",
       "18245     9264.84     8940.04      324.80          0.0   1.0  2018  \n",
       "18246     9394.11     9351.80       42.31          0.0   1.0  2018  \n",
       "18247    10969.54    10919.54       50.00          0.0   1.0  2018  \n",
       "18248    12014.15    11988.14       26.01          0.0   1.0  2018  \n",
       "\n",
       "[18249 rows x 12 columns]"
      ]
     },
     "execution_count": 137,
     "metadata": {},
     "output_type": "execute_result"
    }
   ],
   "source": [
    "x2"
   ]
  },
  {
   "cell_type": "code",
   "execution_count": 138,
   "id": "e4c4fc46",
   "metadata": {},
   "outputs": [
    {
     "data": {
      "text/plain": [
       "0         0.0\n",
       "1         0.0\n",
       "2         0.0\n",
       "3         0.0\n",
       "4         0.0\n",
       "         ... \n",
       "18244    53.0\n",
       "18245    53.0\n",
       "18246    53.0\n",
       "18247    53.0\n",
       "18248    53.0\n",
       "Name: region, Length: 18249, dtype: float64"
      ]
     },
     "execution_count": 138,
     "metadata": {},
     "output_type": "execute_result"
    }
   ],
   "source": [
    "y2"
   ]
  },
  {
   "cell_type": "code",
   "execution_count": 139,
   "id": "5079aae1",
   "metadata": {},
   "outputs": [
    {
     "data": {
      "text/html": [
       "<div>\n",
       "<style scoped>\n",
       "    .dataframe tbody tr th:only-of-type {\n",
       "        vertical-align: middle;\n",
       "    }\n",
       "\n",
       "    .dataframe tbody tr th {\n",
       "        vertical-align: top;\n",
       "    }\n",
       "\n",
       "    .dataframe thead th {\n",
       "        text-align: right;\n",
       "    }\n",
       "</style>\n",
       "<table border=\"1\" class=\"dataframe\">\n",
       "  <thead>\n",
       "    <tr style=\"text-align: right;\">\n",
       "      <th></th>\n",
       "      <th>Date</th>\n",
       "      <th>AveragePrice</th>\n",
       "      <th>Total Volume</th>\n",
       "      <th>4046</th>\n",
       "      <th>4225</th>\n",
       "      <th>4770</th>\n",
       "      <th>Total Bags</th>\n",
       "      <th>Small Bags</th>\n",
       "      <th>Large Bags</th>\n",
       "      <th>XLarge Bags</th>\n",
       "      <th>type</th>\n",
       "      <th>year</th>\n",
       "    </tr>\n",
       "  </thead>\n",
       "  <tbody>\n",
       "    <tr>\n",
       "      <th>0</th>\n",
       "      <td>0.676360</td>\n",
       "      <td>0.188689</td>\n",
       "      <td>0.227716</td>\n",
       "      <td>0.230816</td>\n",
       "      <td>0.199902</td>\n",
       "      <td>0.212091</td>\n",
       "      <td>0.234170</td>\n",
       "      <td>0.232647</td>\n",
       "      <td>0.222352</td>\n",
       "      <td>0.17558</td>\n",
       "      <td>0.999836</td>\n",
       "      <td>1.221282</td>\n",
       "    </tr>\n",
       "    <tr>\n",
       "      <th>1</th>\n",
       "      <td>0.696857</td>\n",
       "      <td>0.139020</td>\n",
       "      <td>0.230427</td>\n",
       "      <td>0.231103</td>\n",
       "      <td>0.208054</td>\n",
       "      <td>0.211997</td>\n",
       "      <td>0.233350</td>\n",
       "      <td>0.231568</td>\n",
       "      <td>0.222335</td>\n",
       "      <td>0.17558</td>\n",
       "      <td>0.999836</td>\n",
       "      <td>1.221282</td>\n",
       "    </tr>\n",
       "    <tr>\n",
       "      <th>2</th>\n",
       "      <td>0.717355</td>\n",
       "      <td>1.182069</td>\n",
       "      <td>0.212085</td>\n",
       "      <td>0.231007</td>\n",
       "      <td>0.154478</td>\n",
       "      <td>0.211325</td>\n",
       "      <td>0.234730</td>\n",
       "      <td>0.233399</td>\n",
       "      <td>0.222311</td>\n",
       "      <td>0.17558</td>\n",
       "      <td>0.999836</td>\n",
       "      <td>1.221282</td>\n",
       "    </tr>\n",
       "    <tr>\n",
       "      <th>3</th>\n",
       "      <td>0.737853</td>\n",
       "      <td>0.809551</td>\n",
       "      <td>0.223444</td>\n",
       "      <td>0.230741</td>\n",
       "      <td>0.185350</td>\n",
       "      <td>0.211864</td>\n",
       "      <td>0.237096</td>\n",
       "      <td>0.236568</td>\n",
       "      <td>0.222186</td>\n",
       "      <td>0.17558</td>\n",
       "      <td>0.999836</td>\n",
       "      <td>1.221282</td>\n",
       "    </tr>\n",
       "    <tr>\n",
       "      <th>4</th>\n",
       "      <td>0.758350</td>\n",
       "      <td>0.312861</td>\n",
       "      <td>0.231538</td>\n",
       "      <td>0.230891</td>\n",
       "      <td>0.208719</td>\n",
       "      <td>0.211834</td>\n",
       "      <td>0.236718</td>\n",
       "      <td>0.236154</td>\n",
       "      <td>0.221924</td>\n",
       "      <td>0.17558</td>\n",
       "      <td>0.999836</td>\n",
       "      <td>1.221282</td>\n",
       "    </tr>\n",
       "    <tr>\n",
       "      <th>...</th>\n",
       "      <td>...</td>\n",
       "      <td>...</td>\n",
       "      <td>...</td>\n",
       "      <td>...</td>\n",
       "      <td>...</td>\n",
       "      <td>...</td>\n",
       "      <td>...</td>\n",
       "      <td>...</td>\n",
       "      <td>...</td>\n",
       "      <td>...</td>\n",
       "      <td>...</td>\n",
       "      <td>...</td>\n",
       "    </tr>\n",
       "    <tr>\n",
       "      <th>18244</th>\n",
       "      <td>1.578371</td>\n",
       "      <td>0.556347</td>\n",
       "      <td>0.241373</td>\n",
       "      <td>0.230017</td>\n",
       "      <td>0.243857</td>\n",
       "      <td>0.212540</td>\n",
       "      <td>0.229301</td>\n",
       "      <td>0.226665</td>\n",
       "      <td>0.220964</td>\n",
       "      <td>0.17558</td>\n",
       "      <td>1.000164</td>\n",
       "      <td>1.970504</td>\n",
       "    </tr>\n",
       "    <tr>\n",
       "      <th>18245</th>\n",
       "      <td>1.557874</td>\n",
       "      <td>0.755023</td>\n",
       "      <td>0.242296</td>\n",
       "      <td>0.230693</td>\n",
       "      <td>0.242277</td>\n",
       "      <td>0.212540</td>\n",
       "      <td>0.233594</td>\n",
       "      <td>0.232196</td>\n",
       "      <td>0.221403</td>\n",
       "      <td>0.17558</td>\n",
       "      <td>1.000164</td>\n",
       "      <td>1.970504</td>\n",
       "    </tr>\n",
       "    <tr>\n",
       "      <th>18246</th>\n",
       "      <td>1.537376</td>\n",
       "      <td>1.152375</td>\n",
       "      <td>0.242331</td>\n",
       "      <td>0.230693</td>\n",
       "      <td>0.243090</td>\n",
       "      <td>0.205766</td>\n",
       "      <td>0.233463</td>\n",
       "      <td>0.231644</td>\n",
       "      <td>0.222561</td>\n",
       "      <td>0.17558</td>\n",
       "      <td>1.000164</td>\n",
       "      <td>1.970504</td>\n",
       "    </tr>\n",
       "    <tr>\n",
       "      <th>18247</th>\n",
       "      <td>1.516879</td>\n",
       "      <td>1.301382</td>\n",
       "      <td>0.241625</td>\n",
       "      <td>0.230428</td>\n",
       "      <td>0.242651</td>\n",
       "      <td>0.205774</td>\n",
       "      <td>0.231866</td>\n",
       "      <td>0.229543</td>\n",
       "      <td>0.222529</td>\n",
       "      <td>0.17558</td>\n",
       "      <td>1.000164</td>\n",
       "      <td>1.970504</td>\n",
       "    </tr>\n",
       "    <tr>\n",
       "      <th>18248</th>\n",
       "      <td>1.496381</td>\n",
       "      <td>0.531512</td>\n",
       "      <td>0.241253</td>\n",
       "      <td>0.229347</td>\n",
       "      <td>0.243170</td>\n",
       "      <td>0.210450</td>\n",
       "      <td>0.230807</td>\n",
       "      <td>0.228111</td>\n",
       "      <td>0.222628</td>\n",
       "      <td>0.17558</td>\n",
       "      <td>1.000164</td>\n",
       "      <td>1.970504</td>\n",
       "    </tr>\n",
       "  </tbody>\n",
       "</table>\n",
       "<p>18249 rows × 12 columns</p>\n",
       "</div>"
      ],
      "text/plain": [
       "           Date  AveragePrice  Total Volume      4046      4225      4770  \\\n",
       "0      0.676360      0.188689      0.227716  0.230816  0.199902  0.212091   \n",
       "1      0.696857      0.139020      0.230427  0.231103  0.208054  0.211997   \n",
       "2      0.717355      1.182069      0.212085  0.231007  0.154478  0.211325   \n",
       "3      0.737853      0.809551      0.223444  0.230741  0.185350  0.211864   \n",
       "4      0.758350      0.312861      0.231538  0.230891  0.208719  0.211834   \n",
       "...         ...           ...           ...       ...       ...       ...   \n",
       "18244  1.578371      0.556347      0.241373  0.230017  0.243857  0.212540   \n",
       "18245  1.557874      0.755023      0.242296  0.230693  0.242277  0.212540   \n",
       "18246  1.537376      1.152375      0.242331  0.230693  0.243090  0.205766   \n",
       "18247  1.516879      1.301382      0.241625  0.230428  0.242651  0.205774   \n",
       "18248  1.496381      0.531512      0.241253  0.229347  0.243170  0.210450   \n",
       "\n",
       "       Total Bags  Small Bags  Large Bags  XLarge Bags      type      year  \n",
       "0        0.234170    0.232647    0.222352      0.17558  0.999836  1.221282  \n",
       "1        0.233350    0.231568    0.222335      0.17558  0.999836  1.221282  \n",
       "2        0.234730    0.233399    0.222311      0.17558  0.999836  1.221282  \n",
       "3        0.237096    0.236568    0.222186      0.17558  0.999836  1.221282  \n",
       "4        0.236718    0.236154    0.221924      0.17558  0.999836  1.221282  \n",
       "...           ...         ...         ...          ...       ...       ...  \n",
       "18244    0.229301    0.226665    0.220964      0.17558  1.000164  1.970504  \n",
       "18245    0.233594    0.232196    0.221403      0.17558  1.000164  1.970504  \n",
       "18246    0.233463    0.231644    0.222561      0.17558  1.000164  1.970504  \n",
       "18247    0.231866    0.229543    0.222529      0.17558  1.000164  1.970504  \n",
       "18248    0.230807    0.228111    0.222628      0.17558  1.000164  1.970504  \n",
       "\n",
       "[18249 rows x 12 columns]"
      ]
     },
     "execution_count": 139,
     "metadata": {},
     "output_type": "execute_result"
    }
   ],
   "source": [
    "z=np.abs(zscore(x2))\n",
    "z"
   ]
  },
  {
   "cell_type": "code",
   "execution_count": 140,
   "id": "819fa304",
   "metadata": {},
   "outputs": [
    {
     "name": "stdout",
     "output_type": "stream",
     "text": [
      "(array([  346,   359,   780, ..., 17304, 17402, 17428], dtype=int64), array([3, 3, 9, ..., 1, 1, 1], dtype=int64))\n"
     ]
    }
   ],
   "source": [
    "print(np.where(z>3))"
   ]
  },
  {
   "cell_type": "code",
   "execution_count": 141,
   "id": "77549459",
   "metadata": {},
   "outputs": [
    {
     "data": {
      "text/html": [
       "<div>\n",
       "<style scoped>\n",
       "    .dataframe tbody tr th:only-of-type {\n",
       "        vertical-align: middle;\n",
       "    }\n",
       "\n",
       "    .dataframe tbody tr th {\n",
       "        vertical-align: top;\n",
       "    }\n",
       "\n",
       "    .dataframe thead th {\n",
       "        text-align: right;\n",
       "    }\n",
       "</style>\n",
       "<table border=\"1\" class=\"dataframe\">\n",
       "  <thead>\n",
       "    <tr style=\"text-align: right;\">\n",
       "      <th></th>\n",
       "      <th>Date</th>\n",
       "      <th>AveragePrice</th>\n",
       "      <th>Total Volume</th>\n",
       "      <th>4046</th>\n",
       "      <th>4225</th>\n",
       "      <th>4770</th>\n",
       "      <th>Total Bags</th>\n",
       "      <th>Small Bags</th>\n",
       "      <th>Large Bags</th>\n",
       "      <th>XLarge Bags</th>\n",
       "      <th>type</th>\n",
       "      <th>year</th>\n",
       "    </tr>\n",
       "  </thead>\n",
       "  <tbody>\n",
       "    <tr>\n",
       "      <th>0</th>\n",
       "      <td>51.0</td>\n",
       "      <td>1.33</td>\n",
       "      <td>64236.62</td>\n",
       "      <td>1036.74</td>\n",
       "      <td>54454.85</td>\n",
       "      <td>48.16</td>\n",
       "      <td>8696.87</td>\n",
       "      <td>8603.62</td>\n",
       "      <td>93.25</td>\n",
       "      <td>0.0</td>\n",
       "      <td>0.0</td>\n",
       "      <td>2015</td>\n",
       "    </tr>\n",
       "    <tr>\n",
       "      <th>1</th>\n",
       "      <td>50.0</td>\n",
       "      <td>1.35</td>\n",
       "      <td>54876.98</td>\n",
       "      <td>674.28</td>\n",
       "      <td>44638.81</td>\n",
       "      <td>58.33</td>\n",
       "      <td>9505.56</td>\n",
       "      <td>9408.07</td>\n",
       "      <td>97.49</td>\n",
       "      <td>0.0</td>\n",
       "      <td>0.0</td>\n",
       "      <td>2015</td>\n",
       "    </tr>\n",
       "    <tr>\n",
       "      <th>2</th>\n",
       "      <td>49.0</td>\n",
       "      <td>0.93</td>\n",
       "      <td>118220.22</td>\n",
       "      <td>794.70</td>\n",
       "      <td>109149.67</td>\n",
       "      <td>130.50</td>\n",
       "      <td>8145.35</td>\n",
       "      <td>8042.21</td>\n",
       "      <td>103.14</td>\n",
       "      <td>0.0</td>\n",
       "      <td>0.0</td>\n",
       "      <td>2015</td>\n",
       "    </tr>\n",
       "    <tr>\n",
       "      <th>3</th>\n",
       "      <td>48.0</td>\n",
       "      <td>1.08</td>\n",
       "      <td>78992.15</td>\n",
       "      <td>1132.00</td>\n",
       "      <td>71976.41</td>\n",
       "      <td>72.58</td>\n",
       "      <td>5811.16</td>\n",
       "      <td>5677.40</td>\n",
       "      <td>133.76</td>\n",
       "      <td>0.0</td>\n",
       "      <td>0.0</td>\n",
       "      <td>2015</td>\n",
       "    </tr>\n",
       "    <tr>\n",
       "      <th>4</th>\n",
       "      <td>47.0</td>\n",
       "      <td>1.28</td>\n",
       "      <td>51039.60</td>\n",
       "      <td>941.48</td>\n",
       "      <td>43838.39</td>\n",
       "      <td>75.78</td>\n",
       "      <td>6183.95</td>\n",
       "      <td>5986.26</td>\n",
       "      <td>197.69</td>\n",
       "      <td>0.0</td>\n",
       "      <td>0.0</td>\n",
       "      <td>2015</td>\n",
       "    </tr>\n",
       "    <tr>\n",
       "      <th>...</th>\n",
       "      <td>...</td>\n",
       "      <td>...</td>\n",
       "      <td>...</td>\n",
       "      <td>...</td>\n",
       "      <td>...</td>\n",
       "      <td>...</td>\n",
       "      <td>...</td>\n",
       "      <td>...</td>\n",
       "      <td>...</td>\n",
       "      <td>...</td>\n",
       "      <td>...</td>\n",
       "      <td>...</td>\n",
       "    </tr>\n",
       "    <tr>\n",
       "      <th>18244</th>\n",
       "      <td>161.0</td>\n",
       "      <td>1.63</td>\n",
       "      <td>17074.83</td>\n",
       "      <td>2046.96</td>\n",
       "      <td>1529.20</td>\n",
       "      <td>0.00</td>\n",
       "      <td>13498.67</td>\n",
       "      <td>13066.82</td>\n",
       "      <td>431.85</td>\n",
       "      <td>0.0</td>\n",
       "      <td>1.0</td>\n",
       "      <td>2018</td>\n",
       "    </tr>\n",
       "    <tr>\n",
       "      <th>18245</th>\n",
       "      <td>160.0</td>\n",
       "      <td>1.71</td>\n",
       "      <td>13888.04</td>\n",
       "      <td>1191.70</td>\n",
       "      <td>3431.50</td>\n",
       "      <td>0.00</td>\n",
       "      <td>9264.84</td>\n",
       "      <td>8940.04</td>\n",
       "      <td>324.80</td>\n",
       "      <td>0.0</td>\n",
       "      <td>1.0</td>\n",
       "      <td>2018</td>\n",
       "    </tr>\n",
       "    <tr>\n",
       "      <th>18246</th>\n",
       "      <td>159.0</td>\n",
       "      <td>1.87</td>\n",
       "      <td>13766.76</td>\n",
       "      <td>1191.92</td>\n",
       "      <td>2452.79</td>\n",
       "      <td>727.94</td>\n",
       "      <td>9394.11</td>\n",
       "      <td>9351.80</td>\n",
       "      <td>42.31</td>\n",
       "      <td>0.0</td>\n",
       "      <td>1.0</td>\n",
       "      <td>2018</td>\n",
       "    </tr>\n",
       "    <tr>\n",
       "      <th>18247</th>\n",
       "      <td>158.0</td>\n",
       "      <td>1.93</td>\n",
       "      <td>16205.22</td>\n",
       "      <td>1527.63</td>\n",
       "      <td>2981.04</td>\n",
       "      <td>727.01</td>\n",
       "      <td>10969.54</td>\n",
       "      <td>10919.54</td>\n",
       "      <td>50.00</td>\n",
       "      <td>0.0</td>\n",
       "      <td>1.0</td>\n",
       "      <td>2018</td>\n",
       "    </tr>\n",
       "    <tr>\n",
       "      <th>18248</th>\n",
       "      <td>157.0</td>\n",
       "      <td>1.62</td>\n",
       "      <td>17489.58</td>\n",
       "      <td>2894.77</td>\n",
       "      <td>2356.13</td>\n",
       "      <td>224.53</td>\n",
       "      <td>12014.15</td>\n",
       "      <td>11988.14</td>\n",
       "      <td>26.01</td>\n",
       "      <td>0.0</td>\n",
       "      <td>1.0</td>\n",
       "      <td>2018</td>\n",
       "    </tr>\n",
       "  </tbody>\n",
       "</table>\n",
       "<p>18249 rows × 12 columns</p>\n",
       "</div>"
      ],
      "text/plain": [
       "        Date  AveragePrice  Total Volume     4046       4225    4770  \\\n",
       "0       51.0          1.33      64236.62  1036.74   54454.85   48.16   \n",
       "1       50.0          1.35      54876.98   674.28   44638.81   58.33   \n",
       "2       49.0          0.93     118220.22   794.70  109149.67  130.50   \n",
       "3       48.0          1.08      78992.15  1132.00   71976.41   72.58   \n",
       "4       47.0          1.28      51039.60   941.48   43838.39   75.78   \n",
       "...      ...           ...           ...      ...        ...     ...   \n",
       "18244  161.0          1.63      17074.83  2046.96    1529.20    0.00   \n",
       "18245  160.0          1.71      13888.04  1191.70    3431.50    0.00   \n",
       "18246  159.0          1.87      13766.76  1191.92    2452.79  727.94   \n",
       "18247  158.0          1.93      16205.22  1527.63    2981.04  727.01   \n",
       "18248  157.0          1.62      17489.58  2894.77    2356.13  224.53   \n",
       "\n",
       "       Total Bags  Small Bags  Large Bags  XLarge Bags  type  year  \n",
       "0         8696.87     8603.62       93.25          0.0   0.0  2015  \n",
       "1         9505.56     9408.07       97.49          0.0   0.0  2015  \n",
       "2         8145.35     8042.21      103.14          0.0   0.0  2015  \n",
       "3         5811.16     5677.40      133.76          0.0   0.0  2015  \n",
       "4         6183.95     5986.26      197.69          0.0   0.0  2015  \n",
       "...           ...         ...         ...          ...   ...   ...  \n",
       "18244    13498.67    13066.82      431.85          0.0   1.0  2018  \n",
       "18245     9264.84     8940.04      324.80          0.0   1.0  2018  \n",
       "18246     9394.11     9351.80       42.31          0.0   1.0  2018  \n",
       "18247    10969.54    10919.54       50.00          0.0   1.0  2018  \n",
       "18248    12014.15    11988.14       26.01          0.0   1.0  2018  \n",
       "\n",
       "[18249 rows x 12 columns]"
      ]
     },
     "execution_count": 141,
     "metadata": {},
     "output_type": "execute_result"
    }
   ],
   "source": [
    "df2=x2[(z<3)]\n",
    "df2"
   ]
  },
  {
   "cell_type": "code",
   "execution_count": 142,
   "id": "a50bcbfd",
   "metadata": {},
   "outputs": [
    {
     "data": {
      "text/plain": [
       "Date            0.000117\n",
       "AveragePrice    0.400128\n",
       "Total Volume    3.581220\n",
       "4046            4.364381\n",
       "4225            3.945320\n",
       "4770            4.760268\n",
       "Total Bags      4.181288\n",
       "Small Bags      4.010837\n",
       "Large Bags      4.879352\n",
       "XLarge Bags     5.712669\n",
       "type            0.000329\n",
       "year            0.215339\n",
       "dtype: float64"
      ]
     },
     "execution_count": 142,
     "metadata": {},
     "output_type": "execute_result"
    }
   ],
   "source": [
    "df2.skew()"
   ]
  },
  {
   "cell_type": "code",
   "execution_count": 143,
   "id": "686bf7fd",
   "metadata": {},
   "outputs": [
    {
     "data": {
      "text/plain": [
       "array([[-0.58305373, -0.08711972, -0.08790688, ..., -0.68800227,\n",
       "        -0.99983562, -1.22189489],\n",
       "       [-0.60532524, -0.03377474, -0.15852271, ..., -0.68800227,\n",
       "        -0.99983562, -1.22189489],\n",
       "       [-0.62772182, -1.27256572,  0.18589321, ..., -0.68800227,\n",
       "        -0.99983562, -1.22189489],\n",
       "       ...,\n",
       "       [ 1.40879579,  1.20284316, -0.77732942, ..., -0.68800227,\n",
       "         1.00016441,  1.96854784],\n",
       "       [ 1.39266926,  1.32964248, -0.70447388, ..., -0.68800227,\n",
       "         1.00016441,  1.96854784],\n",
       "       [ 1.37651374,  0.64164795, -0.67038785, ..., -0.68800227,\n",
       "         1.00016441,  1.96854784]])"
      ]
     },
     "execution_count": 143,
     "metadata": {},
     "output_type": "execute_result"
    }
   ],
   "source": [
    "df2_modify=power_transform(df2)\n",
    "df2_modify"
   ]
  },
  {
   "cell_type": "code",
   "execution_count": 144,
   "id": "6fa1e9d4",
   "metadata": {},
   "outputs": [
    {
     "data": {
      "text/html": [
       "<div>\n",
       "<style scoped>\n",
       "    .dataframe tbody tr th:only-of-type {\n",
       "        vertical-align: middle;\n",
       "    }\n",
       "\n",
       "    .dataframe tbody tr th {\n",
       "        vertical-align: top;\n",
       "    }\n",
       "\n",
       "    .dataframe thead th {\n",
       "        text-align: right;\n",
       "    }\n",
       "</style>\n",
       "<table border=\"1\" class=\"dataframe\">\n",
       "  <thead>\n",
       "    <tr style=\"text-align: right;\">\n",
       "      <th></th>\n",
       "      <th>Date</th>\n",
       "      <th>AveragePrice</th>\n",
       "      <th>Total Volume</th>\n",
       "      <th>4046</th>\n",
       "      <th>4225</th>\n",
       "      <th>4770</th>\n",
       "      <th>Total Bags</th>\n",
       "      <th>Small Bags</th>\n",
       "      <th>Large Bags</th>\n",
       "      <th>XLarge Bags</th>\n",
       "      <th>type</th>\n",
       "      <th>year</th>\n",
       "    </tr>\n",
       "  </thead>\n",
       "  <tbody>\n",
       "    <tr>\n",
       "      <th>0</th>\n",
       "      <td>-0.583054</td>\n",
       "      <td>-0.087120</td>\n",
       "      <td>-0.087907</td>\n",
       "      <td>-0.663092</td>\n",
       "      <td>0.325094</td>\n",
       "      <td>-0.231836</td>\n",
       "      <td>-0.536550</td>\n",
       "      <td>-0.351425</td>\n",
       "      <td>-0.784669</td>\n",
       "      <td>-0.688002</td>\n",
       "      <td>-0.999836</td>\n",
       "      <td>-1.221895</td>\n",
       "    </tr>\n",
       "    <tr>\n",
       "      <th>1</th>\n",
       "      <td>-0.605325</td>\n",
       "      <td>-0.033775</td>\n",
       "      <td>-0.158523</td>\n",
       "      <td>-0.781673</td>\n",
       "      <td>0.245235</td>\n",
       "      <td>-0.184866</td>\n",
       "      <td>-0.497993</td>\n",
       "      <td>-0.316244</td>\n",
       "      <td>-0.774765</td>\n",
       "      <td>-0.688002</td>\n",
       "      <td>-0.999836</td>\n",
       "      <td>-1.221895</td>\n",
       "    </tr>\n",
       "    <tr>\n",
       "      <th>2</th>\n",
       "      <td>-0.627722</td>\n",
       "      <td>-1.272566</td>\n",
       "      <td>0.185893</td>\n",
       "      <td>-0.736691</td>\n",
       "      <td>0.614792</td>\n",
       "      <td>0.012686</td>\n",
       "      <td>-0.564832</td>\n",
       "      <td>-0.377788</td>\n",
       "      <td>-0.762155</td>\n",
       "      <td>-0.688002</td>\n",
       "      <td>-0.999836</td>\n",
       "      <td>-1.221895</td>\n",
       "    </tr>\n",
       "    <tr>\n",
       "      <th>3</th>\n",
       "      <td>-0.650247</td>\n",
       "      <td>-0.799204</td>\n",
       "      <td>0.004859</td>\n",
       "      <td>-0.638534</td>\n",
       "      <td>0.439363</td>\n",
       "      <td>-0.131236</td>\n",
       "      <td>-0.708886</td>\n",
       "      <td>-0.511206</td>\n",
       "      <td>-0.703079</td>\n",
       "      <td>-0.688002</td>\n",
       "      <td>-0.999836</td>\n",
       "      <td>-1.221895</td>\n",
       "    </tr>\n",
       "    <tr>\n",
       "      <th>4</th>\n",
       "      <td>-0.672903</td>\n",
       "      <td>-0.222686</td>\n",
       "      <td>-0.191019</td>\n",
       "      <td>-0.689890</td>\n",
       "      <td>0.238029</td>\n",
       "      <td>-0.120648</td>\n",
       "      <td>-0.682574</td>\n",
       "      <td>-0.491189</td>\n",
       "      <td>-0.611541</td>\n",
       "      <td>-0.688002</td>\n",
       "      <td>-0.999836</td>\n",
       "      <td>-1.221895</td>\n",
       "    </tr>\n",
       "    <tr>\n",
       "      <th>...</th>\n",
       "      <td>...</td>\n",
       "      <td>...</td>\n",
       "      <td>...</td>\n",
       "      <td>...</td>\n",
       "      <td>...</td>\n",
       "      <td>...</td>\n",
       "      <td>...</td>\n",
       "      <td>...</td>\n",
       "      <td>...</td>\n",
       "      <td>...</td>\n",
       "      <td>...</td>\n",
       "      <td>...</td>\n",
       "    </tr>\n",
       "    <tr>\n",
       "      <th>18244</th>\n",
       "      <td>1.440963</td>\n",
       "      <td>0.665193</td>\n",
       "      <td>-0.681114</td>\n",
       "      <td>-0.470125</td>\n",
       "      <td>-0.931298</td>\n",
       "      <td>-1.230800</td>\n",
       "      <td>-0.343934</td>\n",
       "      <td>-0.184378</td>\n",
       "      <td>-0.418312</td>\n",
       "      <td>-0.688002</td>\n",
       "      <td>1.000164</td>\n",
       "      <td>1.968548</td>\n",
       "    </tr>\n",
       "    <tr>\n",
       "      <th>18245</th>\n",
       "      <td>1.424894</td>\n",
       "      <td>0.850127</td>\n",
       "      <td>-0.773412</td>\n",
       "      <td>-0.624125</td>\n",
       "      <td>-0.678041</td>\n",
       "      <td>-1.230800</td>\n",
       "      <td>-0.509136</td>\n",
       "      <td>-0.336364</td>\n",
       "      <td>-0.490347</td>\n",
       "      <td>-0.688002</td>\n",
       "      <td>1.000164</td>\n",
       "      <td>1.968548</td>\n",
       "    </tr>\n",
       "    <tr>\n",
       "      <th>18246</th>\n",
       "      <td>1.408796</td>\n",
       "      <td>1.202843</td>\n",
       "      <td>-0.777329</td>\n",
       "      <td>-0.624073</td>\n",
       "      <td>-0.785276</td>\n",
       "      <td>0.430976</td>\n",
       "      <td>-0.503119</td>\n",
       "      <td>-0.318614</td>\n",
       "      <td>-0.953533</td>\n",
       "      <td>-0.688002</td>\n",
       "      <td>1.000164</td>\n",
       "      <td>1.968548</td>\n",
       "    </tr>\n",
       "    <tr>\n",
       "      <th>18247</th>\n",
       "      <td>1.392669</td>\n",
       "      <td>1.329642</td>\n",
       "      <td>-0.704474</td>\n",
       "      <td>-0.553961</td>\n",
       "      <td>-0.723341</td>\n",
       "      <td>0.430668</td>\n",
       "      <td>-0.435451</td>\n",
       "      <td>-0.256944</td>\n",
       "      <td>-0.918986</td>\n",
       "      <td>-0.688002</td>\n",
       "      <td>1.000164</td>\n",
       "      <td>1.968548</td>\n",
       "    </tr>\n",
       "    <tr>\n",
       "      <th>18248</th>\n",
       "      <td>1.376514</td>\n",
       "      <td>0.641648</td>\n",
       "      <td>-0.670388</td>\n",
       "      <td>-0.369208</td>\n",
       "      <td>-0.797921</td>\n",
       "      <td>0.145439</td>\n",
       "      <td>-0.395463</td>\n",
       "      <td>-0.219358</td>\n",
       "      <td>-1.050606</td>\n",
       "      <td>-0.688002</td>\n",
       "      <td>1.000164</td>\n",
       "      <td>1.968548</td>\n",
       "    </tr>\n",
       "  </tbody>\n",
       "</table>\n",
       "<p>18249 rows × 12 columns</p>\n",
       "</div>"
      ],
      "text/plain": [
       "           Date  AveragePrice  Total Volume      4046      4225      4770  \\\n",
       "0     -0.583054     -0.087120     -0.087907 -0.663092  0.325094 -0.231836   \n",
       "1     -0.605325     -0.033775     -0.158523 -0.781673  0.245235 -0.184866   \n",
       "2     -0.627722     -1.272566      0.185893 -0.736691  0.614792  0.012686   \n",
       "3     -0.650247     -0.799204      0.004859 -0.638534  0.439363 -0.131236   \n",
       "4     -0.672903     -0.222686     -0.191019 -0.689890  0.238029 -0.120648   \n",
       "...         ...           ...           ...       ...       ...       ...   \n",
       "18244  1.440963      0.665193     -0.681114 -0.470125 -0.931298 -1.230800   \n",
       "18245  1.424894      0.850127     -0.773412 -0.624125 -0.678041 -1.230800   \n",
       "18246  1.408796      1.202843     -0.777329 -0.624073 -0.785276  0.430976   \n",
       "18247  1.392669      1.329642     -0.704474 -0.553961 -0.723341  0.430668   \n",
       "18248  1.376514      0.641648     -0.670388 -0.369208 -0.797921  0.145439   \n",
       "\n",
       "       Total Bags  Small Bags  Large Bags  XLarge Bags      type      year  \n",
       "0       -0.536550   -0.351425   -0.784669    -0.688002 -0.999836 -1.221895  \n",
       "1       -0.497993   -0.316244   -0.774765    -0.688002 -0.999836 -1.221895  \n",
       "2       -0.564832   -0.377788   -0.762155    -0.688002 -0.999836 -1.221895  \n",
       "3       -0.708886   -0.511206   -0.703079    -0.688002 -0.999836 -1.221895  \n",
       "4       -0.682574   -0.491189   -0.611541    -0.688002 -0.999836 -1.221895  \n",
       "...           ...         ...         ...          ...       ...       ...  \n",
       "18244   -0.343934   -0.184378   -0.418312    -0.688002  1.000164  1.968548  \n",
       "18245   -0.509136   -0.336364   -0.490347    -0.688002  1.000164  1.968548  \n",
       "18246   -0.503119   -0.318614   -0.953533    -0.688002  1.000164  1.968548  \n",
       "18247   -0.435451   -0.256944   -0.918986    -0.688002  1.000164  1.968548  \n",
       "18248   -0.395463   -0.219358   -1.050606    -0.688002  1.000164  1.968548  \n",
       "\n",
       "[18249 rows x 12 columns]"
      ]
     },
     "execution_count": 144,
     "metadata": {},
     "output_type": "execute_result"
    }
   ],
   "source": [
    "X2=pd.DataFrame( df2_modify, columns=df2.columns)\n",
    "X2"
   ]
  },
  {
   "cell_type": "code",
   "execution_count": 145,
   "id": "22f22abc",
   "metadata": {},
   "outputs": [
    {
     "data": {
      "text/plain": [
       "Date           -0.277806\n",
       "AveragePrice    0.002187\n",
       "Total Volume   -0.001874\n",
       "4046           -0.036548\n",
       "4225           -0.042008\n",
       "4770            0.024811\n",
       "Total Bags     -0.016455\n",
       "Small Bags     -0.019981\n",
       "Large Bags     -0.108237\n",
       "XLarge Bags     0.825205\n",
       "type            0.000329\n",
       "year            0.213156\n",
       "dtype: float64"
      ]
     },
     "execution_count": 145,
     "metadata": {},
     "output_type": "execute_result"
    }
   ],
   "source": [
    "X2.skew()"
   ]
  },
  {
   "cell_type": "code",
   "execution_count": 146,
   "id": "d013e2da",
   "metadata": {},
   "outputs": [
    {
     "data": {
      "text/plain": [
       "Date              0\n",
       "AveragePrice    131\n",
       "Total Volume    171\n",
       "4046            181\n",
       "4225            180\n",
       "4770            259\n",
       "Total Bags      187\n",
       "Small Bags      179\n",
       "Large Bags      251\n",
       "XLarge Bags     234\n",
       "type              0\n",
       "year              0\n",
       "dtype: int64"
      ]
     },
     "execution_count": 146,
     "metadata": {},
     "output_type": "execute_result"
    }
   ],
   "source": [
    "X2.isnull().sum()"
   ]
  },
  {
   "cell_type": "code",
   "execution_count": 147,
   "id": "0bfffe70",
   "metadata": {},
   "outputs": [],
   "source": [
    "X2['AveragePrice']=X2['AveragePrice'].fillna(X2['AveragePrice'].mean())\n",
    "X2['Total Volume']=X2['Total Volume'].fillna(X2['Total Volume'].mean())\n",
    "X2['4046']=X2['4046'].fillna(X2['4046'].mean())\n",
    "X2['4225']=X2['4225'].fillna(X2['4225'].mean())\n",
    "X2['4770']=X2['4770'].fillna(X2['4770'].mean())\n",
    "X2['Total Bags']=X2['Total Bags'].fillna(X2['Total Bags'].mean())\n",
    "X2['Small Bags']=X2['Small Bags'].fillna(X2['Small Bags'].mean())\n",
    "X2['Large Bags']=X2['Large Bags'].fillna(X2['Large Bags'].mean())\n",
    "X2['XLarge Bags']=X2['XLarge Bags'].fillna(X2['XLarge Bags'].mean())"
   ]
  },
  {
   "cell_type": "code",
   "execution_count": 148,
   "id": "70d5bb1f",
   "metadata": {},
   "outputs": [
    {
     "data": {
      "text/plain": [
       "0"
      ]
     },
     "execution_count": 148,
     "metadata": {},
     "output_type": "execute_result"
    }
   ],
   "source": [
    "X2.isnull().sum().sum()"
   ]
  },
  {
   "cell_type": "code",
   "execution_count": 149,
   "id": "d894f601",
   "metadata": {},
   "outputs": [
    {
     "data": {
      "text/plain": [
       "0         0.0\n",
       "1         0.0\n",
       "2         0.0\n",
       "3         0.0\n",
       "4         0.0\n",
       "         ... \n",
       "18244    53.0\n",
       "18245    53.0\n",
       "18246    53.0\n",
       "18247    53.0\n",
       "18248    53.0\n",
       "Name: region, Length: 18249, dtype: float64"
      ]
     },
     "execution_count": 149,
     "metadata": {},
     "output_type": "execute_result"
    }
   ],
   "source": [
    "y2"
   ]
  },
  {
   "cell_type": "code",
   "execution_count": 150,
   "id": "460dce44",
   "metadata": {},
   "outputs": [],
   "source": [
    "from sklearn.linear_model import  Lasso,LassoCV,Ridge,RidgeCV\n",
    "from sklearn.tree import DecisionTreeClassifier\n",
    "from sklearn.ensemble import RandomForestClassifier\n",
    "from sklearn.svm import SVC\n",
    "#from sklearn.\n"
   ]
  },
  {
   "cell_type": "code",
   "execution_count": 151,
   "id": "936d11c9",
   "metadata": {},
   "outputs": [],
   "source": [
    "x2_train, x2_test, y2_train, y2_test=train_test_split( X2, y2, test_size=0.2, random_state=45)"
   ]
  },
  {
   "cell_type": "markdown",
   "id": "4851943a",
   "metadata": {},
   "source": [
    "MODEL 1: DECISION TREE CLASSIFIER"
   ]
  },
  {
   "cell_type": "code",
   "execution_count": 152,
   "id": "3ebf5844",
   "metadata": {},
   "outputs": [
    {
     "name": "stdout",
     "output_type": "stream",
     "text": [
      "training score is  1.0\n",
      "testing score is  0.807945205479452\n",
      "accuracy score is  0.807945205479452\n"
     ]
    }
   ],
   "source": [
    "dtc=DecisionTreeClassifier()\n",
    "dtc.fit(x2_train, y2_train)\n",
    "\n",
    "a=dtc.score(x2_train, y2_train)\n",
    "b=dtc.score(x2_test, y2_test)\n",
    "y2_pred=dtc.predict(x2_test)\n",
    "c=accuracy_score(y2_test, y2_pred)\n",
    "\n",
    "print('training score is ',a)\n",
    "print('testing score is ',b)\n",
    "print('accuracy score is ', c)"
   ]
  },
  {
   "cell_type": "markdown",
   "id": "7f537d34",
   "metadata": {},
   "source": [
    "MODEL 2: RANDOM FOREST CLASSIFIER"
   ]
  },
  {
   "cell_type": "code",
   "execution_count": 153,
   "id": "c7710f6a",
   "metadata": {},
   "outputs": [
    {
     "name": "stdout",
     "output_type": "stream",
     "text": [
      "training score is  1.0\n",
      "testing score is  0.9161643835616439\n",
      "accuracy score is  0.9161643835616439\n"
     ]
    }
   ],
   "source": [
    "rfc=RandomForestClassifier()\n",
    "rfc.fit(x2_train, y2_train)\n",
    "\n",
    "a=rfc.score(x2_train, y2_train)\n",
    "b=rfc.score(x2_test, y2_test)\n",
    "y2_pred=rfc.predict(x2_test)\n",
    "c=accuracy_score(y2_test, y2_pred)\n",
    "\n",
    "print('training score is ',a)\n",
    "print('testing score is ',b)\n",
    "print('accuracy score is ', c)"
   ]
  },
  {
   "cell_type": "markdown",
   "id": "a96e5d13",
   "metadata": {},
   "source": [
    "MODEL 3: SVM ( SUPPORT VECTOR MACHINES )"
   ]
  },
  {
   "cell_type": "code",
   "execution_count": 154,
   "id": "08a3f5e6",
   "metadata": {},
   "outputs": [
    {
     "name": "stdout",
     "output_type": "stream",
     "text": [
      "training score is  0.844441400095897\n",
      "testing score is  0.8238356164383561\n",
      "accuracy score is  0.8238356164383561\n"
     ]
    }
   ],
   "source": [
    "svc=SVC()\n",
    "svc.fit(x2_train, y2_train)\n",
    "\n",
    "a=svc.score(x2_train, y2_train)\n",
    "b=svc.score(x2_test, y2_test)\n",
    "y2_pred=svc.predict(x2_test)\n",
    "c=accuracy_score(y2_test, y2_pred)\n",
    "\n",
    "print('training score is ',a)\n",
    "print('testing score is ',b)\n",
    "print('accuracy score is ', c)"
   ]
  },
  {
   "cell_type": "markdown",
   "id": "dbd3426d",
   "metadata": {},
   "source": [
    "MODEL 4: "
   ]
  },
  {
   "cell_type": "code",
   "execution_count": 155,
   "id": "9110c767",
   "metadata": {},
   "outputs": [
    {
     "name": "stdout",
     "output_type": "stream",
     "text": [
      "alpha value is  0.012314892240758019\n"
     ]
    }
   ],
   "source": [
    "lasscv=LassoCV(alphas=None, cv=9, max_iter=1000)\n",
    "lasscv.fit(x2_train, y2_train)\n",
    "\n",
    "alpha=lasscv.alpha_\n",
    "print('alpha value is ', alpha)"
   ]
  },
  {
   "cell_type": "code",
   "execution_count": 156,
   "id": "541c8f8e",
   "metadata": {},
   "outputs": [
    {
     "name": "stdout",
     "output_type": "stream",
     "text": [
      "training score is  0.06883851606885916\n",
      "testing score is  0.07561487357670538\n",
      "r2 score is  0.07561487357670538\n"
     ]
    }
   ],
   "source": [
    "lasso_reg=Lasso(alpha)\n",
    "lasso_reg.fit(x2_train, y2_train)\n",
    "\n",
    "a=lasso_reg.score(x2_train, y2_train)\n",
    "b=lasso_reg.score(x2_test, y2_test)\n",
    "y2_pred= lasso_reg.predict(x2_test)\n",
    "c=r2_score(y2_test, y2_pred)\n",
    "\n",
    "print('training score is ', a)\n",
    "print('testing score is ', b)\n",
    "print('r2 score is ', c)"
   ]
  },
  {
   "cell_type": "markdown",
   "id": "9eb2951b",
   "metadata": {},
   "source": [
    "MODEL 5: RIDGE CV "
   ]
  },
  {
   "cell_type": "code",
   "execution_count": 157,
   "id": "fd85e29a",
   "metadata": {},
   "outputs": [
    {
     "name": "stdout",
     "output_type": "stream",
     "text": [
      "alpha value is  6.8995824839689535\n"
     ]
    }
   ],
   "source": [
    "alphas= np.random.uniform(low=0, high=10, size=(50,))\n",
    "ridgecv=RidgeCV(alphas=alphas, cv=10)\n",
    "\n",
    "ridgecv.fit(x2_train, y2_train)\n",
    "alpha=ridgecv.alpha_\n",
    "print('alpha value is ', alpha)"
   ]
  },
  {
   "cell_type": "code",
   "execution_count": 158,
   "id": "2bac3f5a",
   "metadata": {},
   "outputs": [
    {
     "name": "stdout",
     "output_type": "stream",
     "text": [
      "training score is  0.06895113948022502\n",
      "testing score is  0.07572962428448626\n",
      "r2 score is  0.07572962428448626\n"
     ]
    }
   ],
   "source": [
    "ridge_reg= Ridge(alpha)\n",
    "ridge_reg.fit(x2_train, y2_train)\n",
    "\n",
    "a=ridge_reg.score(x2_train, y2_train)\n",
    "b=ridge_reg.score(x2_test, y2_test)\n",
    "y2_pred= ridge_reg.predict(x2_test)\n",
    "c=r2_score(y2_test, y2_pred)\n",
    "\n",
    "print('training score is ', a)\n",
    "print('testing score is ', b)\n",
    "print('r2 score is ', c)"
   ]
  },
  {
   "cell_type": "markdown",
   "id": "5f5d60ac",
   "metadata": {},
   "source": [
    "CROSS VALIDATION SCORE"
   ]
  },
  {
   "cell_type": "code",
   "execution_count": 159,
   "id": "e89cfb13",
   "metadata": {},
   "outputs": [
    {
     "name": "stdout",
     "output_type": "stream",
     "text": [
      "cross validation score of decision tree classifier is  0.5666546886555521\n"
     ]
    }
   ],
   "source": [
    "scr=cross_val_score(dtc, X2, y2, cv=5)\n",
    "print('cross validation score of decision tree classifier is ', scr.mean())"
   ]
  },
  {
   "cell_type": "code",
   "execution_count": 160,
   "id": "3eb6a53a",
   "metadata": {},
   "outputs": [
    {
     "name": "stdout",
     "output_type": "stream",
     "text": [
      "cross validation score of random forest classifier is  0.693233635036058\n"
     ]
    }
   ],
   "source": [
    "scr=cross_val_score(rfc, X2, y2, cv=5)\n",
    "print('cross validation score of random forest classifier is ', scr.mean())"
   ]
  },
  {
   "cell_type": "code",
   "execution_count": 161,
   "id": "6ad67775",
   "metadata": {},
   "outputs": [
    {
     "name": "stdout",
     "output_type": "stream",
     "text": [
      "cross validation score of svm is  0.6233101356348334\n"
     ]
    }
   ],
   "source": [
    "scr=cross_val_score(svc, X2, y2, cv=5)\n",
    "print('cross validation score of svm is ', scr.mean())"
   ]
  },
  {
   "cell_type": "code",
   "execution_count": 162,
   "id": "36dfd474",
   "metadata": {},
   "outputs": [
    {
     "name": "stdout",
     "output_type": "stream",
     "text": [
      "cross validation score of lasso cv is  -0.16622570423702854\n"
     ]
    }
   ],
   "source": [
    "scr=cross_val_score(lasso_reg, X2, y2, cv=3)\n",
    "print('cross validation score of lasso cv is ', scr.mean())"
   ]
  },
  {
   "cell_type": "code",
   "execution_count": 163,
   "id": "65e91f70",
   "metadata": {},
   "outputs": [
    {
     "name": "stdout",
     "output_type": "stream",
     "text": [
      "cross validation score of ridge cv is  -0.9918631819260592\n"
     ]
    }
   ],
   "source": [
    "scr=cross_val_score(ridge_reg, X2, y2, cv=10)\n",
    "print('cross validation score of ridge cv is ', scr.mean())"
   ]
  },
  {
   "cell_type": "markdown",
   "id": "c006698d",
   "metadata": {},
   "source": [
    "HYPER PARAMETER TUNING"
   ]
  },
  {
   "cell_type": "code",
   "execution_count": 167,
   "id": "558d61aa",
   "metadata": {},
   "outputs": [],
   "source": [
    "parameters= {'C':[0.1,1,10,100],\n",
    "             'gamma':[1, 0.1, 0.01, 0.001],\n",
    "             'kernel':['rbf']\n",
    "}"
   ]
  },
  {
   "cell_type": "code",
   "execution_count": 168,
   "id": "98737303",
   "metadata": {},
   "outputs": [],
   "source": [
    "gridsearch= GridSearchCV(estimator=SVC(),\n",
    "                        param_grid=parameters,\n",
    "                        n_jobs=-1,\n",
    "                        cv=7,\n",
    "                        scoring='accuracy')"
   ]
  },
  {
   "cell_type": "code",
   "execution_count": 169,
   "id": "35d118a0",
   "metadata": {},
   "outputs": [
    {
     "data": {
      "text/plain": [
       "GridSearchCV(cv=7, estimator=SVC(), n_jobs=-1,\n",
       "             param_grid={'C': [0.1, 1, 10, 100], 'gamma': [1, 0.1, 0.01, 0.001],\n",
       "                         'kernel': ['rbf']},\n",
       "             scoring='accuracy')"
      ]
     },
     "execution_count": 169,
     "metadata": {},
     "output_type": "execute_result"
    }
   ],
   "source": [
    "gridsearch.fit(x2_train, y2_train)"
   ]
  },
  {
   "cell_type": "code",
   "execution_count": 170,
   "id": "f7e50dd9",
   "metadata": {},
   "outputs": [
    {
     "data": {
      "text/plain": [
       "{'C': 100, 'gamma': 0.1, 'kernel': 'rbf'}"
      ]
     },
     "execution_count": 170,
     "metadata": {},
     "output_type": "execute_result"
    }
   ],
   "source": [
    "gridsearch.best_params_"
   ]
  },
  {
   "cell_type": "code",
   "execution_count": 174,
   "id": "c718d302",
   "metadata": {},
   "outputs": [
    {
     "data": {
      "text/plain": [
       "SVC(C=100, gamma=0.1)"
      ]
     },
     "execution_count": 174,
     "metadata": {},
     "output_type": "execute_result"
    }
   ],
   "source": [
    "svc=SVC(C=100, gamma=0.1, kernel='rbf')\n",
    "svc.fit(x2_train, y2_train)"
   ]
  },
  {
   "cell_type": "code",
   "execution_count": null,
   "id": "b7c4b362",
   "metadata": {},
   "outputs": [],
   "source": [
    "#rfc=RandomForestClassifier(n_estimators=10, max_depth=7, max_features='auto', min_samples_leaf=1, min_samples_split=5, bootstrap=True)\n",
    "#rfc.fit(x2_train, y2_train)"
   ]
  },
  {
   "cell_type": "code",
   "execution_count": 175,
   "id": "0215de89",
   "metadata": {},
   "outputs": [
    {
     "data": {
      "text/plain": [
       "0.8567096295317163"
      ]
     },
     "execution_count": 175,
     "metadata": {},
     "output_type": "execute_result"
    }
   ],
   "source": [
    "y2_pred=svc.predict(x2_test)\n",
    "r2_score(y2_test, y2_pred)"
   ]
  },
  {
   "cell_type": "markdown",
   "id": "051cb949",
   "metadata": {},
   "source": [
    "the random forest classifier and svc both give better results and score, but hypertunnig, svc gaves the best score among all models.\n",
    "so we continue with svc model and save them."
   ]
  },
  {
   "cell_type": "markdown",
   "id": "e3bdddc2",
   "metadata": {},
   "source": [
    "SAVING THE MODEL"
   ]
  },
  {
   "cell_type": "code",
   "execution_count": 176,
   "id": "632c28ad",
   "metadata": {},
   "outputs": [
    {
     "data": {
      "text/plain": [
       "['avacado_region.pkl']"
      ]
     },
     "execution_count": 176,
     "metadata": {},
     "output_type": "execute_result"
    }
   ],
   "source": [
    "joblib.dump(svc.predict, 'avacado_region.pkl')"
   ]
  },
  {
   "cell_type": "code",
   "execution_count": null,
   "id": "cb33e0e1",
   "metadata": {},
   "outputs": [],
   "source": [
    "\n",
    "\n",
    "\n",
    "\n"
   ]
  }
 ],
 "metadata": {
  "kernelspec": {
   "display_name": "Python 3 (ipykernel)",
   "language": "python",
   "name": "python3"
  },
  "language_info": {
   "codemirror_mode": {
    "name": "ipython",
    "version": 3
   },
   "file_extension": ".py",
   "mimetype": "text/x-python",
   "name": "python",
   "nbconvert_exporter": "python",
   "pygments_lexer": "ipython3",
   "version": "3.9.12"
  }
 },
 "nbformat": 4,
 "nbformat_minor": 5
}
