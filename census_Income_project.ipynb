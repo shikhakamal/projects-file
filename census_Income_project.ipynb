{
 "cells": [
  {
   "cell_type": "code",
   "execution_count": 1,
   "id": "9c0a0999",
   "metadata": {},
   "outputs": [],
   "source": [
    "import pandas as pd\n",
    "import numpy as np\n",
    "import matplotlib.pyplot as plt\n",
    "import seaborn as sns\n",
    "\n",
    "import warnings\n",
    "warnings.filterwarnings('ignore')"
   ]
  },
  {
   "cell_type": "code",
   "execution_count": 2,
   "id": "c299191f",
   "metadata": {},
   "outputs": [
    {
     "data": {
      "text/html": [
       "<div>\n",
       "<style scoped>\n",
       "    .dataframe tbody tr th:only-of-type {\n",
       "        vertical-align: middle;\n",
       "    }\n",
       "\n",
       "    .dataframe tbody tr th {\n",
       "        vertical-align: top;\n",
       "    }\n",
       "\n",
       "    .dataframe thead th {\n",
       "        text-align: right;\n",
       "    }\n",
       "</style>\n",
       "<table border=\"1\" class=\"dataframe\">\n",
       "  <thead>\n",
       "    <tr style=\"text-align: right;\">\n",
       "      <th></th>\n",
       "      <th>Age</th>\n",
       "      <th>Workclass</th>\n",
       "      <th>Fnlwgt</th>\n",
       "      <th>Education</th>\n",
       "      <th>Education_num</th>\n",
       "      <th>Marital_status</th>\n",
       "      <th>Occupation</th>\n",
       "      <th>Relationship</th>\n",
       "      <th>Race</th>\n",
       "      <th>Sex</th>\n",
       "      <th>Capital_gain</th>\n",
       "      <th>Capital_loss</th>\n",
       "      <th>Hours_per_week</th>\n",
       "      <th>Native_country</th>\n",
       "      <th>Income</th>\n",
       "    </tr>\n",
       "  </thead>\n",
       "  <tbody>\n",
       "    <tr>\n",
       "      <th>0</th>\n",
       "      <td>50</td>\n",
       "      <td>Self-emp-not-inc</td>\n",
       "      <td>83311</td>\n",
       "      <td>Bachelors</td>\n",
       "      <td>13</td>\n",
       "      <td>Married-civ-spouse</td>\n",
       "      <td>Exec-managerial</td>\n",
       "      <td>Husband</td>\n",
       "      <td>White</td>\n",
       "      <td>Male</td>\n",
       "      <td>0</td>\n",
       "      <td>0</td>\n",
       "      <td>13</td>\n",
       "      <td>United-States</td>\n",
       "      <td>&lt;=50K</td>\n",
       "    </tr>\n",
       "    <tr>\n",
       "      <th>1</th>\n",
       "      <td>38</td>\n",
       "      <td>Private</td>\n",
       "      <td>215646</td>\n",
       "      <td>HS-grad</td>\n",
       "      <td>9</td>\n",
       "      <td>Divorced</td>\n",
       "      <td>Handlers-cleaners</td>\n",
       "      <td>Not-in-family</td>\n",
       "      <td>White</td>\n",
       "      <td>Male</td>\n",
       "      <td>0</td>\n",
       "      <td>0</td>\n",
       "      <td>40</td>\n",
       "      <td>United-States</td>\n",
       "      <td>&lt;=50K</td>\n",
       "    </tr>\n",
       "    <tr>\n",
       "      <th>2</th>\n",
       "      <td>53</td>\n",
       "      <td>Private</td>\n",
       "      <td>234721</td>\n",
       "      <td>11th</td>\n",
       "      <td>7</td>\n",
       "      <td>Married-civ-spouse</td>\n",
       "      <td>Handlers-cleaners</td>\n",
       "      <td>Husband</td>\n",
       "      <td>Black</td>\n",
       "      <td>Male</td>\n",
       "      <td>0</td>\n",
       "      <td>0</td>\n",
       "      <td>40</td>\n",
       "      <td>United-States</td>\n",
       "      <td>&lt;=50K</td>\n",
       "    </tr>\n",
       "    <tr>\n",
       "      <th>3</th>\n",
       "      <td>28</td>\n",
       "      <td>Private</td>\n",
       "      <td>338409</td>\n",
       "      <td>Bachelors</td>\n",
       "      <td>13</td>\n",
       "      <td>Married-civ-spouse</td>\n",
       "      <td>Prof-specialty</td>\n",
       "      <td>Wife</td>\n",
       "      <td>Black</td>\n",
       "      <td>Female</td>\n",
       "      <td>0</td>\n",
       "      <td>0</td>\n",
       "      <td>40</td>\n",
       "      <td>Cuba</td>\n",
       "      <td>&lt;=50K</td>\n",
       "    </tr>\n",
       "    <tr>\n",
       "      <th>4</th>\n",
       "      <td>37</td>\n",
       "      <td>Private</td>\n",
       "      <td>284582</td>\n",
       "      <td>Masters</td>\n",
       "      <td>14</td>\n",
       "      <td>Married-civ-spouse</td>\n",
       "      <td>Exec-managerial</td>\n",
       "      <td>Wife</td>\n",
       "      <td>White</td>\n",
       "      <td>Female</td>\n",
       "      <td>0</td>\n",
       "      <td>0</td>\n",
       "      <td>40</td>\n",
       "      <td>United-States</td>\n",
       "      <td>&lt;=50K</td>\n",
       "    </tr>\n",
       "    <tr>\n",
       "      <th>...</th>\n",
       "      <td>...</td>\n",
       "      <td>...</td>\n",
       "      <td>...</td>\n",
       "      <td>...</td>\n",
       "      <td>...</td>\n",
       "      <td>...</td>\n",
       "      <td>...</td>\n",
       "      <td>...</td>\n",
       "      <td>...</td>\n",
       "      <td>...</td>\n",
       "      <td>...</td>\n",
       "      <td>...</td>\n",
       "      <td>...</td>\n",
       "      <td>...</td>\n",
       "      <td>...</td>\n",
       "    </tr>\n",
       "    <tr>\n",
       "      <th>32555</th>\n",
       "      <td>27</td>\n",
       "      <td>Private</td>\n",
       "      <td>257302</td>\n",
       "      <td>Assoc-acdm</td>\n",
       "      <td>12</td>\n",
       "      <td>Married-civ-spouse</td>\n",
       "      <td>Tech-support</td>\n",
       "      <td>Wife</td>\n",
       "      <td>White</td>\n",
       "      <td>Female</td>\n",
       "      <td>0</td>\n",
       "      <td>0</td>\n",
       "      <td>38</td>\n",
       "      <td>United-States</td>\n",
       "      <td>&lt;=50K</td>\n",
       "    </tr>\n",
       "    <tr>\n",
       "      <th>32556</th>\n",
       "      <td>40</td>\n",
       "      <td>Private</td>\n",
       "      <td>154374</td>\n",
       "      <td>HS-grad</td>\n",
       "      <td>9</td>\n",
       "      <td>Married-civ-spouse</td>\n",
       "      <td>Machine-op-inspct</td>\n",
       "      <td>Husband</td>\n",
       "      <td>White</td>\n",
       "      <td>Male</td>\n",
       "      <td>0</td>\n",
       "      <td>0</td>\n",
       "      <td>40</td>\n",
       "      <td>United-States</td>\n",
       "      <td>&gt;50K</td>\n",
       "    </tr>\n",
       "    <tr>\n",
       "      <th>32557</th>\n",
       "      <td>58</td>\n",
       "      <td>Private</td>\n",
       "      <td>151910</td>\n",
       "      <td>HS-grad</td>\n",
       "      <td>9</td>\n",
       "      <td>Widowed</td>\n",
       "      <td>Adm-clerical</td>\n",
       "      <td>Unmarried</td>\n",
       "      <td>White</td>\n",
       "      <td>Female</td>\n",
       "      <td>0</td>\n",
       "      <td>0</td>\n",
       "      <td>40</td>\n",
       "      <td>United-States</td>\n",
       "      <td>&lt;=50K</td>\n",
       "    </tr>\n",
       "    <tr>\n",
       "      <th>32558</th>\n",
       "      <td>22</td>\n",
       "      <td>Private</td>\n",
       "      <td>201490</td>\n",
       "      <td>HS-grad</td>\n",
       "      <td>9</td>\n",
       "      <td>Never-married</td>\n",
       "      <td>Adm-clerical</td>\n",
       "      <td>Own-child</td>\n",
       "      <td>White</td>\n",
       "      <td>Male</td>\n",
       "      <td>0</td>\n",
       "      <td>0</td>\n",
       "      <td>20</td>\n",
       "      <td>United-States</td>\n",
       "      <td>&lt;=50K</td>\n",
       "    </tr>\n",
       "    <tr>\n",
       "      <th>32559</th>\n",
       "      <td>52</td>\n",
       "      <td>Self-emp-inc</td>\n",
       "      <td>287927</td>\n",
       "      <td>HS-grad</td>\n",
       "      <td>9</td>\n",
       "      <td>Married-civ-spouse</td>\n",
       "      <td>Exec-managerial</td>\n",
       "      <td>Wife</td>\n",
       "      <td>White</td>\n",
       "      <td>Female</td>\n",
       "      <td>15024</td>\n",
       "      <td>0</td>\n",
       "      <td>40</td>\n",
       "      <td>United-States</td>\n",
       "      <td>&gt;50K</td>\n",
       "    </tr>\n",
       "  </tbody>\n",
       "</table>\n",
       "<p>32560 rows × 15 columns</p>\n",
       "</div>"
      ],
      "text/plain": [
       "       Age          Workclass  Fnlwgt    Education  Education_num  \\\n",
       "0       50   Self-emp-not-inc   83311    Bachelors             13   \n",
       "1       38            Private  215646      HS-grad              9   \n",
       "2       53            Private  234721         11th              7   \n",
       "3       28            Private  338409    Bachelors             13   \n",
       "4       37            Private  284582      Masters             14   \n",
       "...    ...                ...     ...          ...            ...   \n",
       "32555   27            Private  257302   Assoc-acdm             12   \n",
       "32556   40            Private  154374      HS-grad              9   \n",
       "32557   58            Private  151910      HS-grad              9   \n",
       "32558   22            Private  201490      HS-grad              9   \n",
       "32559   52       Self-emp-inc  287927      HS-grad              9   \n",
       "\n",
       "            Marital_status          Occupation    Relationship    Race  \\\n",
       "0       Married-civ-spouse     Exec-managerial         Husband   White   \n",
       "1                 Divorced   Handlers-cleaners   Not-in-family   White   \n",
       "2       Married-civ-spouse   Handlers-cleaners         Husband   Black   \n",
       "3       Married-civ-spouse      Prof-specialty            Wife   Black   \n",
       "4       Married-civ-spouse     Exec-managerial            Wife   White   \n",
       "...                    ...                 ...             ...     ...   \n",
       "32555   Married-civ-spouse        Tech-support            Wife   White   \n",
       "32556   Married-civ-spouse   Machine-op-inspct         Husband   White   \n",
       "32557              Widowed        Adm-clerical       Unmarried   White   \n",
       "32558        Never-married        Adm-clerical       Own-child   White   \n",
       "32559   Married-civ-spouse     Exec-managerial            Wife   White   \n",
       "\n",
       "           Sex  Capital_gain  Capital_loss  Hours_per_week  Native_country  \\\n",
       "0         Male             0             0              13   United-States   \n",
       "1         Male             0             0              40   United-States   \n",
       "2         Male             0             0              40   United-States   \n",
       "3       Female             0             0              40            Cuba   \n",
       "4       Female             0             0              40   United-States   \n",
       "...        ...           ...           ...             ...             ...   \n",
       "32555   Female             0             0              38   United-States   \n",
       "32556     Male             0             0              40   United-States   \n",
       "32557   Female             0             0              40   United-States   \n",
       "32558     Male             0             0              20   United-States   \n",
       "32559   Female         15024             0              40   United-States   \n",
       "\n",
       "       Income  \n",
       "0       <=50K  \n",
       "1       <=50K  \n",
       "2       <=50K  \n",
       "3       <=50K  \n",
       "4       <=50K  \n",
       "...       ...  \n",
       "32555   <=50K  \n",
       "32556    >50K  \n",
       "32557   <=50K  \n",
       "32558   <=50K  \n",
       "32559    >50K  \n",
       "\n",
       "[32560 rows x 15 columns]"
      ]
     },
     "execution_count": 2,
     "metadata": {},
     "output_type": "execute_result"
    }
   ],
   "source": [
    "df=pd.read_csv('https://raw.githubusercontent.com/dsrscientist/dataset1/master/census_income.csv')\n",
    "df"
   ]
  },
  {
   "cell_type": "markdown",
   "id": "7d7820e9",
   "metadata": {},
   "source": [
    "the datasets is being executed above and income column is to take a target variable which is in catagorical data type. we need to predict whether a person can make above 50K or not as their income."
   ]
  },
  {
   "cell_type": "code",
   "execution_count": 3,
   "id": "3cab4e3b",
   "metadata": {},
   "outputs": [
    {
     "data": {
      "text/html": [
       "<div>\n",
       "<style scoped>\n",
       "    .dataframe tbody tr th:only-of-type {\n",
       "        vertical-align: middle;\n",
       "    }\n",
       "\n",
       "    .dataframe tbody tr th {\n",
       "        vertical-align: top;\n",
       "    }\n",
       "\n",
       "    .dataframe thead th {\n",
       "        text-align: right;\n",
       "    }\n",
       "</style>\n",
       "<table border=\"1\" class=\"dataframe\">\n",
       "  <thead>\n",
       "    <tr style=\"text-align: right;\">\n",
       "      <th></th>\n",
       "      <th>Age</th>\n",
       "      <th>Workclass</th>\n",
       "      <th>Fnlwgt</th>\n",
       "      <th>Education</th>\n",
       "      <th>Education_num</th>\n",
       "      <th>Marital_status</th>\n",
       "      <th>Occupation</th>\n",
       "      <th>Relationship</th>\n",
       "      <th>Race</th>\n",
       "      <th>Sex</th>\n",
       "      <th>Capital_gain</th>\n",
       "      <th>Capital_loss</th>\n",
       "      <th>Hours_per_week</th>\n",
       "      <th>Native_country</th>\n",
       "      <th>Income</th>\n",
       "    </tr>\n",
       "  </thead>\n",
       "  <tbody>\n",
       "    <tr>\n",
       "      <th>0</th>\n",
       "      <td>50</td>\n",
       "      <td>Self-emp-not-inc</td>\n",
       "      <td>83311</td>\n",
       "      <td>Bachelors</td>\n",
       "      <td>13</td>\n",
       "      <td>Married-civ-spouse</td>\n",
       "      <td>Exec-managerial</td>\n",
       "      <td>Husband</td>\n",
       "      <td>White</td>\n",
       "      <td>Male</td>\n",
       "      <td>0</td>\n",
       "      <td>0</td>\n",
       "      <td>13</td>\n",
       "      <td>United-States</td>\n",
       "      <td>&lt;=50K</td>\n",
       "    </tr>\n",
       "    <tr>\n",
       "      <th>1</th>\n",
       "      <td>38</td>\n",
       "      <td>Private</td>\n",
       "      <td>215646</td>\n",
       "      <td>HS-grad</td>\n",
       "      <td>9</td>\n",
       "      <td>Divorced</td>\n",
       "      <td>Handlers-cleaners</td>\n",
       "      <td>Not-in-family</td>\n",
       "      <td>White</td>\n",
       "      <td>Male</td>\n",
       "      <td>0</td>\n",
       "      <td>0</td>\n",
       "      <td>40</td>\n",
       "      <td>United-States</td>\n",
       "      <td>&lt;=50K</td>\n",
       "    </tr>\n",
       "    <tr>\n",
       "      <th>2</th>\n",
       "      <td>53</td>\n",
       "      <td>Private</td>\n",
       "      <td>234721</td>\n",
       "      <td>11th</td>\n",
       "      <td>7</td>\n",
       "      <td>Married-civ-spouse</td>\n",
       "      <td>Handlers-cleaners</td>\n",
       "      <td>Husband</td>\n",
       "      <td>Black</td>\n",
       "      <td>Male</td>\n",
       "      <td>0</td>\n",
       "      <td>0</td>\n",
       "      <td>40</td>\n",
       "      <td>United-States</td>\n",
       "      <td>&lt;=50K</td>\n",
       "    </tr>\n",
       "    <tr>\n",
       "      <th>3</th>\n",
       "      <td>28</td>\n",
       "      <td>Private</td>\n",
       "      <td>338409</td>\n",
       "      <td>Bachelors</td>\n",
       "      <td>13</td>\n",
       "      <td>Married-civ-spouse</td>\n",
       "      <td>Prof-specialty</td>\n",
       "      <td>Wife</td>\n",
       "      <td>Black</td>\n",
       "      <td>Female</td>\n",
       "      <td>0</td>\n",
       "      <td>0</td>\n",
       "      <td>40</td>\n",
       "      <td>Cuba</td>\n",
       "      <td>&lt;=50K</td>\n",
       "    </tr>\n",
       "    <tr>\n",
       "      <th>4</th>\n",
       "      <td>37</td>\n",
       "      <td>Private</td>\n",
       "      <td>284582</td>\n",
       "      <td>Masters</td>\n",
       "      <td>14</td>\n",
       "      <td>Married-civ-spouse</td>\n",
       "      <td>Exec-managerial</td>\n",
       "      <td>Wife</td>\n",
       "      <td>White</td>\n",
       "      <td>Female</td>\n",
       "      <td>0</td>\n",
       "      <td>0</td>\n",
       "      <td>40</td>\n",
       "      <td>United-States</td>\n",
       "      <td>&lt;=50K</td>\n",
       "    </tr>\n",
       "  </tbody>\n",
       "</table>\n",
       "</div>"
      ],
      "text/plain": [
       "   Age          Workclass  Fnlwgt   Education  Education_num  \\\n",
       "0   50   Self-emp-not-inc   83311   Bachelors             13   \n",
       "1   38            Private  215646     HS-grad              9   \n",
       "2   53            Private  234721        11th              7   \n",
       "3   28            Private  338409   Bachelors             13   \n",
       "4   37            Private  284582     Masters             14   \n",
       "\n",
       "        Marital_status          Occupation    Relationship    Race      Sex  \\\n",
       "0   Married-civ-spouse     Exec-managerial         Husband   White     Male   \n",
       "1             Divorced   Handlers-cleaners   Not-in-family   White     Male   \n",
       "2   Married-civ-spouse   Handlers-cleaners         Husband   Black     Male   \n",
       "3   Married-civ-spouse      Prof-specialty            Wife   Black   Female   \n",
       "4   Married-civ-spouse     Exec-managerial            Wife   White   Female   \n",
       "\n",
       "   Capital_gain  Capital_loss  Hours_per_week  Native_country  Income  \n",
       "0             0             0              13   United-States   <=50K  \n",
       "1             0             0              40   United-States   <=50K  \n",
       "2             0             0              40   United-States   <=50K  \n",
       "3             0             0              40            Cuba   <=50K  \n",
       "4             0             0              40   United-States   <=50K  "
      ]
     },
     "execution_count": 3,
     "metadata": {},
     "output_type": "execute_result"
    }
   ],
   "source": [
    "df.head()"
   ]
  },
  {
   "cell_type": "code",
   "execution_count": 4,
   "id": "3496f38e",
   "metadata": {},
   "outputs": [
    {
     "data": {
      "text/html": [
       "<div>\n",
       "<style scoped>\n",
       "    .dataframe tbody tr th:only-of-type {\n",
       "        vertical-align: middle;\n",
       "    }\n",
       "\n",
       "    .dataframe tbody tr th {\n",
       "        vertical-align: top;\n",
       "    }\n",
       "\n",
       "    .dataframe thead th {\n",
       "        text-align: right;\n",
       "    }\n",
       "</style>\n",
       "<table border=\"1\" class=\"dataframe\">\n",
       "  <thead>\n",
       "    <tr style=\"text-align: right;\">\n",
       "      <th></th>\n",
       "      <th>Age</th>\n",
       "      <th>Workclass</th>\n",
       "      <th>Fnlwgt</th>\n",
       "      <th>Education</th>\n",
       "      <th>Education_num</th>\n",
       "      <th>Marital_status</th>\n",
       "      <th>Occupation</th>\n",
       "      <th>Relationship</th>\n",
       "      <th>Race</th>\n",
       "      <th>Sex</th>\n",
       "      <th>Capital_gain</th>\n",
       "      <th>Capital_loss</th>\n",
       "      <th>Hours_per_week</th>\n",
       "      <th>Native_country</th>\n",
       "      <th>Income</th>\n",
       "    </tr>\n",
       "  </thead>\n",
       "  <tbody>\n",
       "    <tr>\n",
       "      <th>0</th>\n",
       "      <td>50</td>\n",
       "      <td>Self-emp-not-inc</td>\n",
       "      <td>83311</td>\n",
       "      <td>Bachelors</td>\n",
       "      <td>13</td>\n",
       "      <td>Married-civ-spouse</td>\n",
       "      <td>Exec-managerial</td>\n",
       "      <td>Husband</td>\n",
       "      <td>White</td>\n",
       "      <td>Male</td>\n",
       "      <td>0</td>\n",
       "      <td>0</td>\n",
       "      <td>13</td>\n",
       "      <td>United-States</td>\n",
       "      <td>&lt;=50K</td>\n",
       "    </tr>\n",
       "    <tr>\n",
       "      <th>1</th>\n",
       "      <td>38</td>\n",
       "      <td>Private</td>\n",
       "      <td>215646</td>\n",
       "      <td>HS-grad</td>\n",
       "      <td>9</td>\n",
       "      <td>Divorced</td>\n",
       "      <td>Handlers-cleaners</td>\n",
       "      <td>Not-in-family</td>\n",
       "      <td>White</td>\n",
       "      <td>Male</td>\n",
       "      <td>0</td>\n",
       "      <td>0</td>\n",
       "      <td>40</td>\n",
       "      <td>United-States</td>\n",
       "      <td>&lt;=50K</td>\n",
       "    </tr>\n",
       "    <tr>\n",
       "      <th>2</th>\n",
       "      <td>53</td>\n",
       "      <td>Private</td>\n",
       "      <td>234721</td>\n",
       "      <td>11th</td>\n",
       "      <td>7</td>\n",
       "      <td>Married-civ-spouse</td>\n",
       "      <td>Handlers-cleaners</td>\n",
       "      <td>Husband</td>\n",
       "      <td>Black</td>\n",
       "      <td>Male</td>\n",
       "      <td>0</td>\n",
       "      <td>0</td>\n",
       "      <td>40</td>\n",
       "      <td>United-States</td>\n",
       "      <td>&lt;=50K</td>\n",
       "    </tr>\n",
       "    <tr>\n",
       "      <th>3</th>\n",
       "      <td>28</td>\n",
       "      <td>Private</td>\n",
       "      <td>338409</td>\n",
       "      <td>Bachelors</td>\n",
       "      <td>13</td>\n",
       "      <td>Married-civ-spouse</td>\n",
       "      <td>Prof-specialty</td>\n",
       "      <td>Wife</td>\n",
       "      <td>Black</td>\n",
       "      <td>Female</td>\n",
       "      <td>0</td>\n",
       "      <td>0</td>\n",
       "      <td>40</td>\n",
       "      <td>Cuba</td>\n",
       "      <td>&lt;=50K</td>\n",
       "    </tr>\n",
       "  </tbody>\n",
       "</table>\n",
       "</div>"
      ],
      "text/plain": [
       "   Age          Workclass  Fnlwgt   Education  Education_num  \\\n",
       "0   50   Self-emp-not-inc   83311   Bachelors             13   \n",
       "1   38            Private  215646     HS-grad              9   \n",
       "2   53            Private  234721        11th              7   \n",
       "3   28            Private  338409   Bachelors             13   \n",
       "\n",
       "        Marital_status          Occupation    Relationship    Race      Sex  \\\n",
       "0   Married-civ-spouse     Exec-managerial         Husband   White     Male   \n",
       "1             Divorced   Handlers-cleaners   Not-in-family   White     Male   \n",
       "2   Married-civ-spouse   Handlers-cleaners         Husband   Black     Male   \n",
       "3   Married-civ-spouse      Prof-specialty            Wife   Black   Female   \n",
       "\n",
       "   Capital_gain  Capital_loss  Hours_per_week  Native_country  Income  \n",
       "0             0             0              13   United-States   <=50K  \n",
       "1             0             0              40   United-States   <=50K  \n",
       "2             0             0              40   United-States   <=50K  \n",
       "3             0             0              40            Cuba   <=50K  "
      ]
     },
     "execution_count": 4,
     "metadata": {},
     "output_type": "execute_result"
    }
   ],
   "source": [
    "df.head(4)"
   ]
  },
  {
   "cell_type": "code",
   "execution_count": 5,
   "id": "b35f12cb",
   "metadata": {},
   "outputs": [
    {
     "data": {
      "text/html": [
       "<div>\n",
       "<style scoped>\n",
       "    .dataframe tbody tr th:only-of-type {\n",
       "        vertical-align: middle;\n",
       "    }\n",
       "\n",
       "    .dataframe tbody tr th {\n",
       "        vertical-align: top;\n",
       "    }\n",
       "\n",
       "    .dataframe thead th {\n",
       "        text-align: right;\n",
       "    }\n",
       "</style>\n",
       "<table border=\"1\" class=\"dataframe\">\n",
       "  <thead>\n",
       "    <tr style=\"text-align: right;\">\n",
       "      <th></th>\n",
       "      <th>Age</th>\n",
       "      <th>Workclass</th>\n",
       "      <th>Fnlwgt</th>\n",
       "      <th>Education</th>\n",
       "      <th>Education_num</th>\n",
       "      <th>Marital_status</th>\n",
       "      <th>Occupation</th>\n",
       "      <th>Relationship</th>\n",
       "      <th>Race</th>\n",
       "      <th>Sex</th>\n",
       "      <th>Capital_gain</th>\n",
       "      <th>Capital_loss</th>\n",
       "      <th>Hours_per_week</th>\n",
       "      <th>Native_country</th>\n",
       "      <th>Income</th>\n",
       "    </tr>\n",
       "  </thead>\n",
       "  <tbody>\n",
       "    <tr>\n",
       "      <th>32555</th>\n",
       "      <td>27</td>\n",
       "      <td>Private</td>\n",
       "      <td>257302</td>\n",
       "      <td>Assoc-acdm</td>\n",
       "      <td>12</td>\n",
       "      <td>Married-civ-spouse</td>\n",
       "      <td>Tech-support</td>\n",
       "      <td>Wife</td>\n",
       "      <td>White</td>\n",
       "      <td>Female</td>\n",
       "      <td>0</td>\n",
       "      <td>0</td>\n",
       "      <td>38</td>\n",
       "      <td>United-States</td>\n",
       "      <td>&lt;=50K</td>\n",
       "    </tr>\n",
       "    <tr>\n",
       "      <th>32556</th>\n",
       "      <td>40</td>\n",
       "      <td>Private</td>\n",
       "      <td>154374</td>\n",
       "      <td>HS-grad</td>\n",
       "      <td>9</td>\n",
       "      <td>Married-civ-spouse</td>\n",
       "      <td>Machine-op-inspct</td>\n",
       "      <td>Husband</td>\n",
       "      <td>White</td>\n",
       "      <td>Male</td>\n",
       "      <td>0</td>\n",
       "      <td>0</td>\n",
       "      <td>40</td>\n",
       "      <td>United-States</td>\n",
       "      <td>&gt;50K</td>\n",
       "    </tr>\n",
       "    <tr>\n",
       "      <th>32557</th>\n",
       "      <td>58</td>\n",
       "      <td>Private</td>\n",
       "      <td>151910</td>\n",
       "      <td>HS-grad</td>\n",
       "      <td>9</td>\n",
       "      <td>Widowed</td>\n",
       "      <td>Adm-clerical</td>\n",
       "      <td>Unmarried</td>\n",
       "      <td>White</td>\n",
       "      <td>Female</td>\n",
       "      <td>0</td>\n",
       "      <td>0</td>\n",
       "      <td>40</td>\n",
       "      <td>United-States</td>\n",
       "      <td>&lt;=50K</td>\n",
       "    </tr>\n",
       "    <tr>\n",
       "      <th>32558</th>\n",
       "      <td>22</td>\n",
       "      <td>Private</td>\n",
       "      <td>201490</td>\n",
       "      <td>HS-grad</td>\n",
       "      <td>9</td>\n",
       "      <td>Never-married</td>\n",
       "      <td>Adm-clerical</td>\n",
       "      <td>Own-child</td>\n",
       "      <td>White</td>\n",
       "      <td>Male</td>\n",
       "      <td>0</td>\n",
       "      <td>0</td>\n",
       "      <td>20</td>\n",
       "      <td>United-States</td>\n",
       "      <td>&lt;=50K</td>\n",
       "    </tr>\n",
       "    <tr>\n",
       "      <th>32559</th>\n",
       "      <td>52</td>\n",
       "      <td>Self-emp-inc</td>\n",
       "      <td>287927</td>\n",
       "      <td>HS-grad</td>\n",
       "      <td>9</td>\n",
       "      <td>Married-civ-spouse</td>\n",
       "      <td>Exec-managerial</td>\n",
       "      <td>Wife</td>\n",
       "      <td>White</td>\n",
       "      <td>Female</td>\n",
       "      <td>15024</td>\n",
       "      <td>0</td>\n",
       "      <td>40</td>\n",
       "      <td>United-States</td>\n",
       "      <td>&gt;50K</td>\n",
       "    </tr>\n",
       "  </tbody>\n",
       "</table>\n",
       "</div>"
      ],
      "text/plain": [
       "       Age      Workclass  Fnlwgt    Education  Education_num  \\\n",
       "32555   27        Private  257302   Assoc-acdm             12   \n",
       "32556   40        Private  154374      HS-grad              9   \n",
       "32557   58        Private  151910      HS-grad              9   \n",
       "32558   22        Private  201490      HS-grad              9   \n",
       "32559   52   Self-emp-inc  287927      HS-grad              9   \n",
       "\n",
       "            Marital_status          Occupation Relationship    Race      Sex  \\\n",
       "32555   Married-civ-spouse        Tech-support         Wife   White   Female   \n",
       "32556   Married-civ-spouse   Machine-op-inspct      Husband   White     Male   \n",
       "32557              Widowed        Adm-clerical    Unmarried   White   Female   \n",
       "32558        Never-married        Adm-clerical    Own-child   White     Male   \n",
       "32559   Married-civ-spouse     Exec-managerial         Wife   White   Female   \n",
       "\n",
       "       Capital_gain  Capital_loss  Hours_per_week  Native_country  Income  \n",
       "32555             0             0              38   United-States   <=50K  \n",
       "32556             0             0              40   United-States    >50K  \n",
       "32557             0             0              40   United-States   <=50K  \n",
       "32558             0             0              20   United-States   <=50K  \n",
       "32559         15024             0              40   United-States    >50K  "
      ]
     },
     "execution_count": 5,
     "metadata": {},
     "output_type": "execute_result"
    }
   ],
   "source": [
    "df.tail()"
   ]
  },
  {
   "cell_type": "code",
   "execution_count": 6,
   "id": "f6e3a87b",
   "metadata": {},
   "outputs": [
    {
     "data": {
      "text/html": [
       "<div>\n",
       "<style scoped>\n",
       "    .dataframe tbody tr th:only-of-type {\n",
       "        vertical-align: middle;\n",
       "    }\n",
       "\n",
       "    .dataframe tbody tr th {\n",
       "        vertical-align: top;\n",
       "    }\n",
       "\n",
       "    .dataframe thead th {\n",
       "        text-align: right;\n",
       "    }\n",
       "</style>\n",
       "<table border=\"1\" class=\"dataframe\">\n",
       "  <thead>\n",
       "    <tr style=\"text-align: right;\">\n",
       "      <th></th>\n",
       "      <th>Age</th>\n",
       "      <th>Workclass</th>\n",
       "      <th>Fnlwgt</th>\n",
       "      <th>Education</th>\n",
       "      <th>Education_num</th>\n",
       "      <th>Marital_status</th>\n",
       "      <th>Occupation</th>\n",
       "      <th>Relationship</th>\n",
       "      <th>Race</th>\n",
       "      <th>Sex</th>\n",
       "      <th>Capital_gain</th>\n",
       "      <th>Capital_loss</th>\n",
       "      <th>Hours_per_week</th>\n",
       "      <th>Native_country</th>\n",
       "      <th>Income</th>\n",
       "    </tr>\n",
       "  </thead>\n",
       "  <tbody>\n",
       "    <tr>\n",
       "      <th>32557</th>\n",
       "      <td>58</td>\n",
       "      <td>Private</td>\n",
       "      <td>151910</td>\n",
       "      <td>HS-grad</td>\n",
       "      <td>9</td>\n",
       "      <td>Widowed</td>\n",
       "      <td>Adm-clerical</td>\n",
       "      <td>Unmarried</td>\n",
       "      <td>White</td>\n",
       "      <td>Female</td>\n",
       "      <td>0</td>\n",
       "      <td>0</td>\n",
       "      <td>40</td>\n",
       "      <td>United-States</td>\n",
       "      <td>&lt;=50K</td>\n",
       "    </tr>\n",
       "    <tr>\n",
       "      <th>32558</th>\n",
       "      <td>22</td>\n",
       "      <td>Private</td>\n",
       "      <td>201490</td>\n",
       "      <td>HS-grad</td>\n",
       "      <td>9</td>\n",
       "      <td>Never-married</td>\n",
       "      <td>Adm-clerical</td>\n",
       "      <td>Own-child</td>\n",
       "      <td>White</td>\n",
       "      <td>Male</td>\n",
       "      <td>0</td>\n",
       "      <td>0</td>\n",
       "      <td>20</td>\n",
       "      <td>United-States</td>\n",
       "      <td>&lt;=50K</td>\n",
       "    </tr>\n",
       "    <tr>\n",
       "      <th>32559</th>\n",
       "      <td>52</td>\n",
       "      <td>Self-emp-inc</td>\n",
       "      <td>287927</td>\n",
       "      <td>HS-grad</td>\n",
       "      <td>9</td>\n",
       "      <td>Married-civ-spouse</td>\n",
       "      <td>Exec-managerial</td>\n",
       "      <td>Wife</td>\n",
       "      <td>White</td>\n",
       "      <td>Female</td>\n",
       "      <td>15024</td>\n",
       "      <td>0</td>\n",
       "      <td>40</td>\n",
       "      <td>United-States</td>\n",
       "      <td>&gt;50K</td>\n",
       "    </tr>\n",
       "  </tbody>\n",
       "</table>\n",
       "</div>"
      ],
      "text/plain": [
       "       Age      Workclass  Fnlwgt Education  Education_num  \\\n",
       "32557   58        Private  151910   HS-grad              9   \n",
       "32558   22        Private  201490   HS-grad              9   \n",
       "32559   52   Self-emp-inc  287927   HS-grad              9   \n",
       "\n",
       "            Marital_status        Occupation Relationship    Race      Sex  \\\n",
       "32557              Widowed      Adm-clerical    Unmarried   White   Female   \n",
       "32558        Never-married      Adm-clerical    Own-child   White     Male   \n",
       "32559   Married-civ-spouse   Exec-managerial         Wife   White   Female   \n",
       "\n",
       "       Capital_gain  Capital_loss  Hours_per_week  Native_country  Income  \n",
       "32557             0             0              40   United-States   <=50K  \n",
       "32558             0             0              20   United-States   <=50K  \n",
       "32559         15024             0              40   United-States    >50K  "
      ]
     },
     "execution_count": 6,
     "metadata": {},
     "output_type": "execute_result"
    }
   ],
   "source": [
    "df.tail(3)"
   ]
  },
  {
   "cell_type": "code",
   "execution_count": 7,
   "id": "37d449b9",
   "metadata": {},
   "outputs": [
    {
     "data": {
      "text/html": [
       "<div>\n",
       "<style scoped>\n",
       "    .dataframe tbody tr th:only-of-type {\n",
       "        vertical-align: middle;\n",
       "    }\n",
       "\n",
       "    .dataframe tbody tr th {\n",
       "        vertical-align: top;\n",
       "    }\n",
       "\n",
       "    .dataframe thead th {\n",
       "        text-align: right;\n",
       "    }\n",
       "</style>\n",
       "<table border=\"1\" class=\"dataframe\">\n",
       "  <thead>\n",
       "    <tr style=\"text-align: right;\">\n",
       "      <th></th>\n",
       "      <th>Age</th>\n",
       "      <th>Workclass</th>\n",
       "      <th>Fnlwgt</th>\n",
       "      <th>Education</th>\n",
       "      <th>Education_num</th>\n",
       "      <th>Marital_status</th>\n",
       "      <th>Occupation</th>\n",
       "      <th>Relationship</th>\n",
       "      <th>Race</th>\n",
       "      <th>Sex</th>\n",
       "      <th>Capital_gain</th>\n",
       "      <th>Capital_loss</th>\n",
       "      <th>Hours_per_week</th>\n",
       "      <th>Native_country</th>\n",
       "      <th>Income</th>\n",
       "    </tr>\n",
       "  </thead>\n",
       "  <tbody>\n",
       "    <tr>\n",
       "      <th>17660</th>\n",
       "      <td>27</td>\n",
       "      <td>Private</td>\n",
       "      <td>242097</td>\n",
       "      <td>Assoc-voc</td>\n",
       "      <td>11</td>\n",
       "      <td>Married-civ-spouse</td>\n",
       "      <td>Transport-moving</td>\n",
       "      <td>Husband</td>\n",
       "      <td>White</td>\n",
       "      <td>Male</td>\n",
       "      <td>0</td>\n",
       "      <td>0</td>\n",
       "      <td>50</td>\n",
       "      <td>United-States</td>\n",
       "      <td>&lt;=50K</td>\n",
       "    </tr>\n",
       "  </tbody>\n",
       "</table>\n",
       "</div>"
      ],
      "text/plain": [
       "       Age Workclass  Fnlwgt   Education  Education_num       Marital_status  \\\n",
       "17660   27   Private  242097   Assoc-voc             11   Married-civ-spouse   \n",
       "\n",
       "              Occupation Relationship    Race    Sex  Capital_gain  \\\n",
       "17660   Transport-moving      Husband   White   Male             0   \n",
       "\n",
       "       Capital_loss  Hours_per_week  Native_country  Income  \n",
       "17660             0              50   United-States   <=50K  "
      ]
     },
     "execution_count": 7,
     "metadata": {},
     "output_type": "execute_result"
    }
   ],
   "source": [
    "df.sample()"
   ]
  },
  {
   "cell_type": "code",
   "execution_count": 8,
   "id": "78f183c4",
   "metadata": {},
   "outputs": [
    {
     "data": {
      "text/html": [
       "<div>\n",
       "<style scoped>\n",
       "    .dataframe tbody tr th:only-of-type {\n",
       "        vertical-align: middle;\n",
       "    }\n",
       "\n",
       "    .dataframe tbody tr th {\n",
       "        vertical-align: top;\n",
       "    }\n",
       "\n",
       "    .dataframe thead th {\n",
       "        text-align: right;\n",
       "    }\n",
       "</style>\n",
       "<table border=\"1\" class=\"dataframe\">\n",
       "  <thead>\n",
       "    <tr style=\"text-align: right;\">\n",
       "      <th></th>\n",
       "      <th>Age</th>\n",
       "      <th>Workclass</th>\n",
       "      <th>Fnlwgt</th>\n",
       "      <th>Education</th>\n",
       "      <th>Education_num</th>\n",
       "      <th>Marital_status</th>\n",
       "      <th>Occupation</th>\n",
       "      <th>Relationship</th>\n",
       "      <th>Race</th>\n",
       "      <th>Sex</th>\n",
       "      <th>Capital_gain</th>\n",
       "      <th>Capital_loss</th>\n",
       "      <th>Hours_per_week</th>\n",
       "      <th>Native_country</th>\n",
       "      <th>Income</th>\n",
       "    </tr>\n",
       "  </thead>\n",
       "  <tbody>\n",
       "    <tr>\n",
       "      <th>22696</th>\n",
       "      <td>53</td>\n",
       "      <td>Private</td>\n",
       "      <td>94081</td>\n",
       "      <td>Bachelors</td>\n",
       "      <td>13</td>\n",
       "      <td>Married-civ-spouse</td>\n",
       "      <td>Exec-managerial</td>\n",
       "      <td>Husband</td>\n",
       "      <td>White</td>\n",
       "      <td>Male</td>\n",
       "      <td>0</td>\n",
       "      <td>0</td>\n",
       "      <td>44</td>\n",
       "      <td>United-States</td>\n",
       "      <td>&gt;50K</td>\n",
       "    </tr>\n",
       "    <tr>\n",
       "      <th>9896</th>\n",
       "      <td>76</td>\n",
       "      <td>Private</td>\n",
       "      <td>93125</td>\n",
       "      <td>HS-grad</td>\n",
       "      <td>9</td>\n",
       "      <td>Married-civ-spouse</td>\n",
       "      <td>Sales</td>\n",
       "      <td>Husband</td>\n",
       "      <td>White</td>\n",
       "      <td>Male</td>\n",
       "      <td>1424</td>\n",
       "      <td>0</td>\n",
       "      <td>24</td>\n",
       "      <td>United-States</td>\n",
       "      <td>&lt;=50K</td>\n",
       "    </tr>\n",
       "  </tbody>\n",
       "</table>\n",
       "</div>"
      ],
      "text/plain": [
       "       Age Workclass  Fnlwgt   Education  Education_num       Marital_status  \\\n",
       "22696   53   Private   94081   Bachelors             13   Married-civ-spouse   \n",
       "9896    76   Private   93125     HS-grad              9   Married-civ-spouse   \n",
       "\n",
       "             Occupation Relationship    Race    Sex  Capital_gain  \\\n",
       "22696   Exec-managerial      Husband   White   Male             0   \n",
       "9896              Sales      Husband   White   Male          1424   \n",
       "\n",
       "       Capital_loss  Hours_per_week  Native_country  Income  \n",
       "22696             0              44   United-States    >50K  \n",
       "9896              0              24   United-States   <=50K  "
      ]
     },
     "execution_count": 8,
     "metadata": {},
     "output_type": "execute_result"
    }
   ],
   "source": [
    "df.sample(2)"
   ]
  },
  {
   "cell_type": "code",
   "execution_count": 9,
   "id": "3f49f4ef",
   "metadata": {},
   "outputs": [
    {
     "name": "stdout",
     "output_type": "stream",
     "text": [
      "<class 'pandas.core.frame.DataFrame'>\n",
      "RangeIndex: 32560 entries, 0 to 32559\n",
      "Data columns (total 15 columns):\n",
      " #   Column          Non-Null Count  Dtype \n",
      "---  ------          --------------  ----- \n",
      " 0   Age             32560 non-null  int64 \n",
      " 1   Workclass       32560 non-null  object\n",
      " 2   Fnlwgt          32560 non-null  int64 \n",
      " 3   Education       32560 non-null  object\n",
      " 4   Education_num   32560 non-null  int64 \n",
      " 5   Marital_status  32560 non-null  object\n",
      " 6   Occupation      32560 non-null  object\n",
      " 7   Relationship    32560 non-null  object\n",
      " 8   Race            32560 non-null  object\n",
      " 9   Sex             32560 non-null  object\n",
      " 10  Capital_gain    32560 non-null  int64 \n",
      " 11  Capital_loss    32560 non-null  int64 \n",
      " 12  Hours_per_week  32560 non-null  int64 \n",
      " 13  Native_country  32560 non-null  object\n",
      " 14  Income          32560 non-null  object\n",
      "dtypes: int64(6), object(9)\n",
      "memory usage: 3.7+ MB\n"
     ]
    }
   ],
   "source": [
    "df.info()"
   ]
  },
  {
   "cell_type": "markdown",
   "id": "ab9cb1f2",
   "metadata": {},
   "source": [
    "each columns having non null value which indicated nan values not present. data types are object and int type."
   ]
  },
  {
   "cell_type": "code",
   "execution_count": 10,
   "id": "cdef1f7c",
   "metadata": {},
   "outputs": [
    {
     "data": {
      "text/plain": [
       "(32560, 15)"
      ]
     },
     "execution_count": 10,
     "metadata": {},
     "output_type": "execute_result"
    }
   ],
   "source": [
    "df.shape"
   ]
  },
  {
   "cell_type": "code",
   "execution_count": 11,
   "id": "862cd4e8",
   "metadata": {},
   "outputs": [
    {
     "data": {
      "text/plain": [
       "Age               0\n",
       "Workclass         0\n",
       "Fnlwgt            0\n",
       "Education         0\n",
       "Education_num     0\n",
       "Marital_status    0\n",
       "Occupation        0\n",
       "Relationship      0\n",
       "Race              0\n",
       "Sex               0\n",
       "Capital_gain      0\n",
       "Capital_loss      0\n",
       "Hours_per_week    0\n",
       "Native_country    0\n",
       "Income            0\n",
       "dtype: int64"
      ]
     },
     "execution_count": 11,
     "metadata": {},
     "output_type": "execute_result"
    }
   ],
   "source": [
    "df.isnull().sum()"
   ]
  },
  {
   "cell_type": "code",
   "execution_count": 12,
   "id": "6e152c70",
   "metadata": {},
   "outputs": [
    {
     "data": {
      "text/plain": [
       "Index(['Age', 'Workclass', 'Fnlwgt', 'Education', 'Education_num',\n",
       "       'Marital_status', 'Occupation', 'Relationship', 'Race', 'Sex',\n",
       "       'Capital_gain', 'Capital_loss', 'Hours_per_week', 'Native_country',\n",
       "       'Income'],\n",
       "      dtype='object')"
      ]
     },
     "execution_count": 12,
     "metadata": {},
     "output_type": "execute_result"
    }
   ],
   "source": [
    "df.columns"
   ]
  },
  {
   "cell_type": "code",
   "execution_count": 13,
   "id": "9d6eb14f",
   "metadata": {},
   "outputs": [
    {
     "data": {
      "text/html": [
       "<div>\n",
       "<style scoped>\n",
       "    .dataframe tbody tr th:only-of-type {\n",
       "        vertical-align: middle;\n",
       "    }\n",
       "\n",
       "    .dataframe tbody tr th {\n",
       "        vertical-align: top;\n",
       "    }\n",
       "\n",
       "    .dataframe thead th {\n",
       "        text-align: right;\n",
       "    }\n",
       "</style>\n",
       "<table border=\"1\" class=\"dataframe\">\n",
       "  <thead>\n",
       "    <tr style=\"text-align: right;\">\n",
       "      <th></th>\n",
       "      <th>Age</th>\n",
       "      <th>Fnlwgt</th>\n",
       "      <th>Education_num</th>\n",
       "      <th>Capital_gain</th>\n",
       "      <th>Capital_loss</th>\n",
       "      <th>Hours_per_week</th>\n",
       "    </tr>\n",
       "  </thead>\n",
       "  <tbody>\n",
       "    <tr>\n",
       "      <th>count</th>\n",
       "      <td>32560.000000</td>\n",
       "      <td>3.256000e+04</td>\n",
       "      <td>32560.000000</td>\n",
       "      <td>32560.000000</td>\n",
       "      <td>32560.000000</td>\n",
       "      <td>32560.000000</td>\n",
       "    </tr>\n",
       "    <tr>\n",
       "      <th>mean</th>\n",
       "      <td>38.581634</td>\n",
       "      <td>1.897818e+05</td>\n",
       "      <td>10.080590</td>\n",
       "      <td>1077.615172</td>\n",
       "      <td>87.306511</td>\n",
       "      <td>40.437469</td>\n",
       "    </tr>\n",
       "    <tr>\n",
       "      <th>std</th>\n",
       "      <td>13.640642</td>\n",
       "      <td>1.055498e+05</td>\n",
       "      <td>2.572709</td>\n",
       "      <td>7385.402999</td>\n",
       "      <td>402.966116</td>\n",
       "      <td>12.347618</td>\n",
       "    </tr>\n",
       "    <tr>\n",
       "      <th>min</th>\n",
       "      <td>17.000000</td>\n",
       "      <td>1.228500e+04</td>\n",
       "      <td>1.000000</td>\n",
       "      <td>0.000000</td>\n",
       "      <td>0.000000</td>\n",
       "      <td>1.000000</td>\n",
       "    </tr>\n",
       "    <tr>\n",
       "      <th>25%</th>\n",
       "      <td>28.000000</td>\n",
       "      <td>1.178315e+05</td>\n",
       "      <td>9.000000</td>\n",
       "      <td>0.000000</td>\n",
       "      <td>0.000000</td>\n",
       "      <td>40.000000</td>\n",
       "    </tr>\n",
       "    <tr>\n",
       "      <th>50%</th>\n",
       "      <td>37.000000</td>\n",
       "      <td>1.783630e+05</td>\n",
       "      <td>10.000000</td>\n",
       "      <td>0.000000</td>\n",
       "      <td>0.000000</td>\n",
       "      <td>40.000000</td>\n",
       "    </tr>\n",
       "    <tr>\n",
       "      <th>75%</th>\n",
       "      <td>48.000000</td>\n",
       "      <td>2.370545e+05</td>\n",
       "      <td>12.000000</td>\n",
       "      <td>0.000000</td>\n",
       "      <td>0.000000</td>\n",
       "      <td>45.000000</td>\n",
       "    </tr>\n",
       "    <tr>\n",
       "      <th>max</th>\n",
       "      <td>90.000000</td>\n",
       "      <td>1.484705e+06</td>\n",
       "      <td>16.000000</td>\n",
       "      <td>99999.000000</td>\n",
       "      <td>4356.000000</td>\n",
       "      <td>99.000000</td>\n",
       "    </tr>\n",
       "  </tbody>\n",
       "</table>\n",
       "</div>"
      ],
      "text/plain": [
       "                Age        Fnlwgt  Education_num  Capital_gain  Capital_loss  \\\n",
       "count  32560.000000  3.256000e+04   32560.000000  32560.000000  32560.000000   \n",
       "mean      38.581634  1.897818e+05      10.080590   1077.615172     87.306511   \n",
       "std       13.640642  1.055498e+05       2.572709   7385.402999    402.966116   \n",
       "min       17.000000  1.228500e+04       1.000000      0.000000      0.000000   \n",
       "25%       28.000000  1.178315e+05       9.000000      0.000000      0.000000   \n",
       "50%       37.000000  1.783630e+05      10.000000      0.000000      0.000000   \n",
       "75%       48.000000  2.370545e+05      12.000000      0.000000      0.000000   \n",
       "max       90.000000  1.484705e+06      16.000000  99999.000000   4356.000000   \n",
       "\n",
       "       Hours_per_week  \n",
       "count    32560.000000  \n",
       "mean        40.437469  \n",
       "std         12.347618  \n",
       "min          1.000000  \n",
       "25%         40.000000  \n",
       "50%         40.000000  \n",
       "75%         45.000000  \n",
       "max         99.000000  "
      ]
     },
     "execution_count": 13,
     "metadata": {},
     "output_type": "execute_result"
    }
   ],
   "source": [
    "df.describe()"
   ]
  },
  {
   "cell_type": "code",
   "execution_count": 14,
   "id": "30ebc13f",
   "metadata": {},
   "outputs": [
    {
     "data": {
      "text/plain": [
       "array([' <=50K', ' >50K'], dtype=object)"
      ]
     },
     "execution_count": 14,
     "metadata": {},
     "output_type": "execute_result"
    }
   ],
   "source": [
    "df['Income'].unique()"
   ]
  },
  {
   "cell_type": "code",
   "execution_count": 15,
   "id": "488d6c61",
   "metadata": {},
   "outputs": [
    {
     "data": {
      "text/plain": [
       "2"
      ]
     },
     "execution_count": 15,
     "metadata": {},
     "output_type": "execute_result"
    }
   ],
   "source": [
    "df['Income'].nunique()"
   ]
  },
  {
   "cell_type": "code",
   "execution_count": 16,
   "id": "b25841c7",
   "metadata": {},
   "outputs": [
    {
     "data": {
      "text/html": [
       "<div>\n",
       "<style scoped>\n",
       "    .dataframe tbody tr th:only-of-type {\n",
       "        vertical-align: middle;\n",
       "    }\n",
       "\n",
       "    .dataframe tbody tr th {\n",
       "        vertical-align: top;\n",
       "    }\n",
       "\n",
       "    .dataframe thead th {\n",
       "        text-align: right;\n",
       "    }\n",
       "</style>\n",
       "<table border=\"1\" class=\"dataframe\">\n",
       "  <thead>\n",
       "    <tr style=\"text-align: right;\">\n",
       "      <th></th>\n",
       "      <th>Age</th>\n",
       "      <th>Fnlwgt</th>\n",
       "      <th>Education_num</th>\n",
       "      <th>Capital_gain</th>\n",
       "      <th>Capital_loss</th>\n",
       "      <th>Hours_per_week</th>\n",
       "    </tr>\n",
       "  </thead>\n",
       "  <tbody>\n",
       "    <tr>\n",
       "      <th>count</th>\n",
       "      <td>32560.000000</td>\n",
       "      <td>3.256000e+04</td>\n",
       "      <td>32560.000000</td>\n",
       "      <td>32560.000000</td>\n",
       "      <td>32560.000000</td>\n",
       "      <td>32560.000000</td>\n",
       "    </tr>\n",
       "    <tr>\n",
       "      <th>mean</th>\n",
       "      <td>38.581634</td>\n",
       "      <td>1.897818e+05</td>\n",
       "      <td>10.080590</td>\n",
       "      <td>1077.615172</td>\n",
       "      <td>87.306511</td>\n",
       "      <td>40.437469</td>\n",
       "    </tr>\n",
       "    <tr>\n",
       "      <th>std</th>\n",
       "      <td>13.640642</td>\n",
       "      <td>1.055498e+05</td>\n",
       "      <td>2.572709</td>\n",
       "      <td>7385.402999</td>\n",
       "      <td>402.966116</td>\n",
       "      <td>12.347618</td>\n",
       "    </tr>\n",
       "    <tr>\n",
       "      <th>min</th>\n",
       "      <td>17.000000</td>\n",
       "      <td>1.228500e+04</td>\n",
       "      <td>1.000000</td>\n",
       "      <td>0.000000</td>\n",
       "      <td>0.000000</td>\n",
       "      <td>1.000000</td>\n",
       "    </tr>\n",
       "    <tr>\n",
       "      <th>25%</th>\n",
       "      <td>28.000000</td>\n",
       "      <td>1.178315e+05</td>\n",
       "      <td>9.000000</td>\n",
       "      <td>0.000000</td>\n",
       "      <td>0.000000</td>\n",
       "      <td>40.000000</td>\n",
       "    </tr>\n",
       "    <tr>\n",
       "      <th>50%</th>\n",
       "      <td>37.000000</td>\n",
       "      <td>1.783630e+05</td>\n",
       "      <td>10.000000</td>\n",
       "      <td>0.000000</td>\n",
       "      <td>0.000000</td>\n",
       "      <td>40.000000</td>\n",
       "    </tr>\n",
       "    <tr>\n",
       "      <th>75%</th>\n",
       "      <td>48.000000</td>\n",
       "      <td>2.370545e+05</td>\n",
       "      <td>12.000000</td>\n",
       "      <td>0.000000</td>\n",
       "      <td>0.000000</td>\n",
       "      <td>45.000000</td>\n",
       "    </tr>\n",
       "    <tr>\n",
       "      <th>max</th>\n",
       "      <td>90.000000</td>\n",
       "      <td>1.484705e+06</td>\n",
       "      <td>16.000000</td>\n",
       "      <td>99999.000000</td>\n",
       "      <td>4356.000000</td>\n",
       "      <td>99.000000</td>\n",
       "    </tr>\n",
       "  </tbody>\n",
       "</table>\n",
       "</div>"
      ],
      "text/plain": [
       "                Age        Fnlwgt  Education_num  Capital_gain  Capital_loss  \\\n",
       "count  32560.000000  3.256000e+04   32560.000000  32560.000000  32560.000000   \n",
       "mean      38.581634  1.897818e+05      10.080590   1077.615172     87.306511   \n",
       "std       13.640642  1.055498e+05       2.572709   7385.402999    402.966116   \n",
       "min       17.000000  1.228500e+04       1.000000      0.000000      0.000000   \n",
       "25%       28.000000  1.178315e+05       9.000000      0.000000      0.000000   \n",
       "50%       37.000000  1.783630e+05      10.000000      0.000000      0.000000   \n",
       "75%       48.000000  2.370545e+05      12.000000      0.000000      0.000000   \n",
       "max       90.000000  1.484705e+06      16.000000  99999.000000   4356.000000   \n",
       "\n",
       "       Hours_per_week  \n",
       "count    32560.000000  \n",
       "mean        40.437469  \n",
       "std         12.347618  \n",
       "min          1.000000  \n",
       "25%         40.000000  \n",
       "50%         40.000000  \n",
       "75%         45.000000  \n",
       "max         99.000000  "
      ]
     },
     "execution_count": 16,
     "metadata": {},
     "output_type": "execute_result"
    }
   ],
   "source": [
    "df.describe()"
   ]
  },
  {
   "cell_type": "code",
   "execution_count": 17,
   "id": "de03b306",
   "metadata": {},
   "outputs": [
    {
     "data": {
      "text/html": [
       "<div>\n",
       "<style scoped>\n",
       "    .dataframe tbody tr th:only-of-type {\n",
       "        vertical-align: middle;\n",
       "    }\n",
       "\n",
       "    .dataframe tbody tr th {\n",
       "        vertical-align: top;\n",
       "    }\n",
       "\n",
       "    .dataframe thead th {\n",
       "        text-align: right;\n",
       "    }\n",
       "</style>\n",
       "<table border=\"1\" class=\"dataframe\">\n",
       "  <thead>\n",
       "    <tr style=\"text-align: right;\">\n",
       "      <th></th>\n",
       "      <th>Age</th>\n",
       "      <th>Workclass</th>\n",
       "      <th>Fnlwgt</th>\n",
       "      <th>Education</th>\n",
       "      <th>Education_num</th>\n",
       "      <th>Marital_status</th>\n",
       "      <th>Occupation</th>\n",
       "      <th>Relationship</th>\n",
       "      <th>Race</th>\n",
       "      <th>Sex</th>\n",
       "      <th>Capital_gain</th>\n",
       "      <th>Capital_loss</th>\n",
       "      <th>Hours_per_week</th>\n",
       "      <th>Native_country</th>\n",
       "      <th>Income</th>\n",
       "    </tr>\n",
       "  </thead>\n",
       "  <tbody>\n",
       "    <tr>\n",
       "      <th>count</th>\n",
       "      <td>32560.000000</td>\n",
       "      <td>32560</td>\n",
       "      <td>3.256000e+04</td>\n",
       "      <td>32560</td>\n",
       "      <td>32560.000000</td>\n",
       "      <td>32560</td>\n",
       "      <td>32560</td>\n",
       "      <td>32560</td>\n",
       "      <td>32560</td>\n",
       "      <td>32560</td>\n",
       "      <td>32560.000000</td>\n",
       "      <td>32560.000000</td>\n",
       "      <td>32560.000000</td>\n",
       "      <td>32560</td>\n",
       "      <td>32560</td>\n",
       "    </tr>\n",
       "    <tr>\n",
       "      <th>unique</th>\n",
       "      <td>NaN</td>\n",
       "      <td>9</td>\n",
       "      <td>NaN</td>\n",
       "      <td>16</td>\n",
       "      <td>NaN</td>\n",
       "      <td>7</td>\n",
       "      <td>15</td>\n",
       "      <td>6</td>\n",
       "      <td>5</td>\n",
       "      <td>2</td>\n",
       "      <td>NaN</td>\n",
       "      <td>NaN</td>\n",
       "      <td>NaN</td>\n",
       "      <td>42</td>\n",
       "      <td>2</td>\n",
       "    </tr>\n",
       "    <tr>\n",
       "      <th>top</th>\n",
       "      <td>NaN</td>\n",
       "      <td>Private</td>\n",
       "      <td>NaN</td>\n",
       "      <td>HS-grad</td>\n",
       "      <td>NaN</td>\n",
       "      <td>Married-civ-spouse</td>\n",
       "      <td>Prof-specialty</td>\n",
       "      <td>Husband</td>\n",
       "      <td>White</td>\n",
       "      <td>Male</td>\n",
       "      <td>NaN</td>\n",
       "      <td>NaN</td>\n",
       "      <td>NaN</td>\n",
       "      <td>United-States</td>\n",
       "      <td>&lt;=50K</td>\n",
       "    </tr>\n",
       "    <tr>\n",
       "      <th>freq</th>\n",
       "      <td>NaN</td>\n",
       "      <td>22696</td>\n",
       "      <td>NaN</td>\n",
       "      <td>10501</td>\n",
       "      <td>NaN</td>\n",
       "      <td>14976</td>\n",
       "      <td>4140</td>\n",
       "      <td>13193</td>\n",
       "      <td>27815</td>\n",
       "      <td>21789</td>\n",
       "      <td>NaN</td>\n",
       "      <td>NaN</td>\n",
       "      <td>NaN</td>\n",
       "      <td>29169</td>\n",
       "      <td>24719</td>\n",
       "    </tr>\n",
       "    <tr>\n",
       "      <th>mean</th>\n",
       "      <td>38.581634</td>\n",
       "      <td>NaN</td>\n",
       "      <td>1.897818e+05</td>\n",
       "      <td>NaN</td>\n",
       "      <td>10.080590</td>\n",
       "      <td>NaN</td>\n",
       "      <td>NaN</td>\n",
       "      <td>NaN</td>\n",
       "      <td>NaN</td>\n",
       "      <td>NaN</td>\n",
       "      <td>1077.615172</td>\n",
       "      <td>87.306511</td>\n",
       "      <td>40.437469</td>\n",
       "      <td>NaN</td>\n",
       "      <td>NaN</td>\n",
       "    </tr>\n",
       "    <tr>\n",
       "      <th>std</th>\n",
       "      <td>13.640642</td>\n",
       "      <td>NaN</td>\n",
       "      <td>1.055498e+05</td>\n",
       "      <td>NaN</td>\n",
       "      <td>2.572709</td>\n",
       "      <td>NaN</td>\n",
       "      <td>NaN</td>\n",
       "      <td>NaN</td>\n",
       "      <td>NaN</td>\n",
       "      <td>NaN</td>\n",
       "      <td>7385.402999</td>\n",
       "      <td>402.966116</td>\n",
       "      <td>12.347618</td>\n",
       "      <td>NaN</td>\n",
       "      <td>NaN</td>\n",
       "    </tr>\n",
       "    <tr>\n",
       "      <th>min</th>\n",
       "      <td>17.000000</td>\n",
       "      <td>NaN</td>\n",
       "      <td>1.228500e+04</td>\n",
       "      <td>NaN</td>\n",
       "      <td>1.000000</td>\n",
       "      <td>NaN</td>\n",
       "      <td>NaN</td>\n",
       "      <td>NaN</td>\n",
       "      <td>NaN</td>\n",
       "      <td>NaN</td>\n",
       "      <td>0.000000</td>\n",
       "      <td>0.000000</td>\n",
       "      <td>1.000000</td>\n",
       "      <td>NaN</td>\n",
       "      <td>NaN</td>\n",
       "    </tr>\n",
       "    <tr>\n",
       "      <th>25%</th>\n",
       "      <td>28.000000</td>\n",
       "      <td>NaN</td>\n",
       "      <td>1.178315e+05</td>\n",
       "      <td>NaN</td>\n",
       "      <td>9.000000</td>\n",
       "      <td>NaN</td>\n",
       "      <td>NaN</td>\n",
       "      <td>NaN</td>\n",
       "      <td>NaN</td>\n",
       "      <td>NaN</td>\n",
       "      <td>0.000000</td>\n",
       "      <td>0.000000</td>\n",
       "      <td>40.000000</td>\n",
       "      <td>NaN</td>\n",
       "      <td>NaN</td>\n",
       "    </tr>\n",
       "    <tr>\n",
       "      <th>50%</th>\n",
       "      <td>37.000000</td>\n",
       "      <td>NaN</td>\n",
       "      <td>1.783630e+05</td>\n",
       "      <td>NaN</td>\n",
       "      <td>10.000000</td>\n",
       "      <td>NaN</td>\n",
       "      <td>NaN</td>\n",
       "      <td>NaN</td>\n",
       "      <td>NaN</td>\n",
       "      <td>NaN</td>\n",
       "      <td>0.000000</td>\n",
       "      <td>0.000000</td>\n",
       "      <td>40.000000</td>\n",
       "      <td>NaN</td>\n",
       "      <td>NaN</td>\n",
       "    </tr>\n",
       "    <tr>\n",
       "      <th>75%</th>\n",
       "      <td>48.000000</td>\n",
       "      <td>NaN</td>\n",
       "      <td>2.370545e+05</td>\n",
       "      <td>NaN</td>\n",
       "      <td>12.000000</td>\n",
       "      <td>NaN</td>\n",
       "      <td>NaN</td>\n",
       "      <td>NaN</td>\n",
       "      <td>NaN</td>\n",
       "      <td>NaN</td>\n",
       "      <td>0.000000</td>\n",
       "      <td>0.000000</td>\n",
       "      <td>45.000000</td>\n",
       "      <td>NaN</td>\n",
       "      <td>NaN</td>\n",
       "    </tr>\n",
       "    <tr>\n",
       "      <th>max</th>\n",
       "      <td>90.000000</td>\n",
       "      <td>NaN</td>\n",
       "      <td>1.484705e+06</td>\n",
       "      <td>NaN</td>\n",
       "      <td>16.000000</td>\n",
       "      <td>NaN</td>\n",
       "      <td>NaN</td>\n",
       "      <td>NaN</td>\n",
       "      <td>NaN</td>\n",
       "      <td>NaN</td>\n",
       "      <td>99999.000000</td>\n",
       "      <td>4356.000000</td>\n",
       "      <td>99.000000</td>\n",
       "      <td>NaN</td>\n",
       "      <td>NaN</td>\n",
       "    </tr>\n",
       "  </tbody>\n",
       "</table>\n",
       "</div>"
      ],
      "text/plain": [
       "                 Age Workclass        Fnlwgt Education  Education_num  \\\n",
       "count   32560.000000     32560  3.256000e+04     32560   32560.000000   \n",
       "unique           NaN         9           NaN        16            NaN   \n",
       "top              NaN   Private           NaN   HS-grad            NaN   \n",
       "freq             NaN     22696           NaN     10501            NaN   \n",
       "mean       38.581634       NaN  1.897818e+05       NaN      10.080590   \n",
       "std        13.640642       NaN  1.055498e+05       NaN       2.572709   \n",
       "min        17.000000       NaN  1.228500e+04       NaN       1.000000   \n",
       "25%        28.000000       NaN  1.178315e+05       NaN       9.000000   \n",
       "50%        37.000000       NaN  1.783630e+05       NaN      10.000000   \n",
       "75%        48.000000       NaN  2.370545e+05       NaN      12.000000   \n",
       "max        90.000000       NaN  1.484705e+06       NaN      16.000000   \n",
       "\n",
       "             Marital_status       Occupation Relationship    Race    Sex  \\\n",
       "count                 32560            32560        32560   32560  32560   \n",
       "unique                    7               15            6       5      2   \n",
       "top      Married-civ-spouse   Prof-specialty      Husband   White   Male   \n",
       "freq                  14976             4140        13193   27815  21789   \n",
       "mean                    NaN              NaN          NaN     NaN    NaN   \n",
       "std                     NaN              NaN          NaN     NaN    NaN   \n",
       "min                     NaN              NaN          NaN     NaN    NaN   \n",
       "25%                     NaN              NaN          NaN     NaN    NaN   \n",
       "50%                     NaN              NaN          NaN     NaN    NaN   \n",
       "75%                     NaN              NaN          NaN     NaN    NaN   \n",
       "max                     NaN              NaN          NaN     NaN    NaN   \n",
       "\n",
       "        Capital_gain  Capital_loss  Hours_per_week  Native_country  Income  \n",
       "count   32560.000000  32560.000000    32560.000000           32560   32560  \n",
       "unique           NaN           NaN             NaN              42       2  \n",
       "top              NaN           NaN             NaN   United-States   <=50K  \n",
       "freq             NaN           NaN             NaN           29169   24719  \n",
       "mean     1077.615172     87.306511       40.437469             NaN     NaN  \n",
       "std      7385.402999    402.966116       12.347618             NaN     NaN  \n",
       "min         0.000000      0.000000        1.000000             NaN     NaN  \n",
       "25%         0.000000      0.000000       40.000000             NaN     NaN  \n",
       "50%         0.000000      0.000000       40.000000             NaN     NaN  \n",
       "75%         0.000000      0.000000       45.000000             NaN     NaN  \n",
       "max     99999.000000   4356.000000       99.000000             NaN     NaN  "
      ]
     },
     "execution_count": 17,
     "metadata": {},
     "output_type": "execute_result"
    }
   ],
   "source": [
    "df.describe(include='all')"
   ]
  },
  {
   "cell_type": "markdown",
   "id": "4e4d5ec7",
   "metadata": {},
   "source": [
    "observation:\n",
    "    \n",
    "    1-- the count is showing 32560 which is equal to number of rows which means no null values present.\n",
    "    2-- the datasets contain int type and object type both columns, so unique values and frequency of first row data value is being shown.\n",
    "    3-- difference between mean and std is large which means spreading of data is present.\n",
    "    4-- some columns have large difference in 75% percentile and max value which means outliers may present.\n",
    "    5-- the statistics of datasets value ig given above as the mean value, min, max value, and percentile at different stage is calculated.\n"
   ]
  },
  {
   "cell_type": "markdown",
   "id": "853516de",
   "metadata": {},
   "source": [
    "VISUALIZATION OF DATASETS"
   ]
  },
  {
   "cell_type": "code",
   "execution_count": 18,
   "id": "0693778b",
   "metadata": {},
   "outputs": [
    {
     "data": {
      "text/plain": [
       "<AxesSubplot:>"
      ]
     },
     "execution_count": 18,
     "metadata": {},
     "output_type": "execute_result"
    },
    {
     "data": {
      "image/png": "[encoded data removed]",
      "text/plain": [
       "<Figure size 432x288 with 2 Axes>"
      ]
     },
     "metadata": {
      "needs_background": "light"
     },
     "output_type": "display_data"
    }
   ],
   "source": [
    "sns.heatmap(df.isnull())"
   ]
  },
  {
   "cell_type": "markdown",
   "id": "101b299f",
   "metadata": {},
   "source": [
    "plane data graph is plotted as the there is no nan values in datasets presents, if there is any kind of nan values then horizontal bars should be present in graph"
   ]
  },
  {
   "cell_type": "code",
   "execution_count": 19,
   "id": "b636c51d",
   "metadata": {},
   "outputs": [
    {
     "data": {
      "text/html": [
       "<div>\n",
       "<style scoped>\n",
       "    .dataframe tbody tr th:only-of-type {\n",
       "        vertical-align: middle;\n",
       "    }\n",
       "\n",
       "    .dataframe tbody tr th {\n",
       "        vertical-align: top;\n",
       "    }\n",
       "\n",
       "    .dataframe thead th {\n",
       "        text-align: right;\n",
       "    }\n",
       "</style>\n",
       "<table border=\"1\" class=\"dataframe\">\n",
       "  <thead>\n",
       "    <tr style=\"text-align: right;\">\n",
       "      <th></th>\n",
       "      <th>Age</th>\n",
       "      <th>Fnlwgt</th>\n",
       "      <th>Education_num</th>\n",
       "      <th>Capital_gain</th>\n",
       "      <th>Capital_loss</th>\n",
       "      <th>Hours_per_week</th>\n",
       "    </tr>\n",
       "  </thead>\n",
       "  <tbody>\n",
       "    <tr>\n",
       "      <th>Age</th>\n",
       "      <td>1.000000</td>\n",
       "      <td>-0.076646</td>\n",
       "      <td>0.036527</td>\n",
       "      <td>0.077674</td>\n",
       "      <td>0.057775</td>\n",
       "      <td>0.068756</td>\n",
       "    </tr>\n",
       "    <tr>\n",
       "      <th>Fnlwgt</th>\n",
       "      <td>-0.076646</td>\n",
       "      <td>1.000000</td>\n",
       "      <td>-0.043159</td>\n",
       "      <td>0.000437</td>\n",
       "      <td>-0.010259</td>\n",
       "      <td>-0.018770</td>\n",
       "    </tr>\n",
       "    <tr>\n",
       "      <th>Education_num</th>\n",
       "      <td>0.036527</td>\n",
       "      <td>-0.043159</td>\n",
       "      <td>1.000000</td>\n",
       "      <td>0.122627</td>\n",
       "      <td>0.079932</td>\n",
       "      <td>0.148127</td>\n",
       "    </tr>\n",
       "    <tr>\n",
       "      <th>Capital_gain</th>\n",
       "      <td>0.077674</td>\n",
       "      <td>0.000437</td>\n",
       "      <td>0.122627</td>\n",
       "      <td>1.000000</td>\n",
       "      <td>-0.031614</td>\n",
       "      <td>0.078409</td>\n",
       "    </tr>\n",
       "    <tr>\n",
       "      <th>Capital_loss</th>\n",
       "      <td>0.057775</td>\n",
       "      <td>-0.010259</td>\n",
       "      <td>0.079932</td>\n",
       "      <td>-0.031614</td>\n",
       "      <td>1.000000</td>\n",
       "      <td>0.054256</td>\n",
       "    </tr>\n",
       "    <tr>\n",
       "      <th>Hours_per_week</th>\n",
       "      <td>0.068756</td>\n",
       "      <td>-0.018770</td>\n",
       "      <td>0.148127</td>\n",
       "      <td>0.078409</td>\n",
       "      <td>0.054256</td>\n",
       "      <td>1.000000</td>\n",
       "    </tr>\n",
       "  </tbody>\n",
       "</table>\n",
       "</div>"
      ],
      "text/plain": [
       "                     Age    Fnlwgt  Education_num  Capital_gain  Capital_loss  \\\n",
       "Age             1.000000 -0.076646       0.036527      0.077674      0.057775   \n",
       "Fnlwgt         -0.076646  1.000000      -0.043159      0.000437     -0.010259   \n",
       "Education_num   0.036527 -0.043159       1.000000      0.122627      0.079932   \n",
       "Capital_gain    0.077674  0.000437       0.122627      1.000000     -0.031614   \n",
       "Capital_loss    0.057775 -0.010259       0.079932     -0.031614      1.000000   \n",
       "Hours_per_week  0.068756 -0.018770       0.148127      0.078409      0.054256   \n",
       "\n",
       "                Hours_per_week  \n",
       "Age                   0.068756  \n",
       "Fnlwgt               -0.018770  \n",
       "Education_num         0.148127  \n",
       "Capital_gain          0.078409  \n",
       "Capital_loss          0.054256  \n",
       "Hours_per_week        1.000000  "
      ]
     },
     "execution_count": 19,
     "metadata": {},
     "output_type": "execute_result"
    }
   ],
   "source": [
    "df_corr=df.corr()\n",
    "df_corr"
   ]
  },
  {
   "cell_type": "markdown",
   "id": "3d55c0f9",
   "metadata": {},
   "source": [
    "observation:\n",
    "    \n",
    "    1-- the correlation value is only calculated on numeric data type.\n",
    "    2-- the correlated value between each columns calculated .\n",
    "    3-- positive value show the direct relation with that column and negative value show the inverse relation with that column.\n",
    "    4-- here positive and negative values given which show both relation."
   ]
  },
  {
   "cell_type": "code",
   "execution_count": 20,
   "id": "6061d7a6",
   "metadata": {},
   "outputs": [
    {
     "data": {
      "text/plain": [
       "<AxesSubplot:>"
      ]
     },
     "execution_count": 20,
     "metadata": {},
     "output_type": "execute_result"
    },
    {
     "data": {
      "image/png": "[encoded data removed]",
      "text/plain": [
       "<Figure size 1440x720 with 2 Axes>"
      ]
     },
     "metadata": {
      "needs_background": "light"
     },
     "output_type": "display_data"
    }
   ],
   "source": [
    "plt.figure(figsize=(20,10))\n",
    "sns.heatmap(df_corr, annot=True)"
   ]
  },
  {
   "cell_type": "code",
   "execution_count": 21,
   "id": "9c0f3626",
   "metadata": {},
   "outputs": [
    {
     "data": {
      "text/plain": [
       "Index(['Age', 'Workclass', 'Fnlwgt', 'Education', 'Education_num',\n",
       "       'Marital_status', 'Occupation', 'Relationship', 'Race', 'Sex',\n",
       "       'Capital_gain', 'Capital_loss', 'Hours_per_week', 'Native_country',\n",
       "       'Income'],\n",
       "      dtype='object')"
      ]
     },
     "execution_count": 21,
     "metadata": {},
     "output_type": "execute_result"
    }
   ],
   "source": [
    "df.columns"
   ]
  },
  {
   "cell_type": "code",
   "execution_count": 22,
   "id": "9ee2860d",
   "metadata": {},
   "outputs": [
    {
     "data": {
      "text/plain": [
       "Age                int64\n",
       "Workclass         object\n",
       "Fnlwgt             int64\n",
       "Education         object\n",
       "Education_num      int64\n",
       "Marital_status    object\n",
       "Occupation        object\n",
       "Relationship      object\n",
       "Race              object\n",
       "Sex               object\n",
       "Capital_gain       int64\n",
       "Capital_loss       int64\n",
       "Hours_per_week     int64\n",
       "Native_country    object\n",
       "Income            object\n",
       "dtype: object"
      ]
     },
     "execution_count": 22,
     "metadata": {},
     "output_type": "execute_result"
    }
   ],
   "source": [
    "df.dtypes"
   ]
  },
  {
   "cell_type": "markdown",
   "id": "95b66020",
   "metadata": {},
   "source": [
    "univariant"
   ]
  },
  {
   "cell_type": "code",
   "execution_count": 23,
   "id": "7578495e",
   "metadata": {},
   "outputs": [
    {
     "data": {
      "text/plain": [
       "36    898\n",
       "31    888\n",
       "34    886\n",
       "23    877\n",
       "35    876\n",
       "     ... \n",
       "83      6\n",
       "88      3\n",
       "85      3\n",
       "86      1\n",
       "87      1\n",
       "Name: Age, Length: 73, dtype: int64"
      ]
     },
     "execution_count": 23,
     "metadata": {},
     "output_type": "execute_result"
    },
    {
     "data": {
      "image/png": "[encoded data removed]",
      "text/plain": [
       "<Figure size 432x288 with 1 Axes>"
      ]
     },
     "metadata": {
      "needs_background": "light"
     },
     "output_type": "display_data"
    }
   ],
   "source": [
    "sns.countplot(df['Age'])\n",
    "df['Age'].value_counts()"
   ]
  },
  {
   "cell_type": "markdown",
   "id": "fc7db4fb",
   "metadata": {},
   "source": [
    "the max count of age is shown at the interval 25- 36 years, and very high senior citizens are rare."
   ]
  },
  {
   "cell_type": "code",
   "execution_count": 24,
   "id": "85af1cd7",
   "metadata": {},
   "outputs": [
    {
     "data": {
      "text/plain": [
       " Private             22696\n",
       " Self-emp-not-inc     2541\n",
       " Local-gov            2093\n",
       " ?                    1836\n",
       " State-gov            1297\n",
       " Self-emp-inc         1116\n",
       " Federal-gov           960\n",
       " Without-pay            14\n",
       " Never-worked            7\n",
       "Name: Workclass, dtype: int64"
      ]
     },
     "execution_count": 24,
     "metadata": {},
     "output_type": "execute_result"
    },
    {
     "data": {
      "image/png": "[encoded data removed]",
      "text/plain": [
       "<Figure size 432x288 with 1 Axes>"
      ]
     },
     "metadata": {
      "needs_background": "light"
     },
     "output_type": "display_data"
    }
   ],
   "source": [
    "sns.countplot(df['Workclass'])\n",
    "df['Workclass'].value_counts()"
   ]
  },
  {
   "cell_type": "markdown",
   "id": "eeb5cf6d",
   "metadata": {},
   "source": [
    "the workclass column show the different employee type work, max count is showing of private employees and very low count of peoples who never worked or work without pay."
   ]
  },
  {
   "cell_type": "code",
   "execution_count": 25,
   "id": "560ffd7e",
   "metadata": {},
   "outputs": [
    {
     "data": {
      "text/plain": [
       "164190    13\n",
       "203488    13\n",
       "123011    13\n",
       "148995    12\n",
       "126675    12\n",
       "          ..\n",
       "325573     1\n",
       "140176     1\n",
       "318264     1\n",
       "329205     1\n",
       "257302     1\n",
       "Name: Fnlwgt, Length: 21647, dtype: int64"
      ]
     },
     "execution_count": 25,
     "metadata": {},
     "output_type": "execute_result"
    },
    {
     "data": {
      "image/png": "[encoded data removed]",
      "text/plain": [
       "<Figure size 432x288 with 1 Axes>"
      ]
     },
     "metadata": {
      "needs_background": "light"
     },
     "output_type": "display_data"
    }
   ],
   "source": [
    "sns.countplot(df['Fnlwgt'])\n",
    "df['Fnlwgt'].value_counts()"
   ]
  },
  {
   "cell_type": "code",
   "execution_count": 26,
   "id": "e9388952",
   "metadata": {},
   "outputs": [
    {
     "data": {
      "text/plain": [
       " HS-grad         10501\n",
       " Some-college     7291\n",
       " Bachelors        5354\n",
       " Masters          1723\n",
       " Assoc-voc        1382\n",
       " 11th             1175\n",
       " Assoc-acdm       1067\n",
       " 10th              933\n",
       " 7th-8th           646\n",
       " Prof-school       576\n",
       " 9th               514\n",
       " 12th              433\n",
       " Doctorate         413\n",
       " 5th-6th           333\n",
       " 1st-4th           168\n",
       " Preschool          51\n",
       "Name: Education, dtype: int64"
      ]
     },
     "execution_count": 26,
     "metadata": {},
     "output_type": "execute_result"
    },
    {
     "data": {
      "image/png": "[encoded data removed]",
      "text/plain": [
       "<Figure size 432x288 with 1 Axes>"
      ]
     },
     "metadata": {
      "needs_background": "light"
     },
     "output_type": "display_data"
    }
   ],
   "source": [
    "sns.countplot(df['Education'])\n",
    "df['Education'].value_counts()"
   ]
  },
  {
   "cell_type": "markdown",
   "id": "cd4446c1",
   "metadata": {},
   "source": [
    "education column indicate which graduation a employee does and max graduation type count is 10501 and HS-grad "
   ]
  },
  {
   "cell_type": "code",
   "execution_count": 27,
   "id": "8edb1ca7",
   "metadata": {},
   "outputs": [
    {
     "data": {
      "text/plain": [
       "9     10501\n",
       "10     7291\n",
       "13     5354\n",
       "14     1723\n",
       "11     1382\n",
       "7      1175\n",
       "12     1067\n",
       "6       933\n",
       "4       646\n",
       "15      576\n",
       "5       514\n",
       "8       433\n",
       "16      413\n",
       "3       333\n",
       "2       168\n",
       "1        51\n",
       "Name: Education_num, dtype: int64"
      ]
     },
     "execution_count": 27,
     "metadata": {},
     "output_type": "execute_result"
    },
    {
     "data": {
      "image/png": "[encoded data removed]",
      "text/plain": [
       "<Figure size 432x288 with 1 Axes>"
      ]
     },
     "metadata": {
      "needs_background": "light"
     },
     "output_type": "display_data"
    }
   ],
   "source": [
    "sns.countplot(df['Education_num'])\n",
    "df['Education_num'].value_counts()"
   ]
  },
  {
   "cell_type": "code",
   "execution_count": 28,
   "id": "09d013a8",
   "metadata": {},
   "outputs": [
    {
     "data": {
      "text/plain": [
       " Married-civ-spouse       14976\n",
       " Never-married            10682\n",
       " Divorced                  4443\n",
       " Separated                 1025\n",
       " Widowed                    993\n",
       " Married-spouse-absent      418\n",
       " Married-AF-spouse           23\n",
       "Name: Marital_status, dtype: int64"
      ]
     },
     "execution_count": 28,
     "metadata": {},
     "output_type": "execute_result"
    },
    {
     "data": {
      "image/png": "[encoded data removed]",
      "text/plain": [
       "<Figure size 432x288 with 1 Axes>"
      ]
     },
     "metadata": {
      "needs_background": "light"
     },
     "output_type": "display_data"
    }
   ],
   "source": [
    "sns.countplot(df['Marital_status'])\n",
    "df['Marital_status'].value_counts()"
   ]
  },
  {
   "cell_type": "markdown",
   "id": "d77ba15f",
   "metadata": {},
   "source": [
    "most of the employees are married and their count is high having 14976"
   ]
  },
  {
   "cell_type": "code",
   "execution_count": 29,
   "id": "a280b78c",
   "metadata": {},
   "outputs": [
    {
     "data": {
      "text/plain": [
       " Prof-specialty       4140\n",
       " Craft-repair         4099\n",
       " Exec-managerial      4066\n",
       " Adm-clerical         3769\n",
       " Sales                3650\n",
       " Other-service        3295\n",
       " Machine-op-inspct    2002\n",
       " ?                    1843\n",
       " Transport-moving     1597\n",
       " Handlers-cleaners    1370\n",
       " Farming-fishing       994\n",
       " Tech-support          928\n",
       " Protective-serv       649\n",
       " Priv-house-serv       149\n",
       " Armed-Forces            9\n",
       "Name: Occupation, dtype: int64"
      ]
     },
     "execution_count": 29,
     "metadata": {},
     "output_type": "execute_result"
    },
    {
     "data": {
      "image/png": "[encoded data removed]",
      "text/plain": [
       "<Figure size 432x288 with 1 Axes>"
      ]
     },
     "metadata": {
      "needs_background": "light"
     },
     "output_type": "display_data"
    }
   ],
   "source": [
    "sns.countplot(df['Occupation'])\n",
    "df['Occupation'].value_counts()"
   ]
  },
  {
   "cell_type": "markdown",
   "id": "00683d22",
   "metadata": {},
   "source": [
    "the max count of prof speaciality showing 4140 count and least count is showing 9"
   ]
  },
  {
   "cell_type": "code",
   "execution_count": 30,
   "id": "6c291dde",
   "metadata": {},
   "outputs": [
    {
     "data": {
      "text/plain": [
       " Husband           13193\n",
       " Not-in-family      8304\n",
       " Own-child          5068\n",
       " Unmarried          3446\n",
       " Wife               1568\n",
       " Other-relative      981\n",
       "Name: Relationship, dtype: int64"
      ]
     },
     "execution_count": 30,
     "metadata": {},
     "output_type": "execute_result"
    },
    {
     "data": {
      "image/png": "[encoded data removed]",
      "text/plain": [
       "<Figure size 432x288 with 1 Axes>"
      ]
     },
     "metadata": {
      "needs_background": "light"
     },
     "output_type": "display_data"
    }
   ],
   "source": [
    "sns.countplot(df['Relationship'])\n",
    "df['Relationship'].value_counts()"
   ]
  },
  {
   "cell_type": "markdown",
   "id": "2e638650",
   "metadata": {},
   "source": [
    "relationship show the most of the males that is husband and showing count of 13193 and least count is of other relative showing count of 981"
   ]
  },
  {
   "cell_type": "code",
   "execution_count": 31,
   "id": "f563b507",
   "metadata": {},
   "outputs": [
    {
     "data": {
      "text/plain": [
       " White                 27815\n",
       " Black                  3124\n",
       " Asian-Pac-Islander     1039\n",
       " Amer-Indian-Eskimo      311\n",
       " Other                   271\n",
       "Name: Race, dtype: int64"
      ]
     },
     "execution_count": 31,
     "metadata": {},
     "output_type": "execute_result"
    },
    {
     "data": {
      "image/png": "[encoded data removed]",
      "text/plain": [
       "<Figure size 432x288 with 1 Axes>"
      ]
     },
     "metadata": {
      "needs_background": "light"
     },
     "output_type": "display_data"
    }
   ],
   "source": [
    "sns.countplot(df['Race'])\n",
    "df['Race'].value_counts()"
   ]
  },
  {
   "cell_type": "markdown",
   "id": "f3f01a0c",
   "metadata": {},
   "source": [
    "race indicate the colour of people, and here white people is showing max count having 27815 , and least count is other showing 271 count."
   ]
  },
  {
   "cell_type": "code",
   "execution_count": 32,
   "id": "125dcabb",
   "metadata": {},
   "outputs": [
    {
     "data": {
      "text/plain": [
       " Male      21789\n",
       " Female    10771\n",
       "Name: Sex, dtype: int64"
      ]
     },
     "execution_count": 32,
     "metadata": {},
     "output_type": "execute_result"
    },
    {
     "data": {
      "image/png": "[encoded data removed]",
      "text/plain": [
       "<Figure size 432x288 with 1 Axes>"
      ]
     },
     "metadata": {
      "needs_background": "light"
     },
     "output_type": "display_data"
    }
   ],
   "source": [
    "sns.countplot(df['Sex'])\n",
    "df['Sex'].value_counts()"
   ]
  },
  {
   "cell_type": "markdown",
   "id": "3aa9e58e",
   "metadata": {},
   "source": [
    "number of male count is high compare to female, male showing 21789 count whereas female showing count of 10771."
   ]
  },
  {
   "cell_type": "code",
   "execution_count": 33,
   "id": "304c8dad",
   "metadata": {},
   "outputs": [
    {
     "data": {
      "text/plain": [
       "0        29849\n",
       "15024      347\n",
       "7688       284\n",
       "7298       246\n",
       "99999      159\n",
       "         ...  \n",
       "1111         1\n",
       "2538         1\n",
       "22040        1\n",
       "4931         1\n",
       "5060         1\n",
       "Name: Capital_gain, Length: 119, dtype: int64"
      ]
     },
     "execution_count": 33,
     "metadata": {},
     "output_type": "execute_result"
    },
    {
     "data": {
      "image/png": "[encoded data removed]",
      "text/plain": [
       "<Figure size 432x288 with 1 Axes>"
      ]
     },
     "metadata": {
      "needs_background": "light"
     },
     "output_type": "display_data"
    }
   ],
   "source": [
    "sns.countplot(df['Capital_gain'])\n",
    "df['Capital_gain'].value_counts()"
   ]
  },
  {
   "cell_type": "code",
   "execution_count": 34,
   "id": "6e2d9068",
   "metadata": {},
   "outputs": [
    {
     "data": {
      "text/plain": [
       "0       31041\n",
       "1902      202\n",
       "1977      168\n",
       "1887      159\n",
       "1848       51\n",
       "        ...  \n",
       "2080        1\n",
       "1539        1\n",
       "1844        1\n",
       "2489        1\n",
       "1411        1\n",
       "Name: Capital_loss, Length: 92, dtype: int64"
      ]
     },
     "execution_count": 34,
     "metadata": {},
     "output_type": "execute_result"
    },
    {
     "data": {
      "image/png": "[encoded data removed]",
      "text/plain": [
       "<Figure size 432x288 with 1 Axes>"
      ]
     },
     "metadata": {
      "needs_background": "light"
     },
     "output_type": "display_data"
    }
   ],
   "source": [
    "sns.countplot(df['Capital_loss'])\n",
    "df['Capital_loss'].value_counts()"
   ]
  },
  {
   "cell_type": "code",
   "execution_count": 35,
   "id": "f20a37e2",
   "metadata": {},
   "outputs": [
    {
     "data": {
      "text/plain": [
       "40    15216\n",
       "50     2819\n",
       "45     1824\n",
       "60     1475\n",
       "35     1297\n",
       "      ...  \n",
       "82        1\n",
       "94        1\n",
       "92        1\n",
       "74        1\n",
       "87        1\n",
       "Name: Hours_per_week, Length: 94, dtype: int64"
      ]
     },
     "execution_count": 35,
     "metadata": {},
     "output_type": "execute_result"
    },
    {
     "data": {
      "image/png": "[encoded data removed]",
      "text/plain": [
       "<Figure size 432x288 with 1 Axes>"
      ]
     },
     "metadata": {
      "needs_background": "light"
     },
     "output_type": "display_data"
    }
   ],
   "source": [
    "sns.countplot(df['Hours_per_week'])\n",
    "df['Hours_per_week'].value_counts()"
   ]
  },
  {
   "cell_type": "markdown",
   "id": "6ab558ed",
   "metadata": {},
   "source": [
    "in a week 40 hrs max login is there and showing count of 15216 done by employees"
   ]
  },
  {
   "cell_type": "code",
   "execution_count": 36,
   "id": "e7deabcf",
   "metadata": {},
   "outputs": [
    {
     "data": {
      "text/plain": [
       " United-States                 29169\n",
       " Mexico                          643\n",
       " ?                               583\n",
       " Philippines                     198\n",
       " Germany                         137\n",
       " Canada                          121\n",
       " Puerto-Rico                     114\n",
       " El-Salvador                     106\n",
       " India                           100\n",
       " Cuba                             95\n",
       " England                          90\n",
       " Jamaica                          81\n",
       " South                            80\n",
       " China                            75\n",
       " Italy                            73\n",
       " Dominican-Republic               70\n",
       " Vietnam                          67\n",
       " Guatemala                        64\n",
       " Japan                            62\n",
       " Poland                           60\n",
       " Columbia                         59\n",
       " Taiwan                           51\n",
       " Haiti                            44\n",
       " Iran                             43\n",
       " Portugal                         37\n",
       " Nicaragua                        34\n",
       " Peru                             31\n",
       " France                           29\n",
       " Greece                           29\n",
       " Ecuador                          28\n",
       " Ireland                          24\n",
       " Hong                             20\n",
       " Cambodia                         19\n",
       " Trinadad&Tobago                  19\n",
       " Laos                             18\n",
       " Thailand                         18\n",
       " Yugoslavia                       16\n",
       " Outlying-US(Guam-USVI-etc)       14\n",
       " Honduras                         13\n",
       " Hungary                          13\n",
       " Scotland                         12\n",
       " Holand-Netherlands                1\n",
       "Name: Native_country, dtype: int64"
      ]
     },
     "execution_count": 36,
     "metadata": {},
     "output_type": "execute_result"
    },
    {
     "data": {
      "image/png": "[encoded data removed]",
      "text/plain": [
       "<Figure size 432x288 with 1 Axes>"
      ]
     },
     "metadata": {
      "needs_background": "light"
     },
     "output_type": "display_data"
    }
   ],
   "source": [
    "sns.countplot(df['Native_country'])\n",
    "df['Native_country'].value_counts()"
   ]
  },
  {
   "cell_type": "markdown",
   "id": "47f2011b",
   "metadata": {},
   "source": [
    "the native company name is united states and it is maximum showing count of 29169"
   ]
  },
  {
   "cell_type": "code",
   "execution_count": 37,
   "id": "0596eeb0",
   "metadata": {},
   "outputs": [
    {
     "data": {
      "text/plain": [
       " <=50K    24719\n",
       " >50K      7841\n",
       "Name: Income, dtype: int64"
      ]
     },
     "execution_count": 37,
     "metadata": {},
     "output_type": "execute_result"
    },
    {
     "data": {
      "image/png": "[encoded data removed]",
      "text/plain": [
       "<Figure size 432x288 with 1 Axes>"
      ]
     },
     "metadata": {
      "needs_background": "light"
     },
     "output_type": "display_data"
    }
   ],
   "source": [
    "sns.countplot(df['Income'])\n",
    "df['Income'].value_counts()"
   ]
  },
  {
   "cell_type": "markdown",
   "id": "af90ed53",
   "metadata": {},
   "source": [
    "very less employees are there who gave more than 50 k as their income. employee who earn more than 50k have count of 7841 and who earn less than 50 k or eqaul to 50k show count of 24719."
   ]
  },
  {
   "cell_type": "markdown",
   "id": "a4c290bf",
   "metadata": {},
   "source": [
    "bivariant"
   ]
  },
  {
   "cell_type": "code",
   "execution_count": 38,
   "id": "8ce9742d",
   "metadata": {},
   "outputs": [
    {
     "data": {
      "text/plain": [
       "<AxesSubplot:xlabel='Age', ylabel='Income'>"
      ]
     },
     "execution_count": 38,
     "metadata": {},
     "output_type": "execute_result"
    },
    {
     "data": {
      "image/png": "[encoded data removed]",
      "text/plain": [
       "<Figure size 432x288 with 1 Axes>"
      ]
     },
     "metadata": {
      "needs_background": "light"
     },
     "output_type": "display_data"
    }
   ],
   "source": [
    "sns.scatterplot(df['Age'],df['Income'])"
   ]
  },
  {
   "cell_type": "markdown",
   "id": "1eaf2a78",
   "metadata": {},
   "source": [
    "the age column divided from 20 to 80 years uniformly and divided into 2 horizontal lines."
   ]
  },
  {
   "cell_type": "code",
   "execution_count": 39,
   "id": "0d5ac037",
   "metadata": {},
   "outputs": [
    {
     "data": {
      "text/plain": [
       "<AxesSubplot:xlabel='Workclass', ylabel='Income'>"
      ]
     },
     "execution_count": 39,
     "metadata": {},
     "output_type": "execute_result"
    },
    {
     "data": {
      "image/png": "[encoded data removed]",
      "text/plain": [
       "<Figure size 432x288 with 1 Axes>"
      ]
     },
     "metadata": {
      "needs_background": "light"
     },
     "output_type": "display_data"
    }
   ],
   "source": [
    "sns.scatterplot(df['Workclass'],df['Income'])"
   ]
  },
  {
   "cell_type": "markdown",
   "id": "bdd7ba09",
   "metadata": {},
   "source": [
    "the points are scatter more in less than 50k column"
   ]
  },
  {
   "cell_type": "code",
   "execution_count": 40,
   "id": "c81b8b39",
   "metadata": {},
   "outputs": [
    {
     "data": {
      "text/plain": [
       "<AxesSubplot:xlabel='Fnlwgt', ylabel='Income'>"
      ]
     },
     "execution_count": 40,
     "metadata": {},
     "output_type": "execute_result"
    },
    {
     "data": {
      "image/png": "[encoded data removed]",
      "text/plain": [
       "<Figure size 432x288 with 1 Axes>"
      ]
     },
     "metadata": {
      "needs_background": "light"
     },
     "output_type": "display_data"
    }
   ],
   "source": [
    "sns.scatterplot(df['Fnlwgt'],df['Income'])"
   ]
  },
  {
   "cell_type": "markdown",
   "id": "158d24ad",
   "metadata": {},
   "source": [
    "fnl weight is uniformly distributed in range 0 to 0.8 and less than 50k is distributed upto 1.4 range"
   ]
  },
  {
   "cell_type": "code",
   "execution_count": 41,
   "id": "43140ab5",
   "metadata": {},
   "outputs": [
    {
     "data": {
      "text/plain": [
       "<AxesSubplot:xlabel='Education', ylabel='Income'>"
      ]
     },
     "execution_count": 41,
     "metadata": {},
     "output_type": "execute_result"
    },
    {
     "data": {
      "image/png": "[encoded data removed]",
      "text/plain": [
       "<Figure size 432x288 with 1 Axes>"
      ]
     },
     "metadata": {
      "needs_background": "light"
     },
     "output_type": "display_data"
    }
   ],
   "source": [
    "sns.scatterplot(df['Education'],df['Income'])"
   ]
  },
  {
   "cell_type": "markdown",
   "id": "359c7cbf",
   "metadata": {},
   "source": [
    "education is unoformly distributed equally in both columns of income"
   ]
  },
  {
   "cell_type": "code",
   "execution_count": 42,
   "id": "a3e0fb0f",
   "metadata": {},
   "outputs": [
    {
     "data": {
      "text/plain": [
       "<AxesSubplot:xlabel='Education_num', ylabel='Income'>"
      ]
     },
     "execution_count": 42,
     "metadata": {},
     "output_type": "execute_result"
    },
    {
     "data": {
      "image/png": "[encoded data removed]",
      "text/plain": [
       "<Figure size 432x288 with 1 Axes>"
      ]
     },
     "metadata": {
      "needs_background": "light"
     },
     "output_type": "display_data"
    }
   ],
   "source": [
    "sns.scatterplot(df['Education_num'],df['Income'])"
   ]
  },
  {
   "cell_type": "markdown",
   "id": "98a8f837",
   "metadata": {},
   "source": [
    "education num is scatter into range between 2 to 16"
   ]
  },
  {
   "cell_type": "code",
   "execution_count": 43,
   "id": "8e3ef9d1",
   "metadata": {},
   "outputs": [
    {
     "data": {
      "text/plain": [
       "<AxesSubplot:xlabel='Marital_status', ylabel='Income'>"
      ]
     },
     "execution_count": 43,
     "metadata": {},
     "output_type": "execute_result"
    },
    {
     "data": {
      "image/png": "[encoded data removed]",
      "text/plain": [
       "<Figure size 432x288 with 1 Axes>"
      ]
     },
     "metadata": {
      "needs_background": "light"
     },
     "output_type": "display_data"
    }
   ],
   "source": [
    "sns.scatterplot(df['Marital_status'],df['Income'])"
   ]
  },
  {
   "cell_type": "markdown",
   "id": "5cd68555",
   "metadata": {},
   "source": [
    "marital status  is equally distributed into 2 category of income column"
   ]
  },
  {
   "cell_type": "code",
   "execution_count": 44,
   "id": "4f655c79",
   "metadata": {},
   "outputs": [
    {
     "data": {
      "text/plain": [
       "<AxesSubplot:xlabel='Occupation', ylabel='Income'>"
      ]
     },
     "execution_count": 44,
     "metadata": {},
     "output_type": "execute_result"
    },
    {
     "data": {
      "image/png": "[encoded data removed]",
      "text/plain": [
       "<Figure size 432x288 with 1 Axes>"
      ]
     },
     "metadata": {
      "needs_background": "light"
     },
     "output_type": "display_data"
    }
   ],
   "source": [
    "sns.scatterplot(df['Occupation'],df['Income'])"
   ]
  },
  {
   "cell_type": "code",
   "execution_count": 45,
   "id": "38e528c7",
   "metadata": {},
   "outputs": [
    {
     "data": {
      "text/plain": [
       "<AxesSubplot:xlabel='Relationship', ylabel='Income'>"
      ]
     },
     "execution_count": 45,
     "metadata": {},
     "output_type": "execute_result"
    },
    {
     "data": {
      "image/png": "[encoded data removed]",
      "text/plain": [
       "<Figure size 432x288 with 1 Axes>"
      ]
     },
     "metadata": {
      "needs_background": "light"
     },
     "output_type": "display_data"
    }
   ],
   "source": [
    "sns.scatterplot(df['Relationship'],df['Income'])"
   ]
  },
  {
   "cell_type": "code",
   "execution_count": 46,
   "id": "5b190e74",
   "metadata": {},
   "outputs": [
    {
     "data": {
      "text/plain": [
       "<AxesSubplot:xlabel='Race', ylabel='Income'>"
      ]
     },
     "execution_count": 46,
     "metadata": {},
     "output_type": "execute_result"
    },
    {
     "data": {
      "image/png": "[encoded data removed]",
      "text/plain": [
       "<Figure size 432x288 with 1 Axes>"
      ]
     },
     "metadata": {
      "needs_background": "light"
     },
     "output_type": "display_data"
    }
   ],
   "source": [
    "sns.scatterplot(df['Race'],df['Income'])"
   ]
  },
  {
   "cell_type": "code",
   "execution_count": 47,
   "id": "3c59f7b7",
   "metadata": {},
   "outputs": [
    {
     "data": {
      "text/plain": [
       "<AxesSubplot:xlabel='Sex', ylabel='Income'>"
      ]
     },
     "execution_count": 47,
     "metadata": {},
     "output_type": "execute_result"
    },
    {
     "data": {
      "image/png": "[encoded data removed]",
      "text/plain": [
       "<Figure size 432x288 with 1 Axes>"
      ]
     },
     "metadata": {
      "needs_background": "light"
     },
     "output_type": "display_data"
    }
   ],
   "source": [
    "sns.scatterplot(df['Sex'],df['Income'])"
   ]
  },
  {
   "cell_type": "code",
   "execution_count": 48,
   "id": "eaff9343",
   "metadata": {},
   "outputs": [
    {
     "data": {
      "text/plain": [
       "<AxesSubplot:xlabel='Capital_gain', ylabel='Income'>"
      ]
     },
     "execution_count": 48,
     "metadata": {},
     "output_type": "execute_result"
    },
    {
     "data": {
      "image/png": "[encoded data removed]",
      "text/plain": [
       "<Figure size 432x288 with 1 Axes>"
      ]
     },
     "metadata": {
      "needs_background": "light"
     },
     "output_type": "display_data"
    }
   ],
   "source": [
    "sns.scatterplot(df['Capital_gain'],df['Income'])"
   ]
  },
  {
   "cell_type": "code",
   "execution_count": 49,
   "id": "43d9c565",
   "metadata": {},
   "outputs": [
    {
     "data": {
      "text/plain": [
       "<AxesSubplot:xlabel='Hours_per_week', ylabel='Income'>"
      ]
     },
     "execution_count": 49,
     "metadata": {},
     "output_type": "execute_result"
    },
    {
     "data": {
      "image/png": "[encoded data removed]",
      "text/plain": [
       "<Figure size 432x288 with 1 Axes>"
      ]
     },
     "metadata": {
      "needs_background": "light"
     },
     "output_type": "display_data"
    }
   ],
   "source": [
    "sns.scatterplot(df['Hours_per_week'],df['Income'])"
   ]
  },
  {
   "cell_type": "code",
   "execution_count": 50,
   "id": "9ceebbbd",
   "metadata": {},
   "outputs": [
    {
     "data": {
      "text/plain": [
       "<AxesSubplot:xlabel='Native_country', ylabel='Income'>"
      ]
     },
     "execution_count": 50,
     "metadata": {},
     "output_type": "execute_result"
    },
    {
     "data": {
      "image/png": "[encoded data removed]",
      "text/plain": [
       "<Figure size 432x288 with 1 Axes>"
      ]
     },
     "metadata": {
      "needs_background": "light"
     },
     "output_type": "display_data"
    }
   ],
   "source": [
    "sns.scatterplot(df['Native_country'],df['Income'])"
   ]
  },
  {
   "cell_type": "markdown",
   "id": "35df9e62",
   "metadata": {},
   "source": [
    "LABEL ENCODING: CONVERT STRING INTO NUMERIC TYPE"
   ]
  },
  {
   "cell_type": "code",
   "execution_count": 51,
   "id": "bf1f3e48",
   "metadata": {},
   "outputs": [],
   "source": [
    "from sklearn.preprocessing import LabelEncoder"
   ]
  },
  {
   "cell_type": "code",
   "execution_count": 52,
   "id": "dac659ec",
   "metadata": {},
   "outputs": [],
   "source": [
    "le=LabelEncoder()\n",
    "for i in df.columns:\n",
    "    if(df[i].dtypes=='object'):\n",
    "        df[i]=le.fit_transform(df[i])"
   ]
  },
  {
   "cell_type": "code",
   "execution_count": 53,
   "id": "0b21c125",
   "metadata": {},
   "outputs": [
    {
     "data": {
      "text/plain": [
       "Age               int64\n",
       "Workclass         int32\n",
       "Fnlwgt            int64\n",
       "Education         int32\n",
       "Education_num     int64\n",
       "Marital_status    int32\n",
       "Occupation        int32\n",
       "Relationship      int32\n",
       "Race              int32\n",
       "Sex               int32\n",
       "Capital_gain      int64\n",
       "Capital_loss      int64\n",
       "Hours_per_week    int64\n",
       "Native_country    int32\n",
       "Income            int32\n",
       "dtype: object"
      ]
     },
     "execution_count": 53,
     "metadata": {},
     "output_type": "execute_result"
    }
   ],
   "source": [
    "df.dtypes"
   ]
  },
  {
   "cell_type": "code",
   "execution_count": 54,
   "id": "7ac53b7a",
   "metadata": {},
   "outputs": [
    {
     "data": {
      "text/plain": [
       "Index(['Age', 'Workclass', 'Fnlwgt', 'Education', 'Education_num',\n",
       "       'Marital_status', 'Occupation', 'Relationship', 'Race', 'Sex',\n",
       "       'Capital_gain', 'Capital_loss', 'Hours_per_week', 'Native_country',\n",
       "       'Income'],\n",
       "      dtype='object')"
      ]
     },
     "execution_count": 54,
     "metadata": {},
     "output_type": "execute_result"
    }
   ],
   "source": [
    "df.columns"
   ]
  },
  {
   "cell_type": "markdown",
   "id": "ec481b2b",
   "metadata": {},
   "source": [
    "CHECKING FOR OUTLIERS"
   ]
  },
  {
   "cell_type": "code",
   "execution_count": 55,
   "id": "336c4f93",
   "metadata": {},
   "outputs": [
    {
     "data": {
      "text/plain": [
       "{'whiskers': [<matplotlib.lines.Line2D at 0x27fe7a3c4c0>,\n",
       "  <matplotlib.lines.Line2D at 0x27fe7a3c790>],\n",
       " 'caps': [<matplotlib.lines.Line2D at 0x27fe7a3cb20>,\n",
       "  <matplotlib.lines.Line2D at 0x27fe7a3cd30>],\n",
       " 'boxes': [<matplotlib.lines.Line2D at 0x27fe7a3c1f0>],\n",
       " 'medians': [<matplotlib.lines.Line2D at 0x27fe7a4a040>],\n",
       " 'fliers': [<matplotlib.lines.Line2D at 0x27fe7a4a310>],\n",
       " 'means': []}"
      ]
     },
     "execution_count": 55,
     "metadata": {},
     "output_type": "execute_result"
    },
    {
     "data": {
      "image/png": "[encoded data removed]",
      "text/plain": [
       "<Figure size 432x288 with 1 Axes>"
      ]
     },
     "metadata": {
      "needs_background": "light"
     },
     "output_type": "display_data"
    }
   ],
   "source": [
    "plt.boxplot(df['Age'])"
   ]
  },
  {
   "cell_type": "markdown",
   "id": "23930713",
   "metadata": {},
   "source": [
    "outliers present in age columns and they are above 60s age which lie above the max value of box"
   ]
  },
  {
   "cell_type": "code",
   "execution_count": 56,
   "id": "1b6b0cd9",
   "metadata": {},
   "outputs": [
    {
     "data": {
      "text/plain": [
       "{'whiskers': [<matplotlib.lines.Line2D at 0x27fe7aa1c70>,\n",
       "  <matplotlib.lines.Line2D at 0x27fe7aa1f40>],\n",
       " 'caps': [<matplotlib.lines.Line2D at 0x27fe7aad250>,\n",
       "  <matplotlib.lines.Line2D at 0x27fe7aad520>],\n",
       " 'boxes': [<matplotlib.lines.Line2D at 0x27fe7aa19a0>],\n",
       " 'medians': [<matplotlib.lines.Line2D at 0x27fe7aad7f0>],\n",
       " 'fliers': [<matplotlib.lines.Line2D at 0x27fe7aadac0>],\n",
       " 'means': []}"
      ]
     },
     "execution_count": 56,
     "metadata": {},
     "output_type": "execute_result"
    },
    {
     "data": {
      "image/png": "[encoded data removed]",
      "text/plain": [
       "<Figure size 432x288 with 1 Axes>"
      ]
     },
     "metadata": {
      "needs_background": "light"
     },
     "output_type": "display_data"
    }
   ],
   "source": [
    "plt.boxplot(df['Workclass'])"
   ]
  },
  {
   "cell_type": "code",
   "execution_count": 57,
   "id": "6bcb9661",
   "metadata": {},
   "outputs": [
    {
     "data": {
      "text/plain": [
       "{'whiskers': [<matplotlib.lines.Line2D at 0x27fe7b152b0>,\n",
       "  <matplotlib.lines.Line2D at 0x27fe7b15580>],\n",
       " 'caps': [<matplotlib.lines.Line2D at 0x27fe7b15850>,\n",
       "  <matplotlib.lines.Line2D at 0x27fe7b15b20>],\n",
       " 'boxes': [<matplotlib.lines.Line2D at 0x27fe7b06fa0>],\n",
       " 'medians': [<matplotlib.lines.Line2D at 0x27fe7b15df0>],\n",
       " 'fliers': [<matplotlib.lines.Line2D at 0x27fe7b24100>],\n",
       " 'means': []}"
      ]
     },
     "execution_count": 57,
     "metadata": {},
     "output_type": "execute_result"
    },
    {
     "data": {
      "image/png": "[encoded data removed]",
      "text/plain": [
       "<Figure size 432x288 with 1 Axes>"
      ]
     },
     "metadata": {
      "needs_background": "light"
     },
     "output_type": "display_data"
    }
   ],
   "source": [
    "plt.boxplot(df['Fnlwgt'])"
   ]
  },
  {
   "cell_type": "code",
   "execution_count": 58,
   "id": "21399c13",
   "metadata": {},
   "outputs": [
    {
     "data": {
      "text/plain": [
       "{'whiskers': [<matplotlib.lines.Line2D at 0x27fe7bfe250>,\n",
       "  <matplotlib.lines.Line2D at 0x27fe7bfe520>],\n",
       " 'caps': [<matplotlib.lines.Line2D at 0x27fe7bfe7f0>,\n",
       "  <matplotlib.lines.Line2D at 0x27fe7bfeac0>],\n",
       " 'boxes': [<matplotlib.lines.Line2D at 0x27fe7bf0f40>],\n",
       " 'medians': [<matplotlib.lines.Line2D at 0x27fe7bfed90>],\n",
       " 'fliers': [<matplotlib.lines.Line2D at 0x27fe7c0d0a0>],\n",
       " 'means': []}"
      ]
     },
     "execution_count": 58,
     "metadata": {},
     "output_type": "execute_result"
    },
    {
     "data": {
      "image/png": "[encoded data removed]",
      "text/plain": [
       "<Figure size 432x288 with 1 Axes>"
      ]
     },
     "metadata": {
      "needs_background": "light"
     },
     "output_type": "display_data"
    }
   ],
   "source": [
    "plt.boxplot(df['Education'])"
   ]
  },
  {
   "cell_type": "code",
   "execution_count": 59,
   "id": "0746232b",
   "metadata": {},
   "outputs": [
    {
     "data": {
      "text/plain": [
       "{'whiskers': [<matplotlib.lines.Line2D at 0x27fe7cea220>,\n",
       "  <matplotlib.lines.Line2D at 0x27fe7cea4f0>],\n",
       " 'caps': [<matplotlib.lines.Line2D at 0x27fe7cea7c0>,\n",
       "  <matplotlib.lines.Line2D at 0x27fe7ceaa90>],\n",
       " 'boxes': [<matplotlib.lines.Line2D at 0x27fe7cdaf10>],\n",
       " 'medians': [<matplotlib.lines.Line2D at 0x27fe7cead60>],\n",
       " 'fliers': [<matplotlib.lines.Line2D at 0x27fe7cf7070>],\n",
       " 'means': []}"
      ]
     },
     "execution_count": 59,
     "metadata": {},
     "output_type": "execute_result"
    },
    {
     "data": {
      "image/png": "[encoded data removed]",
      "text/plain": [
       "<Figure size 432x288 with 1 Axes>"
      ]
     },
     "metadata": {
      "needs_background": "light"
     },
     "output_type": "display_data"
    }
   ],
   "source": [
    "plt.boxplot(df['Education_num'])"
   ]
  },
  {
   "cell_type": "code",
   "execution_count": 60,
   "id": "a73b3925",
   "metadata": {},
   "outputs": [
    {
     "data": {
      "text/plain": [
       "{'whiskers': [<matplotlib.lines.Line2D at 0x27fe7d941f0>,\n",
       "  <matplotlib.lines.Line2D at 0x27fe7d944c0>],\n",
       " 'caps': [<matplotlib.lines.Line2D at 0x27fe7d94790>,\n",
       "  <matplotlib.lines.Line2D at 0x27fe7d94a60>],\n",
       " 'boxes': [<matplotlib.lines.Line2D at 0x27fe7d47ee0>],\n",
       " 'medians': [<matplotlib.lines.Line2D at 0x27fe7d94d30>],\n",
       " 'fliers': [<matplotlib.lines.Line2D at 0x27fe7da2040>],\n",
       " 'means': []}"
      ]
     },
     "execution_count": 60,
     "metadata": {},
     "output_type": "execute_result"
    },
    {
     "data": {
      "image/png": "[encoded data removed]",
      "text/plain": [
       "<Figure size 432x288 with 1 Axes>"
      ]
     },
     "metadata": {
      "needs_background": "light"
     },
     "output_type": "display_data"
    }
   ],
   "source": [
    "plt.boxplot(df['Marital_status'])"
   ]
  },
  {
   "cell_type": "code",
   "execution_count": 61,
   "id": "186d6d99",
   "metadata": {},
   "outputs": [
    {
     "data": {
      "text/plain": [
       "{'whiskers': [<matplotlib.lines.Line2D at 0x27fe7df0b80>,\n",
       "  <matplotlib.lines.Line2D at 0x27fe7df0e50>],\n",
       " 'caps': [<matplotlib.lines.Line2D at 0x27fe7e00160>,\n",
       "  <matplotlib.lines.Line2D at 0x27fe7e00430>],\n",
       " 'boxes': [<matplotlib.lines.Line2D at 0x27fe7df08b0>],\n",
       " 'medians': [<matplotlib.lines.Line2D at 0x27fe7e00700>],\n",
       " 'fliers': [<matplotlib.lines.Line2D at 0x27fe7e009d0>],\n",
       " 'means': []}"
      ]
     },
     "execution_count": 61,
     "metadata": {},
     "output_type": "execute_result"
    },
    {
     "data": {
      "image/png": "[encoded data removed]",
      "text/plain": [
       "<Figure size 432x288 with 1 Axes>"
      ]
     },
     "metadata": {
      "needs_background": "light"
     },
     "output_type": "display_data"
    }
   ],
   "source": [
    "plt.boxplot(df['Occupation'])"
   ]
  },
  {
   "cell_type": "code",
   "execution_count": 62,
   "id": "72822d33",
   "metadata": {},
   "outputs": [
    {
     "data": {
      "text/plain": [
       "{'whiskers': [<matplotlib.lines.Line2D at 0x27fe7e9ab50>,\n",
       "  <matplotlib.lines.Line2D at 0x27fe7e9ae20>],\n",
       " 'caps': [<matplotlib.lines.Line2D at 0x27fe7eab130>,\n",
       "  <matplotlib.lines.Line2D at 0x27fe7eab400>],\n",
       " 'boxes': [<matplotlib.lines.Line2D at 0x27fe7e9a880>],\n",
       " 'medians': [<matplotlib.lines.Line2D at 0x27fe7eab6d0>],\n",
       " 'fliers': [<matplotlib.lines.Line2D at 0x27fe7eab9a0>],\n",
       " 'means': []}"
      ]
     },
     "execution_count": 62,
     "metadata": {},
     "output_type": "execute_result"
    },
    {
     "data": {
      "image/png": "[encoded data removed]",
      "text/plain": [
       "<Figure size 432x288 with 1 Axes>"
      ]
     },
     "metadata": {
      "needs_background": "light"
     },
     "output_type": "display_data"
    }
   ],
   "source": [
    "plt.boxplot(df['Relationship'])"
   ]
  },
  {
   "cell_type": "code",
   "execution_count": 63,
   "id": "0fad4fc9",
   "metadata": {},
   "outputs": [
    {
     "data": {
      "text/plain": [
       "{'whiskers': [<matplotlib.lines.Line2D at 0x27fe9eea070>,\n",
       "  <matplotlib.lines.Line2D at 0x27fe9eea340>],\n",
       " 'caps': [<matplotlib.lines.Line2D at 0x27fe9eea610>,\n",
       "  <matplotlib.lines.Line2D at 0x27fe9eea8e0>],\n",
       " 'boxes': [<matplotlib.lines.Line2D at 0x27fe9edbd60>],\n",
       " 'medians': [<matplotlib.lines.Line2D at 0x27fe9eeabb0>],\n",
       " 'fliers': [<matplotlib.lines.Line2D at 0x27fe9eeae80>],\n",
       " 'means': []}"
      ]
     },
     "execution_count": 63,
     "metadata": {},
     "output_type": "execute_result"
    },
    {
     "data": {
      "image/png": "[encoded data removed]",
      "text/plain": [
       "<Figure size 432x288 with 1 Axes>"
      ]
     },
     "metadata": {
      "needs_background": "light"
     },
     "output_type": "display_data"
    }
   ],
   "source": [
    "plt.boxplot(df['Race'])"
   ]
  },
  {
   "cell_type": "code",
   "execution_count": 64,
   "id": "0931e85b",
   "metadata": {},
   "outputs": [
    {
     "data": {
      "text/plain": [
       "{'whiskers': [<matplotlib.lines.Line2D at 0x27fe9f524f0>,\n",
       "  <matplotlib.lines.Line2D at 0x27fe9f527c0>],\n",
       " 'caps': [<matplotlib.lines.Line2D at 0x27fe9f52a90>,\n",
       "  <matplotlib.lines.Line2D at 0x27fe9f52d60>],\n",
       " 'boxes': [<matplotlib.lines.Line2D at 0x27fe9f52220>],\n",
       " 'medians': [<matplotlib.lines.Line2D at 0x27fe9f5c070>],\n",
       " 'fliers': [<matplotlib.lines.Line2D at 0x27fe9f5c340>],\n",
       " 'means': []}"
      ]
     },
     "execution_count": 64,
     "metadata": {},
     "output_type": "execute_result"
    },
    {
     "data": {
      "image/png": "[encoded data removed]",
      "text/plain": [
       "<Figure size 432x288 with 1 Axes>"
      ]
     },
     "metadata": {
      "needs_background": "light"
     },
     "output_type": "display_data"
    }
   ],
   "source": [
    "plt.boxplot(df['Sex'])"
   ]
  },
  {
   "cell_type": "code",
   "execution_count": 65,
   "id": "04e358b6",
   "metadata": {},
   "outputs": [
    {
     "data": {
      "text/plain": [
       "{'whiskers': [<matplotlib.lines.Line2D at 0x27fe9faf8b0>,\n",
       "  <matplotlib.lines.Line2D at 0x27fe9fafb80>],\n",
       " 'caps': [<matplotlib.lines.Line2D at 0x27fe9fafe50>,\n",
       "  <matplotlib.lines.Line2D at 0x27fe9fc0160>],\n",
       " 'boxes': [<matplotlib.lines.Line2D at 0x27fe9faf5e0>],\n",
       " 'medians': [<matplotlib.lines.Line2D at 0x27fe9fc0430>],\n",
       " 'fliers': [<matplotlib.lines.Line2D at 0x27fe9fc0700>],\n",
       " 'means': []}"
      ]
     },
     "execution_count": 65,
     "metadata": {},
     "output_type": "execute_result"
    },
    {
     "data": {
      "image/png": "[encoded data removed]",
      "text/plain": [
       "<Figure size 432x288 with 1 Axes>"
      ]
     },
     "metadata": {
      "needs_background": "light"
     },
     "output_type": "display_data"
    }
   ],
   "source": [
    "plt.boxplot(df['Capital_gain'])"
   ]
  },
  {
   "cell_type": "code",
   "execution_count": 66,
   "id": "b2a51a5a",
   "metadata": {},
   "outputs": [
    {
     "data": {
      "text/plain": [
       "{'whiskers': [<matplotlib.lines.Line2D at 0x27fea00eca0>,\n",
       "  <matplotlib.lines.Line2D at 0x27fea00ef70>],\n",
       " 'caps': [<matplotlib.lines.Line2D at 0x27fea01d280>,\n",
       "  <matplotlib.lines.Line2D at 0x27fea01d550>],\n",
       " 'boxes': [<matplotlib.lines.Line2D at 0x27fea00e9d0>],\n",
       " 'medians': [<matplotlib.lines.Line2D at 0x27fea01d820>],\n",
       " 'fliers': [<matplotlib.lines.Line2D at 0x27fea01daf0>],\n",
       " 'means': []}"
      ]
     },
     "execution_count": 66,
     "metadata": {},
     "output_type": "execute_result"
    },
    {
     "data": {
      "image/png": "[encoded data removed]",
      "text/plain": [
       "<Figure size 432x288 with 1 Axes>"
      ]
     },
     "metadata": {
      "needs_background": "light"
     },
     "output_type": "display_data"
    }
   ],
   "source": [
    "plt.boxplot(df['Hours_per_week'])"
   ]
  },
  {
   "cell_type": "code",
   "execution_count": 67,
   "id": "f5732e13",
   "metadata": {},
   "outputs": [
    {
     "data": {
      "text/plain": [
       "{'whiskers': [<matplotlib.lines.Line2D at 0x27fea07e100>,\n",
       "  <matplotlib.lines.Line2D at 0x27fea07e3d0>],\n",
       " 'caps': [<matplotlib.lines.Line2D at 0x27fea07e6a0>,\n",
       "  <matplotlib.lines.Line2D at 0x27fea07e970>],\n",
       " 'boxes': [<matplotlib.lines.Line2D at 0x27fea06fdf0>],\n",
       " 'medians': [<matplotlib.lines.Line2D at 0x27fea07ec40>],\n",
       " 'fliers': [<matplotlib.lines.Line2D at 0x27fea07ef10>],\n",
       " 'means': []}"
      ]
     },
     "execution_count": 67,
     "metadata": {},
     "output_type": "execute_result"
    },
    {
     "data": {
      "image/png": "[encoded data removed]",
      "text/plain": [
       "<Figure size 432x288 with 1 Axes>"
      ]
     },
     "metadata": {
      "needs_background": "light"
     },
     "output_type": "display_data"
    }
   ],
   "source": [
    "plt.boxplot(df['Native_country'])"
   ]
  },
  {
   "cell_type": "markdown",
   "id": "6e33b5be",
   "metadata": {},
   "source": [
    "the outliers are present in most of the columns so we try to remove it."
   ]
  },
  {
   "cell_type": "markdown",
   "id": "9ae27f3f",
   "metadata": {},
   "source": [
    "REMOVING OUTLIERS: ZSCORE"
   ]
  },
  {
   "cell_type": "code",
   "execution_count": 68,
   "id": "96f39a21",
   "metadata": {},
   "outputs": [],
   "source": [
    "from scipy.stats import zscore"
   ]
  },
  {
   "cell_type": "code",
   "execution_count": 69,
   "id": "fa0acea1",
   "metadata": {},
   "outputs": [
    {
     "data": {
      "text/html": [
       "<div>\n",
       "<style scoped>\n",
       "    .dataframe tbody tr th:only-of-type {\n",
       "        vertical-align: middle;\n",
       "    }\n",
       "\n",
       "    .dataframe tbody tr th {\n",
       "        vertical-align: top;\n",
       "    }\n",
       "\n",
       "    .dataframe thead th {\n",
       "        text-align: right;\n",
       "    }\n",
       "</style>\n",
       "<table border=\"1\" class=\"dataframe\">\n",
       "  <thead>\n",
       "    <tr style=\"text-align: right;\">\n",
       "      <th></th>\n",
       "      <th>Age</th>\n",
       "      <th>Workclass</th>\n",
       "      <th>Fnlwgt</th>\n",
       "      <th>Education</th>\n",
       "      <th>Education_num</th>\n",
       "      <th>Marital_status</th>\n",
       "      <th>Occupation</th>\n",
       "      <th>Relationship</th>\n",
       "      <th>Race</th>\n",
       "      <th>Sex</th>\n",
       "      <th>Capital_gain</th>\n",
       "      <th>Capital_loss</th>\n",
       "      <th>Hours_per_week</th>\n",
       "      <th>Native_country</th>\n",
       "      <th>Income</th>\n",
       "    </tr>\n",
       "  </thead>\n",
       "  <tbody>\n",
       "    <tr>\n",
       "      <th>0</th>\n",
       "      <td>0.837097</td>\n",
       "      <td>1.463883</td>\n",
       "      <td>1.008742</td>\n",
       "      <td>0.335443</td>\n",
       "      <td>1.134779</td>\n",
       "      <td>0.406183</td>\n",
       "      <td>0.608434</td>\n",
       "      <td>0.900177</td>\n",
       "      <td>0.393675</td>\n",
       "      <td>0.703087</td>\n",
       "      <td>0.145914</td>\n",
       "      <td>0.216663</td>\n",
       "      <td>2.222120</td>\n",
       "      <td>0.291573</td>\n",
       "      <td>0.563210</td>\n",
       "    </tr>\n",
       "    <tr>\n",
       "      <th>1</th>\n",
       "      <td>0.042640</td>\n",
       "      <td>0.090121</td>\n",
       "      <td>0.245046</td>\n",
       "      <td>0.181319</td>\n",
       "      <td>0.420027</td>\n",
       "      <td>1.734026</td>\n",
       "      <td>0.135480</td>\n",
       "      <td>0.277810</td>\n",
       "      <td>0.393675</td>\n",
       "      <td>0.703087</td>\n",
       "      <td>0.145914</td>\n",
       "      <td>0.216663</td>\n",
       "      <td>0.035430</td>\n",
       "      <td>0.291573</td>\n",
       "      <td>0.563210</td>\n",
       "    </tr>\n",
       "    <tr>\n",
       "      <th>2</th>\n",
       "      <td>1.057031</td>\n",
       "      <td>0.090121</td>\n",
       "      <td>0.425770</td>\n",
       "      <td>2.402489</td>\n",
       "      <td>1.197429</td>\n",
       "      <td>0.406183</td>\n",
       "      <td>0.135480</td>\n",
       "      <td>0.900177</td>\n",
       "      <td>1.962583</td>\n",
       "      <td>0.703087</td>\n",
       "      <td>0.145914</td>\n",
       "      <td>0.216663</td>\n",
       "      <td>0.035430</td>\n",
       "      <td>0.291573</td>\n",
       "      <td>0.563210</td>\n",
       "    </tr>\n",
       "    <tr>\n",
       "      <th>3</th>\n",
       "      <td>0.775755</td>\n",
       "      <td>0.090121</td>\n",
       "      <td>1.408146</td>\n",
       "      <td>0.335443</td>\n",
       "      <td>1.134779</td>\n",
       "      <td>0.406183</td>\n",
       "      <td>0.810427</td>\n",
       "      <td>2.211658</td>\n",
       "      <td>1.962583</td>\n",
       "      <td>1.422298</td>\n",
       "      <td>0.145914</td>\n",
       "      <td>0.216663</td>\n",
       "      <td>0.035430</td>\n",
       "      <td>4.054157</td>\n",
       "      <td>0.563210</td>\n",
       "    </tr>\n",
       "    <tr>\n",
       "      <th>4</th>\n",
       "      <td>0.115952</td>\n",
       "      <td>0.090121</td>\n",
       "      <td>0.898170</td>\n",
       "      <td>0.439700</td>\n",
       "      <td>1.523480</td>\n",
       "      <td>0.406183</td>\n",
       "      <td>0.608434</td>\n",
       "      <td>2.211658</td>\n",
       "      <td>0.393675</td>\n",
       "      <td>1.422298</td>\n",
       "      <td>0.145914</td>\n",
       "      <td>0.216663</td>\n",
       "      <td>0.035430</td>\n",
       "      <td>0.291573</td>\n",
       "      <td>0.563210</td>\n",
       "    </tr>\n",
       "    <tr>\n",
       "      <th>...</th>\n",
       "      <td>...</td>\n",
       "      <td>...</td>\n",
       "      <td>...</td>\n",
       "      <td>...</td>\n",
       "      <td>...</td>\n",
       "      <td>...</td>\n",
       "      <td>...</td>\n",
       "      <td>...</td>\n",
       "      <td>...</td>\n",
       "      <td>...</td>\n",
       "      <td>...</td>\n",
       "      <td>...</td>\n",
       "      <td>...</td>\n",
       "      <td>...</td>\n",
       "      <td>...</td>\n",
       "    </tr>\n",
       "    <tr>\n",
       "      <th>32555</th>\n",
       "      <td>0.849066</td>\n",
       "      <td>0.090121</td>\n",
       "      <td>0.639710</td>\n",
       "      <td>0.852204</td>\n",
       "      <td>0.746077</td>\n",
       "      <td>0.406183</td>\n",
       "      <td>1.519858</td>\n",
       "      <td>2.211658</td>\n",
       "      <td>0.393675</td>\n",
       "      <td>1.422298</td>\n",
       "      <td>0.145914</td>\n",
       "      <td>0.216663</td>\n",
       "      <td>0.197407</td>\n",
       "      <td>0.291573</td>\n",
       "      <td>0.563210</td>\n",
       "    </tr>\n",
       "    <tr>\n",
       "      <th>32556</th>\n",
       "      <td>0.103982</td>\n",
       "      <td>0.090121</td>\n",
       "      <td>0.335466</td>\n",
       "      <td>0.181319</td>\n",
       "      <td>0.420027</td>\n",
       "      <td>0.406183</td>\n",
       "      <td>0.100997</td>\n",
       "      <td>0.900177</td>\n",
       "      <td>0.393675</td>\n",
       "      <td>0.703087</td>\n",
       "      <td>0.145914</td>\n",
       "      <td>0.216663</td>\n",
       "      <td>0.035430</td>\n",
       "      <td>0.291573</td>\n",
       "      <td>1.775537</td>\n",
       "    </tr>\n",
       "    <tr>\n",
       "      <th>32557</th>\n",
       "      <td>1.423589</td>\n",
       "      <td>0.090121</td>\n",
       "      <td>0.358811</td>\n",
       "      <td>0.181319</td>\n",
       "      <td>0.420027</td>\n",
       "      <td>2.249503</td>\n",
       "      <td>1.317864</td>\n",
       "      <td>1.589291</td>\n",
       "      <td>0.393675</td>\n",
       "      <td>1.422298</td>\n",
       "      <td>0.145914</td>\n",
       "      <td>0.216663</td>\n",
       "      <td>0.035430</td>\n",
       "      <td>0.291573</td>\n",
       "      <td>0.563210</td>\n",
       "    </tr>\n",
       "    <tr>\n",
       "      <th>32558</th>\n",
       "      <td>1.215624</td>\n",
       "      <td>0.090121</td>\n",
       "      <td>0.110927</td>\n",
       "      <td>0.181319</td>\n",
       "      <td>0.420027</td>\n",
       "      <td>0.921660</td>\n",
       "      <td>1.317864</td>\n",
       "      <td>0.966924</td>\n",
       "      <td>0.393675</td>\n",
       "      <td>0.703087</td>\n",
       "      <td>0.145914</td>\n",
       "      <td>0.216663</td>\n",
       "      <td>1.655200</td>\n",
       "      <td>0.291573</td>\n",
       "      <td>0.563210</td>\n",
       "    </tr>\n",
       "    <tr>\n",
       "      <th>32559</th>\n",
       "      <td>0.983720</td>\n",
       "      <td>0.777002</td>\n",
       "      <td>0.929862</td>\n",
       "      <td>0.181319</td>\n",
       "      <td>0.420027</td>\n",
       "      <td>0.406183</td>\n",
       "      <td>0.608434</td>\n",
       "      <td>2.211658</td>\n",
       "      <td>0.393675</td>\n",
       "      <td>1.422298</td>\n",
       "      <td>1.888401</td>\n",
       "      <td>0.216663</td>\n",
       "      <td>0.035430</td>\n",
       "      <td>0.291573</td>\n",
       "      <td>1.775537</td>\n",
       "    </tr>\n",
       "  </tbody>\n",
       "</table>\n",
       "<p>32560 rows × 15 columns</p>\n",
       "</div>"
      ],
      "text/plain": [
       "            Age  Workclass    Fnlwgt  Education  Education_num  \\\n",
       "0      0.837097   1.463883  1.008742   0.335443       1.134779   \n",
       "1      0.042640   0.090121  0.245046   0.181319       0.420027   \n",
       "2      1.057031   0.090121  0.425770   2.402489       1.197429   \n",
       "3      0.775755   0.090121  1.408146   0.335443       1.134779   \n",
       "4      0.115952   0.090121  0.898170   0.439700       1.523480   \n",
       "...         ...        ...       ...        ...            ...   \n",
       "32555  0.849066   0.090121  0.639710   0.852204       0.746077   \n",
       "32556  0.103982   0.090121  0.335466   0.181319       0.420027   \n",
       "32557  1.423589   0.090121  0.358811   0.181319       0.420027   \n",
       "32558  1.215624   0.090121  0.110927   0.181319       0.420027   \n",
       "32559  0.983720   0.777002  0.929862   0.181319       0.420027   \n",
       "\n",
       "       Marital_status  Occupation  Relationship      Race       Sex  \\\n",
       "0            0.406183    0.608434      0.900177  0.393675  0.703087   \n",
       "1            1.734026    0.135480      0.277810  0.393675  0.703087   \n",
       "2            0.406183    0.135480      0.900177  1.962583  0.703087   \n",
       "3            0.406183    0.810427      2.211658  1.962583  1.422298   \n",
       "4            0.406183    0.608434      2.211658  0.393675  1.422298   \n",
       "...               ...         ...           ...       ...       ...   \n",
       "32555        0.406183    1.519858      2.211658  0.393675  1.422298   \n",
       "32556        0.406183    0.100997      0.900177  0.393675  0.703087   \n",
       "32557        2.249503    1.317864      1.589291  0.393675  1.422298   \n",
       "32558        0.921660    1.317864      0.966924  0.393675  0.703087   \n",
       "32559        0.406183    0.608434      2.211658  0.393675  1.422298   \n",
       "\n",
       "       Capital_gain  Capital_loss  Hours_per_week  Native_country    Income  \n",
       "0          0.145914      0.216663        2.222120        0.291573  0.563210  \n",
       "1          0.145914      0.216663        0.035430        0.291573  0.563210  \n",
       "2          0.145914      0.216663        0.035430        0.291573  0.563210  \n",
       "3          0.145914      0.216663        0.035430        4.054157  0.563210  \n",
       "4          0.145914      0.216663        0.035430        0.291573  0.563210  \n",
       "...             ...           ...             ...             ...       ...  \n",
       "32555      0.145914      0.216663        0.197407        0.291573  0.563210  \n",
       "32556      0.145914      0.216663        0.035430        0.291573  1.775537  \n",
       "32557      0.145914      0.216663        0.035430        0.291573  0.563210  \n",
       "32558      0.145914      0.216663        1.655200        0.291573  0.563210  \n",
       "32559      1.888401      0.216663        0.035430        0.291573  1.775537  \n",
       "\n",
       "[32560 rows x 15 columns]"
      ]
     },
     "execution_count": 69,
     "metadata": {},
     "output_type": "execute_result"
    }
   ],
   "source": [
    "z=np.abs(zscore(df))\n",
    "z"
   ]
  },
  {
   "cell_type": "code",
   "execution_count": 70,
   "id": "e728e672",
   "metadata": {},
   "outputs": [
    {
     "name": "stdout",
     "output_type": "stream",
     "text": [
      "(array([    3,     9,    10, ..., 32532, 32550, 32552], dtype=int64), array([13, 12,  8, ...,  8,  8,  8], dtype=int64))\n"
     ]
    }
   ],
   "source": [
    "print(np.where(z>3))"
   ]
  },
  {
   "cell_type": "code",
   "execution_count": 71,
   "id": "399b9064",
   "metadata": {},
   "outputs": [
    {
     "data": {
      "text/html": [
       "<div>\n",
       "<style scoped>\n",
       "    .dataframe tbody tr th:only-of-type {\n",
       "        vertical-align: middle;\n",
       "    }\n",
       "\n",
       "    .dataframe tbody tr th {\n",
       "        vertical-align: top;\n",
       "    }\n",
       "\n",
       "    .dataframe thead th {\n",
       "        text-align: right;\n",
       "    }\n",
       "</style>\n",
       "<table border=\"1\" class=\"dataframe\">\n",
       "  <thead>\n",
       "    <tr style=\"text-align: right;\">\n",
       "      <th></th>\n",
       "      <th>Age</th>\n",
       "      <th>Workclass</th>\n",
       "      <th>Fnlwgt</th>\n",
       "      <th>Education</th>\n",
       "      <th>Education_num</th>\n",
       "      <th>Marital_status</th>\n",
       "      <th>Occupation</th>\n",
       "      <th>Relationship</th>\n",
       "      <th>Race</th>\n",
       "      <th>Sex</th>\n",
       "      <th>Capital_gain</th>\n",
       "      <th>Capital_loss</th>\n",
       "      <th>Hours_per_week</th>\n",
       "      <th>Native_country</th>\n",
       "      <th>Income</th>\n",
       "    </tr>\n",
       "  </thead>\n",
       "  <tbody>\n",
       "    <tr>\n",
       "      <th>0</th>\n",
       "      <td>50</td>\n",
       "      <td>6</td>\n",
       "      <td>83311</td>\n",
       "      <td>9</td>\n",
       "      <td>13</td>\n",
       "      <td>2</td>\n",
       "      <td>4</td>\n",
       "      <td>0</td>\n",
       "      <td>4</td>\n",
       "      <td>1</td>\n",
       "      <td>0</td>\n",
       "      <td>0</td>\n",
       "      <td>13</td>\n",
       "      <td>39</td>\n",
       "      <td>0</td>\n",
       "    </tr>\n",
       "    <tr>\n",
       "      <th>1</th>\n",
       "      <td>38</td>\n",
       "      <td>4</td>\n",
       "      <td>215646</td>\n",
       "      <td>11</td>\n",
       "      <td>9</td>\n",
       "      <td>0</td>\n",
       "      <td>6</td>\n",
       "      <td>1</td>\n",
       "      <td>4</td>\n",
       "      <td>1</td>\n",
       "      <td>0</td>\n",
       "      <td>0</td>\n",
       "      <td>40</td>\n",
       "      <td>39</td>\n",
       "      <td>0</td>\n",
       "    </tr>\n",
       "    <tr>\n",
       "      <th>2</th>\n",
       "      <td>53</td>\n",
       "      <td>4</td>\n",
       "      <td>234721</td>\n",
       "      <td>1</td>\n",
       "      <td>7</td>\n",
       "      <td>2</td>\n",
       "      <td>6</td>\n",
       "      <td>0</td>\n",
       "      <td>2</td>\n",
       "      <td>1</td>\n",
       "      <td>0</td>\n",
       "      <td>0</td>\n",
       "      <td>40</td>\n",
       "      <td>39</td>\n",
       "      <td>0</td>\n",
       "    </tr>\n",
       "    <tr>\n",
       "      <th>4</th>\n",
       "      <td>37</td>\n",
       "      <td>4</td>\n",
       "      <td>284582</td>\n",
       "      <td>12</td>\n",
       "      <td>14</td>\n",
       "      <td>2</td>\n",
       "      <td>4</td>\n",
       "      <td>5</td>\n",
       "      <td>4</td>\n",
       "      <td>0</td>\n",
       "      <td>0</td>\n",
       "      <td>0</td>\n",
       "      <td>40</td>\n",
       "      <td>39</td>\n",
       "      <td>0</td>\n",
       "    </tr>\n",
       "    <tr>\n",
       "      <th>5</th>\n",
       "      <td>49</td>\n",
       "      <td>4</td>\n",
       "      <td>160187</td>\n",
       "      <td>6</td>\n",
       "      <td>5</td>\n",
       "      <td>3</td>\n",
       "      <td>8</td>\n",
       "      <td>1</td>\n",
       "      <td>2</td>\n",
       "      <td>0</td>\n",
       "      <td>0</td>\n",
       "      <td>0</td>\n",
       "      <td>16</td>\n",
       "      <td>23</td>\n",
       "      <td>0</td>\n",
       "    </tr>\n",
       "    <tr>\n",
       "      <th>...</th>\n",
       "      <td>...</td>\n",
       "      <td>...</td>\n",
       "      <td>...</td>\n",
       "      <td>...</td>\n",
       "      <td>...</td>\n",
       "      <td>...</td>\n",
       "      <td>...</td>\n",
       "      <td>...</td>\n",
       "      <td>...</td>\n",
       "      <td>...</td>\n",
       "      <td>...</td>\n",
       "      <td>...</td>\n",
       "      <td>...</td>\n",
       "      <td>...</td>\n",
       "      <td>...</td>\n",
       "    </tr>\n",
       "    <tr>\n",
       "      <th>32555</th>\n",
       "      <td>27</td>\n",
       "      <td>4</td>\n",
       "      <td>257302</td>\n",
       "      <td>7</td>\n",
       "      <td>12</td>\n",
       "      <td>2</td>\n",
       "      <td>13</td>\n",
       "      <td>5</td>\n",
       "      <td>4</td>\n",
       "      <td>0</td>\n",
       "      <td>0</td>\n",
       "      <td>0</td>\n",
       "      <td>38</td>\n",
       "      <td>39</td>\n",
       "      <td>0</td>\n",
       "    </tr>\n",
       "    <tr>\n",
       "      <th>32556</th>\n",
       "      <td>40</td>\n",
       "      <td>4</td>\n",
       "      <td>154374</td>\n",
       "      <td>11</td>\n",
       "      <td>9</td>\n",
       "      <td>2</td>\n",
       "      <td>7</td>\n",
       "      <td>0</td>\n",
       "      <td>4</td>\n",
       "      <td>1</td>\n",
       "      <td>0</td>\n",
       "      <td>0</td>\n",
       "      <td>40</td>\n",
       "      <td>39</td>\n",
       "      <td>1</td>\n",
       "    </tr>\n",
       "    <tr>\n",
       "      <th>32557</th>\n",
       "      <td>58</td>\n",
       "      <td>4</td>\n",
       "      <td>151910</td>\n",
       "      <td>11</td>\n",
       "      <td>9</td>\n",
       "      <td>6</td>\n",
       "      <td>1</td>\n",
       "      <td>4</td>\n",
       "      <td>4</td>\n",
       "      <td>0</td>\n",
       "      <td>0</td>\n",
       "      <td>0</td>\n",
       "      <td>40</td>\n",
       "      <td>39</td>\n",
       "      <td>0</td>\n",
       "    </tr>\n",
       "    <tr>\n",
       "      <th>32558</th>\n",
       "      <td>22</td>\n",
       "      <td>4</td>\n",
       "      <td>201490</td>\n",
       "      <td>11</td>\n",
       "      <td>9</td>\n",
       "      <td>4</td>\n",
       "      <td>1</td>\n",
       "      <td>3</td>\n",
       "      <td>4</td>\n",
       "      <td>1</td>\n",
       "      <td>0</td>\n",
       "      <td>0</td>\n",
       "      <td>20</td>\n",
       "      <td>39</td>\n",
       "      <td>0</td>\n",
       "    </tr>\n",
       "    <tr>\n",
       "      <th>32559</th>\n",
       "      <td>52</td>\n",
       "      <td>5</td>\n",
       "      <td>287927</td>\n",
       "      <td>11</td>\n",
       "      <td>9</td>\n",
       "      <td>2</td>\n",
       "      <td>4</td>\n",
       "      <td>5</td>\n",
       "      <td>4</td>\n",
       "      <td>0</td>\n",
       "      <td>15024</td>\n",
       "      <td>0</td>\n",
       "      <td>40</td>\n",
       "      <td>39</td>\n",
       "      <td>1</td>\n",
       "    </tr>\n",
       "  </tbody>\n",
       "</table>\n",
       "<p>27417 rows × 15 columns</p>\n",
       "</div>"
      ],
      "text/plain": [
       "       Age  Workclass  Fnlwgt  Education  Education_num  Marital_status  \\\n",
       "0       50          6   83311          9             13               2   \n",
       "1       38          4  215646         11              9               0   \n",
       "2       53          4  234721          1              7               2   \n",
       "4       37          4  284582         12             14               2   \n",
       "5       49          4  160187          6              5               3   \n",
       "...    ...        ...     ...        ...            ...             ...   \n",
       "32555   27          4  257302          7             12               2   \n",
       "32556   40          4  154374         11              9               2   \n",
       "32557   58          4  151910         11              9               6   \n",
       "32558   22          4  201490         11              9               4   \n",
       "32559   52          5  287927         11              9               2   \n",
       "\n",
       "       Occupation  Relationship  Race  Sex  Capital_gain  Capital_loss  \\\n",
       "0               4             0     4    1             0             0   \n",
       "1               6             1     4    1             0             0   \n",
       "2               6             0     2    1             0             0   \n",
       "4               4             5     4    0             0             0   \n",
       "5               8             1     2    0             0             0   \n",
       "...           ...           ...   ...  ...           ...           ...   \n",
       "32555          13             5     4    0             0             0   \n",
       "32556           7             0     4    1             0             0   \n",
       "32557           1             4     4    0             0             0   \n",
       "32558           1             3     4    1             0             0   \n",
       "32559           4             5     4    0         15024             0   \n",
       "\n",
       "       Hours_per_week  Native_country  Income  \n",
       "0                  13              39       0  \n",
       "1                  40              39       0  \n",
       "2                  40              39       0  \n",
       "4                  40              39       0  \n",
       "5                  16              23       0  \n",
       "...               ...             ...     ...  \n",
       "32555              38              39       0  \n",
       "32556              40              39       1  \n",
       "32557              40              39       0  \n",
       "32558              20              39       0  \n",
       "32559              40              39       1  \n",
       "\n",
       "[27417 rows x 15 columns]"
      ]
     },
     "execution_count": 71,
     "metadata": {},
     "output_type": "execute_result"
    }
   ],
   "source": [
    "df_new=df[(z<3).all(axis=1)]\n",
    "df_new"
   ]
  },
  {
   "cell_type": "code",
   "execution_count": 72,
   "id": "7bfd2a73",
   "metadata": {},
   "outputs": [
    {
     "data": {
      "text/plain": [
       "(32560, 15)"
      ]
     },
     "execution_count": 72,
     "metadata": {},
     "output_type": "execute_result"
    }
   ],
   "source": [
    "df.shape"
   ]
  },
  {
   "cell_type": "code",
   "execution_count": 73,
   "id": "738aab3e",
   "metadata": {},
   "outputs": [
    {
     "data": {
      "text/plain": [
       "(27417, 15)"
      ]
     },
     "execution_count": 73,
     "metadata": {},
     "output_type": "execute_result"
    }
   ],
   "source": [
    "df_new.shape"
   ]
  },
  {
   "cell_type": "markdown",
   "id": "96c7b0e2",
   "metadata": {},
   "source": [
    "the rows get reduced from 32560 to 27417, removing the zscore value and only value saved which lie within z<3"
   ]
  },
  {
   "cell_type": "markdown",
   "id": "bb49dba0",
   "metadata": {},
   "source": [
    "CHECKING FOR SKEWNESS:"
   ]
  },
  {
   "cell_type": "code",
   "execution_count": 74,
   "id": "2c416659",
   "metadata": {},
   "outputs": [
    {
     "data": {
      "text/plain": [
       "<AxesSubplot:xlabel='Age', ylabel='Density'>"
      ]
     },
     "execution_count": 74,
     "metadata": {},
     "output_type": "execute_result"
    },
    {
     "data": {
      "image/png": "[encoded data removed]",
      "text/plain": [
       "<Figure size 432x288 with 1 Axes>"
      ]
     },
     "metadata": {
      "needs_background": "light"
     },
     "output_type": "display_data"
    }
   ],
   "source": [
    "sns.distplot(df['Age'])"
   ]
  },
  {
   "cell_type": "markdown",
   "id": "79142079",
   "metadata": {},
   "source": [
    "age column is right skewed as the data is preadin towards the right side"
   ]
  },
  {
   "cell_type": "code",
   "execution_count": 75,
   "id": "7e7b3e23",
   "metadata": {},
   "outputs": [
    {
     "data": {
      "text/plain": [
       "<AxesSubplot:xlabel='Workclass', ylabel='Density'>"
      ]
     },
     "execution_count": 75,
     "metadata": {},
     "output_type": "execute_result"
    },
    {
     "data": {
      "image/png": "[encoded data removed]",
      "text/plain": [
       "<Figure size 432x288 with 1 Axes>"
      ]
     },
     "metadata": {
      "needs_background": "light"
     },
     "output_type": "display_data"
    }
   ],
   "source": [
    "sns.distplot(df['Workclass'])"
   ]
  },
  {
   "cell_type": "markdown",
   "id": "d90434cc",
   "metadata": {},
   "source": [
    "the workclass is object type intially and it showing the multi nodal graph"
   ]
  },
  {
   "cell_type": "code",
   "execution_count": 76,
   "id": "38f3539d",
   "metadata": {},
   "outputs": [
    {
     "data": {
      "text/plain": [
       "<AxesSubplot:xlabel='Fnlwgt', ylabel='Density'>"
      ]
     },
     "execution_count": 76,
     "metadata": {},
     "output_type": "execute_result"
    },
    {
     "data": {
      "image/png": "[encoded data removed]",
      "text/plain": [
       "<Figure size 432x288 with 1 Axes>"
      ]
     },
     "metadata": {
      "needs_background": "light"
     },
     "output_type": "display_data"
    }
   ],
   "source": [
    "sns.distplot(df['Fnlwgt'])"
   ]
  },
  {
   "cell_type": "markdown",
   "id": "4f22c3b8",
   "metadata": {},
   "source": [
    "fnlwgt is right skewed as the data spreading can be seen in right direction"
   ]
  },
  {
   "cell_type": "code",
   "execution_count": 77,
   "id": "9e5fcb2f",
   "metadata": {},
   "outputs": [
    {
     "data": {
      "text/plain": [
       "<AxesSubplot:xlabel='Education', ylabel='Density'>"
      ]
     },
     "execution_count": 77,
     "metadata": {},
     "output_type": "execute_result"
    },
    {
     "data": {
      "image/png": "[encoded data removed]",
      "text/plain": [
       "<Figure size 432x288 with 1 Axes>"
      ]
     },
     "metadata": {
      "needs_background": "light"
     },
     "output_type": "display_data"
    }
   ],
   "source": [
    "sns.distplot(df['Education'])"
   ]
  },
  {
   "cell_type": "markdown",
   "id": "1b119406",
   "metadata": {},
   "source": [
    "education is a object type intially showing the multi nodal cases"
   ]
  },
  {
   "cell_type": "code",
   "execution_count": 78,
   "id": "51999603",
   "metadata": {},
   "outputs": [
    {
     "data": {
      "text/plain": [
       "<AxesSubplot:xlabel='Education_num', ylabel='Density'>"
      ]
     },
     "execution_count": 78,
     "metadata": {},
     "output_type": "execute_result"
    },
    {
     "data": {
      "image/png": "[encoded data removed]",
      "text/plain": [
       "<Figure size 432x288 with 1 Axes>"
      ]
     },
     "metadata": {
      "needs_background": "light"
     },
     "output_type": "display_data"
    }
   ],
   "source": [
    "sns.distplot(df['Education_num'])"
   ]
  },
  {
   "cell_type": "markdown",
   "id": "b73b104c",
   "metadata": {},
   "source": [
    "education number is also multi nodal classes and having object type intially"
   ]
  },
  {
   "cell_type": "code",
   "execution_count": 79,
   "id": "dd489294",
   "metadata": {},
   "outputs": [
    {
     "data": {
      "text/plain": [
       "<AxesSubplot:xlabel='Marital_status', ylabel='Density'>"
      ]
     },
     "execution_count": 79,
     "metadata": {},
     "output_type": "execute_result"
    },
    {
     "data": {
      "image/png": "[encoded data removed]",
      "text/plain": [
       "<Figure size 432x288 with 1 Axes>"
      ]
     },
     "metadata": {
      "needs_background": "light"
     },
     "output_type": "display_data"
    }
   ],
   "source": [
    "sns.distplot(df['Marital_status'])"
   ]
  },
  {
   "cell_type": "code",
   "execution_count": 80,
   "id": "f47635e5",
   "metadata": {},
   "outputs": [
    {
     "data": {
      "text/plain": [
       "<AxesSubplot:xlabel='Occupation', ylabel='Density'>"
      ]
     },
     "execution_count": 80,
     "metadata": {},
     "output_type": "execute_result"
    },
    {
     "data": {
      "image/png": "[encoded data removed]",
      "text/plain": [
       "<Figure size 432x288 with 1 Axes>"
      ]
     },
     "metadata": {
      "needs_background": "light"
     },
     "output_type": "display_data"
    }
   ],
   "source": [
    "sns.distplot(df['Occupation'])"
   ]
  },
  {
   "cell_type": "code",
   "execution_count": 81,
   "id": "e0efe513",
   "metadata": {},
   "outputs": [
    {
     "data": {
      "text/plain": [
       "<AxesSubplot:xlabel='Relationship', ylabel='Density'>"
      ]
     },
     "execution_count": 81,
     "metadata": {},
     "output_type": "execute_result"
    },
    {
     "data": {
      "image/png": "[encoded data removed]",
      "text/plain": [
       "<Figure size 432x288 with 1 Axes>"
      ]
     },
     "metadata": {
      "needs_background": "light"
     },
     "output_type": "display_data"
    }
   ],
   "source": [
    "sns.distplot(df['Relationship'])"
   ]
  },
  {
   "cell_type": "code",
   "execution_count": 82,
   "id": "9c678540",
   "metadata": {},
   "outputs": [
    {
     "data": {
      "text/plain": [
       "<AxesSubplot:xlabel='Race', ylabel='Density'>"
      ]
     },
     "execution_count": 82,
     "metadata": {},
     "output_type": "execute_result"
    },
    {
     "data": {
      "image/png": "[encoded data removed]",
      "text/plain": [
       "<Figure size 432x288 with 1 Axes>"
      ]
     },
     "metadata": {
      "needs_background": "light"
     },
     "output_type": "display_data"
    }
   ],
   "source": [
    "sns.distplot(df['Race'])"
   ]
  },
  {
   "cell_type": "code",
   "execution_count": 83,
   "id": "30285794",
   "metadata": {},
   "outputs": [
    {
     "data": {
      "text/plain": [
       "<AxesSubplot:xlabel='Sex', ylabel='Density'>"
      ]
     },
     "execution_count": 83,
     "metadata": {},
     "output_type": "execute_result"
    },
    {
     "data": {
      "image/png": "[encoded data removed]",
      "text/plain": [
       "<Figure size 432x288 with 1 Axes>"
      ]
     },
     "metadata": {
      "needs_background": "light"
     },
     "output_type": "display_data"
    }
   ],
   "source": [
    "sns.distplot(df['Sex'])"
   ]
  },
  {
   "cell_type": "code",
   "execution_count": 84,
   "id": "7d6dff75",
   "metadata": {},
   "outputs": [
    {
     "data": {
      "text/plain": [
       "<AxesSubplot:xlabel='Capital_gain', ylabel='Density'>"
      ]
     },
     "execution_count": 84,
     "metadata": {},
     "output_type": "execute_result"
    },
    {
     "data": {
      "image/png": "[encoded data removed]",
      "text/plain": [
       "<Figure size 432x288 with 1 Axes>"
      ]
     },
     "metadata": {
      "needs_background": "light"
     },
     "output_type": "display_data"
    }
   ],
   "source": [
    "sns.distplot(df['Capital_gain'])"
   ]
  },
  {
   "cell_type": "markdown",
   "id": "87eaf5bd",
   "metadata": {},
   "source": [
    "capital gain is slightly right skewed because of spreading of data towards right direction"
   ]
  },
  {
   "cell_type": "code",
   "execution_count": 85,
   "id": "961815ca",
   "metadata": {},
   "outputs": [
    {
     "data": {
      "text/plain": [
       "<AxesSubplot:xlabel='Capital_loss', ylabel='Density'>"
      ]
     },
     "execution_count": 85,
     "metadata": {},
     "output_type": "execute_result"
    },
    {
     "data": {
      "image/png": "[encoded data removed]",
      "text/plain": [
       "<Figure size 432x288 with 1 Axes>"
      ]
     },
     "metadata": {
      "needs_background": "light"
     },
     "output_type": "display_data"
    }
   ],
   "source": [
    "sns.distplot(df['Capital_loss'])"
   ]
  },
  {
   "cell_type": "markdown",
   "id": "ce9a7484",
   "metadata": {},
   "source": [
    "showing almost normal distributed "
   ]
  },
  {
   "cell_type": "code",
   "execution_count": 86,
   "id": "92a3eae3",
   "metadata": {},
   "outputs": [
    {
     "data": {
      "text/plain": [
       "<AxesSubplot:xlabel='Hours_per_week', ylabel='Density'>"
      ]
     },
     "execution_count": 86,
     "metadata": {},
     "output_type": "execute_result"
    },
    {
     "data": {
      "image/png": "[encoded data removed]",
      "text/plain": [
       "<Figure size 432x288 with 1 Axes>"
      ]
     },
     "metadata": {
      "needs_background": "light"
     },
     "output_type": "display_data"
    }
   ],
   "source": [
    "sns.distplot(df['Hours_per_week'])"
   ]
  },
  {
   "cell_type": "markdown",
   "id": "45d0ad43",
   "metadata": {},
   "source": [
    "hours per week is object type and graph showing multinodal graph"
   ]
  },
  {
   "cell_type": "code",
   "execution_count": 87,
   "id": "aae064d5",
   "metadata": {},
   "outputs": [
    {
     "data": {
      "text/plain": [
       "<AxesSubplot:xlabel='Native_country', ylabel='Density'>"
      ]
     },
     "execution_count": 87,
     "metadata": {},
     "output_type": "execute_result"
    },
    {
     "data": {
      "image/png": "[encoded data removed]",
      "text/plain": [
       "<Figure size 432x288 with 1 Axes>"
      ]
     },
     "metadata": {
      "needs_background": "light"
     },
     "output_type": "display_data"
    }
   ],
   "source": [
    "sns.distplot(df['Native_country'])"
   ]
  },
  {
   "cell_type": "markdown",
   "id": "58547683",
   "metadata": {},
   "source": [
    "left skewed as the data is spreading in left sife of the normal distributed "
   ]
  },
  {
   "cell_type": "markdown",
   "id": "ce41d553",
   "metadata": {},
   "source": [
    "REMOVING OF SKEWNESS: POWER TRANSFORM"
   ]
  },
  {
   "cell_type": "code",
   "execution_count": 88,
   "id": "173ead5b",
   "metadata": {},
   "outputs": [],
   "source": [
    "from sklearn.preprocessing import power_transform"
   ]
  },
  {
   "cell_type": "code",
   "execution_count": 89,
   "id": "c5f3e7ef",
   "metadata": {},
   "outputs": [
    {
     "data": {
      "text/plain": [
       "Native_country    -5.460675\n",
       "Race              -2.592931\n",
       "Education         -0.957458\n",
       "Workclass         -0.738023\n",
       "Sex               -0.684115\n",
       "Hours_per_week    -0.358396\n",
       "Education_num     -0.143960\n",
       "Marital_status    -0.044317\n",
       "Occupation         0.131148\n",
       "Age                0.483478\n",
       "Fnlwgt             0.626221\n",
       "Relationship       0.750207\n",
       "Income             1.324919\n",
       "Capital_gain       4.934878\n",
       "Capital_loss      29.325736\n",
       "dtype: float64"
      ]
     },
     "execution_count": 89,
     "metadata": {},
     "output_type": "execute_result"
    }
   ],
   "source": [
    "df_new.skew().sort_values(ascending=True)"
   ]
  },
  {
   "cell_type": "markdown",
   "id": "1b23a5f1",
   "metadata": {},
   "source": [
    "the range of skew is within -3 to +3 , so beyond these points all skewness occur which we need to removed"
   ]
  },
  {
   "cell_type": "code",
   "execution_count": 90,
   "id": "8acd1487",
   "metadata": {},
   "outputs": [
    {
     "data": {
      "text/html": [
       "<div>\n",
       "<style scoped>\n",
       "    .dataframe tbody tr th:only-of-type {\n",
       "        vertical-align: middle;\n",
       "    }\n",
       "\n",
       "    .dataframe tbody tr th {\n",
       "        vertical-align: top;\n",
       "    }\n",
       "\n",
       "    .dataframe thead th {\n",
       "        text-align: right;\n",
       "    }\n",
       "</style>\n",
       "<table border=\"1\" class=\"dataframe\">\n",
       "  <thead>\n",
       "    <tr style=\"text-align: right;\">\n",
       "      <th></th>\n",
       "      <th>Age</th>\n",
       "      <th>Workclass</th>\n",
       "      <th>Fnlwgt</th>\n",
       "      <th>Education</th>\n",
       "      <th>Education_num</th>\n",
       "      <th>Marital_status</th>\n",
       "      <th>Occupation</th>\n",
       "      <th>Relationship</th>\n",
       "      <th>Race</th>\n",
       "      <th>Sex</th>\n",
       "      <th>Capital_gain</th>\n",
       "      <th>Capital_loss</th>\n",
       "      <th>Hours_per_week</th>\n",
       "      <th>Native_country</th>\n",
       "    </tr>\n",
       "  </thead>\n",
       "  <tbody>\n",
       "    <tr>\n",
       "      <th>0</th>\n",
       "      <td>50</td>\n",
       "      <td>6</td>\n",
       "      <td>83311</td>\n",
       "      <td>9</td>\n",
       "      <td>13</td>\n",
       "      <td>2</td>\n",
       "      <td>4</td>\n",
       "      <td>0</td>\n",
       "      <td>4</td>\n",
       "      <td>1</td>\n",
       "      <td>0</td>\n",
       "      <td>0</td>\n",
       "      <td>13</td>\n",
       "      <td>39</td>\n",
       "    </tr>\n",
       "    <tr>\n",
       "      <th>1</th>\n",
       "      <td>38</td>\n",
       "      <td>4</td>\n",
       "      <td>215646</td>\n",
       "      <td>11</td>\n",
       "      <td>9</td>\n",
       "      <td>0</td>\n",
       "      <td>6</td>\n",
       "      <td>1</td>\n",
       "      <td>4</td>\n",
       "      <td>1</td>\n",
       "      <td>0</td>\n",
       "      <td>0</td>\n",
       "      <td>40</td>\n",
       "      <td>39</td>\n",
       "    </tr>\n",
       "    <tr>\n",
       "      <th>2</th>\n",
       "      <td>53</td>\n",
       "      <td>4</td>\n",
       "      <td>234721</td>\n",
       "      <td>1</td>\n",
       "      <td>7</td>\n",
       "      <td>2</td>\n",
       "      <td>6</td>\n",
       "      <td>0</td>\n",
       "      <td>2</td>\n",
       "      <td>1</td>\n",
       "      <td>0</td>\n",
       "      <td>0</td>\n",
       "      <td>40</td>\n",
       "      <td>39</td>\n",
       "    </tr>\n",
       "    <tr>\n",
       "      <th>4</th>\n",
       "      <td>37</td>\n",
       "      <td>4</td>\n",
       "      <td>284582</td>\n",
       "      <td>12</td>\n",
       "      <td>14</td>\n",
       "      <td>2</td>\n",
       "      <td>4</td>\n",
       "      <td>5</td>\n",
       "      <td>4</td>\n",
       "      <td>0</td>\n",
       "      <td>0</td>\n",
       "      <td>0</td>\n",
       "      <td>40</td>\n",
       "      <td>39</td>\n",
       "    </tr>\n",
       "    <tr>\n",
       "      <th>5</th>\n",
       "      <td>49</td>\n",
       "      <td>4</td>\n",
       "      <td>160187</td>\n",
       "      <td>6</td>\n",
       "      <td>5</td>\n",
       "      <td>3</td>\n",
       "      <td>8</td>\n",
       "      <td>1</td>\n",
       "      <td>2</td>\n",
       "      <td>0</td>\n",
       "      <td>0</td>\n",
       "      <td>0</td>\n",
       "      <td>16</td>\n",
       "      <td>23</td>\n",
       "    </tr>\n",
       "    <tr>\n",
       "      <th>...</th>\n",
       "      <td>...</td>\n",
       "      <td>...</td>\n",
       "      <td>...</td>\n",
       "      <td>...</td>\n",
       "      <td>...</td>\n",
       "      <td>...</td>\n",
       "      <td>...</td>\n",
       "      <td>...</td>\n",
       "      <td>...</td>\n",
       "      <td>...</td>\n",
       "      <td>...</td>\n",
       "      <td>...</td>\n",
       "      <td>...</td>\n",
       "      <td>...</td>\n",
       "    </tr>\n",
       "    <tr>\n",
       "      <th>32555</th>\n",
       "      <td>27</td>\n",
       "      <td>4</td>\n",
       "      <td>257302</td>\n",
       "      <td>7</td>\n",
       "      <td>12</td>\n",
       "      <td>2</td>\n",
       "      <td>13</td>\n",
       "      <td>5</td>\n",
       "      <td>4</td>\n",
       "      <td>0</td>\n",
       "      <td>0</td>\n",
       "      <td>0</td>\n",
       "      <td>38</td>\n",
       "      <td>39</td>\n",
       "    </tr>\n",
       "    <tr>\n",
       "      <th>32556</th>\n",
       "      <td>40</td>\n",
       "      <td>4</td>\n",
       "      <td>154374</td>\n",
       "      <td>11</td>\n",
       "      <td>9</td>\n",
       "      <td>2</td>\n",
       "      <td>7</td>\n",
       "      <td>0</td>\n",
       "      <td>4</td>\n",
       "      <td>1</td>\n",
       "      <td>0</td>\n",
       "      <td>0</td>\n",
       "      <td>40</td>\n",
       "      <td>39</td>\n",
       "    </tr>\n",
       "    <tr>\n",
       "      <th>32557</th>\n",
       "      <td>58</td>\n",
       "      <td>4</td>\n",
       "      <td>151910</td>\n",
       "      <td>11</td>\n",
       "      <td>9</td>\n",
       "      <td>6</td>\n",
       "      <td>1</td>\n",
       "      <td>4</td>\n",
       "      <td>4</td>\n",
       "      <td>0</td>\n",
       "      <td>0</td>\n",
       "      <td>0</td>\n",
       "      <td>40</td>\n",
       "      <td>39</td>\n",
       "    </tr>\n",
       "    <tr>\n",
       "      <th>32558</th>\n",
       "      <td>22</td>\n",
       "      <td>4</td>\n",
       "      <td>201490</td>\n",
       "      <td>11</td>\n",
       "      <td>9</td>\n",
       "      <td>4</td>\n",
       "      <td>1</td>\n",
       "      <td>3</td>\n",
       "      <td>4</td>\n",
       "      <td>1</td>\n",
       "      <td>0</td>\n",
       "      <td>0</td>\n",
       "      <td>20</td>\n",
       "      <td>39</td>\n",
       "    </tr>\n",
       "    <tr>\n",
       "      <th>32559</th>\n",
       "      <td>52</td>\n",
       "      <td>5</td>\n",
       "      <td>287927</td>\n",
       "      <td>11</td>\n",
       "      <td>9</td>\n",
       "      <td>2</td>\n",
       "      <td>4</td>\n",
       "      <td>5</td>\n",
       "      <td>4</td>\n",
       "      <td>0</td>\n",
       "      <td>15024</td>\n",
       "      <td>0</td>\n",
       "      <td>40</td>\n",
       "      <td>39</td>\n",
       "    </tr>\n",
       "  </tbody>\n",
       "</table>\n",
       "<p>27417 rows × 14 columns</p>\n",
       "</div>"
      ],
      "text/plain": [
       "       Age  Workclass  Fnlwgt  Education  Education_num  Marital_status  \\\n",
       "0       50          6   83311          9             13               2   \n",
       "1       38          4  215646         11              9               0   \n",
       "2       53          4  234721          1              7               2   \n",
       "4       37          4  284582         12             14               2   \n",
       "5       49          4  160187          6              5               3   \n",
       "...    ...        ...     ...        ...            ...             ...   \n",
       "32555   27          4  257302          7             12               2   \n",
       "32556   40          4  154374         11              9               2   \n",
       "32557   58          4  151910         11              9               6   \n",
       "32558   22          4  201490         11              9               4   \n",
       "32559   52          5  287927         11              9               2   \n",
       "\n",
       "       Occupation  Relationship  Race  Sex  Capital_gain  Capital_loss  \\\n",
       "0               4             0     4    1             0             0   \n",
       "1               6             1     4    1             0             0   \n",
       "2               6             0     2    1             0             0   \n",
       "4               4             5     4    0             0             0   \n",
       "5               8             1     2    0             0             0   \n",
       "...           ...           ...   ...  ...           ...           ...   \n",
       "32555          13             5     4    0             0             0   \n",
       "32556           7             0     4    1             0             0   \n",
       "32557           1             4     4    0             0             0   \n",
       "32558           1             3     4    1             0             0   \n",
       "32559           4             5     4    0         15024             0   \n",
       "\n",
       "       Hours_per_week  Native_country  \n",
       "0                  13              39  \n",
       "1                  40              39  \n",
       "2                  40              39  \n",
       "4                  40              39  \n",
       "5                  16              23  \n",
       "...               ...             ...  \n",
       "32555              38              39  \n",
       "32556              40              39  \n",
       "32557              40              39  \n",
       "32558              20              39  \n",
       "32559              40              39  \n",
       "\n",
       "[27417 rows x 14 columns]"
      ]
     },
     "execution_count": 90,
     "metadata": {},
     "output_type": "execute_result"
    }
   ],
   "source": [
    "x=df_new.drop('Income', axis=1)\n",
    "x\n",
    "    "
   ]
  },
  {
   "cell_type": "code",
   "execution_count": 91,
   "id": "b03900a8",
   "metadata": {},
   "outputs": [
    {
     "data": {
      "text/plain": [
       "0        0\n",
       "1        0\n",
       "2        0\n",
       "4        0\n",
       "5        0\n",
       "        ..\n",
       "32555    0\n",
       "32556    1\n",
       "32557    0\n",
       "32558    0\n",
       "32559    1\n",
       "Name: Income, Length: 27417, dtype: int32"
      ]
     },
     "execution_count": 91,
     "metadata": {},
     "output_type": "execute_result"
    }
   ],
   "source": [
    "y=df_new['Income']\n",
    "y"
   ]
  },
  {
   "cell_type": "code",
   "execution_count": 92,
   "id": "e6da5b1f",
   "metadata": {},
   "outputs": [
    {
     "data": {
      "text/plain": [
       "array([[ 0.92387928,  1.65209239, -1.12465326, ..., -0.04054646,\n",
       "        -2.21338681,  0.17213488],\n",
       "       [ 0.12850238,  0.01669779,  0.41302315, ..., -0.04054646,\n",
       "        -0.03813668,  0.17213488],\n",
       "       [ 1.09846907,  0.01669779,  0.59312735, ..., -0.04054646,\n",
       "        -0.03813668,  0.17213488],\n",
       "       ...,\n",
       "       [ 1.37259752,  0.01669779, -0.24852704, ..., -0.04054646,\n",
       "        -0.03813668,  0.17213488],\n",
       "       [-1.32725084,  0.01669779,  0.27467596, ..., -0.04054646,\n",
       "        -1.71987004,  0.17213488],\n",
       "       [ 1.04117247,  0.80120487,  1.06334322, ..., -0.04054646,\n",
       "        -0.03813668,  0.17213488]])"
      ]
     },
     "execution_count": 92,
     "metadata": {},
     "output_type": "execute_result"
    }
   ],
   "source": [
    "X=power_transform(x)\n",
    "X"
   ]
  },
  {
   "cell_type": "code",
   "execution_count": 93,
   "id": "3b7c8525",
   "metadata": {},
   "outputs": [
    {
     "data": {
      "text/html": [
       "<div>\n",
       "<style scoped>\n",
       "    .dataframe tbody tr th:only-of-type {\n",
       "        vertical-align: middle;\n",
       "    }\n",
       "\n",
       "    .dataframe tbody tr th {\n",
       "        vertical-align: top;\n",
       "    }\n",
       "\n",
       "    .dataframe thead th {\n",
       "        text-align: right;\n",
       "    }\n",
       "</style>\n",
       "<table border=\"1\" class=\"dataframe\">\n",
       "  <thead>\n",
       "    <tr style=\"text-align: right;\">\n",
       "      <th></th>\n",
       "      <th>Age</th>\n",
       "      <th>Workclass</th>\n",
       "      <th>Fnlwgt</th>\n",
       "      <th>Education</th>\n",
       "      <th>Education_num</th>\n",
       "      <th>Marital_status</th>\n",
       "      <th>Occupation</th>\n",
       "      <th>Relationship</th>\n",
       "      <th>Race</th>\n",
       "      <th>Sex</th>\n",
       "      <th>Capital_gain</th>\n",
       "      <th>Capital_loss</th>\n",
       "      <th>Hours_per_week</th>\n",
       "      <th>Native_country</th>\n",
       "    </tr>\n",
       "  </thead>\n",
       "  <tbody>\n",
       "    <tr>\n",
       "      <th>0</th>\n",
       "      <td>0.923879</td>\n",
       "      <td>1.652092</td>\n",
       "      <td>-1.124653</td>\n",
       "      <td>-0.490792</td>\n",
       "      <td>1.239495</td>\n",
       "      <td>-0.383166</td>\n",
       "      <td>-0.488291</td>\n",
       "      <td>-1.108479</td>\n",
       "      <td>0.347164</td>\n",
       "      <td>0.714839</td>\n",
       "      <td>-0.297044</td>\n",
       "      <td>-0.040546</td>\n",
       "      <td>-2.213387</td>\n",
       "      <td>0.172135</td>\n",
       "    </tr>\n",
       "    <tr>\n",
       "      <th>1</th>\n",
       "      <td>0.128502</td>\n",
       "      <td>0.016698</td>\n",
       "      <td>0.413023</td>\n",
       "      <td>0.076290</td>\n",
       "      <td>-0.460394</td>\n",
       "      <td>-1.758923</td>\n",
       "      <td>-0.000034</td>\n",
       "      <td>0.103606</td>\n",
       "      <td>0.347164</td>\n",
       "      <td>0.714839</td>\n",
       "      <td>-0.297044</td>\n",
       "      <td>-0.040546</td>\n",
       "      <td>-0.038137</td>\n",
       "      <td>0.172135</td>\n",
       "    </tr>\n",
       "    <tr>\n",
       "      <th>2</th>\n",
       "      <td>1.098469</td>\n",
       "      <td>0.016698</td>\n",
       "      <td>0.593127</td>\n",
       "      <td>-2.072782</td>\n",
       "      <td>-1.262007</td>\n",
       "      <td>-0.383166</td>\n",
       "      <td>-0.000034</td>\n",
       "      <td>-1.108479</td>\n",
       "      <td>-2.883576</td>\n",
       "      <td>0.714839</td>\n",
       "      <td>-0.297044</td>\n",
       "      <td>-0.040546</td>\n",
       "      <td>-0.038137</td>\n",
       "      <td>0.172135</td>\n",
       "    </tr>\n",
       "    <tr>\n",
       "      <th>3</th>\n",
       "      <td>0.053547</td>\n",
       "      <td>0.016698</td>\n",
       "      <td>1.035003</td>\n",
       "      <td>0.381028</td>\n",
       "      <td>1.681598</td>\n",
       "      <td>-0.383166</td>\n",
       "      <td>-0.488291</td>\n",
       "      <td>1.549009</td>\n",
       "      <td>0.347164</td>\n",
       "      <td>-1.398916</td>\n",
       "      <td>-0.297044</td>\n",
       "      <td>-0.040546</td>\n",
       "      <td>-0.038137</td>\n",
       "      <td>0.172135</td>\n",
       "    </tr>\n",
       "    <tr>\n",
       "      <th>4</th>\n",
       "      <td>0.863818</td>\n",
       "      <td>0.016698</td>\n",
       "      <td>-0.156343</td>\n",
       "      <td>-1.226011</td>\n",
       "      <td>-2.023203</td>\n",
       "      <td>0.270720</td>\n",
       "      <td>0.435721</td>\n",
       "      <td>0.103606</td>\n",
       "      <td>-2.883576</td>\n",
       "      <td>-1.398916</td>\n",
       "      <td>-0.297044</td>\n",
       "      <td>-0.040546</td>\n",
       "      <td>-2.009520</td>\n",
       "      <td>-4.339238</td>\n",
       "    </tr>\n",
       "    <tr>\n",
       "      <th>...</th>\n",
       "      <td>...</td>\n",
       "      <td>...</td>\n",
       "      <td>...</td>\n",
       "      <td>...</td>\n",
       "      <td>...</td>\n",
       "      <td>...</td>\n",
       "      <td>...</td>\n",
       "      <td>...</td>\n",
       "      <td>...</td>\n",
       "      <td>...</td>\n",
       "      <td>...</td>\n",
       "      <td>...</td>\n",
       "      <td>...</td>\n",
       "      <td>...</td>\n",
       "    </tr>\n",
       "    <tr>\n",
       "      <th>27412</th>\n",
       "      <td>-0.801388</td>\n",
       "      <td>0.016698</td>\n",
       "      <td>0.798010</td>\n",
       "      <td>-0.997327</td>\n",
       "      <td>0.803823</td>\n",
       "      <td>-0.383166</td>\n",
       "      <td>1.383594</td>\n",
       "      <td>1.549009</td>\n",
       "      <td>0.347164</td>\n",
       "      <td>-1.398916</td>\n",
       "      <td>-0.297044</td>\n",
       "      <td>-0.040546</td>\n",
       "      <td>-0.220939</td>\n",
       "      <td>0.172135</td>\n",
       "    </tr>\n",
       "    <tr>\n",
       "      <th>27413</th>\n",
       "      <td>0.273824</td>\n",
       "      <td>0.016698</td>\n",
       "      <td>-0.220853</td>\n",
       "      <td>0.076290</td>\n",
       "      <td>-0.460394</td>\n",
       "      <td>-0.383166</td>\n",
       "      <td>0.223191</td>\n",
       "      <td>-1.108479</td>\n",
       "      <td>0.347164</td>\n",
       "      <td>0.714839</td>\n",
       "      <td>-0.297044</td>\n",
       "      <td>-0.040546</td>\n",
       "      <td>-0.038137</td>\n",
       "      <td>0.172135</td>\n",
       "    </tr>\n",
       "    <tr>\n",
       "      <th>27414</th>\n",
       "      <td>1.372598</td>\n",
       "      <td>0.016698</td>\n",
       "      <td>-0.248527</td>\n",
       "      <td>0.076290</td>\n",
       "      <td>-0.460394</td>\n",
       "      <td>2.161095</td>\n",
       "      <td>-1.406754</td>\n",
       "      <td>1.342986</td>\n",
       "      <td>0.347164</td>\n",
       "      <td>-1.398916</td>\n",
       "      <td>-0.297044</td>\n",
       "      <td>-0.040546</td>\n",
       "      <td>-0.038137</td>\n",
       "      <td>0.172135</td>\n",
       "    </tr>\n",
       "    <tr>\n",
       "      <th>27415</th>\n",
       "      <td>-1.327251</td>\n",
       "      <td>0.016698</td>\n",
       "      <td>0.274676</td>\n",
       "      <td>0.076290</td>\n",
       "      <td>-0.460394</td>\n",
       "      <td>0.910907</td>\n",
       "      <td>-1.406754</td>\n",
       "      <td>1.073858</td>\n",
       "      <td>0.347164</td>\n",
       "      <td>0.714839</td>\n",
       "      <td>-0.297044</td>\n",
       "      <td>-0.040546</td>\n",
       "      <td>-1.719870</td>\n",
       "      <td>0.172135</td>\n",
       "    </tr>\n",
       "    <tr>\n",
       "      <th>27416</th>\n",
       "      <td>1.041172</td>\n",
       "      <td>0.801205</td>\n",
       "      <td>1.063343</td>\n",
       "      <td>0.076290</td>\n",
       "      <td>-0.460394</td>\n",
       "      <td>-0.383166</td>\n",
       "      <td>-0.488291</td>\n",
       "      <td>1.549009</td>\n",
       "      <td>0.347164</td>\n",
       "      <td>-1.398916</td>\n",
       "      <td>3.366539</td>\n",
       "      <td>-0.040546</td>\n",
       "      <td>-0.038137</td>\n",
       "      <td>0.172135</td>\n",
       "    </tr>\n",
       "  </tbody>\n",
       "</table>\n",
       "<p>27417 rows × 14 columns</p>\n",
       "</div>"
      ],
      "text/plain": [
       "            Age  Workclass    Fnlwgt  Education  Education_num  \\\n",
       "0      0.923879   1.652092 -1.124653  -0.490792       1.239495   \n",
       "1      0.128502   0.016698  0.413023   0.076290      -0.460394   \n",
       "2      1.098469   0.016698  0.593127  -2.072782      -1.262007   \n",
       "3      0.053547   0.016698  1.035003   0.381028       1.681598   \n",
       "4      0.863818   0.016698 -0.156343  -1.226011      -2.023203   \n",
       "...         ...        ...       ...        ...            ...   \n",
       "27412 -0.801388   0.016698  0.798010  -0.997327       0.803823   \n",
       "27413  0.273824   0.016698 -0.220853   0.076290      -0.460394   \n",
       "27414  1.372598   0.016698 -0.248527   0.076290      -0.460394   \n",
       "27415 -1.327251   0.016698  0.274676   0.076290      -0.460394   \n",
       "27416  1.041172   0.801205  1.063343   0.076290      -0.460394   \n",
       "\n",
       "       Marital_status  Occupation  Relationship      Race       Sex  \\\n",
       "0           -0.383166   -0.488291     -1.108479  0.347164  0.714839   \n",
       "1           -1.758923   -0.000034      0.103606  0.347164  0.714839   \n",
       "2           -0.383166   -0.000034     -1.108479 -2.883576  0.714839   \n",
       "3           -0.383166   -0.488291      1.549009  0.347164 -1.398916   \n",
       "4            0.270720    0.435721      0.103606 -2.883576 -1.398916   \n",
       "...               ...         ...           ...       ...       ...   \n",
       "27412       -0.383166    1.383594      1.549009  0.347164 -1.398916   \n",
       "27413       -0.383166    0.223191     -1.108479  0.347164  0.714839   \n",
       "27414        2.161095   -1.406754      1.342986  0.347164 -1.398916   \n",
       "27415        0.910907   -1.406754      1.073858  0.347164  0.714839   \n",
       "27416       -0.383166   -0.488291      1.549009  0.347164 -1.398916   \n",
       "\n",
       "       Capital_gain  Capital_loss  Hours_per_week  Native_country  \n",
       "0         -0.297044     -0.040546       -2.213387        0.172135  \n",
       "1         -0.297044     -0.040546       -0.038137        0.172135  \n",
       "2         -0.297044     -0.040546       -0.038137        0.172135  \n",
       "3         -0.297044     -0.040546       -0.038137        0.172135  \n",
       "4         -0.297044     -0.040546       -2.009520       -4.339238  \n",
       "...             ...           ...             ...             ...  \n",
       "27412     -0.297044     -0.040546       -0.220939        0.172135  \n",
       "27413     -0.297044     -0.040546       -0.038137        0.172135  \n",
       "27414     -0.297044     -0.040546       -0.038137        0.172135  \n",
       "27415     -0.297044     -0.040546       -1.719870        0.172135  \n",
       "27416      3.366539     -0.040546       -0.038137        0.172135  \n",
       "\n",
       "[27417 rows x 14 columns]"
      ]
     },
     "execution_count": 93,
     "metadata": {},
     "output_type": "execute_result"
    }
   ],
   "source": [
    "X_new=pd.DataFrame(X, columns=x.columns)\n",
    "X_new"
   ]
  },
  {
   "cell_type": "code",
   "execution_count": 94,
   "id": "00d4922c",
   "metadata": {},
   "outputs": [
    {
     "data": {
      "text/plain": [
       "Capital_loss      24.623864\n",
       "Capital_gain       3.069625\n",
       "Native_country     0.777698\n",
       "Relationship       0.108587\n",
       "Hours_per_week     0.104401\n",
       "Workclass          0.073827\n",
       "Education_num      0.028000\n",
       "Age               -0.018272\n",
       "Fnlwgt            -0.035195\n",
       "Marital_status    -0.128651\n",
       "Occupation        -0.182675\n",
       "Education         -0.314997\n",
       "Sex               -0.684115\n",
       "Race              -2.533505\n",
       "dtype: float64"
      ]
     },
     "execution_count": 94,
     "metadata": {},
     "output_type": "execute_result"
    }
   ],
   "source": [
    "X_new.skew().sort_values(ascending=False)"
   ]
  },
  {
   "cell_type": "markdown",
   "id": "8ebb11bc",
   "metadata": {},
   "source": [
    "we can drop the capital_loss column as it contains very high amount of skewness of value 24.6238, column remove it permanently for further training process"
   ]
  },
  {
   "cell_type": "code",
   "execution_count": 95,
   "id": "c152e20a",
   "metadata": {},
   "outputs": [],
   "source": [
    "X_new.drop('Capital_loss', axis=1, inplace=True)"
   ]
  },
  {
   "cell_type": "code",
   "execution_count": 96,
   "id": "82a3660d",
   "metadata": {},
   "outputs": [
    {
     "data": {
      "text/plain": [
       "Index(['Age', 'Workclass', 'Fnlwgt', 'Education', 'Education_num',\n",
       "       'Marital_status', 'Occupation', 'Relationship', 'Race', 'Sex',\n",
       "       'Capital_gain', 'Hours_per_week', 'Native_country'],\n",
       "      dtype='object')"
      ]
     },
     "execution_count": 96,
     "metadata": {},
     "output_type": "execute_result"
    }
   ],
   "source": [
    "X_new.columns"
   ]
  },
  {
   "cell_type": "code",
   "execution_count": 97,
   "id": "9d47c5fb",
   "metadata": {},
   "outputs": [
    {
     "data": {
      "text/plain": [
       "(27417, 13)"
      ]
     },
     "execution_count": 97,
     "metadata": {},
     "output_type": "execute_result"
    }
   ],
   "source": [
    "X_new.shape"
   ]
  },
  {
   "cell_type": "code",
   "execution_count": 98,
   "id": "2d49f8ea",
   "metadata": {},
   "outputs": [
    {
     "data": {
      "text/plain": [
       "Capital_gain      3.069625\n",
       "Native_country    0.777698\n",
       "Relationship      0.108587\n",
       "Hours_per_week    0.104401\n",
       "Workclass         0.073827\n",
       "Education_num     0.028000\n",
       "Age              -0.018272\n",
       "Fnlwgt           -0.035195\n",
       "Marital_status   -0.128651\n",
       "Occupation       -0.182675\n",
       "Education        -0.314997\n",
       "Sex              -0.684115\n",
       "Race             -2.533505\n",
       "dtype: float64"
      ]
     },
     "execution_count": 98,
     "metadata": {},
     "output_type": "execute_result"
    }
   ],
   "source": [
    "X_new.skew().sort_values(ascending=False)"
   ]
  },
  {
   "cell_type": "markdown",
   "id": "0a86ac7c",
   "metadata": {},
   "source": [
    "now it lie in range -3 to +3 which is in normal distribution curve"
   ]
  },
  {
   "cell_type": "markdown",
   "id": "de8647c3",
   "metadata": {},
   "source": [
    "TRAINING PROCESS"
   ]
  },
  {
   "cell_type": "code",
   "execution_count": 99,
   "id": "e35d494c",
   "metadata": {},
   "outputs": [],
   "source": [
    "from sklearn.model_selection import train_test_split\n",
    "from sklearn.metrics import accuracy_score, confusion_matrix, classification_report\n",
    "\n",
    "from sklearn.linear_model import LogisticRegression\n",
    "from sklearn.naive_bayes import GaussianNB\n",
    "from sklearn.tree import DecisionTreeClassifier\n",
    "from sklearn.ensemble import RandomForestClassifier\n",
    "from sklearn.neighbors import KNeighborsClassifier"
   ]
  },
  {
   "cell_type": "markdown",
   "id": "0f601e19",
   "metadata": {},
   "source": [
    "checking for random state"
   ]
  },
  {
   "cell_type": "code",
   "execution_count": 100,
   "id": "478dc4c1",
   "metadata": {},
   "outputs": [
    {
     "name": "stdout",
     "output_type": "stream",
     "text": [
      "score  0.8320568927789934 random state  1\n",
      "max accuracy  0.8320568927789934 at random state  1\n",
      "score  0.8344274252370533 random state  2\n",
      "max accuracy  0.8344274252370533 at random state  2\n",
      "score  0.8291393143690736 random state  3\n",
      "score  0.8274981765134938 random state  4\n",
      "score  0.8254923413566739 random state  5\n",
      "score  0.8265864332603938 random state  6\n",
      "score  0.8327862873814734 random state  7\n",
      "score  0.8273158278628738 random state  8\n",
      "score  0.8309628008752735 random state  9\n",
      "score  0.8212983223924143 random state  10\n",
      "score  0.8267687819110139 random state  11\n",
      "score  0.8258570386579139 random state  12\n",
      "score  0.824762946754194 random state  13\n",
      "score  0.824762946754194 random state  14\n",
      "score  0.825127644055434 random state  15\n",
      "score  0.8262217359591539 random state  16\n",
      "score  0.825674690007294 random state  17\n",
      "score  0.8276805251641138 random state  18\n",
      "score  0.8172866520787746 random state  19\n",
      "score  0.8273158278628738 random state  20\n",
      "score  0.825309992706054 random state  21\n",
      "score  0.8282275711159738 random state  22\n",
      "score  0.8335156819839533 random state  23\n",
      "score  0.8265864332603938 random state  24\n",
      "score  0.8293216630196937 random state  25\n",
      "score  0.8369803063457331 random state  26\n",
      "max accuracy  0.8369803063457331 at random state  26\n",
      "score  0.8309628008752735 random state  27\n",
      "score  0.8203865791393143 random state  28\n",
      "score  0.8238512035010941 random state  29\n",
      "score  0.8264040846097739 random state  30\n",
      "score  0.825127644055434 random state  31\n",
      "score  0.8302334062727936 random state  32\n",
      "score  0.8274981765134938 random state  33\n",
      "score  0.8223924142961342 random state  34\n",
      "score  0.8329686360320934 random state  35\n",
      "score  0.8296863603209337 random state  36\n",
      "score  0.8397155361050328 random state  37\n",
      "max accuracy  0.8397155361050328 at random state  37\n",
      "score  0.8242159008023341 random state  38\n",
      "score  0.8326039387308534 random state  39\n",
      "score  0.8229394602479941 random state  40\n",
      "score  0.8357038657913931 random state  41\n",
      "score  0.8282275711159738 random state  42\n",
      "score  0.8291393143690736 random state  43\n",
      "score  0.8260393873085339 random state  44\n",
      "score  0.8254923413566739 random state  45\n",
      "score  0.8327862873814734 random state  46\n",
      "score  0.8254923413566739 random state  47\n",
      "score  0.8346097738876732 random state  48\n",
      "score  0.8327862873814734 random state  49\n",
      "score  0.8236688548504741 random state  50\n",
      "score  0.824762946754194 random state  51\n",
      "score  0.8351568198395332 random state  52\n",
      "score  0.8305981035740335 random state  53\n",
      "score  0.8216630196936543 random state  54\n",
      "score  0.8309628008752735 random state  55\n",
      "score  0.8318745441283735 random state  56\n",
      "score  0.8271334792122538 random state  57\n",
      "score  0.8269511305616338 random state  58\n",
      "score  0.8169219547775346 random state  59\n",
      "score  0.8305981035740335 random state  60\n",
      "score  0.8309628008752735 random state  61\n",
      "score  0.8269511305616338 random state  62\n",
      "score  0.8369803063457331 random state  63\n",
      "score  0.8198395331874544 random state  64\n",
      "score  0.8282275711159738 random state  65\n",
      "score  0.8304157549234136 random state  66\n",
      "score  0.8192924872355944 random state  67\n",
      "score  0.8233041575492341 random state  68\n",
      "score  0.8220277169948942 random state  69\n",
      "score  0.8267687819110139 random state  70\n",
      "score  0.8278628738147338 random state  71\n",
      "score  0.8346097738876732 random state  72\n",
      "score  0.8311451495258935 random state  73\n",
      "score  0.8274981765134938 random state  74\n",
      "score  0.837709700948213 random state  75\n",
      "score  0.8278628738147338 random state  76\n",
      "score  0.837709700948213 random state  77\n",
      "score  0.837527352297593 random state  78\n",
      "score  0.8324215900802334 random state  79\n",
      "score  0.8344274252370533 random state  80\n",
      "score  0.8404449307075128 random state  81\n",
      "max accuracy  0.8404449307075128 at random state  81\n",
      "score  0.8242159008023341 random state  82\n",
      "score  0.8233041575492341 random state  83\n",
      "score  0.8327862873814734 random state  84\n",
      "score  0.8366156090444931 random state  85\n",
      "score  0.8262217359591539 random state  86\n",
      "score  0.8231218088986142 random state  87\n",
      "score  0.824580598103574 random state  88\n",
      "score  0.8346097738876732 random state  89\n",
      "score  0.8322392414296135 random state  90\n",
      "score  0.8200218818380745 random state  91\n",
      "score  0.8180160466812546 random state  92\n",
      "score  0.825127644055434 random state  93\n",
      "score  0.8338803792851933 random state  94\n",
      "score  0.824398249452954 random state  95\n",
      "score  0.8264040846097739 random state  96\n",
      "score  0.8320568927789934 random state  97\n",
      "score  0.8238512035010941 random state  98\n",
      "score  0.8329686360320934 random state  99\n",
      "score  0.8265864332603938 random state  100\n",
      "score  0.8331509846827133 random state  101\n",
      "score  0.8320568927789934 random state  102\n",
      "score  0.8293216630196937 random state  103\n",
      "score  0.8238512035010941 random state  104\n",
      "score  0.8258570386579139 random state  105\n",
      "score  0.8267687819110139 random state  106\n",
      "score  0.8298687089715536 random state  107\n",
      "score  0.8274981765134938 random state  108\n",
      "score  0.8313274981765135 random state  109\n",
      "score  0.8305981035740335 random state  110\n",
      "score  0.8364332603938731 random state  111\n",
      "score  0.825674690007294 random state  112\n",
      "score  0.8353391684901532 random state  113\n",
      "score  0.8336980306345733 random state  114\n",
      "score  0.8318745441283735 random state  115\n",
      "score  0.8298687089715536 random state  116\n",
      "score  0.8305981035740335 random state  117\n",
      "score  0.8291393143690736 random state  118\n",
      "score  0.8271334792122538 random state  119\n",
      "score  0.8309628008752735 random state  120\n",
      "score  0.825674690007294 random state  121\n",
      "score  0.824033552151714 random state  122\n",
      "score  0.8298687089715536 random state  123\n",
      "score  0.8273158278628738 random state  124\n",
      "score  0.824033552151714 random state  125\n",
      "score  0.8282275711159738 random state  126\n",
      "score  0.8320568927789934 random state  127\n",
      "score  0.8220277169948942 random state  128\n",
      "score  0.8282275711159738 random state  129\n",
      "score  0.824580598103574 random state  130\n",
      "score  0.8207512764405543 random state  131\n",
      "score  0.8262217359591539 random state  132\n",
      "score  0.8267687819110139 random state  133\n",
      "score  0.8205689277899344 random state  134\n",
      "score  0.824580598103574 random state  135\n",
      "score  0.824398249452954 random state  136\n",
      "score  0.824398249452954 random state  137\n",
      "score  0.8333333333333334 random state  138\n",
      "score  0.825127644055434 random state  139\n",
      "score  0.8234865061998541 random state  140\n",
      "score  0.8296863603209337 random state  141\n",
      "score  0.8282275711159738 random state  142\n",
      "score  0.8269511305616338 random state  143\n",
      "score  0.824945295404814 random state  144\n",
      "score  0.8309628008752735 random state  145\n",
      "score  0.8282275711159738 random state  146\n",
      "score  0.8231218088986142 random state  147\n",
      "score  0.8358862144420132 random state  148\n",
      "score  0.8293216630196937 random state  149\n",
      "score  0.8311451495258935 random state  150\n",
      "score  0.8353391684901532 random state  151\n",
      "score  0.8304157549234136 random state  152\n",
      "score  0.825127644055434 random state  153\n",
      "score  0.8360685630926331 random state  154\n",
      "score  0.8291393143690736 random state  155\n",
      "score  0.8287746170678337 random state  156\n",
      "score  0.8289569657184537 random state  157\n",
      "score  0.8346097738876732 random state  158\n",
      "score  0.8242159008023341 random state  159\n",
      "score  0.8238512035010941 random state  160\n",
      "score  0.8313274981765135 random state  161\n",
      "score  0.8333333333333334 random state  162\n",
      "score  0.8313274981765135 random state  163\n",
      "score  0.8296863603209337 random state  164\n",
      "score  0.825127644055434 random state  165\n",
      "score  0.8276805251641138 random state  166\n",
      "score  0.824398249452954 random state  167\n",
      "score  0.8333333333333334 random state  168\n",
      "score  0.8295040116703136 random state  169\n",
      "score  0.8335156819839533 random state  170\n",
      "score  0.8209336250911743 random state  171\n",
      "score  0.8316921954777534 random state  172\n",
      "score  0.8282275711159738 random state  173\n",
      "score  0.8271334792122538 random state  174\n",
      "score  0.8311451495258935 random state  175\n",
      "score  0.8214806710430342 random state  176\n",
      "score  0.8289569657184537 random state  177\n",
      "score  0.8320568927789934 random state  178\n",
      "score  0.8316921954777534 random state  179\n",
      "score  0.8276805251641138 random state  180\n",
      "score  0.824580598103574 random state  181\n",
      "score  0.8329686360320934 random state  182\n",
      "score  0.836797957695113 random state  183\n",
      "score  0.825674690007294 random state  184\n",
      "score  0.8331509846827133 random state  185\n",
      "score  0.8316921954777534 random state  186\n",
      "score  0.8234865061998541 random state  187\n",
      "score  0.8302334062727936 random state  188\n",
      "score  0.837892049598833 random state  189\n",
      "score  0.8366156090444931 random state  190\n",
      "score  0.8223924142961342 random state  191\n",
      "score  0.8295040116703136 random state  192\n",
      "score  0.8344274252370533 random state  193\n",
      "score  0.824580598103574 random state  194\n",
      "score  0.8238512035010941 random state  195\n",
      "score  0.8300510576221736 random state  196\n",
      "score  0.8318745441283735 random state  197\n",
      "score  0.8335156819839533 random state  198\n",
      "score  0.824033552151714 random state  199\n",
      "score  0.8369803063457331 random state  200\n",
      "score  0.8347921225382933 random state  201\n",
      "score  0.8296863603209337 random state  202\n",
      "score  0.8274981765134938 random state  203\n",
      "score  0.8335156819839533 random state  204\n",
      "score  0.8324215900802334 random state  205\n",
      "score  0.8236688548504741 random state  206\n",
      "score  0.8225747629467542 random state  207\n",
      "score  0.8242159008023341 random state  208\n",
      "score  0.837892049598833 random state  209\n",
      "score  0.8360685630926331 random state  210\n",
      "score  0.8320568927789934 random state  211\n",
      "score  0.8338803792851933 random state  212\n",
      "score  0.8211159737417943 random state  213\n",
      "score  0.8289569657184537 random state  214\n",
      "score  0.8273158278628738 random state  215\n",
      "score  0.8269511305616338 random state  216\n",
      "score  0.8307804522246536 random state  217\n",
      "score  0.8302334062727936 random state  218\n",
      "score  0.8274981765134938 random state  219\n",
      "score  0.8176513493800146 random state  220\n",
      "score  0.824398249452954 random state  221\n",
      "score  0.8238512035010941 random state  222\n",
      "score  0.8207512764405543 random state  223\n",
      "score  0.8324215900802334 random state  224\n",
      "score  0.8234865061998541 random state  225\n",
      "score  0.8222100656455142 random state  226\n",
      "score  0.8258570386579139 random state  227\n",
      "score  0.8192924872355944 random state  228\n",
      "score  0.8300510576221736 random state  229\n",
      "score  0.8293216630196937 random state  230\n",
      "score  0.8349744711889132 random state  231\n",
      "score  0.8362509117432531 random state  232\n",
      "score  0.8236688548504741 random state  233\n",
      "score  0.8242159008023341 random state  234\n",
      "score  0.836797957695113 random state  235\n",
      "score  0.8289569657184537 random state  236\n",
      "score  0.8265864332603938 random state  237\n",
      "score  0.8346097738876732 random state  238\n",
      "score  0.8307804522246536 random state  239\n",
      "score  0.8285922684172137 random state  240\n",
      "score  0.824033552151714 random state  241\n",
      "score  0.825309992706054 random state  242\n",
      "score  0.8300510576221736 random state  243\n",
      "score  0.8302334062727936 random state  244\n",
      "score  0.8194748358862144 random state  245\n",
      "score  0.8340627279358133 random state  246\n",
      "score  0.8254923413566739 random state  247\n",
      "score  0.8220277169948942 random state  248\n",
      "score  0.8291393143690736 random state  249\n",
      "score  0.824580598103574 random state  250\n",
      "score  0.8316921954777534 random state  251\n",
      "score  0.8289569657184537 random state  252\n",
      "score  0.8194748358862144 random state  253\n",
      "score  0.8280452224653537 random state  254\n",
      "score  0.8271334792122538 random state  255\n",
      "score  0.8287746170678337 random state  256\n",
      "score  0.824033552151714 random state  257\n",
      "score  0.8287746170678337 random state  258\n",
      "score  0.8293216630196937 random state  259\n",
      "score  0.8295040116703136 random state  260\n",
      "score  0.8227571115973742 random state  261\n",
      "score  0.8273158278628738 random state  262\n",
      "score  0.825674690007294 random state  263\n",
      "score  0.8296863603209337 random state  264\n",
      "score  0.8264040846097739 random state  265\n",
      "score  0.8346097738876732 random state  266\n",
      "score  0.8336980306345733 random state  267\n",
      "score  0.8282275711159738 random state  268\n",
      "score  0.8264040846097739 random state  269\n",
      "score  0.8364332603938731 random state  270\n",
      "score  0.8289569657184537 random state  271\n",
      "score  0.8269511305616338 random state  272\n",
      "score  0.8311451495258935 random state  273\n",
      "score  0.8313274981765135 random state  274\n",
      "score  0.8315098468271335 random state  275\n",
      "score  0.8340627279358133 random state  276\n",
      "score  0.8280452224653537 random state  277\n",
      "score  0.8318745441283735 random state  278\n",
      "score  0.8282275711159738 random state  279\n",
      "score  0.8276805251641138 random state  280\n",
      "score  0.8269511305616338 random state  281\n",
      "score  0.8227571115973742 random state  282\n",
      "score  0.8211159737417943 random state  283\n",
      "score  0.8331509846827133 random state  284\n",
      "score  0.8309628008752735 random state  285\n",
      "score  0.8287746170678337 random state  286\n",
      "score  0.8207512764405543 random state  287\n",
      "score  0.8346097738876732 random state  288\n",
      "score  0.8305981035740335 random state  289\n",
      "score  0.825674690007294 random state  290\n",
      "score  0.8280452224653537 random state  291\n",
      "score  0.8285922684172137 random state  292\n",
      "score  0.8309628008752735 random state  293\n",
      "score  0.8295040116703136 random state  294\n",
      "score  0.8278628738147338 random state  295\n",
      "score  0.8313274981765135 random state  296\n",
      "score  0.8254923413566739 random state  297\n",
      "score  0.8298687089715536 random state  298\n",
      "score  0.8311451495258935 random state  299\n",
      "score  0.8289569657184537 random state  300\n",
      "score  0.8285922684172137 random state  301\n",
      "score  0.8382567469000729 random state  302\n",
      "score  0.8300510576221736 random state  303\n",
      "score  0.8271334792122538 random state  304\n",
      "score  0.8391684901531729 random state  305\n",
      "score  0.8329686360320934 random state  306\n",
      "score  0.8191101385849745 random state  307\n",
      "score  0.8329686360320934 random state  308\n",
      "score  0.8200218818380745 random state  309\n",
      "score  0.8388037928519329 random state  310\n",
      "score  0.8254923413566739 random state  311\n",
      "score  0.8264040846097739 random state  312\n",
      "score  0.8254923413566739 random state  313\n",
      "score  0.8326039387308534 random state  314\n",
      "score  0.8369803063457331 random state  315\n",
      "score  0.824762946754194 random state  316\n",
      "score  0.8282275711159738 random state  317\n",
      "score  0.8349744711889132 random state  318\n",
      "score  0.8318745441283735 random state  319\n",
      "score  0.8351568198395332 random state  320\n",
      "score  0.824033552151714 random state  321\n",
      "score  0.8304157549234136 random state  322\n",
      "score  0.8336980306345733 random state  323\n",
      "score  0.8280452224653537 random state  324\n",
      "score  0.8176513493800146 random state  325\n",
      "score  0.8267687819110139 random state  326\n",
      "score  0.8236688548504741 random state  327\n",
      "score  0.8269511305616338 random state  328\n",
      "score  0.8295040116703136 random state  329\n",
      "score  0.836797957695113 random state  330\n",
      "score  0.8233041575492341 random state  331\n",
      "score  0.8236688548504741 random state  332\n",
      "score  0.8189277899343544 random state  333\n",
      "score  0.8287746170678337 random state  334\n",
      "score  0.8336980306345733 random state  335\n",
      "score  0.8296863603209337 random state  336\n",
      "score  0.8309628008752735 random state  337\n",
      "score  0.8302334062727936 random state  338\n",
      "score  0.8333333333333334 random state  339\n",
      "score  0.8238512035010941 random state  340\n",
      "score  0.8335156819839533 random state  341\n",
      "score  0.8338803792851933 random state  342\n",
      "score  0.8305981035740335 random state  343\n",
      "score  0.825309992706054 random state  344\n",
      "score  0.8302334062727936 random state  345\n",
      "score  0.8218453683442742 random state  346\n",
      "score  0.8264040846097739 random state  347\n",
      "score  0.824762946754194 random state  348\n",
      "score  0.8269511305616338 random state  349\n",
      "score  0.8366156090444931 random state  350\n",
      "score  0.824945295404814 random state  351\n",
      "score  0.8362509117432531 random state  352\n",
      "score  0.8331509846827133 random state  353\n",
      "score  0.838439095550693 random state  354\n",
      "score  0.824762946754194 random state  355\n",
      "score  0.8305981035740335 random state  356\n",
      "score  0.8273158278628738 random state  357\n",
      "score  0.8304157549234136 random state  358\n",
      "score  0.8291393143690736 random state  359\n",
      "score  0.8138220277169949 random state  360\n",
      "score  0.824945295404814 random state  361\n",
      "score  0.8185630926331146 random state  362\n",
      "score  0.8280452224653537 random state  363\n",
      "score  0.8358862144420132 random state  364\n",
      "score  0.824762946754194 random state  365\n",
      "score  0.8276805251641138 random state  366\n",
      "score  0.824945295404814 random state  367\n",
      "score  0.8318745441283735 random state  368\n",
      "score  0.8273158278628738 random state  369\n",
      "score  0.8278628738147338 random state  370\n",
      "score  0.8296863603209337 random state  371\n",
      "score  0.8305981035740335 random state  372\n",
      "score  0.8295040116703136 random state  373\n",
      "score  0.8340627279358133 random state  374\n",
      "score  0.8315098468271335 random state  375\n",
      "score  0.8324215900802334 random state  376\n",
      "score  0.824580598103574 random state  377\n",
      "score  0.8316921954777534 random state  378\n",
      "score  0.8231218088986142 random state  379\n",
      "score  0.8302334062727936 random state  380\n",
      "score  0.8349744711889132 random state  381\n",
      "score  0.8338803792851933 random state  382\n",
      "score  0.8267687819110139 random state  383\n",
      "score  0.8274981765134938 random state  384\n",
      "score  0.8289569657184537 random state  385\n",
      "score  0.8340627279358133 random state  386\n",
      "score  0.8271334792122538 random state  387\n",
      "score  0.8287746170678337 random state  388\n",
      "score  0.8331509846827133 random state  389\n",
      "score  0.8271334792122538 random state  390\n",
      "score  0.8242159008023341 random state  391\n",
      "score  0.8225747629467542 random state  392\n",
      "score  0.825674690007294 random state  393\n",
      "score  0.8280452224653537 random state  394\n",
      "score  0.8273158278628738 random state  395\n",
      "score  0.8271334792122538 random state  396\n",
      "score  0.824945295404814 random state  397\n",
      "score  0.8274981765134938 random state  398\n",
      "score  0.8284099197665937 random state  399\n"
     ]
    }
   ],
   "source": [
    "maxAcc=0\n",
    "maxRS=0\n",
    "\n",
    "for i in range(1,400):\n",
    "    x_train, x_test, y_train, y_test=train_test_split(X_new, y, test_size=0.2, random_state=i)\n",
    "    lr=LogisticRegression()\n",
    "    lr.fit(x_train, y_train)\n",
    "    y_pred=lr.predict(x_test)\n",
    "    score=accuracy_score(y_test, y_pred)\n",
    "    print('score ', score, 'random state ',i)\n",
    "    \n",
    "    if(score>maxAcc):\n",
    "        maxAcc=score\n",
    "        maxRS=i\n",
    "        print('max accuracy ', maxAcc, 'at random state ',i)\n",
    "    "
   ]
  },
  {
   "cell_type": "markdown",
   "id": "a6394486",
   "metadata": {},
   "source": [
    "max accuracy score is 84% approx at random state 81"
   ]
  },
  {
   "cell_type": "code",
   "execution_count": 101,
   "id": "9dd9638c",
   "metadata": {},
   "outputs": [],
   "source": [
    "x_train, x_test, y_train, y_test=train_test_split(X_new, y, test_size=0.2, random_state=81)"
   ]
  },
  {
   "cell_type": "code",
   "execution_count": 102,
   "id": "a8d1d72c",
   "metadata": {},
   "outputs": [
    {
     "name": "stdout",
     "output_type": "stream",
     "text": [
      "\n",
      "\n",
      " The  LogisticRegression()  is: \n",
      "\n",
      "accuracy score is  0.8404449307075128\n",
      "confusion matrix is  [[4040  235]\n",
      " [ 640  569]] \n",
      "\n",
      "classification report is                precision    recall  f1-score   support\n",
      "\n",
      "           0       0.86      0.95      0.90      4275\n",
      "           1       0.71      0.47      0.57      1209\n",
      "\n",
      "    accuracy                           0.84      5484\n",
      "   macro avg       0.79      0.71      0.73      5484\n",
      "weighted avg       0.83      0.84      0.83      5484\n",
      "\n",
      "\n",
      "\n",
      " The  GaussianNB()  is: \n",
      "\n",
      "accuracy score is  0.7824580598103574\n",
      "confusion matrix is  [[3404  871]\n",
      " [ 322  887]] \n",
      "\n",
      "classification report is                precision    recall  f1-score   support\n",
      "\n",
      "           0       0.91      0.80      0.85      4275\n",
      "           1       0.50      0.73      0.60      1209\n",
      "\n",
      "    accuracy                           0.78      5484\n",
      "   macro avg       0.71      0.76      0.72      5484\n",
      "weighted avg       0.82      0.78      0.80      5484\n",
      "\n",
      "\n",
      "\n",
      " The  DecisionTreeClassifier()  is: \n",
      "\n",
      "accuracy score is  0.8085339168490153\n",
      "confusion matrix is  [[3692  583]\n",
      " [ 467  742]] \n",
      "\n",
      "classification report is                precision    recall  f1-score   support\n",
      "\n",
      "           0       0.89      0.86      0.88      4275\n",
      "           1       0.56      0.61      0.59      1209\n",
      "\n",
      "    accuracy                           0.81      5484\n",
      "   macro avg       0.72      0.74      0.73      5484\n",
      "weighted avg       0.82      0.81      0.81      5484\n",
      "\n",
      "\n",
      "\n",
      " The  RandomForestClassifier()  is: \n",
      "\n",
      "accuracy score is  0.8528446389496718\n",
      "confusion matrix is  [[3944  331]\n",
      " [ 476  733]] \n",
      "\n",
      "classification report is                precision    recall  f1-score   support\n",
      "\n",
      "           0       0.89      0.92      0.91      4275\n",
      "           1       0.69      0.61      0.64      1209\n",
      "\n",
      "    accuracy                           0.85      5484\n",
      "   macro avg       0.79      0.76      0.78      5484\n",
      "weighted avg       0.85      0.85      0.85      5484\n",
      "\n",
      "\n",
      "\n",
      " The  KNeighborsClassifier()  is: \n",
      "\n",
      "accuracy score is  0.8320568927789934\n",
      "confusion matrix is  [[3838  437]\n",
      " [ 484  725]] \n",
      "\n",
      "classification report is                precision    recall  f1-score   support\n",
      "\n",
      "           0       0.89      0.90      0.89      4275\n",
      "           1       0.62      0.60      0.61      1209\n",
      "\n",
      "    accuracy                           0.83      5484\n",
      "   macro avg       0.76      0.75      0.75      5484\n",
      "weighted avg       0.83      0.83      0.83      5484\n",
      "\n"
     ]
    }
   ],
   "source": [
    "lr=LogisticRegression()\n",
    "gnb=GaussianNB()\n",
    "dtc=DecisionTreeClassifier()\n",
    "rfc=RandomForestClassifier()\n",
    "knn=KNeighborsClassifier()\n",
    "\n",
    "list=[lr, gnb, dtc, rfc, knn]\n",
    "for i in list:\n",
    "    print('\\n\\n The ',i,' is: \\n')\n",
    "    i.fit(x_train, y_train)\n",
    "    y_pred=i.predict(x_test)\n",
    "    print('accuracy score is ', accuracy_score(y_test, y_pred),)\n",
    "    print('confusion matrix is ', confusion_matrix(y_test, y_pred),'\\n')\n",
    "    print('classification report is ', classification_report(y_test, y_pred))\n",
    "    "
   ]
  },
  {
   "cell_type": "markdown",
   "id": "17cff5f7",
   "metadata": {},
   "source": [
    "The random forest and logistic regression is best output made"
   ]
  },
  {
   "cell_type": "markdown",
   "id": "1966dfd2",
   "metadata": {},
   "source": [
    "CROSS VALIDATION SCORE"
   ]
  },
  {
   "cell_type": "code",
   "execution_count": 103,
   "id": "99f54479",
   "metadata": {},
   "outputs": [],
   "source": [
    "from sklearn.model_selection import cross_val_score"
   ]
  },
  {
   "cell_type": "code",
   "execution_count": 104,
   "id": "fc3582a8",
   "metadata": {},
   "outputs": [
    {
     "name": "stdout",
     "output_type": "stream",
     "text": [
      "cross val score of  LogisticRegression() is  0.8286465444266502\n",
      "cross val score of  GaussianNB() is  0.787285698527534\n",
      "cross val score of  DecisionTreeClassifier() is  0.806069449392418\n",
      "cross val score of  RandomForestClassifier() is  0.8515158363564763\n",
      "cross val score of  KNeighborsClassifier() is  0.8253275475603674\n"
     ]
    }
   ],
   "source": [
    "for i in list:\n",
    "    scr=cross_val_score(i, X_new, y, cv=7)\n",
    "    print('cross val score of ',i, 'is ', scr.mean())"
   ]
  },
  {
   "cell_type": "markdown",
   "id": "4b0e6d75",
   "metadata": {},
   "source": [
    "the random forest classifier is best fit model during the cross validation also, we continue with random forest"
   ]
  },
  {
   "cell_type": "code",
   "execution_count": 105,
   "id": "3a021087",
   "metadata": {},
   "outputs": [],
   "source": [
    "from sklearn.metrics import roc_curve, roc_auc_score"
   ]
  },
  {
   "cell_type": "code",
   "execution_count": 106,
   "id": "89e60ba4",
   "metadata": {},
   "outputs": [],
   "source": [
    "y_pred=rfc.predict(x_test)"
   ]
  },
  {
   "cell_type": "code",
   "execution_count": 107,
   "id": "9ee28c5a",
   "metadata": {},
   "outputs": [
    {
     "data": {
      "text/plain": [
       "array([0.       , 0.0774269, 1.       ])"
      ]
     },
     "execution_count": 107,
     "metadata": {},
     "output_type": "execute_result"
    }
   ],
   "source": [
    "fpr, tpr, thresholds= roc_curve(y_test, y_pred)\n",
    "fpr"
   ]
  },
  {
   "cell_type": "code",
   "execution_count": 108,
   "id": "1efad324",
   "metadata": {},
   "outputs": [
    {
     "data": {
      "text/plain": [
       "array([0.        , 0.60628619, 1.        ])"
      ]
     },
     "execution_count": 108,
     "metadata": {},
     "output_type": "execute_result"
    }
   ],
   "source": [
    "tpr"
   ]
  },
  {
   "cell_type": "code",
   "execution_count": 109,
   "id": "a2cee695",
   "metadata": {},
   "outputs": [
    {
     "data": {
      "text/plain": [
       "array([2, 1, 0])"
      ]
     },
     "execution_count": 109,
     "metadata": {},
     "output_type": "execute_result"
    }
   ],
   "source": [
    "thresholds"
   ]
  },
  {
   "cell_type": "code",
   "execution_count": 110,
   "id": "00abf994",
   "metadata": {},
   "outputs": [
    {
     "data": {
      "image/png": "[encoded data removed]",
      "text/plain": [
       "<Figure size 432x288 with 1 Axes>"
      ]
     },
     "metadata": {
      "needs_background": "light"
     },
     "output_type": "display_data"
    }
   ],
   "source": [
    "plt.plot([0,1],[0,1], 'k--')\n",
    "plt.plot(fpr,tpr)\n",
    "plt.title('Random forest classifier')\n",
    "plt.xlabel('fpr')\n",
    "plt.ylabel('tpr')\n",
    "plt.show()"
   ]
  },
  {
   "cell_type": "code",
   "execution_count": 111,
   "id": "9e8bd116",
   "metadata": {},
   "outputs": [
    {
     "data": {
      "text/plain": [
       "0.7644296431732764"
      ]
     },
     "execution_count": 111,
     "metadata": {},
     "output_type": "execute_result"
    }
   ],
   "source": [
    "auc_score=roc_auc_score(y_test, y_pred)\n",
    "auc_score"
   ]
  },
  {
   "cell_type": "markdown",
   "id": "5a14af07",
   "metadata": {},
   "source": [
    "roc auc curve is shown above and roc auc curve shown the area under  the curve which represents the accuracy of the prediction\n",
    "\n",
    "fpr--false positive rate,    \n",
    "tpr-- true positive rate\n"
   ]
  },
  {
   "cell_type": "markdown",
   "id": "257645c4",
   "metadata": {},
   "source": [
    "HYPER PARAMETER TUNING"
   ]
  },
  {
   "cell_type": "code",
   "execution_count": 112,
   "id": "0fa83c61",
   "metadata": {},
   "outputs": [],
   "source": [
    "from sklearn.model_selection import GridSearchCV"
   ]
  },
  {
   "cell_type": "code",
   "execution_count": 113,
   "id": "440521c8",
   "metadata": {},
   "outputs": [],
   "source": [
    "parameters={'n_estimators':[10],\n",
    "            'max_features':['auto','sqrt'],\n",
    "            'max_depth':[2,3,4,5],\n",
    "            'min_samples_split':[1,2,3,4],\n",
    "            'min_samples_leaf':[2,3,5],\n",
    "            'bootstrap':[True, False]\n",
    "    \n",
    "}"
   ]
  },
  {
   "cell_type": "code",
   "execution_count": 114,
   "id": "56d0c2df",
   "metadata": {},
   "outputs": [],
   "source": [
    "gridsearch=GridSearchCV(estimator=rfc,\n",
    "                        param_grid=parameters,\n",
    "                        n_jobs=-1,\n",
    "                        cv=7,\n",
    "                        scoring='accuracy'\n",
    ")"
   ]
  },
  {
   "cell_type": "code",
   "execution_count": 115,
   "id": "10dff91b",
   "metadata": {},
   "outputs": [
    {
     "data": {
      "text/plain": [
       "GridSearchCV(cv=7, estimator=RandomForestClassifier(), n_jobs=-1,\n",
       "             param_grid={'bootstrap': [True, False], 'max_depth': [2, 3, 4, 5],\n",
       "                         'max_features': ['auto', 'sqrt'],\n",
       "                         'min_samples_leaf': [2, 3, 5],\n",
       "                         'min_samples_split': [1, 2, 3, 4],\n",
       "                         'n_estimators': [10]},\n",
       "             scoring='accuracy')"
      ]
     },
     "execution_count": 115,
     "metadata": {},
     "output_type": "execute_result"
    }
   ],
   "source": [
    "gridsearch.fit(x_train, y_train)"
   ]
  },
  {
   "cell_type": "code",
   "execution_count": 116,
   "id": "6e365681",
   "metadata": {},
   "outputs": [
    {
     "data": {
      "text/plain": [
       "{'bootstrap': False,\n",
       " 'max_depth': 5,\n",
       " 'max_features': 'sqrt',\n",
       " 'min_samples_leaf': 5,\n",
       " 'min_samples_split': 4,\n",
       " 'n_estimators': 10}"
      ]
     },
     "execution_count": 116,
     "metadata": {},
     "output_type": "execute_result"
    }
   ],
   "source": [
    "gridsearch.best_params_"
   ]
  },
  {
   "cell_type": "code",
   "execution_count": 117,
   "id": "dfc0ccec",
   "metadata": {},
   "outputs": [
    {
     "data": {
      "text/plain": [
       "RandomForestClassifier(bootstrap=False, max_depth=5, min_samples_leaf=5,\n",
       "                       min_samples_split=4, n_estimators=10)"
      ]
     },
     "execution_count": 117,
     "metadata": {},
     "output_type": "execute_result"
    }
   ],
   "source": [
    "rfc=RandomForestClassifier(bootstrap=False, max_depth=5, max_features='auto', min_samples_leaf=5, min_samples_split=4, n_estimators=10)\n",
    "rfc"
   ]
  },
  {
   "cell_type": "code",
   "execution_count": 118,
   "id": "735828d3",
   "metadata": {},
   "outputs": [
    {
     "data": {
      "text/plain": [
       "RandomForestClassifier(bootstrap=False, max_depth=5, min_samples_leaf=5,\n",
       "                       min_samples_split=4, n_estimators=10)"
      ]
     },
     "execution_count": 118,
     "metadata": {},
     "output_type": "execute_result"
    }
   ],
   "source": [
    "rfc.fit(x_train, y_train)"
   ]
  },
  {
   "cell_type": "code",
   "execution_count": 119,
   "id": "a2156b29",
   "metadata": {},
   "outputs": [
    {
     "name": "stdout",
     "output_type": "stream",
     "text": [
      "accuracy score 0.8491976659372721\n"
     ]
    }
   ],
   "source": [
    "y_pred=rfc.predict(x_test)\n",
    "print('accuracy score', accuracy_score(y_test, y_pred))"
   ]
  },
  {
   "cell_type": "code",
   "execution_count": 120,
   "id": "cf4d374a",
   "metadata": {},
   "outputs": [
    {
     "name": "stdout",
     "output_type": "stream",
     "text": [
      "[[4186   89]\n",
      " [ 738  471]]\n",
      "              precision    recall  f1-score   support\n",
      "\n",
      "           0       0.85      0.98      0.91      4275\n",
      "           1       0.84      0.39      0.53      1209\n",
      "\n",
      "    accuracy                           0.85      5484\n",
      "   macro avg       0.85      0.68      0.72      5484\n",
      "weighted avg       0.85      0.85      0.83      5484\n",
      "\n"
     ]
    }
   ],
   "source": [
    "print(confusion_matrix(y_test, y_pred))\n",
    "print(classification_report(y_test, y_pred))"
   ]
  },
  {
   "cell_type": "code",
   "execution_count": 121,
   "id": "63244fca",
   "metadata": {},
   "outputs": [
    {
     "data": {
      "text/plain": [
       "['census_income.pkl']"
      ]
     },
     "execution_count": 121,
     "metadata": {},
     "output_type": "execute_result"
    }
   ],
   "source": [
    "import joblib\n",
    "joblib.dump(rfc.predict, 'census_income.pkl')"
   ]
  },
  {
   "cell_type": "code",
   "execution_count": null,
   "id": "efc94dc7",
   "metadata": {},
   "outputs": [],
   "source": []
  }
 ],
 "metadata": {
  "kernelspec": {
   "display_name": "Python 3 (ipykernel)",
   "language": "python",
   "name": "python3"
  },
  "language_info": {
   "codemirror_mode": {
    "name": "ipython",
    "version": 3
   },
   "file_extension": ".py",
   "mimetype": "text/x-python",
   "name": "python",
   "nbconvert_exporter": "python",
   "pygments_lexer": "ipython3",
   "version": "3.9.12"
  }
 },
 "nbformat": 4,
 "nbformat_minor": 5
}
